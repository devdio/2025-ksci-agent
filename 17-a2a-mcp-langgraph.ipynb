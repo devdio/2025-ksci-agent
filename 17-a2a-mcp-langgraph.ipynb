{
 "cells": [
  {
   "cell_type": "code",
   "execution_count": null,
   "id": "d7cde3af-a2f2-468f-8281-a1f47a7e1aca",
   "metadata": {},
   "outputs": [],
   "source": []
  },
  {
   "cell_type": "markdown",
   "id": "88b002a1-af56-4012-9b25-7bd00a3fc733",
   "metadata": {},
   "source": [
    "https://github.com/n-sviridenko/langgraph-a2a-mcp-example\n"
   ]
  },
  {
   "cell_type": "markdown",
   "id": "c0d8f8f4-e587-4880-974a-92c6ba37dbea",
   "metadata": {},
   "source": [
    "- 샘플코드  \n",
    "https://github.com/stareing/Agent2Agent/blob/main/samples/python/agents/langgraph/agent.py   \n",
    "https://github.com/a2aproject/a2a-samples/blob/main/samples/python/agents/langgraph/app/__main__.py  "
   ]
  },
  {
   "cell_type": "code",
   "execution_count": null,
   "id": "365d16bb-c20c-4128-a62d-7768d1a87638",
   "metadata": {},
   "outputs": [],
   "source": []
  }
 ],
 "metadata": {
  "kernelspec": {
   "display_name": "Python 3 (ipykernel)",
   "language": "python",
   "name": "python3"
  },
  "language_info": {
   "codemirror_mode": {
    "name": "ipython",
    "version": 3
   },
   "file_extension": ".py",
   "mimetype": "text/x-python",
   "name": "python",
   "nbconvert_exporter": "python",
   "pygments_lexer": "ipython3",
   "version": "3.13.4"
  }
 },
 "nbformat": 4,
 "nbformat_minor": 5
}
