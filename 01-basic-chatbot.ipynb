{
 "cells": [
  {
   "cell_type": "markdown",
   "id": "afb6258a",
   "metadata": {},
   "source": [
    "[![Open In Colab](https://colab.research.google.com/assets/colab-badge.svg)](https://colab.research.google.com/github/devdio/2025-ksci-agent/blob/main/01-basic-chatbot.ipynb) [![Open nbviewer](https://raw.githubusercontent.com/pinecone-io/examples/master/assets/nbviewer-shield.svg)](https://nbviewer.org/github/devdio/2025-ksci-agent/blob/main/01-basic-chatbot.ipynb)"
   ]
  },
  {
   "cell_type": "markdown",
   "id": "f3c65d70-1bfe-4b46-81dd-aacc659d619f",
   "metadata": {},
   "source": [
    "# 기본 챗봇 만들기"
   ]
  },
  {
   "cell_type": "markdown",
   "id": "aabad230-dbc2-44a6-b6e3-36d391fb5f42",
   "metadata": {},
   "source": [
    "이 튜토리얼에서는 LLM을 사용하는 가장 간단한 기본적인 챗봇을 만들어 보겠습니다.   \n",
    "그리고, 이 챗봇을 AI에이전트로 발전시켜 나가겠습니다."
   ]
  },
  {
   "cell_type": "markdown",
   "id": "d02e83bc-593b-4a88-97d3-641bae1a503e",
   "metadata": {},
   "source": [
    "## 1. 환경 설정"
   ]
  },
  {
   "cell_type": "markdown",
   "id": "4ea05c7b-f047-4872-8387-0c235347d49b",
   "metadata": {},
   "source": [
    "이 튜토리얼을 시작하기 전에 [OpenAI](https://platform.openai.com/api-keys),\n",
    "[Anthropic](https://console.anthropic.com/settings/keys), 또는\n",
    "[Google Gemini](https://ai.google.dev/gemini-api/docs/api-key) 등 **도구 호출 기능**을 지원하는 LLM에 연결할 수 있는지 확인하세요."
   ]
  },
  {
   "cell_type": "markdown",
   "id": "243aa827-0247-43e6-badb-4472ebc6b1d6",
   "metadata": {},
   "source": [
    "### `.env`파일 설정"
   ]
  },
  {
   "cell_type": "markdown",
   "id": "31fa04c2-f3fe-4619-abf6-28e81a10fa5d",
   "metadata": {},
   "source": [
    "LLM 호출과 도구 호출용 API키는 `.env` 파일에 설정되어 있습니다. `.env`파일의 형식은 아래 샘플을 참고하세요. 모든 항목의 API키가 필요한 것은 아니며, 사용하고자 하는 항목에 대해서만 API키를 설정하면 됩니다. "
   ]
  },
  {
   "cell_type": "markdown",
   "id": "d112bfda-f9d1-48b0-83d3-c9e560a89ab7",
   "metadata": {},
   "source": [
    "이 튜토리얼에서는 OPENAI와 TAVILY 검색 서비스, 그리고 개발하는 에이전트의 입출력 메세지를 추적할 수 있는 LangSmith을 사용합니다. "
   ]
  },
  {
   "cell_type": "code",
   "execution_count": 3,
   "id": "c57e262f-158b-4e1f-a38b-d6bbbf0837b9",
   "metadata": {},
   "outputs": [],
   "source": [
    "%%capture stdout\n",
    "\n",
    "'''\n",
    "# OPENAI API KEY\n",
    "OPENAI_API_KEY={your-openai-key-here}\n",
    "\n",
    "# GOOGLE API KEY\n",
    "GOOGLE_GENAI_USE_VERTEXAI=FALSE\n",
    "GOOGLE_API_KEY={your-project-name-here}\n",
    "\n",
    "# ANTHROPIC API KEY\n",
    "ANTHROPIC_API_KEY={your-anthropic-api-key-here}\n",
    " \n",
    "# LANGCHAIN TOOL\n",
    "TAVILY_API_KEY={your-tavily-key-here}\n",
    "\n",
    "# LangSmith 설정\n",
    "LANGCHAIN_TRACING_V2=false\n",
    "LANGCHAIN_ENDPOINT=https://api.smith.langchain.com\n",
    "LANGCHAIN_API_KEY={your-langchain-api-key-here}\n",
    "LANGCHAIN_PROJECT={your-project-name-here}\n",
    "LANGSMITH_API_KEY={your-langsmith-key-here}\n",
    "'''"
   ]
  },
  {
   "cell_type": "markdown",
   "id": "e46696d1-a528-49ea-9e1b-bcb5da912d03",
   "metadata": {},
   "source": [
    "### 패키지 설치\n",
    "필요한 팩키지를 설치하세요.\n",
    "> LangSmith를 사용하면 LangGraph로 빌드한 LLM 앱을 디버그, 테스트 및 모니터링할 수 있습니다.  \n",
    "> 시작하는 방법에 대한 자세한 내용은 [LangSmith 문서](https://docs.smith.langchain.com)를 참조하세요."
   ]
  },
  {
   "cell_type": "code",
   "execution_count": 4,
   "id": "76056a56-606c-4b02-9271-021b590a44f4",
   "metadata": {},
   "outputs": [],
   "source": [
    "!pip install -qU python-dotenv langgraph langsmith langchain-openai "
   ]
  },
  {
   "cell_type": "markdown",
   "id": "d8fa9f91-3374-48ca-bdde-b8062a9045fa",
   "metadata": {},
   "source": [
    "사용하는 API키가 정확히 설정되어 있는지 확인합니다."
   ]
  },
  {
   "cell_type": "code",
   "execution_count": null,
   "id": "7fd31aa2-9e4b-4e6a-b230-02496f9c05eb",
   "metadata": {},
   "outputs": [
    {
     "name": "stdout",
     "output_type": "stream",
     "text": [
      "sk-proj-8x\n",
      "tvly-dev-G\n"
     ]
    }
   ],
   "source": [
    "# 환경 변수 확인\n",
    "from dotenv import load_dotenv\n",
    "import getpass\n",
    "import os\n",
    "load_dotenv(override=True)\n",
    "\n",
    "def _set_env(var: str):\n",
    "    if not os.environ.get(var):\n",
    "        os.environ[var] = getpass.getpass(f\"{var}: \")\n",
    "\n",
    "_set_env(\"OPENAI_API_KEY\")\n",
    "\n",
    "print(os.environ.get(\"OPENAI_API_KEY\")[:10])"
   ]
  },
  {
   "cell_type": "markdown",
   "id": "fb156706-6a8f-4490-98c4-e052673430be",
   "metadata": {},
   "source": [
    "## 2. 전체 구조"
   ]
  },
  {
   "cell_type": "markdown",
   "id": "f25918ee-18e8-4222-bfe9-632d7de5bcc4",
   "metadata": {},
   "source": [
    "![basic_chatbot_01](statics/01_basic_chatbot_01.png)"
   ]
  },
  {
   "cell_type": "markdown",
   "id": "b77a7374-5984-4a35-a7e3-9277d0576d7b",
   "metadata": {},
   "source": [
    "## 3. `StateGraph` 생성  \n",
    "`StateGraph`는 어떤 **입력 상태(State)** 를 주면, **노드**들이 차례로 실행되면서 **상태(State)** 를 갱신하고, 정해진 경로대로 다음 **노드**로 넘어가는 구조입니다."
   ]
  },
  {
   "cell_type": "markdown",
   "id": "c4cff3f5-cb17-4fff-98d4-9afd2fbfa748",
   "metadata": {},
   "source": [
    "> Python 3.5 버전 이후부터 기본 모듈로 typing 모듈이 추가되어, **타입 힌트 (type hint)** 기능을 이용할 수 있게 되었다.  \n",
    "> LLM을 활용한 어플리케이션의 개발에서는 LLM에게 코드의 정보를 전달할 수 있는 중요수단으로 사용되므로, 코드에 타입 힌트를 작성한다. "
   ]
  },
  {
   "cell_type": "code",
   "execution_count": 16,
   "id": "fb1e71f2-65f9-4061-a599-af49e59b685e",
   "metadata": {},
   "outputs": [],
   "source": [
    "from typing import Annotated\n",
    "from typing_extensions import TypedDict\n",
    "from langgraph.graph import StateGraph, START, END\n",
    "from langgraph.graph.message import add_messages\n",
    "\n",
    "# **입력 상태**\n",
    "class State(TypedDict):\n",
    "    # Messages는 \"list\" 타입을 가집니다. \n",
    "    # 주석에 있는 `add_messages`는 메시지를 덮어쓰는 것이 아니라 리스트에 추가하는 방식으로 작동합니다\n",
    "    messages: Annotated[list, add_messages]"
   ]
  },
  {
   "cell_type": "code",
   "execution_count": 17,
   "id": "d7bcc1bc-03b4-48d0-a5bc-4419553824a1",
   "metadata": {},
   "outputs": [],
   "source": [
    "# `StateGraph` 생성\n",
    "graph_builder = StateGraph(State)"
   ]
  },
  {
   "cell_type": "markdown",
   "id": "4fc13f59-2a85-43f1-8b0e-1bf97f63a5bc",
   "metadata": {},
   "source": [
    "그래프를 정의할 때 첫 번째 단계는 그래프의 `State`를 정의하는 것입니다.   \n",
    "`State`에는 그래프의 스키마와 상태 업데이트를 처리하는 [reducer 함수](https://langchain-ai.github.io/langgraph/concepts/low_level/#reducers)가 포함됩니다. 이 예제에서 `State`는 하나의 키인 `메시지`를 가진 `TypedDict`입니다. [`add_messages`](https://langchain-ai.github.io/langgraph/reference/graphs/#langgraph.graph.message.add_messages) 함수는 목록을 덮어쓰는 대신 새 메시지를 목록에 추가하는 데 사용됩니다.   \n",
    "Reducer가 없는 키는 이전 값을 덮어씁니다. State, Reducer에 대해 자세히 알아보려면 [LangGraph 참조 문서](https://langchain-ai.github.io/langgraph/reference/graphs/#langgraph.graph.message.add_messages)를 참조하세요."
   ]
  },
  {
   "cell_type": "markdown",
   "id": "01740332-e243-4980-8bce-bad5acc4f387",
   "metadata": {},
   "source": [
    "## 4. 그래프 생성"
   ]
  },
  {
   "cell_type": "markdown",
   "id": "3de3d166-562e-4e5a-bec0-35552c5c11ac",
   "metadata": {},
   "source": [
    "`chatbot` 노드를 추가합니다. **노드**는 작업 단위를 나타내며 일반적으로 Python 함수로 구현합니다."
   ]
  },
  {
   "cell_type": "markdown",
   "id": "25dc7af0-7560-45ef-a547-0ff186d32564",
   "metadata": {},
   "source": [
    "### 노드 정의"
   ]
  },
  {
   "cell_type": "code",
   "execution_count": 18,
   "id": "ad634ea7-6375-4d41-a38e-9cea62c2a223",
   "metadata": {},
   "outputs": [],
   "source": [
    "from langchain_openai import ChatOpenAI\n",
    "\n",
    "def chatbot(state: State):\n",
    "    # LLM 정의\n",
    "    llm = ChatOpenAI(model=\"gpt-4o-mini\", temperature=0)\n",
    "    response = llm.invoke(state[\"messages\"])\n",
    "    return {\"messages\": [response]}"
   ]
  },
  {
   "cell_type": "markdown",
   "id": "3129e8a8-f655-4c5e-a044-e5a8d0c431ce",
   "metadata": {},
   "source": [
    "모든 노드는 State를 입력으로 받아서 업데이트 된 State를 반환하는 방식이다.   \n",
    "이는 모든 LangGraph 노드의 기본 패턴입니다."
   ]
  },
  {
   "cell_type": "markdown",
   "id": "fabebb42-fab2-4e96-8dbc-32d719c5f58c",
   "metadata": {},
   "source": [
    "### 노드 추가"
   ]
  },
  {
   "cell_type": "code",
   "execution_count": 19,
   "id": "560fca9c-5b95-4c85-8bf5-f0259debf90e",
   "metadata": {},
   "outputs": [
    {
     "data": {
      "text/plain": [
       "<langgraph.graph.state.StateGraph at 0x2085669e5a0>"
      ]
     },
     "execution_count": 19,
     "metadata": {},
     "output_type": "execute_result"
    }
   ],
   "source": [
    "# 첫 번째 인자는 고유한 노드 이름입니다.\n",
    "# 두 번째 인자는 노드가 호출될 때마다 실행될 `함수`나 `객체`입니다.\n",
    "graph_builder.add_node(\"chatbot\", chatbot)"
   ]
  },
  {
   "cell_type": "markdown",
   "id": "fd26b912-ad57-407b-882a-b046ca37497d",
   "metadata": {},
   "source": [
    "### `Entry 포인트` 추가"
   ]
  },
  {
   "cell_type": "markdown",
   "id": "82f06ead-dcfd-44b0-b167-d372c2ea9b5c",
   "metadata": {},
   "source": [
    "Graph가 시작될 때마다 작업의 시작 위치를 알려주는 지점을 추가합니다."
   ]
  },
  {
   "cell_type": "code",
   "execution_count": 20,
   "id": "f56314b5-fa10-416c-9b76-96e2a6b739ed",
   "metadata": {},
   "outputs": [
    {
     "data": {
      "text/plain": [
       "<langgraph.graph.state.StateGraph at 0x2085669e5a0>"
      ]
     },
     "execution_count": 20,
     "metadata": {},
     "output_type": "execute_result"
    }
   ],
   "source": [
    "graph_builder.add_edge(START, \"chatbot\")"
   ]
  },
  {
   "cell_type": "markdown",
   "id": "e7e1c293-6d20-4e44-8cc9-1071a4a2245b",
   "metadata": {},
   "source": [
    "### `exit 포인트` 추가"
   ]
  },
  {
   "cell_type": "code",
   "execution_count": 21,
   "id": "e55e675b-a7db-4cb5-a86d-c888ebc64c9a",
   "metadata": {},
   "outputs": [
    {
     "data": {
      "text/plain": [
       "<langgraph.graph.state.StateGraph at 0x2085669e5a0>"
      ]
     },
     "execution_count": 21,
     "metadata": {},
     "output_type": "execute_result"
    }
   ],
   "source": [
    "graph_builder.add_edge(\"chatbot\", END)"
   ]
  },
  {
   "cell_type": "markdown",
   "id": "d580b200-fc2c-4d57-ac54-932a7445dbc8",
   "metadata": {},
   "source": [
    "### 그래프 컴파일"
   ]
  },
  {
   "cell_type": "markdown",
   "id": "3c407719-e3a8-4a4c-961a-2bfac7e8d150",
   "metadata": {},
   "source": [
    "그래프를 실행하기 전에 먼저 그래프를 컴파일해야 합니다. `compile()`함수를 호출하여 컴파일할 수 있습니다. 이렇게 하면 CompiledGraph상태를 호출할 수 있는 함수가 생성됩니다."
   ]
  },
  {
   "cell_type": "code",
   "execution_count": 22,
   "id": "934362c6-a5dd-4439-9508-f80fb1827b9c",
   "metadata": {},
   "outputs": [],
   "source": [
    "graph = graph_builder.compile()"
   ]
  },
  {
   "cell_type": "markdown",
   "id": "acb28b62-e612-4e73-ac45-14eabb89482d",
   "metadata": {},
   "source": [
    "### 그래프 시각화 (선택)"
   ]
  },
  {
   "cell_type": "code",
   "execution_count": 23,
   "id": "20a58e0c-f388-442b-bd37-224f9c07d825",
   "metadata": {},
   "outputs": [
    {
     "data": {
      "image/png": "[encoded data removed]",
      "text/plain": [
       "<IPython.core.display.Image object>"
      ]
     },
     "metadata": {},
     "output_type": "display_data"
    }
   ],
   "source": [
    "from IPython.display import Image, display\n",
    "\n",
    "try:\n",
    "    display(Image(graph.get_graph().draw_mermaid_png()))\n",
    "except Exception:\n",
    "    pass"
   ]
  },
  {
   "cell_type": "markdown",
   "id": "62fc2fab-14e9-4b11-ac8e-2b2bcbbd8466",
   "metadata": {},
   "source": [
    "## 5. 챗봇 실행"
   ]
  },
  {
   "cell_type": "code",
   "execution_count": 24,
   "id": "b2e93cbd-450c-47a2-a287-3cd6a815bdec",
   "metadata": {},
   "outputs": [
    {
     "name": "stdout",
     "output_type": "stream",
     "text": [
      "User:  지구의 둘레를 km단위로 알려줘\n"
     ]
    },
    {
     "name": "stdout",
     "output_type": "stream",
     "text": [
      "Assistant: 지구의 둘레는 약 40,075킬로미터입니다. 이는 적도 주위를 기준으로 한 측정값입니다. 극 주위의 둘레는 약 40,008킬로미터로, 지구가 완벽한 구형이 아니라 약간 편평한 형태를 가지고 있음을 나타냅니다.\n"
     ]
    },
    {
     "name": "stdout",
     "output_type": "stream",
     "text": [
      "User:  지구와 달 사이의 거리를 알려줘\n"
     ]
    },
    {
     "name": "stdout",
     "output_type": "stream",
     "text": [
      "Assistant: 지구와 달 사이의 평균 거리는 약 38,440킬로미터(약 23,600마일)입니다. 하지만 이 거리는 달의 궤도가 타원형이기 때문에 변동이 있을 수 있습니다. 달이 지구에 가장 가까워질 때는 약 36,000킬로미터(약 22,400마일)까지 가까워질 수 있고, 가장 멀어질 때는 약 40,000킬로미터(약 25,000마일)까지 멀어질 수 있습니다.\n"
     ]
    },
    {
     "name": "stdout",
     "output_type": "stream",
     "text": [
      "User:  exit\n"
     ]
    },
    {
     "name": "stdout",
     "output_type": "stream",
     "text": [
      "Goodbye!\n"
     ]
    }
   ],
   "source": [
    "while True:\n",
    "    try:\n",
    "        user_input = input(\"User: \")\n",
    "        if user_input.lower() in [\"quit\", \"exit\", \"q\"]:\n",
    "            print(\"Goodbye!\")\n",
    "            break\n",
    "            \n",
    "        for event in graph.stream({\"messages\": [{\"role\": \"user\", \"content\": user_input}]}):\n",
    "            for value in event.values():\n",
    "                print(\"Assistant:\", value[\"messages\"][-1].content)\n",
    "    except:\n",
    "        pass"
   ]
  },
  {
   "cell_type": "markdown",
   "id": "1ed091fc-b343-41c5-953b-242074384cdb",
   "metadata": {},
   "source": [
    "## 6. 전체 코드"
   ]
  },
  {
   "cell_type": "code",
   "execution_count": null,
   "id": "b61fab6e-0db7-4cd8-a0a4-1d665f3bac66",
   "metadata": {},
   "outputs": [],
   "source": [
    "from typing import Annotated\n",
    "\n",
    "from langchain.chat_models import init_chat_model\n",
    "from typing_extensions import TypedDict\n",
    "\n",
    "from langgraph.graph import StateGraph, START, END\n",
    "from langgraph.graph.message import add_messages\n",
    "from langchain_openai import ChatOpenAI\n",
    "\n",
    "class State(TypedDict):\n",
    "    messages: Annotated[list, add_messages]\n",
    "\n",
    "graph_builder = StateGraph(State)\n",
    "\n",
    "def chatbot(state: State):\n",
    "    llm = ChatOpenAI(model=\"gpt-4o-mini\", temperature=0)\n",
    "    response = llm.invoke(state[\"messages\"])\n",
    "    return {\"messages\": [response]}\n",
    "\n",
    "graph_builder.add_node(\"chatbot\", chatbot)\n",
    "graph_builder.add_edge(START, \"chatbot\")\n",
    "graph_builder.add_edge(\"chatbot\", END)\n",
    "graph = graph_builder.compile()"
   ]
  },
  {
   "cell_type": "markdown",
   "id": "7374b4be-a946-4b3e-8f0f-67112d18b2b7",
   "metadata": {},
   "source": [
    "## END"
   ]
  },
  {
   "cell_type": "code",
   "execution_count": null,
   "id": "56a5896e-ec49-49cb-bac0-5dd8a8349424",
   "metadata": {},
   "outputs": [],
   "source": []
  }
 ],
 "metadata": {
  "kernelspec": {
   "display_name": "Python 3 (ipykernel)",
   "language": "python",
   "name": "python3"
  },
  "language_info": {
   "codemirror_mode": {
    "name": "ipython",
    "version": 3
   },
   "file_extension": ".py",
   "mimetype": "text/x-python",
   "name": "python",
   "nbconvert_exporter": "python",
   "pygments_lexer": "ipython3",
   "version": "3.13.5"
  }
 },
 "nbformat": 4,
 "nbformat_minor": 5
}
