{
 "cells": [
  {
   "cell_type": "markdown",
   "id": "8101a62b-9aea-44a4-8697-d117d234e40c",
   "metadata": {},
   "source": [
    "# 멀티에이전트 슈퍼바이저"
   ]
  },
  {
   "cell_type": "markdown",
   "id": "b9d7c1bc-cffd-474f-b0d3-597ba1d0f47f",
   "metadata": {},
   "source": [
    "Supervisor는 여러 전문 에이전트들을 중앙의 감독자(supervisor) 에이전트가 조율하는 **멀티 에이전트 아키텍처**입니다.  \n",
    "Supervisor 에이전트는 모든 커뮤니케이션 흐름과 작업 분배를 제어하며,  \n",
    "현재 상황(context)과 작업 요구사항에 따라 어떤 에이전트를 호출할지 결정합니다.\n",
    "\n",
    "이 튜토리얼에서는 **리서치 전문가 에이전트**와 **수학 전문가 에이전트**, 총 두 개의 전문 에이전트를 갖춘 supervisor 시스템을 구축하게 됩니다.  \n",
    "튜토리얼을 마치면 다음을 할 수 있습니다:\n",
    "\n",
    "- 전문화된 리서치 및 수학 에이전트를 구축합니다.  \n",
    "- 미리 제공된 `langgraph-supervisor`를 사용하여 이들을 조율하는 supervisor를 구축합니다.  \n",
    "- supervisor를 처음부터 직접 구성하는 방법을 익힙니다.  \n",
    "- 고급 작업 분배 로직(task delegation)을 구현합니다."
   ]
  },
  {
   "cell_type": "markdown",
   "id": "a59b9933-d65f-4388-ac59-8754002209c3",
   "metadata": {},
   "source": [
    "<img src=\"https://langchain-ai.github.io/langgraphjs/tutorials/multi_agent/img/supervisor-diagram.png\" />"
   ]
  },
  {
   "cell_type": "markdown",
   "id": "4ac6c376-d94d-45d2-8321-823c0f4e9a97",
   "metadata": {},
   "source": [
    "## 1. 환경설정"
   ]
  },
  {
   "cell_type": "code",
   "execution_count": 4,
   "id": "f3ba6a66-dee5-482b-8b87-29ad60f48ebd",
   "metadata": {},
   "outputs": [],
   "source": [
    "%%capture --no-stderr\n",
    "%pip install -U langgraph langgraph-supervisor langchain-tavily langchain-openai"
   ]
  },
  {
   "cell_type": "code",
   "execution_count": 1,
   "id": "af8ef691-9eaa-4d1f-9058-1212ee54c5f2",
   "metadata": {},
   "outputs": [],
   "source": [
    "import getpass\n",
    "import os\n",
    "from dotenv import load_dotenv\n",
    "load_dotenv(override=True)\n",
    "\n",
    "def _set_env(var: str):\n",
    "    if not os.environ.get(var):\n",
    "        os.environ[var] = getpass.getpass(f\"{var}: \")\n",
    "\n",
    "_set_env(\"TAVILY_API_KEY\")\n",
    "_set_env(\"OPENAI_API_KEY\")"
   ]
  },
  {
   "cell_type": "markdown",
   "id": "b2eb18e1-2a89-4478-b1e5-f26967e17d3f",
   "metadata": {},
   "source": [
    "## 2. 작업자 에이전트 생성"
   ]
  },
  {
   "cell_type": "markdown",
   "id": "612cc1f1-cf9f-40b0-9f31-479d88b83a82",
   "metadata": {},
   "source": [
    "먼저, 두 개의 전문 워커 에이전트인 리서치 에이전트와 수학 에이전트를 만들어보겠습니다:\n",
    "\n",
    "- 리서치 에이전트는 Tavily API를 사용한 웹 검색 도구에 접근할 수 있습니다.\n",
    "- 수학 에이전트는 더하기, 곱하기, 나누기와 같은 간단한 수학 도구에 접근할 수 있습니다."
   ]
  },
  {
   "cell_type": "markdown",
   "id": "7f4b1237-70da-4fb2-9a4d-88298182b4e1",
   "metadata": {},
   "source": [
    "### 리서치 에이전트"
   ]
  },
  {
   "cell_type": "code",
   "execution_count": 6,
   "id": "edebcc91-47d7-4ef2-b44c-2a7f0826eab9",
   "metadata": {},
   "outputs": [],
   "source": [
    "from langchain_tavily import TavilySearch\n",
    "\n",
    "web_search = TavilySearch(max_results=3)"
   ]
  },
  {
   "cell_type": "code",
   "execution_count": 8,
   "id": "65d37f29-0c54-43ef-92d7-2df61a041a77",
   "metadata": {},
   "outputs": [
    {
     "data": {
      "text/plain": [
       "'도널드 존 트럼프(영어: Donald John Trump, 1946년 6월 14일~)는 미국의 기업인, 부동산 재벌 출신 정치인이다. 미국의 제45, 47대 대통령이다.'"
      ]
     },
     "execution_count": 8,
     "metadata": {},
     "output_type": "execute_result"
    }
   ],
   "source": [
    "web_search_results = web_search.invoke(\"2025년 미국의 대통령은 누구인가?\")\n",
    "web_search_results[\"results\"][0][\"content\"]"
   ]
  },
  {
   "cell_type": "code",
   "execution_count": 9,
   "id": "684cccdf-8ba9-46e0-853f-652fc2830716",
   "metadata": {},
   "outputs": [],
   "source": [
    "from langgraph.prebuilt import create_react_agent\n",
    "\n",
    "research_agent = create_react_agent(\n",
    "    model=\"openai:gpt-4o-mini\",\n",
    "    tools=[web_search],\n",
    "    prompt=(\n",
    "        \"당신은 리서치 에이전트입니다.\\n\\n\"\n",
    "        \"지침:\\n\"\n",
    "        \"- 오직 리서치(조사) 관련 작업만 도와야 하며, 수학 계산은 절대 하지 마세요\\n\"\n",
    "        \"- 작업이 완료되면 결과를 감독자(supervisor)에게 바로 전달하세요\\n\"\n",
    "        \"- 작업 결과만 응답하세요. 그 외의 텍스트는 절대 포함하지 마세요.\"\n",
    "\n",
    "    ),\n",
    "    name=\"research_agent\",\n",
    ")"
   ]
  },
  {
   "cell_type": "code",
   "execution_count": 10,
   "id": "c151a39b-554b-4ad4-ae9b-aecc0a0800f8",
   "metadata": {},
   "outputs": [],
   "source": [
    "# hide-cell\n",
    "from langchain_core.messages import convert_to_messages\n",
    "\n",
    "\n",
    "def pretty_print_message(message, indent=False):\n",
    "    pretty_message = message.pretty_repr(html=True)\n",
    "    if not indent:\n",
    "        print(pretty_message)\n",
    "        return\n",
    "\n",
    "    indented = \"\\n\".join(\"\\t\" + c for c in pretty_message.split(\"\\n\"))\n",
    "    print(indented)\n",
    "\n",
    "\n",
    "def pretty_print_messages(update, last_message=False):\n",
    "    is_subgraph = False\n",
    "    if isinstance(update, tuple):\n",
    "        ns, update = update\n",
    "        # skip parent graph updates in the printouts\n",
    "        if len(ns) == 0:\n",
    "            return\n",
    "\n",
    "        graph_id = ns[-1].split(\":\")[0]\n",
    "        print(f\"Update from subgraph {graph_id}:\")\n",
    "        print(\"\\n\")\n",
    "        is_subgraph = True\n",
    "\n",
    "    for node_name, node_update in update.items():\n",
    "        update_label = f\"Update from node {node_name}:\"\n",
    "        if is_subgraph:\n",
    "            update_label = \"\\t\" + update_label\n",
    "\n",
    "        print(update_label)\n",
    "        print(\"\\n\")\n",
    "\n",
    "        messages = convert_to_messages(node_update[\"messages\"])\n",
    "        if last_message:\n",
    "            messages = messages[-1:]\n",
    "\n",
    "        for m in messages:\n",
    "            pretty_print_message(m, indent=is_subgraph)\n",
    "        print(\"\\n\")"
   ]
  },
  {
   "cell_type": "code",
   "execution_count": 12,
   "id": "ae30ce97-f0f9-447d-a192-45955e50c5ea",
   "metadata": {},
   "outputs": [
    {
     "name": "stdout",
     "output_type": "stream",
     "text": [
      "Update from node agent:\n",
      "\n",
      "\n",
      "==================================\u001b[1m Ai Message \u001b[0m==================================\n",
      "Name: research_agent\n",
      "Tool Calls:\n",
      "  tavily_search (call_UhATsmcoTsuZbnKVHJ4Fpxs0)\n",
      " Call ID: call_UhATsmcoTsuZbnKVHJ4Fpxs0\n",
      "  Args:\n",
      "    query: current mayor of NYC\n",
      "    search_depth: basic\n",
      "\n",
      "\n",
      "Update from node tools:\n",
      "\n",
      "\n",
      "=================================\u001b[1m Tool Message \u001b[0m=================================\n",
      "Name: tavily_search\n",
      "\n",
      "{\"query\": \"current mayor of NYC\", \"follow_up_questions\": null, \"answer\": null, \"images\": [], \"results\": [{\"title\": \"Office of the Mayor | Mayor's Bio | City of New York - NYC.gov\", \"url\": \"https://www.nyc.gov/office-of-the-mayor/bio.page\", \"content\": \"Mayor Eric Adams has served the people of New York City as an NYPD officer, State Senator, Brooklyn Borough President, and now as the 110th Mayor of the City of New York. He gave voice to a diverse coalition of working families in all five boroughs and is leading the fight to bring back New York City's economy, reduce inequality, improve public safety, and build a stronger, healthier city\", \"score\": 0.8351749, \"raw_content\": null}, {\"title\": \"Eric Adams - Wikipedia\", \"url\": \"https://en.wikipedia.org/wiki/Eric_Adams\", \"content\": \"Eric Leroy Adams (born September 1, 1960) is an American politician and former police officer who has served as the 110th mayor of New York City since 2022. Adams was an officer in the New York City Transit Police and then the New York City Police Department (NYPD) for more than 20 years, retiring at the rank of captain. He served in the New York State Senate from 2006 to 2013, representing\", \"score\": 0.73755574, \"raw_content\": null}, {\"title\": \"Zohran Mamdani officially secures New York City mayor nomination after ...\", \"url\": \"https://www.independent.co.uk/news/world/americas/us-politics/zohran-new-york-city-mayor-nomination-b2780702.html\", \"content\": \"Zohran Mamdani officially secures New York City mayor nomination after historic win The ranked-choice voting results released on Tuesday showed Mamdani, who started his campaign as little-known\", \"score\": 0.3838728, \"raw_content\": null}], \"response_time\": 1.79}\n",
      "\n",
      "\n",
      "Update from node agent:\n",
      "\n",
      "\n",
      "==================================\u001b[1m Ai Message \u001b[0m==================================\n",
      "Name: research_agent\n",
      "\n",
      "현재 뉴욕시의 시장은 에릭 애덤스(Eric Adams)입니다. [상세 정보는 여기에서 확인할 수 있습니다.](https://www.nyc.gov/office-of-the-mayor/bio.page)\n",
      "\n",
      "\n"
     ]
    }
   ],
   "source": [
    "for chunk in research_agent.stream(\n",
    "    {\"messages\": [{\"role\": \"user\", \"content\": \"NYC의 시장은 누구인가?\"}]}\n",
    "):\n",
    "    pretty_print_messages(chunk)"
   ]
  },
  {
   "cell_type": "markdown",
   "id": "9e0893c3-4a98-4add-be0e-98ae99a2f891",
   "metadata": {},
   "source": [
    "### 수학 에이전트"
   ]
  },
  {
   "cell_type": "code",
   "execution_count": 14,
   "id": "5525c0d4-7277-4c43-a970-68eac208b99c",
   "metadata": {},
   "outputs": [],
   "source": [
    "def add(a: float, b: float):\n",
    "    \"\"\"Add two numbers.\"\"\"\n",
    "    return a + b\n",
    "\n",
    "\n",
    "def multiply(a: float, b: float):\n",
    "    \"\"\"Multiply two numbers.\"\"\"\n",
    "    return a * b\n",
    "\n",
    "\n",
    "def divide(a: float, b: float):\n",
    "    \"\"\"Divide two numbers.\"\"\"\n",
    "    return a / b\n",
    "\n",
    "\n",
    "math_agent = create_react_agent(\n",
    "    model=\"openai:gpt-4o-mini\",\n",
    "    tools=[add, multiply, divide],\n",
    "    prompt=(\n",
    "        \"당신은 수학 에이전트입니다.\\n\\n\"\n",
    "        \"지침:\\n\"\n",
    "        \"- 오직 수학 관련 작업만 도와야 합니다\\n\"\n",
    "        \"- 작업이 완료되면 결과를 감독자(supervisor)에게 바로 전달하세요\\n\"\n",
    "        \"- 작업 결과만 응답하세요. 그 외의 텍스트는 절대 포함하지 마세요.\"\n",
    "    ),\n",
    "    name=\"math_agent\",\n",
    ")"
   ]
  },
  {
   "cell_type": "code",
   "execution_count": 15,
   "id": "34a62a18-b5e2-4b96-a36b-be83b1d95ade",
   "metadata": {},
   "outputs": [
    {
     "name": "stdout",
     "output_type": "stream",
     "text": [
      "Update from node agent:\n",
      "\n",
      "\n",
      "==================================\u001b[1m Ai Message \u001b[0m==================================\n",
      "Name: math_agent\n",
      "Tool Calls:\n",
      "  add (call_HLYST0SCUg3Hkh95p7cFq73W)\n",
      " Call ID: call_HLYST0SCUg3Hkh95p7cFq73W\n",
      "  Args:\n",
      "    a: 3\n",
      "    b: 5\n",
      "\n",
      "\n",
      "Update from node tools:\n",
      "\n",
      "\n",
      "=================================\u001b[1m Tool Message \u001b[0m=================================\n",
      "Name: add\n",
      "\n",
      "8.0\n",
      "\n",
      "\n",
      "Update from node agent:\n",
      "\n",
      "\n",
      "==================================\u001b[1m Ai Message \u001b[0m==================================\n",
      "Name: math_agent\n",
      "Tool Calls:\n",
      "  multiply (call_9OsdXWPm15vyEsRDPDRL7a87)\n",
      " Call ID: call_9OsdXWPm15vyEsRDPDRL7a87\n",
      "  Args:\n",
      "    a: 8\n",
      "    b: 7\n",
      "\n",
      "\n",
      "Update from node tools:\n",
      "\n",
      "\n",
      "=================================\u001b[1m Tool Message \u001b[0m=================================\n",
      "Name: multiply\n",
      "\n",
      "56.0\n",
      "\n",
      "\n",
      "Update from node agent:\n",
      "\n",
      "\n",
      "==================================\u001b[1m Ai Message \u001b[0m==================================\n",
      "Name: math_agent\n",
      "\n",
      "56\n",
      "\n",
      "\n"
     ]
    }
   ],
   "source": [
    "for chunk in math_agent.stream(\n",
    "    {\"messages\": [{\"role\": \"user\", \"content\": \"what's (3 + 5) x 7\"}]}\n",
    "):\n",
    "    pretty_print_messages(chunk)"
   ]
  },
  {
   "cell_type": "markdown",
   "id": "549ada67-d372-4420-b529-de947bfb9607",
   "metadata": {},
   "source": [
    "### 슈퍼바이저 에이전트 \n",
    "`langgraph-supervisor`라이브러리를 사용하여 에이전트 생성하기"
   ]
  },
  {
   "cell_type": "code",
   "execution_count": 17,
   "id": "082e030f-f105-486a-971e-4f3ba8ed1014",
   "metadata": {},
   "outputs": [
    {
     "name": "stdout",
     "output_type": "stream",
     "text": [
      "Note: you may need to restart the kernel to use updated packages.\n"
     ]
    }
   ],
   "source": [
    "%pip install -qU langgraph-supervisor"
   ]
  },
  {
   "cell_type": "code",
   "execution_count": 18,
   "id": "d6929142-b452-4a54-bd23-c4cce0ccd3f6",
   "metadata": {},
   "outputs": [],
   "source": [
    "from langgraph_supervisor import create_supervisor\n",
    "from langchain.chat_models import init_chat_model\n",
    "\n",
    "supervisor = create_supervisor(\n",
    "    model=init_chat_model(\"openai:gpt-4o-mini\"),\n",
    "    agents=[research_agent, math_agent],\n",
    "    prompt=(\n",
    "        \"당신은 두 개의 전문가 에이전트를 관리하는 감독자입니다:\\n\"\n",
    "        \"- 리서치 에이전트: 리서치(조사) 관련 작업을 이 에이전트에게 할당하세요\\n\"\n",
    "        \"- 수학 에이전트: 수학 관련 작업을 이 에이전트에게 할당하세요\\n\"\n",
    "        \"한 번에 하나의 에이전트에게만 작업을 할당하고, 에이전트를 병렬로 호출하지 마세요.\\n\"\n",
    "        \"당신 스스로는 어떤 작업도 수행하지 마세요.\"\n",
    "    ),\n",
    "    add_handoff_back_messages=True,\n",
    "    output_mode=\"full_history\",\n",
    ").compile()"
   ]
  },
  {
   "cell_type": "code",
   "execution_count": 20,
   "id": "aa3f1229-9ee6-44c2-a14f-c01bc8b27e7a",
   "metadata": {},
   "outputs": [
    {
     "data": {
      "image/png": "[encoded data removed]",
      "text/plain": [
       "<IPython.core.display.Image object>"
      ]
     },
     "metadata": {},
     "output_type": "display_data"
    }
   ],
   "source": [
    "from IPython.display import Image, display\n",
    "\n",
    "try:\n",
    "    display(Image(supervisor.get_graph().draw_mermaid_png()))\n",
    "except Exception:\n",
    "    pass"
   ]
  },
  {
   "cell_type": "markdown",
   "id": "18e0d09b-d43f-4c9b-a540-08ef709fc330",
   "metadata": {},
   "source": [
    "## 3. 실행"
   ]
  },
  {
   "cell_type": "code",
   "execution_count": 25,
   "id": "5538e3be-b02a-494e-a9c9-644e2af6a997",
   "metadata": {},
   "outputs": [
    {
     "name": "stderr",
     "output_type": "stream",
     "text": [
      "Task supervisor with path ('__pregel_pull', 'supervisor') wrote to unknown channel is_last_step, ignoring it.\n",
      "Task supervisor with path ('__pregel_pull', 'supervisor') wrote to unknown channel remaining_steps, ignoring it.\n"
     ]
    },
    {
     "name": "stdout",
     "output_type": "stream",
     "text": [
      "Update from node supervisor:\n",
      "\n",
      "\n",
      "=================================\u001b[1m Tool Message \u001b[0m=================================\n",
      "Name: transfer_to_research_agent\n",
      "\n",
      "Successfully transferred to research_agent\n",
      "\n",
      "\n",
      "Update from node research_agent:\n",
      "\n",
      "\n",
      "=================================\u001b[1m Tool Message \u001b[0m=================================\n",
      "Name: transfer_back_to_supervisor\n",
      "\n",
      "Successfully transferred back to supervisor\n",
      "\n",
      "\n"
     ]
    },
    {
     "name": "stderr",
     "output_type": "stream",
     "text": [
      "Task supervisor with path ('__pregel_pull', 'supervisor') wrote to unknown channel is_last_step, ignoring it.\n",
      "Task supervisor with path ('__pregel_pull', 'supervisor') wrote to unknown channel remaining_steps, ignoring it.\n"
     ]
    },
    {
     "name": "stdout",
     "output_type": "stream",
     "text": [
      "Update from node supervisor:\n",
      "\n",
      "\n",
      "=================================\u001b[1m Tool Message \u001b[0m=================================\n",
      "Name: transfer_to_math_agent\n",
      "\n",
      "Successfully transferred to math_agent\n",
      "\n",
      "\n",
      "Update from node math_agent:\n",
      "\n",
      "\n",
      "=================================\u001b[1m Tool Message \u001b[0m=================================\n",
      "Name: transfer_back_to_supervisor\n",
      "\n",
      "Successfully transferred back to supervisor\n",
      "\n",
      "\n",
      "Update from node supervisor:\n",
      "\n",
      "\n",
      "==================================\u001b[1m Ai Message \u001b[0m==================================\n",
      "Name: supervisor\n",
      "\n",
      "2024년 미국의 GDP는 약 26.4조 달러이며, 뉴욕주의 GDP는 약 1.8조 달러입니다. 뉴욕주의 GDP는 미국 GDP의 약 6.82%입니다.\n",
      "\n",
      "\n"
     ]
    }
   ],
   "source": [
    "for chunk in supervisor.stream(\n",
    "    {\n",
    "        \"messages\": [\n",
    "            {\n",
    "                \"role\": \"user\",\n",
    "                \"content\": \"2024년 미국 전체 GDP와 뉴욕주의 GDP를 찾아줘.그리고 뉴욕주의 GDP가 미국 GDP의 몇 퍼센트인지 `math_agent`로 계산해줘.\",\n",
    "            }\n",
    "        ]\n",
    "    },\n",
    "):\n",
    "    pretty_print_messages(chunk, last_message=True)\n",
    "\n",
    "final_message_history = chunk[\"supervisor\"][\"messages\"]"
   ]
  },
  {
   "cell_type": "markdown",
   "id": "8365cb74-f2a2-4c0d-b6e1-317e3cf0acf1",
   "metadata": {},
   "source": [
    "## 4. 슈퍼바이저 에이전트 처음부터 만들기"
   ]
  },
  {
   "cell_type": "markdown",
   "id": "7ee08c5e-90b9-430b-b510-94603c529cb9",
   "metadata": {},
   "source": [
    "이제 동일한 멀티 에이전트 시스템을 처음부터 직접 구현해보겠습니다. 이를 위해 다음과 같은 작업이 필요합니다:\n",
    "\n",
    "- 감독자(supervisor)가 각 워커 에이전트들과 어떻게 소통할지 설정합니다.\n",
    "- 감독자 에이전트를 생성합니다.\n",
    "- 감독자와 워커 에이전트들을 하나의 멀티 에이전트 그래프로 결합합니다."
   ]
  },
  {
   "cell_type": "markdown",
   "id": "cd2c1653-85c5-41fe-b39e-ce5d6fb337f4",
   "metadata": {},
   "source": [
    "### 에이전트 간 통신 설정  \n",
    "감독자 에이전트가 워커 에이전트들과 통신할 수 있는 방식을 정의해야 합니다.  \n",
    "멀티 에이전트 아키텍처에서 일반적으로 사용하는 방법은 **handoff** 방식입니다. 하나의 에이전트가 제어 권한을 다른 에이전트에게 넘기는 방식입니다.\n",
    "\n",
    "Handoff를 사용하면 다음을 지정할 수 있습니다:\n",
    "\n",
    "- **destination**: 제어를 넘길 대상 에이전트  \n",
    "- **payload**: 해당 에이전트에게 전달할 정보  \n",
    "\n",
    "우리는 **handoff 도구(handoff tools)** 를 통해 이 기능을 구현할 것이며, 이 도구들을 감독자 에이전트에게 제공합니다.  \n",
    "감독자가 이러한 도구를 호출하면, 제어 권한을 워커 에이전트에게 넘기고 전체 메시지 히스토리를 함께 전달하게 됩니다."
   ]
  },
  {
   "cell_type": "code",
   "execution_count": 31,
   "id": "b67e0eb7-7be5-4cdf-8b9a-92656ea15edd",
   "metadata": {},
   "outputs": [],
   "source": [
    "from typing import Annotated\n",
    "from langchain_core.tools import tool, InjectedToolCallId\n",
    "from langgraph.prebuilt import InjectedState\n",
    "from langgraph.graph import StateGraph, START, MessagesState\n",
    "from langgraph.types import Command\n",
    "\n",
    "\n",
    "def create_handoff_tool(*, agent_name: str, description: str | None = None):\n",
    "    name = f\"transfer_to_{agent_name}\"\n",
    "    description = description or f\"Ask {agent_name} for help.\"\n",
    "\n",
    "    @tool(name, description=description)\n",
    "    def handoff_tool(\n",
    "        state: Annotated[MessagesState, InjectedState],\n",
    "        tool_call_id: Annotated[str, InjectedToolCallId],\n",
    "    ) -> Command:\n",
    "        tool_message = {\n",
    "            \"role\": \"tool\",\n",
    "            \"content\": f\"Successfully transferred to {agent_name}\",\n",
    "            \"name\": name,\n",
    "            \"tool_call_id\": tool_call_id,\n",
    "        }\n",
    "        # highlight-next-line\n",
    "        return Command(\n",
    "            # highlight-next-line\n",
    "            goto=agent_name,  # (1)!\n",
    "            # highlight-next-line\n",
    "            update={**state, \"messages\": state[\"messages\"] + [tool_message]},  # (2)!\n",
    "            # highlight-next-line\n",
    "            graph=Command.PARENT,  # (3)!\n",
    "        )\n",
    "\n",
    "    return handoff_tool\n",
    "\n",
    "\n",
    "# Handoffs\n",
    "assign_to_research_agent = create_handoff_tool(\n",
    "    agent_name=\"research_agent\",\n",
    "    description=\"Assign task to a researcher agent.\",\n",
    ")\n",
    "\n",
    "assign_to_math_agent = create_handoff_tool(\n",
    "    agent_name=\"math_agent\",\n",
    "    description=\"Assign task to a math agent.\",\n",
    ")"
   ]
  },
  {
   "cell_type": "markdown",
   "id": "414e1776-32cc-4902-b5ac-abd7804054d9",
   "metadata": {},
   "source": [
    "1. 핸드오프할 에이전트 또는 노드의 이름입니다.\n",
    "1. 해당 에이전트의 메시지를 부모 상태(parent state)에 추가하여 핸드오프의 일부로 포함시킵니다.다음 에이전트는 부모의 상태를 그대로 이어받아 보게 됩니다.\n",
    "1. LangGraph에 우리가 상위 멀티 에이전트 그래프의 에이전트 노드로 이동해야 함을 알려줍니다."
   ]
  },
  {
   "cell_type": "markdown",
   "id": "54f22c3b-6a0d-4501-b93a-c75c59e5375b",
   "metadata": {},
   "source": [
    "### 슈퍼바이저 에이전트 생성"
   ]
  },
  {
   "cell_type": "markdown",
   "id": "e7f5d6fa-914d-44bb-a4d3-f64b582af2ee",
   "metadata": {},
   "source": [
    "그럼 이제, 방금 정의한 handoff 도구들을 사용하여 **감독자 에이전트(supervisor agent)** 를 만들어봅시다.\n",
    "우리는 미리 만들어진 `create_react_agent`를 사용할 것입니다."
   ]
  },
  {
   "cell_type": "code",
   "execution_count": 32,
   "id": "50b26a7e-9f30-4ce7-afaa-89c56efc81bc",
   "metadata": {},
   "outputs": [],
   "source": [
    "supervisor_agent = create_react_agent(\n",
    "    model=\"openai:gpt-4o-mini\",\n",
    "    tools=[assign_to_research_agent, assign_to_math_agent],\n",
    "    prompt=(\n",
    "        \"당신은 두 개의 전문가 에이전트를 관리하는 감독자입니다:\\n\"\n",
    "        \"- 리서치 에이전트: 리서치(조사) 관련 작업을 이 에이전트에게 할당하세요\\n\"\n",
    "        \"- 수학 에이전트: 수학 관련 작업을 이 에이전트에게 할당하세요\\n\"\n",
    "        \"한 번에 하나의 에이전트에게만 작업을 할당하고, 에이전트를 병렬로 호출하지 마세요.\\n\"\n",
    "        \"당신 스스로는 어떤 작업도 수행하지 마세요.\"\n",
    "    ),\n",
    "    name=\"supervisor\",\n",
    ")"
   ]
  },
  {
   "cell_type": "markdown",
   "id": "461236de-2014-4f22-b83b-a617da08c8c4",
   "metadata": {},
   "source": [
    "### 그래프 구축"
   ]
  },
  {
   "cell_type": "markdown",
   "id": "625fcf59-3e9d-4c93-802e-58d5a83d40d2",
   "metadata": {},
   "source": [
    "이 모든 내용을 종합하여, 전체 멀티 에이전트 시스템을 위한 그래프를 만들어 봅시다.  \n",
    "감독자(supervisor)와 개별 에이전트들을 서브그래프 노드로 추가할 것입니다."
   ]
  },
  {
   "cell_type": "code",
   "execution_count": 33,
   "id": "4ba77c7c-07d7-4bd2-ad95-79dbcb83fe78",
   "metadata": {},
   "outputs": [],
   "source": [
    "from langgraph.graph import StateGraph, START, END\n",
    "from langgraph.graph import StateGraph, START, MessagesState\n",
    "\n",
    "\n",
    "# Define the multi-agent supervisor graph\n",
    "supervisor = (\n",
    "    StateGraph(MessagesState)\n",
    "    # NOTE: `destinations` is only needed for visualization and doesn't affect runtime behavior\n",
    "    .add_node(supervisor_agent, destinations=(\"research_agent\", \"math_agent\", END))\n",
    "    .add_node(research_agent)\n",
    "    .add_node(math_agent)\n",
    "    .add_edge(START, \"supervisor\")\n",
    "    # always return back to the supervisor\n",
    "    .add_edge(\"research_agent\", \"supervisor\")\n",
    "    .add_edge(\"math_agent\", \"supervisor\")\n",
    "    .compile()\n",
    ")"
   ]
  },
  {
   "cell_type": "code",
   "execution_count": 35,
   "id": "2183376c-cfae-44cd-8abb-78f3f0fe048f",
   "metadata": {},
   "outputs": [
    {
     "data": {
      "image/png": "[encoded data removed]",
      "text/plain": [
       "<IPython.core.display.Image object>"
      ]
     },
     "metadata": {},
     "output_type": "display_data"
    }
   ],
   "source": [
    "from IPython.display import Image, display\n",
    "\n",
    "try:\n",
    "    display(Image(supervisor.get_graph().draw_mermaid_png()))\n",
    "except Exception:\n",
    "    pass"
   ]
  },
  {
   "cell_type": "markdown",
   "id": "437ad40d-f274-442f-a999-387f579ffdc4",
   "metadata": {},
   "source": [
    "### 실행"
   ]
  },
  {
   "cell_type": "code",
   "execution_count": 37,
   "id": "705306b7-b0b5-4f14-a435-49f8d71212de",
   "metadata": {},
   "outputs": [
    {
     "name": "stdout",
     "output_type": "stream",
     "text": [
      "Update from node supervisor:\n",
      "\n",
      "\n",
      "=================================\u001b[1m Tool Message \u001b[0m=================================\n",
      "Name: transfer_to_research_agent\n",
      "\n",
      "Successfully transferred to research_agent\n",
      "\n",
      "\n",
      "Update from node research_agent:\n",
      "\n",
      "\n",
      "==================================\u001b[1m Ai Message \u001b[0m==================================\n",
      "Name: research_agent\n",
      "\n",
      "- US GDP in 2024: $29.184 trillion\n",
      "- New York state GDP in 2024: $2.297 trillion\n",
      "- Percentage of US GDP that New York state represents: Approximately 7.87%\n",
      "\n",
      "\n",
      "Update from node supervisor:\n",
      "\n",
      "\n",
      "==================================\u001b[1m Ai Message \u001b[0m==================================\n",
      "Name: supervisor\n",
      "\n",
      "The GDP of the United States in 2024 is approximately $29.184 trillion, while the GDP of New York state is about $2.297 trillion. This means that New York state represents approximately 7.87% of the total US GDP.\n",
      "\n",
      "\n"
     ]
    }
   ],
   "source": [
    "for chunk in supervisor.stream(\n",
    "    {\n",
    "        \"messages\": [\n",
    "            {\n",
    "                \"role\": \"user\",\n",
    "                \"content\": \"find US and New York state GDP in 2024. what % of US GDP was New York state?\",\n",
    "            }\n",
    "        ]\n",
    "    },\n",
    "):\n",
    "    pretty_print_messages(chunk, last_message=True)\n",
    "\n",
    "final_message_history = chunk[\"supervisor\"][\"messages\"]"
   ]
  },
  {
   "cell_type": "markdown",
   "id": "115348e2-0bfe-4676-9d43-54eb4575cc1e",
   "metadata": {},
   "source": [
    "## 5. 위임 작업(delegation tasks) 생성"
   ]
  },
  {
   "cell_type": "markdown",
   "id": "adf13f9b-7871-4d57-90e8-a786f94b3608",
   "metadata": {},
   "source": [
    "지금까지 개별 에이전트들은 전체 메시지 기록을 해석하여 자신의 작업을 파악했습니다.\n",
    "하지만 이와는 다른 방법으로, 감독자(Supervisor)가 명시적으로 작업(task)을 작성하도록 요청할 수 있습니다.\n",
    "이를 위해 `handoff_tool` 함수에 `task_description` 매개변수를 추가하면 됩니다."
   ]
  },
  {
   "cell_type": "code",
   "execution_count": 39,
   "id": "2519b342-6d0b-4612-8f3e-57b76a3e4e8b",
   "metadata": {},
   "outputs": [],
   "source": [
    "from langgraph.types import Send\n",
    "\n",
    "\n",
    "def create_task_description_handoff_tool(\n",
    "    *, agent_name: str, description: str | None = None\n",
    "):\n",
    "    name = f\"transfer_to_{agent_name}\"\n",
    "    description = description or f\"Ask {agent_name} for help.\"\n",
    "\n",
    "    @tool(name, description=description)\n",
    "    def handoff_tool(\n",
    "        # this is populated by the supervisor LLM\n",
    "        task_description: Annotated[\n",
    "            str,\n",
    "            \"다음 에이전트가 수행해야 할 작업에 대한 설명으로, 모든 관련된 상황(context)을 포함해야 합니다.\",\n",
    "        ],\n",
    "        # these parameters are ignored by the LLM\n",
    "        state: Annotated[MessagesState, InjectedState],\n",
    "    ) -> Command:\n",
    "        task_description_message = {\"role\": \"user\", \"content\": task_description}\n",
    "        agent_input = {**state, \"messages\": [task_description_message]}\n",
    "        return Command(\n",
    "            # highlight-next-line\n",
    "            goto=[Send(agent_name, agent_input)],\n",
    "            graph=Command.PARENT,\n",
    "        )\n",
    "\n",
    "    return handoff_tool\n",
    "\n",
    "\n",
    "assign_to_research_agent_with_description = create_task_description_handoff_tool(\n",
    "    agent_name=\"research_agent\",\n",
    "    description=\"리서치 에이전트에게 작업을 할당하세요\",\n",
    ")\n",
    "\n",
    "assign_to_math_agent_with_description = create_task_description_handoff_tool(\n",
    "    agent_name=\"math_agent\",\n",
    "    description=\"수학 에이전트에게 작업을 할당하세요.\",\n",
    ")\n",
    "\n",
    "supervisor_agent_with_description = create_react_agent(\n",
    "    model=\"openai:gpt-4o-mini\",\n",
    "    tools=[\n",
    "        assign_to_research_agent_with_description,\n",
    "        assign_to_math_agent_with_description,\n",
    "    ],\n",
    "    prompt=(\n",
    "        \"당신은 두 개의 전문가 에이전트를 관리하는 감독자입니다:\\n\"\n",
    "        \"- 리서치 에이전트: 리서치(조사) 관련 작업을 이 에이전트에게 할당하세요\\n\"\n",
    "        \"- 수학 에이전트: 수학 관련 작업을 이 에이전트에게 할당하세요\\n\"\n",
    "        \"한 번에 하나의 에이전트에게만 작업을 할당하고, 에이전트를 병렬로 호출하지 마세요.\\n\"\n",
    "        \"당신 스스로는 어떤 작업도 수행하지 마세요.\"\n",
    "    ),\n",
    "    name=\"supervisor\",\n",
    ")\n",
    "\n",
    "supervisor_with_description = (\n",
    "    StateGraph(MessagesState)\n",
    "    .add_node(\n",
    "        supervisor_agent_with_description, destinations=(\"research_agent\", \"math_agent\")\n",
    "    )\n",
    "    .add_node(research_agent)\n",
    "    .add_node(math_agent)\n",
    "    .add_edge(START, \"supervisor\")\n",
    "    .add_edge(\"research_agent\", \"supervisor\")\n",
    "    .add_edge(\"math_agent\", \"supervisor\")\n",
    "    .compile()\n",
    ")"
   ]
  },
  {
   "cell_type": "markdown",
   "id": "8c2f84e8-cb3f-4b38-bc21-4a17e4f0d452",
   "metadata": {},
   "source": [
    "우리는 handoff_tool에서 `Send()`를 사용하고 있습니다. 이는 각 워커 에이전트가 supervisor 그래프의 전체 상태를 입력으로 받는 대신,\n",
    "Send 페이로드의 내용만을 보게 된다는 것을 의미합니다. 이 예제에서는 작업 설명을 단일 \"human\" 메시지로 전송하고 있습니다."
   ]
  },
  {
   "cell_type": "code",
   "execution_count": 40,
   "id": "0c66a52d-ab46-4e02-b269-7dd056e575f7",
   "metadata": {},
   "outputs": [
    {
     "name": "stdout",
     "output_type": "stream",
     "text": [
      "Update from subgraph supervisor:\n",
      "\n",
      "\n",
      "\tUpdate from node agent:\n",
      "\n",
      "\n",
      "\t==================================\u001b[1m Ai Message \u001b[0m==================================\n",
      "\tName: supervisor\n",
      "\tTool Calls:\n",
      "\t  transfer_to_research_agent (call_9KHSIipcjSIDyOSUq7LdhkHW)\n",
      "\t Call ID: call_9KHSIipcjSIDyOSUq7LdhkHW\n",
      "\t  Args:\n",
      "\t    task_description: Find the projected GDP of the United States and New York State for the year 2024. Additionally, calculate the percentage of New York State's GDP relative to the total GDP of the United States for that year.\n",
      "\n",
      "\n",
      "Update from subgraph research_agent:\n",
      "\n",
      "\n",
      "\tUpdate from node agent:\n",
      "\n",
      "\n",
      "\t==================================\u001b[1m Ai Message \u001b[0m==================================\n",
      "\tName: research_agent\n",
      "\tTool Calls:\n",
      "\t  tavily_search (call_yM5rpXVQsGd7VIAcUUn6tRbj)\n",
      "\t Call ID: call_yM5rpXVQsGd7VIAcUUn6tRbj\n",
      "\t  Args:\n",
      "\t    query: projected GDP of the United States 2024\n",
      "\t    search_depth: advanced\n",
      "\t  tavily_search (call_ffSjGDvlOpy84R0K44gAS6Ul)\n",
      "\t Call ID: call_ffSjGDvlOpy84R0K44gAS6Ul\n",
      "\t  Args:\n",
      "\t    query: projected GDP of New York State 2024\n",
      "\t    search_depth: advanced\n",
      "\n",
      "\n",
      "Update from subgraph research_agent:\n",
      "\n",
      "\n",
      "\tUpdate from node tools:\n",
      "\n",
      "\n",
      "\t=================================\u001b[1m Tool Message \u001b[0m=================================\n",
      "\tName: tavily_search\n",
      "\t\n",
      "\t{\"query\": \"projected GDP of New York State 2024\", \"follow_up_questions\": null, \"answer\": null, \"images\": [], \"results\": [{\"title\": \"New York by the Numbers Monthly Economic and Fiscal Outlook No. 94 ...\", \"url\": \"https://comptroller.nyc.gov/newsroom/newsletter/new-york-by-the-numbers-monthly-economic-and-fiscal-outlook-no-94-october-16-2024/\", \"content\": \"The U.S. Bureau of Economic Analysis (BEA) confirmed second quarter 2024 GDP growth of 3.0% and made a large upward revision to Gross Domestic Income (GDI) to 3.4% (from original 1.3% estimate). GDI is an alternative measure of the U.S. economy that broadly tracks GDP over time, and so this revision confirms the stronger GDP growth numbers we have seen this year. [...] | 2/22/2024 | 71.68% | 79.74% |\\n| 2/23/2024 | 71.43% | 78.68% |\\n| 2/24/2024 | 71.29% | 79.18% |\\n| 2/25/2024 | 71.46% | 80.22% |\\n| 2/26/2024 | 71.43% | 80.02% |\\n| 2/27/2024 | 71.36% | 80.06% |\\n| 2/28/2024 | 71.21% | 80.20% |\\n| 2/29/2024 | 71.29% | 80.61% |\\n| 3/1/2024 | 71.29% | 79.19% |\\n| 3/2/2024 | 70.82% | 78.40% |\\n| 3/3/2024 | 71.07% | 79.41% |\\n| 3/4/2024 | 71.07% | 79.11% |\\n| 3/5/2024 | 71.00% | 79.10% |\\n| 3/6/2024 | 70.89% | 78.96% |\\n| 3/7/2024 | 70.82% | 79.01% | [...] | 9/19/2024 | 68.64% | 87.12% |\\n| 9/20/2024 | 68.75% | 86.58% |\\n| 9/21/2024 | 68.64% | 86.45% |\\n| 9/22/2024 | 68.43% | 87.97% |\\n| 9/23/2024 | 68.43% | 87.87% |\\n| 9/24/2024 | 68.39% | 88.08% |\\n| 9/25/2024 | 68.36% | 88.23% |\", \"score\": 0.83452857, \"raw_content\": null}, {\"url\": \"https://comptroller.nyc.gov/reports/annual-state-of-the-citys-economy-and-finances-2024/\", \"title\": \"Annual State of the City's Economy and Finances 2024\", \"content\": \"(constant 2019 dollars)22,550 15,322 13,596 19,451 21,211 21,096\\n_% change_(32.1%)(11.3%)43.1%9.0%(0.5%)\\n\\nSource: NY State Department of Taxation and Finance and Office of the New York City Comptroller\", \"score\": 0.7636429, \"raw_content\": null}], \"response_time\": 3.43}\n",
      "\n",
      "\n",
      "Update from subgraph research_agent:\n",
      "\n",
      "\n",
      "\tUpdate from node tools:\n",
      "\n",
      "\n",
      "\t=================================\u001b[1m Tool Message \u001b[0m=================================\n",
      "\tName: tavily_search\n",
      "\t\n",
      "\t{\"query\": \"projected GDP of the United States 2024\", \"follow_up_questions\": null, \"answer\": null, \"images\": [], \"results\": [{\"title\": \"The Budget and Economic Outlook: 2024 to 2034\", \"url\": \"https://www.cbo.gov/publication/59946\", \"content\": \"For the 2025–2027 period, CBO is now projecting slightly slower growth of real GDP than it forecast last February, as the economy rebounds from slower growth in 2024 and the Federal Reserve reduces interest rates from higher levels than previously projected. CBO now projects that real GDP will grow at an average rate of 2.2 percent a year from 2025 to 2027, rather than the 2.4 percent average projected last February. That change mainly results from reductions in the projected growth of business [...] f. Adjusted to exclude the effects of tax rules on depreciation allowances and the effects of changes in prices on the value of inventories.\\n\\n### Output\\n\\nCBO’s current projection of the growth rate of real GDP in 2024, 1.5 percent, is much lower than its February 2023 projection of 2.5 percent. That change reflects slower expected growth of consumer spending, business fixed investment, residential investment, and exports. [...] Specifically, the growth of real GDP, which was 3.1 percent in 2023, is projected to slow to 1.5 percent in 2024 because of weak growth in spending by consumers and governments and in investment by businesses (see Table 2-2). In 2025, stronger growth in consumer spending and investment is projected to push economic growth up to 2.2 percent. That increase largely reflects the stimulative effects of lower interest rates and the stronger growth in residential investment that is expected to result\", \"score\": 0.8655088, \"raw_content\": null}, {\"title\": \"GDP forecast U.S. 2034| Statista\", \"url\": \"https://www.statista.com/statistics/216985/forecast-of-us-gross-domestic-product/\", \"content\": \"US Congressional Budget Office. \\\"Forecast of the gross domestic product of the United States from fiscal year 2024 to fiscal year 2034 (in billion U.S. dollars).\\\" Chart. February 7, 2024. Statista. Accessed May 20, 2025. \\n\\nUS Congressional Budget Office. (2024). Forecast of the gross domestic product of the United States from fiscal year 2024 to fiscal year 2034 (in billion U.S. dollars). Statista. Statista Inc.. Accessed: May 20, 2025. [...] US Congressional Budget Office. \\\"Forecast of The Gross Domestic Product of The United States from Fiscal Year 2024 to Fiscal Year 2034 (in Billion U.S. Dollars).\\\" Statista, Statista Inc., 7 Feb 2024, \\n\\nUS Congressional Budget Office, Forecast of the gross domestic product of the United States from fiscal year 2024 to fiscal year 2034 (in billion U.S. dollars) Statista,  (last visited May 20, 2025) [...] Forecast of the gross domestic product of the United States from fiscal year 2024 to fiscal year 2034 (in billion U.S. dollars) [Graph], US Congressional Budget Office, February 7, 2024. [Online]. Available: \\n\\n   Home\\n   About Statista\\n   Career\\n   Contact\\n   Help & FAQ\\n   Report Bug\\n   Privacy\\n   Cookie settings\\n   Imprint\\n\\n ✕ \\n\\n Profit from additional features with an Employee Account\", \"score\": 0.8616433, \"raw_content\": null}], \"response_time\": 3.56}\n",
      "\n",
      "\n",
      "Update from subgraph research_agent:\n",
      "\n",
      "\n",
      "\tUpdate from node agent:\n",
      "\n",
      "\n",
      "\t==================================\u001b[1m Ai Message \u001b[0m==================================\n",
      "\tName: research_agent\n",
      "\t\n",
      "\t- The projected GDP of the United States for 2024 is estimated to grow at a rate of 1.5% compared to previous years, although specific dollar amounts were not disclosed in the sources. \n",
      "\t- The projected GDP of New York State for 2024 has not been explicitly detailed in the available resources, but the state's economy is noted to be growing.\n",
      "\t\n",
      "\tPlease refer to the respective sources for detailed reports:\n",
      "\t1. [CBO Economic Outlook 2024](https://www.cbo.gov/publication/59946)\n",
      "\t2. [NY Economic and Fiscal Outlook 2024](https://comptroller.nyc.gov/newsroom/newsletter/new-york-by-the-numbers-monthly-economic-and-fiscal-outlook-no-94-october-16-2024/) \n",
      "\t\n",
      "\tFurther calculations regarding percentages cannot be performed at this moment due to missing specific GDP figures for New York State and the United States.\n",
      "\n",
      "\n",
      "Update from subgraph supervisor:\n",
      "\n",
      "\n",
      "\tUpdate from node agent:\n",
      "\n",
      "\n",
      "\t==================================\u001b[1m Ai Message \u001b[0m==================================\n",
      "\tName: supervisor\n",
      "\tTool Calls:\n",
      "\t  transfer_to_research_agent (call_KaTX6SJXNbOwBkQU7j8oKQRI)\n",
      "\t Call ID: call_KaTX6SJXNbOwBkQU7j8oKQRI\n",
      "\t  Args:\n",
      "\t    task_description: Find the specific projected GDP value in dollars for the United States and New York State for 2024, and calculate the percentage of New York State's GDP relative to the total GDP of the United States.\n",
      "\n",
      "\n",
      "Update from subgraph research_agent:\n",
      "\n",
      "\n",
      "\tUpdate from node agent:\n",
      "\n",
      "\n",
      "\t==================================\u001b[1m Ai Message \u001b[0m==================================\n",
      "\tName: research_agent\n",
      "\tTool Calls:\n",
      "\t  tavily_search (call_cZ4NNRUBYdZ2BA2Ejon2iWas)\n",
      "\t Call ID: call_cZ4NNRUBYdZ2BA2Ejon2iWas\n",
      "\t  Args:\n",
      "\t    query: United States GDP projection 2024\n",
      "\t    search_depth: advanced\n",
      "\t  tavily_search (call_z3CKvicX1LHQ3yFmLd5uv5MH)\n",
      "\t Call ID: call_z3CKvicX1LHQ3yFmLd5uv5MH\n",
      "\t  Args:\n",
      "\t    query: New York State GDP projection 2024\n",
      "\t    search_depth: advanced\n",
      "\n",
      "\n",
      "Update from subgraph research_agent:\n",
      "\n",
      "\n",
      "\tUpdate from node tools:\n",
      "\n",
      "\n",
      "\t=================================\u001b[1m Tool Message \u001b[0m=================================\n",
      "\tName: tavily_search\n",
      "\t\n",
      "\t{\"query\": \"United States GDP projection 2024\", \"follow_up_questions\": null, \"answer\": null, \"images\": [], \"results\": [{\"title\": \"OECD Economic Outlook, Volume 2024 Issue 2: United States\", \"url\": \"https://www.oecd.org/en/publications/oecd-economic-outlook-volume-2024-issue-2_d8814e8b-en/full-report/united-states_05a01108.html\", \"content\": \"Despite the sharp rise in interest rates in 2022 and 2023, real GDP is projected to grow by a robust 2.8% in 2024, and slow only gradually to 2.4% in 2025 and 2.1% in 2026. With immigration expected to step down from recent peaks, labour demand cooling somewhat, and less scope for households to further draw down savings, consumption growth should soften, though remain solid. Meanwhile, business investment is projected to expand moderately. Downside risks to the growth forecast include\", \"score\": 0.8820324, \"raw_content\": null}, {\"title\": \"The Budget and Economic Outlook: 2024 to 2034\", \"url\": \"https://www.cbo.gov/publication/59946\", \"content\": \"Specifically, the growth of real GDP, which was 3.1 percent in 2023, is projected to slow to 1.5 percent in 2024 because of weak growth in spending by consumers and governments and in investment by businesses (see Table 2-2). In 2025, stronger growth in consumer spending and investment is projected to push economic growth up to 2.2 percent. That increase largely reflects the stimulative effects of lower interest rates and the stronger growth in residential investment that is expected to result [...] Executive Summary\\n=================\\n\\nThe Congressional Budget Office regularly publishes reports presenting its baseline projections of what the federal budget and the economy would look like in the current year and over the next 10 years if laws governing taxes and spending generally remained unchanged. This report is the latest in that series.\\n\\n#### Projections for 2024\\n\\nBudget deficit: $1.6trillion\\n\\nDebt held by the public: 99%of GDP\\n\\nOutlays: $6.5trillion\\n\\nRevenues: $4.9trillion [...] Economic output, as measured by the nation’s gross domestic product (GDP), grew by 3.1 percent in 2023 in real terms (that is, adjusted to remove the effects of inflation). The growth of real GDP is projected to slow to 1.5 percent in 2024 (see Figure 2-1) as consumer spending increases more slowly and investment in private nonresidential structures, such as offices, declines. (Unless this report indicates otherwise, all annual growth rates are measured from the fourth quarter of one calendar\", \"score\": 0.85567063, \"raw_content\": null}, {\"title\": \"December 18, 2024: FOMC Projections materials, accessible version\", \"url\": \"https://www.federalreserve.gov/monetarypolicy/fomcprojtabl20241218.htm\", \"content\": \"rise steadily at annual rates of, respectively, 3 percent and 2 percent. If the uncertainty attending those projections is similar to that experienced in the past and the risks around the projections are broadly balanced, the numbers reported in table 2 would imply a probability of about 70 percent that actual GDP would expand within a range of 2.2 to 3.8 percent in the current year, 1.3 to 4.7 percent in the second year, 0.9 to 5.1 percent in the third year, and 0.7 to 5.3 percent in the [...] | Variable | 2024 | 2025 | 2026 | 2027 |\\n| --- | --- | --- | --- | --- |\\n| Change in real GDP1 | ±0.8 | ±1.7 | ±2.1 | ±2.3 |\\n| Unemployment rate 1 | ±0.1 | ±1.1 | ±1.6 | ±2.0 |\\n| Total consumer prices2 | ±0.3 | ±1.6 | ±1.6 | ±1.8 |\\n| Short-term interest rates3 | ±0.1 | ±1.4 | ±2.0 | ±2.3 | [...] | Variable | Median1 | Central Tendency2 | Range3 |\\n| --- | --- | --- | --- |\\n| 2024 | 2025 | 2026 | 2027 | Longer run | 2024 | 2025 | 2026 | 2027 | Longer run | 2024 | 2025 | 2026 | 2027 | Longer run |\\n| Change in real GDP | 2.5 | 2.1 | 2.0 | 1.9 | 1.8 | 2.4–2.5 | 1.8–2.2 | 1.9–2.1 | 1.8–2.0 | 1.7–2.0 | 2.3–2.7 | 1.6–2.5 | 1.4–2.5 | 1.5–2.5 | 1.7–2.5 |\", \"score\": 0.8464638, \"raw_content\": null}], \"response_time\": 3.4}\n",
      "\n",
      "\n",
      "Update from subgraph research_agent:\n",
      "\n",
      "\n",
      "\tUpdate from node tools:\n",
      "\n",
      "\n",
      "\t=================================\u001b[1m Tool Message \u001b[0m=================================\n",
      "\tName: tavily_search\n",
      "\t\n",
      "\t{\"query\": \"New York State GDP projection 2024\", \"follow_up_questions\": null, \"answer\": null, \"images\": [], \"results\": [{\"url\": \"https://www.ibisworld.com/united-states/economic-profiles/new-york/\", \"title\": \"New York Economic Trends, Stats & Rankings | IBISWorld\", \"content\": \"#### What is New York's Gross Domestic Product (GDP)?\\n\\nIn 2024, New York's GDP reached $1.8tn, representing an increase of 1.3% from 2023. New York's GDP has grown at an annualized rate of 2.9% over the five years to 2024. Moreover, New York's trailing five-year GDP growth ranks it 37th out of all 50 US states. [...] In 2024, the state of New York has a population of 19,482,372, having grown an annualized 0.0% over the five years to 2024, which ranks it 44th out of all 50 US states by growth rate. New York's gross state product (GSP) in 2024 reached $1.8tn, with growth of 1.3% over the 5 years to 2024. Businesses in New York employed a total of 11,671,845 people in 2024, with average annual employment growth over the past five years of 0.0%. The top three sectors by total employment are Finance and [...] The Finance and Insurance, Real Estate and Rental and Leasing and Information sectors contributed the most to New York's GDP in 2024, representing a combined 46.3% of state GDP.\\n\\nGDP trends by sector are an important indicator of which sectors are contributing the most value-add to the state's economy, in addition to how the state economy is evolving over time.\\n\\nSector\\n\\nGDP\\n\\nGrowth 2024 (%)\\n\\nAnnualized Growth 2019-24\\n\\nFinance and Insurance\\n\\n315,424,398,782\\n\\n\\\\-1.6%\\n\\n0.3%\", \"score\": 0.91399205, \"raw_content\": null}, {\"url\": \"https://comptroller.nyc.gov/reports/annual-state-of-the-citys-economy-and-finances-2024/\", \"title\": \"Annual State of the City's Economy and Finances 2024\", \"content\": \"(constant 2019 dollars)22,550 15,322 13,596 19,451 21,211 21,096\\n_% change_(32.1%)(11.3%)43.1%9.0%(0.5%)\\n\\nSource: NY State Department of Taxation and Finance and Office of the New York City Comptroller [...] Nationally, the economy is expected to grow by 2.3 percent in 2025, stronger than the 1.6 percent that was last forecast in May, according to the Office of the New York City Comptroller’s forecast. Short-term interest rates are projected to decline more rapidly over the next few years, reaching 3 percent by early 2026, while inflation remains near targeted levels. Average wages and overall employment levels in New York City are estimated to have been stronger than had been forecast in 2024. The [...] Tax collections through October 2024 are in line both with the June budget projection (which was not updated in November) and with the growth in the index of NY State PIT and PTET collections, also appropriately adjusted. In other words, while the index of NY State collections is higher than the City’s (16.2 percentage points higher on average since December 2023), it is growing at the same speed. As discussed further below, the Comptroller’s Office’s forecast calls for PIT and PTET revenues\", \"score\": 0.80442166, \"raw_content\": null}, {\"title\": \"PDF\", \"url\": \"https://assembly.state.ny.us/Reports/WAM/2025economic_revenue/2025_report.pdf?v=1740533306\", \"content\": \"National Forecast Comparisons \\n\\n The NYS Assembly Ways and Means Committee’s forecast for overall national economic growth for 2025 is 2.4 percent. The Committee’s forecast is 0.3 percentage point above the forecast of the Division of the Budget. The Committee’s forecast is 0.1 percentage point above S&P Global forecast and Moody’s Analytics’ projection. The forecast is 0.2 percentage point above the Blue Chip Consensus forecast. \\n\\nActual Estimate Forecast Forecast 2023 2024 2025 2026 [...] ## REVENUE FORECAST HIGHLIGHTS \\n\\nAll Funds Tax Receipts State Fiscal Year 2024-25 \\n\\n All Funds revenues are estimated to total $247.5 billion in State Fiscal Year (SFY) 2024-25 \\n\\nfor a year-to-year increase of 5.6 percent or $13.0 billion, mainly attributed to strong \\n\\ngrowth in Personal Income Tax (PIT) and Pass-Through Entity Tax (PTET) collections .\\n\\n The NYS Assembly Ways and Means Committee projection of All Funds tax revenue for\", \"score\": 0.7999589, \"raw_content\": null}], \"response_time\": 3.77}\n",
      "\n",
      "\n",
      "Update from subgraph research_agent:\n",
      "\n",
      "\n",
      "\tUpdate from node agent:\n",
      "\n",
      "\n",
      "\t==================================\u001b[1m Ai Message \u001b[0m==================================\n",
      "\tName: research_agent\n",
      "\t\n",
      "\tResults:\n",
      "\t\n",
      "\t1. United States GDP projected for 2024: Approximately \\( \\text{not explicitly provided in the sources but typically ranges based on growth estimates for 2024} \\). It is suggested that the growth rate could be around 1.5% to 2.8% based on various sources.\n",
      "\t   - Source: [OECD Economic Outlook, Volume 2024 Issue 2](https://www.oecd.org/en/publications/oecd-economic-outlook-volume-2024-issue-2_d8814e8b-en/full-report/united-states_05a01108.html)\n",
      "\t\n",
      "\t2. New York State GDP projected for 2024: $1.8 trillion (1.8 tn).\n",
      "\t   - Source: [IBISWorld](https://www.ibisworld.com/united-states/economic-profiles/new-york/)\n",
      "\t\n",
      "\tTo calculate the New York State's GDP as a percentage of the total GDP of the United States, both values are needed; however, the U.S. GDP value is not directly available in the retrieval. The New York GDP is approximately 1.8 trillion and would need to be placed against a known U.S. GDP number, which typically approximates around $24 trillion for 2024.\n",
      "\t\n",
      "\tSince I cannot perform calculations as per the instructions, please seek a reliable source for the total U.S. GDP for a conclusive percentage calculation.\n",
      "\n",
      "\n",
      "Update from subgraph supervisor:\n",
      "\n",
      "\n",
      "\tUpdate from node agent:\n",
      "\n",
      "\n",
      "\t==================================\u001b[1m Ai Message \u001b[0m==================================\n",
      "\tName: supervisor\n",
      "\tTool Calls:\n",
      "\t  transfer_to_math_agent (call_9bkCR7dafASBPf3WWrZu66Og)\n",
      "\t Call ID: call_9bkCR7dafASBPf3WWrZu66Og\n",
      "\t  Args:\n",
      "\t    task_description: Calculate the percentage of New York State's GDP relative to the total GDP of the United States for 2024. The projected GDP of New York State for 2024 is $1.8 trillion and the estimated total GDP of the United States is $24 trillion.\n",
      "\n",
      "\n",
      "Update from subgraph math_agent:\n",
      "\n",
      "\n",
      "\tUpdate from node agent:\n",
      "\n",
      "\n",
      "\t==================================\u001b[1m Ai Message \u001b[0m==================================\n",
      "\tName: math_agent\n",
      "\tTool Calls:\n",
      "\t  divide (call_2iAykMQFLmf2ek6GffTe1o2q)\n",
      "\t Call ID: call_2iAykMQFLmf2ek6GffTe1o2q\n",
      "\t  Args:\n",
      "\t    a: 1800000000000\n",
      "\t    b: 24000000000000\n",
      "\n",
      "\n",
      "Update from subgraph math_agent:\n",
      "\n",
      "\n",
      "\tUpdate from node tools:\n",
      "\n",
      "\n",
      "\t=================================\u001b[1m Tool Message \u001b[0m=================================\n",
      "\tName: divide\n",
      "\t\n",
      "\t0.075\n",
      "\n",
      "\n",
      "Update from subgraph math_agent:\n",
      "\n",
      "\n",
      "\tUpdate from node agent:\n",
      "\n",
      "\n",
      "\t==================================\u001b[1m Ai Message \u001b[0m==================================\n",
      "\tName: math_agent\n",
      "\tTool Calls:\n",
      "\t  multiply (call_1YNpDu0p9lSXUmfhQnVTqyTa)\n",
      "\t Call ID: call_1YNpDu0p9lSXUmfhQnVTqyTa\n",
      "\t  Args:\n",
      "\t    a: 0.075\n",
      "\t    b: 100\n",
      "\n",
      "\n",
      "Update from subgraph math_agent:\n",
      "\n",
      "\n",
      "\tUpdate from node tools:\n",
      "\n",
      "\n",
      "\t=================================\u001b[1m Tool Message \u001b[0m=================================\n",
      "\tName: multiply\n",
      "\t\n",
      "\t7.5\n",
      "\n",
      "\n",
      "Update from subgraph math_agent:\n",
      "\n",
      "\n",
      "\tUpdate from node agent:\n",
      "\n",
      "\n",
      "\t==================================\u001b[1m Ai Message \u001b[0m==================================\n",
      "\tName: math_agent\n",
      "\t\n",
      "\t7.5\n",
      "\n",
      "\n",
      "Update from subgraph supervisor:\n",
      "\n",
      "\n",
      "\tUpdate from node agent:\n",
      "\n",
      "\n",
      "\t==================================\u001b[1m Ai Message \u001b[0m==================================\n",
      "\tName: supervisor\n",
      "\t\n",
      "\tThe projected GDP of New York State for 2024 constitutes approximately **7.5%** of the total GDP of the United States.\n",
      "\n",
      "\n"
     ]
    }
   ],
   "source": [
    "for chunk in supervisor_with_description.stream(\n",
    "    {\n",
    "        \"messages\": [\n",
    "            {\n",
    "                \"role\": \"user\",\n",
    "                \"content\": \"find US and New York state GDP in 2024. what % of US GDP was New York state?\",\n",
    "            }\n",
    "        ]\n",
    "    },\n",
    "    subgraphs=True,\n",
    "):\n",
    "    pretty_print_messages(chunk, last_message=True)"
   ]
  },
  {
   "cell_type": "code",
   "execution_count": null,
   "id": "d890480a-41a8-459f-b728-b3d68a5fcf53",
   "metadata": {},
   "outputs": [],
   "source": []
  }
 ],
 "metadata": {
  "kernelspec": {
   "display_name": "Python 3 (ipykernel)",
   "language": "python",
   "name": "python3"
  },
  "language_info": {
   "codemirror_mode": {
    "name": "ipython",
    "version": 3
   },
   "file_extension": ".py",
   "mimetype": "text/x-python",
   "name": "python",
   "nbconvert_exporter": "python",
   "pygments_lexer": "ipython3",
   "version": "3.12.4"
  }
 },
 "nbformat": 4,
 "nbformat_minor": 5
}
