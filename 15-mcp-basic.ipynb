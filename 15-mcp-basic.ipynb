{
 "cells": [
  {
   "cell_type": "markdown",
   "id": "45885945-30ab-4fd1-98bd-6febdb6e9fca",
   "metadata": {},
   "source": [
    "# MCP 사용하기 (.py 파일로 실행하기)\n",
    "\n",
    "https://langchain-ai.lang.chat/langgraph/agents/mcp/   \n",
    "https://innovationlab.fetch.ai/resources/docs/examples/mcp-integration/multi-server-agent-example"
   ]
  },
  {
   "cell_type": "markdown",
   "id": "9d210dde-3626-4a66-ab63-3adea2863a9e",
   "metadata": {},
   "source": [
    "모델 컨텍스트 프로토콜(MCP)은 애플리케이션이 언어 모델에 도구와 컨텍스트를 제공하는 방식을 표준화하는 개방형 프로토콜입니다. LangGraph 에이전트는 `langchain-mcp-adapters`라이브러리를 통해 MCP 서버에 정의된 도구를 사용할 수 있습니다."
   ]
  },
  {
   "cell_type": "code",
   "execution_count": 7,
   "id": "3c97348c-8a03-4405-96d7-c7c5e07cbd97",
   "metadata": {},
   "outputs": [
    {
     "name": "stdout",
     "output_type": "stream",
     "text": [
      "Note: you may need to restart the kernel to use updated packages.\n"
     ]
    }
   ],
   "source": [
    "%pip install -qU langchain-mcp-adapters\n",
    "%pip install -qU \"mcp[cli]\""
   ]
  },
  {
   "cell_type": "code",
   "execution_count": 11,
   "id": "794b84ea-e6de-4882-bb6e-27445c914a2c",
   "metadata": {},
   "outputs": [],
   "source": [
    "# math_server.py\n",
    "# ./mcp/math_server.py"
   ]
  },
  {
   "cell_type": "code",
   "execution_count": 12,
   "id": "ff0c11c3-ab3c-4982-b7f1-a3313633c2d7",
   "metadata": {},
   "outputs": [],
   "source": [
    "# weather_server.py\n",
    "# ./mcp/weather_server.py\n",
    "\n",
    "# 먼저 실행이 필요\n",
    "# python ./mcp/weather_server.py"
   ]
  },
  {
   "cell_type": "markdown",
   "id": "dacaaf50-c523-4e31-99e9-c91447730fbe",
   "metadata": {},
   "source": [
    "## MCP 만들기"
   ]
  },
  {
   "cell_type": "code",
   "execution_count": 16,
   "id": "ec8d46a1-1f67-4a0b-847d-1905fac32ccc",
   "metadata": {},
   "outputs": [
    {
     "name": "stdout",
     "output_type": "stream",
     "text": [
      "Note: you may need to restart the kernel to use updated packages.\n"
     ]
    }
   ],
   "source": [
    "from mcp.server.fastmcp import FastMCP\n",
    "\n",
    "mcp = FastMCP(\"Weather\")\n",
    "\n",
    "@mcp.tool()\n",
    "@mcp.tool()\n",
    "def get_weather(city: str) -> str:\n",
    "    \"\"\"Get the current weather for a city\"\"\"\n",
    "    # This is a mock implementation\n",
    "    return f\"The weather in {city} is sunny and 25°C\"\n",
    "\n",
    "if __name__ == \"__main__\":\n",
    "    mcp.run(transport=\"streamable-http\")\n"
   ]
  },
  {
   "cell_type": "code",
   "execution_count": null,
   "id": "d54d1cfa-870c-43d4-bbad-9ff52d8507fb",
   "metadata": {},
   "outputs": [],
   "source": [
    "from mcp.server.fastmcp import FastMCP\n",
    "\n",
    "mcp = FastMCP(\"Math\")\n",
    "\n",
    "@mcp.tool()\n",
    "def add(a: int, b: int) -> int:\n",
    "    \"\"\"Add two numbers\"\"\"\n",
    "    return a + b\n",
    "\n",
    "@mcp.tool()\n",
    "def multiply(a: int, b: int) -> int:\n",
    "    \"\"\"Multiply two numbers\"\"\"\n",
    "    return a * b\n",
    "\n",
    "if __name__ == \"__main__\":\n",
    "    mcp.run(transport=\"stdio\")\n"
   ]
  },
  {
   "cell_type": "markdown",
   "id": "9d564766-760c-49bc-9b53-937fd2e7b0c6",
   "metadata": {},
   "source": [
    "## 메인"
   ]
  },
  {
   "cell_type": "code",
   "execution_count": null,
   "id": "23513af7-fd50-436f-b281-5afeff052736",
   "metadata": {},
   "outputs": [],
   "source": [
    "import getpass\n",
    "import os\n",
    "import asyncio\n",
    "from langchain_mcp_adapters.client import MultiServerMCPClient\n",
    "from langgraph.prebuilt import create_react_agent\n",
    "from dotenv import load_dotenv\n",
    "\n",
    "# 환경 설정\n",
    "load_dotenv(override=True)\n",
    "\n",
    "def _set_env(var: str):\n",
    "    if not os.environ.get(var):\n",
    "        os.environ[var] = getpass.getpass(f\"{var}: \")\n",
    "\n",
    "async def main():\n",
    "    client = MultiServerMCPClient(\n",
    "        {\n",
    "            \"math\": {\n",
    "                \"command\": \"python\",\n",
    "                \"args\": [\"./mcp/math_server.py\"], \n",
    "                \"transport\": \"stdio\",\n",
    "            },\n",
    "            \"weather\": {\n",
    "                \"url\": \"http://localhost:8000/mcp\",\n",
    "                \"transport\": \"streamable_http\",\n",
    "            }\n",
    "        }\n",
    "    )\n",
    "    \n",
    "    tools = await client.get_tools()\n",
    "    print(\"*** TOOLS : \", tools, \"\\n\\n\")\n",
    "    \n",
    "    # 에이전트 만들기 \n",
    "    agent = create_react_agent(\n",
    "        \"openai:gpt-4o-mini\",\n",
    "        tools\n",
    "    )\n",
    "    \n",
    "    # math_response = await agent.ainvoke(\n",
    "    #     {\"messages\": [{\"role\": \"user\", \"content\": \"what's (3 + 5) x 12?\"}]}\n",
    "    # )\n",
    "\n",
    "    # print(math_response, \"\\n\\n\")\n",
    "\n",
    "    # weather_response = await agent.ainvoke(\n",
    "    #     {\"messages\": [{\"role\": \"user\", \"content\": \"what is the weather in nyc?\"}]}\n",
    "    # )\n",
    "\n",
    "    # print(weather_response, \"\\n\\n\")\n",
    "\n",
    "    while True:\n",
    "        message = input(\"User: \")\n",
    "        if message.lower() in [\"quit\", \"exit\", \"q\"]:\n",
    "            print(\"Goodbye!\")\n",
    "            break\n",
    "        response = await agent.ainvoke({\"messages\": [{\"role\": \"user\", \"content\": message}]})\n",
    "        print(\"AI: \"+response[\"messages\"][-1].content, \"\\n\\n\")\n",
    "\n",
    "# ------------------------------------------------------------------------------\n",
    "if __name__ == \"__main__\":\n",
    "    _set_env(\"TAVILY_API_KEY\")\n",
    "    _set_env(\"OPENAI_API_KEY\")\n",
    "    asyncio.run(main())\n"
   ]
  },
  {
   "cell_type": "code",
   "execution_count": null,
   "id": "1cfdd51f-7d7d-4baf-b5eb-1606e9a057cc",
   "metadata": {},
   "outputs": [],
   "source": []
  }
 ],
 "metadata": {
  "kernelspec": {
   "display_name": "Python 3 (ipykernel)",
   "language": "python",
   "name": "python3"
  },
  "language_info": {
   "codemirror_mode": {
    "name": "ipython",
    "version": 3
   },
   "file_extension": ".py",
   "mimetype": "text/x-python",
   "name": "python",
   "nbconvert_exporter": "python",
   "pygments_lexer": "ipython3",
   "version": "3.13.4"
  }
 },
 "nbformat": 4,
 "nbformat_minor": 5
}
