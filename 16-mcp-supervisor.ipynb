{
 "cells": [
  {
   "cell_type": "markdown",
   "id": "45885945-30ab-4fd1-98bd-6febdb6e9fca",
   "metadata": {},
   "source": [
    "# Supervisor 에이전트에서 MCP 사용하기 (.py 파일로 실행하기)\n",
    "\n",
    "https://mcp.so/server/time/modelcontextprotocol?tab=content  \n",
    "https://zenn.dev/masato13/articles/77744aec98f54f  \n",
    "\n",
    "https://zenn.dev/masato13/articles/77744aec98f54f"
   ]
  },
  {
   "cell_type": "code",
   "execution_count": 7,
   "id": "3c97348c-8a03-4405-96d7-c7c5e07cbd97",
   "metadata": {},
   "outputs": [
    {
     "name": "stdout",
     "output_type": "stream",
     "text": [
      "Note: you may need to restart the kernel to use updated packages.\n"
     ]
    }
   ],
   "source": [
    "%pip install -qU langchain-mcp-adapters\n",
    "%pip install -qU \"mcp[cli]\""
   ]
  },
  {
   "cell_type": "code",
   "execution_count": 11,
   "id": "794b84ea-e6de-4882-bb6e-27445c914a2c",
   "metadata": {},
   "outputs": [],
   "source": [
    "# math_server.py\n",
    "# ./mcp/math_server.py"
   ]
  },
  {
   "cell_type": "code",
   "execution_count": null,
   "id": "109ed655-f739-454c-94d8-01faa162d2f6",
   "metadata": {},
   "outputs": [],
   "source": [
    "# mcp.so 에서 Time MCP Server 사용하기\n",
    "# https://mcp.so/server/time/modelcontextprotocol?tab=content\n",
    "\n",
    "# 사용법\n",
    "# pip install mcp-server-time\n",
    "\n",
    "# \"time\": {\n",
    "#     \"command\": \"python\",\n",
    "#     \"args\": [\"-m\", \"mcp_server_time\"]\n",
    "# }\n"
   ]
  },
  {
   "cell_type": "code",
   "execution_count": 2,
   "id": "87c0d130-7954-4ce7-80bf-6f75082356ad",
   "metadata": {},
   "outputs": [
    {
     "name": "stdout",
     "output_type": "stream",
     "text": [
      "Note: you may need to restart the kernel to use updated packages.\n"
     ]
    }
   ],
   "source": [
    "%pip install -qU mcp-server-time"
   ]
  },
  {
   "cell_type": "markdown",
   "id": "dacaaf50-c523-4e31-99e9-c91447730fbe",
   "metadata": {},
   "source": [
    "## MCP 만들기"
   ]
  },
  {
   "cell_type": "code",
   "execution_count": null,
   "id": "d54d1cfa-870c-43d4-bbad-9ff52d8507fb",
   "metadata": {},
   "outputs": [],
   "source": [
    "from mcp.server.fastmcp import FastMCP\n",
    "\n",
    "mcp = FastMCP(\"Math\")\n",
    "\n",
    "@mcp.tool()\n",
    "def add(a: int, b: int) -> int:\n",
    "    \"\"\"Add two numbers\"\"\"\n",
    "    return a + b\n",
    "\n",
    "@mcp.tool()\n",
    "def multiply(a: int, b: int) -> int:\n",
    "    \"\"\"Multiply two numbers\"\"\"\n",
    "    return a * b\n",
    "\n",
    "if __name__ == \"__main__\":\n",
    "    mcp.run(transport=\"stdio\")\n"
   ]
  },
  {
   "cell_type": "markdown",
   "id": "9d564766-760c-49bc-9b53-937fd2e7b0c6",
   "metadata": {},
   "source": [
    "## 메인"
   ]
  },
  {
   "cell_type": "code",
   "execution_count": null,
   "id": "23513af7-fd50-436f-b281-5afeff052736",
   "metadata": {},
   "outputs": [],
   "source": [
    "import getpass\n",
    "import os\n",
    "import asyncio\n",
    "from langchain_mcp_adapters.client import MultiServerMCPClient\n",
    "from langgraph.prebuilt import create_react_agent\n",
    "from mcp import ClientSession, StdioServerParameters\n",
    "from mcp.client.stdio import stdio_client\n",
    "\n",
    "from langchain_mcp_adapters.tools import load_mcp_tools\n",
    "from langgraph.prebuilt import create_react_agent\n",
    "from langchain_core.messages import AIMessage\n",
    "from langchain_openai import ChatOpenAI\n",
    "from langgraph_supervisor import create_supervisor\n",
    "import os\n",
    "import asyncio\n",
    "import asyncio.subprocess\n",
    "\n",
    "from dotenv import load_dotenv\n",
    "from langchain_openai import ChatOpenAI\n",
    "\n",
    "\n",
    "def _set_env(var: str):\n",
    "    if not os.environ.get(var):\n",
    "        os.environ[var] = getpass.getpass(f\"{var}: \")\n",
    "\n",
    "async def main():\n",
    "    model = ChatOpenAI(model_name=\"gpt-4o-mini\")\n",
    "    \n",
    "    math_params = StdioServerParameters(\n",
    "        command=\"python\",\n",
    "        args=[\"./mcp/math_server.py\"],\n",
    "    )\n",
    "\n",
    "    time_params = StdioServerParameters(\n",
    "        command=\"python\",\n",
    "        args=[\"-m\", \"mcp_server_time\"],\n",
    "    )\n",
    "\n",
    "    async with (\n",
    "        stdio_client(math_params) as (math_read, math_write),\n",
    "        stdio_client(time_params) as (time_read, time_write),\n",
    "    ):\n",
    "        async with (\n",
    "            ClientSession(math_read, math_write) as math_session,\n",
    "            ClientSession(time_read, time_write) as time_session,\n",
    "        ):\n",
    "            # 각 세션 초기화\n",
    "            await math_session.initialize()\n",
    "            await time_session.initialize()\n",
    "\n",
    "            # 각 에이전트의 도구 취득 \n",
    "            math_tools = await load_mcp_tools(math_session)\n",
    "            time_tools = await load_mcp_tools(time_session)\n",
    "\n",
    "            # 에이전트 구성 \n",
    "            time_agent = create_react_agent(\n",
    "                model=model,\n",
    "                tools=time_tools,\n",
    "                name=\"time_expert\",\n",
    "                prompt=\"주어진 곳의 현재 시간을 조사하는 전문가입니다.\"\n",
    "            )\n",
    "            math_agent = create_react_agent(\n",
    "                model=model,\n",
    "                tools=math_tools,\n",
    "                name=\"math_expert\",\n",
    "                prompt=\"수학 계산을 진행하는 전문가입니다.\"\n",
    "            )\n",
    "\n",
    "            # 슈퍼바이저 작성 \n",
    "            supervisor = create_supervisor(\n",
    "                agents=[time_agent, math_agent],\n",
    "                model=model,\n",
    "                prompt=(\n",
    "                    \"당신은 팀 슈퍼바이저입니다.\\n\"\n",
    "                    \"- time_expert는 현재 시간을 확인하는 역할을 합니다\\n\"\n",
    "                    \"- math_expert는 수학적인 계산을하는 역할을 합니다\\n\"\n",
    "                    \"질문의 내용에 따라 적절한 전문가에게 분배해 주세요.\\n\"\n",
    "                    \"필요에 따라 여러 전문가에게 질문을 분배할 수도 있습니다.\"\n",
    "                )\n",
    "            ).compile()\n",
    "\n",
    "            # # 메세지 이력을 표시 \n",
    "            # response = await supervisor.ainvoke({\n",
    "            #     \"messages\": [\n",
    "            #         {\n",
    "            #             \"role\": \"user\",\n",
    "            #             \"content\": \"부산의 현재 시간을 알려줘\"\n",
    "            #         }\n",
    "            #     ]\n",
    "            # })\n",
    "                \n",
    "            # for message in response[\"messages\"]:\n",
    "            #     if isinstance(message, AIMessage):\n",
    "            #         print(message.content)\n",
    "                    \n",
    "            # -------------------------------------------------------------------------------\n",
    "            # math_response = await agent.ainvoke(\n",
    "            #     {\"messages\": [{\"role\": \"user\", \"content\": \"what's (3 + 5) x 12?\"}]}\n",
    "            # )\n",
    "        \n",
    "            # print(math_response, \"\\n\\n\")\n",
    "        \n",
    "            # weather_response = await agent.ainvoke(\n",
    "            #     {\"messages\": [{\"role\": \"user\", \"content\": \"what is the weather in nyc?\"}]}\n",
    "            # )\n",
    "        \n",
    "            # print(weather_response, \"\\n\\n\")\n",
    "            # -------------------------------------------------------------------------------\n",
    "            while True:\n",
    "                message = input(\"User: \")\n",
    "                if message.lower() in [\"quit\", \"exit\", \"q\"]:\n",
    "                    print(\"Goodbye!\")\n",
    "                    break\n",
    "                response = await supervisor.ainvoke({\"messages\": [{\"role\": \"user\", \"content\": message}]})\n",
    "                print(\"AI: \"+response[\"messages\"][-1].content, \"\\n\\n\")\n",
    "\n",
    "# ------------------------------------------------------------------------------\n",
    "if __name__ == \"__main__\":\n",
    "    load_dotenv(override=True)\n",
    "    _set_env(\"TAVILY_API_KEY\")\n",
    "    _set_env(\"OPENAI_API_KEY\")\n",
    "    asyncio.run(main())\n"
   ]
  },
  {
   "cell_type": "code",
   "execution_count": null,
   "id": "1cfdd51f-7d7d-4baf-b5eb-1606e9a057cc",
   "metadata": {},
   "outputs": [],
   "source": []
  }
 ],
 "metadata": {
  "kernelspec": {
   "display_name": "Python 3 (ipykernel)",
   "language": "python",
   "name": "python3"
  },
  "language_info": {
   "codemirror_mode": {
    "name": "ipython",
    "version": 3
   },
   "file_extension": ".py",
   "mimetype": "text/x-python",
   "name": "python",
   "nbconvert_exporter": "python",
   "pygments_lexer": "ipython3",
   "version": "3.13.4"
  }
 },
 "nbformat": 4,
 "nbformat_minor": 5
}
