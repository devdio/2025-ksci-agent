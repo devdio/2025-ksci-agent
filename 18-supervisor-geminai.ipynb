{
 "cells": [
  {
   "cell_type": "markdown",
   "id": "c5ddc178-bc6d-47cb-96c2-01f30a375a32",
   "metadata": {},
   "source": [
    "# 슈퍼바이저 멀티 에이전트 \n",
    "- 구글 제미나이 사용\n",
    "https://medium.com/@dharamai2024/build-a-multi-agent-system-with-langgraph-5b938e0104b5\n",
    "\n",
    "Gemini API키는 다음 사이트에서 [Google AI 스튜디오](https://aistudio.google.com/app/apikey?hl=ko) 등록합니다."
   ]
  },
  {
   "cell_type": "markdown",
   "id": "fad0d06d-e53a-4620-abb9-65f66f04ecc0",
   "metadata": {},
   "source": [
    "<img src=\"https://miro.medium.com/v2/resize:fit:786/format:webp/1*MLHRiyXv7py7vT--wupJeA.png\" />"
   ]
  },
  {
   "cell_type": "markdown",
   "id": "e0957b7e-d85b-493b-8f66-df7397782140",
   "metadata": {},
   "source": [
    "## 환경 설정"
   ]
  },
  {
   "cell_type": "code",
   "execution_count": 1,
   "id": "1472b295-df94-4df4-b377-75bc984b9818",
   "metadata": {},
   "outputs": [
    {
     "name": "stdout",
     "output_type": "stream",
     "text": [
      "Python 3.13.4\n"
     ]
    }
   ],
   "source": [
    "!python --version"
   ]
  },
  {
   "cell_type": "code",
   "execution_count": 2,
   "id": "59d2b38e-99eb-4495-90da-23bfedd1ede7",
   "metadata": {},
   "outputs": [
    {
     "name": "stdout",
     "output_type": "stream",
     "text": [
      "Note: you may need to restart the kernel to use updated packages.\n"
     ]
    }
   ],
   "source": [
    "%pip install -qU langchain langchain-chroma chromadb pypdf langchain-community langgraph langchain-tavily langchain-google-genai langchain-openai"
   ]
  },
  {
   "cell_type": "code",
   "execution_count": 3,
   "id": "2e823a02-9e76-4d9f-a451-5f0a6766eb6b",
   "metadata": {},
   "outputs": [
    {
     "name": "stdout",
     "output_type": "stream",
     "text": [
      "sk-proj-8x\n",
      "AIzaSyB_bx\n",
      "tvly-dev-G\n"
     ]
    }
   ],
   "source": [
    "# 환경 변수 확인\n",
    "from dotenv import load_dotenv\n",
    "import os\n",
    "load_dotenv(override=True)\n",
    "\n",
    "def _set_env(var: str):\n",
    "    if not os.environ.get(var):\n",
    "        os.environ[var] = getpass.getpass(f\"{var}: \")\n",
    "\n",
    "_set_env(\"OPENAI_API_KEY\")\n",
    "_set_env(\"GOOGLE_API_KEY\")\n",
    "_set_env(\"TAVILY_API_KEY\")\n",
    "\n",
    "print(os.environ.get(\"OPENAI_API_KEY\")[:10])\n",
    "print(os.environ.get(\"GOOGLE_API_KEY\")[:10])\n",
    "print(os.environ.get(\"TAVILY_API_KEY\")[:10])"
   ]
  },
  {
   "cell_type": "code",
   "execution_count": 4,
   "id": "cccf7337-8d1a-4213-88f9-d3e101c67a7a",
   "metadata": {},
   "outputs": [],
   "source": [
    "\n",
    "import os\n",
    "from langchain.prompts import ChatPromptTemplate, PromptTemplate\n",
    "from typing import Annotated, TypedDict, Literal, Sequence\n",
    "from pydantic import BaseModel, Field\n",
    "from langgraph.graph import START, StateGraph, MessagesState, add_messages, END\n",
    "from langgraph.graph.message import add_messages\n",
    "from IPython.display import Image, display\n",
    "from langchain_tavily import TavilySearch\n",
    "from langchain_core.messages import BaseMessage, SystemMessage\n",
    "from langgraph.prebuilt import ToolNode, tools_condition\n",
    "from langchain.schema import HumanMessage\n",
    "from langchain.tools import Tool\n",
    "from langchain_core.tools import tool\n",
    "from langchain_core.messages import ToolMessage\n",
    "from langchain_core.tools import InjectedToolCallId, tool\n",
    "from langgraph.types import Command, interrupt\n",
    "from langchain_core.output_parsers import StrOutputParser\n"
   ]
  },
  {
   "cell_type": "code",
   "execution_count": null,
   "id": "a0f517aa-e9a0-4227-a127-2399fc81e6f4",
   "metadata": {},
   "outputs": [],
   "source": []
  },
  {
   "cell_type": "code",
   "execution_count": 5,
   "id": "0cdb393a-63f2-40df-aba6-4c2753e4fa29",
   "metadata": {},
   "outputs": [],
   "source": [
    "# from langchain_google_genai import GoogleGenerativeAIEmbeddings\n",
    "# from langchain_google_genai import ChatGoogleGenerativeAI\n",
    "\n",
    "# embeddings = GoogleGenerativeAIEmbeddings(model=\"models/embedding-001\")\n",
    "# llm = ChatGoogleGenerativeAI(model=\"gemini-2.0-flash\", \n",
    "#                              temperature=0)"
   ]
  },
  {
   "cell_type": "code",
   "execution_count": 6,
   "id": "dc37356d-765e-40b5-beb6-b7392c08986a",
   "metadata": {},
   "outputs": [],
   "source": [
    "from langchain_openai import ChatOpenAI\n",
    "from langchain_openai import OpenAIEmbeddings\n",
    "\n",
    "embeddings = OpenAIEmbeddings(\n",
    "    model=\"text-embedding-3-small\",  # 가격이 저렴\n",
    ")\n",
    "llm = ChatOpenAI(model_name=\"gpt-4o-mini\")"
   ]
  },
  {
   "cell_type": "markdown",
   "id": "5c649cce-fe10-4b52-989c-93cae2b090e7",
   "metadata": {},
   "source": [
    "## 도구 만들기"
   ]
  },
  {
   "cell_type": "markdown",
   "id": "d530e6c4-5000-45c3-be21-42c3607e23a0",
   "metadata": {},
   "source": [
    "LangGraph를 사용하는 이 다중 에이전트 시스템 은 7명의 전문 에이전트 로 구성되며 , 각 에이전트는 고유한 책임과 툴셋을 가지고 있습니다. 핵심적으로, 슈퍼바이저 에이전트는 쿼리 유형에 따라 가장 적합한 에이전트에게 작업을 동적으로 라우팅하여 전체 워크플로를 조율합니다.\n",
    "\n",
    "저희 에이전트 팀에 대한 개요는 다음과 같습니다.\n",
    "\n",
    "- **Supervisor Agent**는 중앙 조정자 역할을 합니다. 사용자 입력을 받아 적절한 전문 에이전트에게 작업을 위임합니다.\n",
    "- **Enhancer Agent**는 다른 에이전트에게 전달되기 전에 사용자의 쿼리를 세부화하거나 향상시킵니다(예: 명확성이나 맥락 추가).\n",
    "- **Validator Agent**는 사용자의 질문과 최종 응답을 모두 검증하여 정확성, 완전성, 안전성을 보장합니다.\n",
    "- **Researcher Agent**는 검색 엔진 도구(예: Tavily)를 사용하여 실시간 웹 조사를 수행하여 최신 정보를 검색합니다.\n",
    "- **PDF_RAG Agent**는 PDF 검색기를 사용하여 PDF 컬렉션에서 관련 콘텐츠를 검색하고 RAG(검색 증강 생성) 기술을 적용합니다.\n",
    "- **Movie_RAG Agent**는 CSV 기반 검색기를 사용하여 영화 데이터 세트와 관련된 질문에 답합니다.\n",
    "- **Math Expert Agent**는 Wolfram이나 LangChain의 내장된 수학 기능과 같은 계산 도구를 사용하여 수학 문제를 해결합니다."
   ]
  },
  {
   "cell_type": "markdown",
   "id": "f865b59d-4000-4c4d-8b91-9fdc623f3df7",
   "metadata": {},
   "source": [
    "## Research Agent Tool:"
   ]
  },
  {
   "cell_type": "code",
   "execution_count": 7,
   "id": "06b209ea-7994-43bc-a43c-ac8cf0c8fb53",
   "metadata": {},
   "outputs": [],
   "source": [
    "from langchain_tavily import TavilySearch\n",
    "\n",
    "web_search_tool = TavilySearch(max_results=2)"
   ]
  },
  {
   "cell_type": "markdown",
   "id": "5d9d28e7-a761-4521-89b7-84168d485671",
   "metadata": {},
   "source": [
    "## PDF Agnet Tool"
   ]
  },
  {
   "cell_type": "code",
   "execution_count": 8,
   "id": "a1fdf686-2c94-4113-a166-7faa7f48e5d9",
   "metadata": {},
   "outputs": [
    {
     "name": "stdout",
     "output_type": "stream",
     "text": [
      "28 documents loaded\n"
     ]
    }
   ],
   "source": [
    "from langchain_community.document_loaders import PyPDFLoader, CSVLoader\n",
    "from langchain.text_splitter import RecursiveCharacterTextSplitter\n",
    "\n",
    "def load_pdf_documents(file_path):\n",
    "  documents = []\n",
    "  for file in os.listdir(file_path):\n",
    "    if file.endswith(\".pdf\"):\n",
    "      loader = PyPDFLoader(os.path.join(file_path, file))\n",
    "      documents.extend(loader.load())\n",
    "  return documents\n",
    "\n",
    "# upload and create documents\n",
    "documents = load_pdf_documents(\"./docs\")\n",
    "print(f\"{len(documents)} documents loaded\")"
   ]
  },
  {
   "cell_type": "code",
   "execution_count": 9,
   "id": "82173d53-aea9-4be7-8744-3023d925a450",
   "metadata": {},
   "outputs": [
    {
     "name": "stdout",
     "output_type": "stream",
     "text": [
      "Split the documents into 71 chunks.\n"
     ]
    }
   ],
   "source": [
    "text_splitter = RecursiveCharacterTextSplitter(\n",
    "     chunk_size=1000,\n",
    "     chunk_overlap=200,\n",
    "     length_function=len\n",
    " )\n",
    "\n",
    "splits = text_splitter.split_documents(documents)\n",
    "print(f\"Split the documents into {len(splits)} chunks.\")"
   ]
  },
  {
   "cell_type": "code",
   "execution_count": null,
   "id": "e0fb628d-da9d-4582-a3bb-181b2d8c26e1",
   "metadata": {},
   "outputs": [],
   "source": [
    " from langchain_chroma import Chroma\n",
    "\n",
    " collection_name = \"my_collection\"\n",
    " vectorstore = Chroma.from_documents(\n",
    "     collection_name=collection_name,\n",
    "     documents=splits,\n",
    "     embedding=embeddings,\n",
    "     persist_directory=\"./chroma_db\"\n",
    " )\n"
   ]
  },
  {
   "cell_type": "code",
   "execution_count": null,
   "id": "b248b40f-6d45-4065-9f28-dda082b2907e",
   "metadata": {},
   "outputs": [],
   "source": []
  },
  {
   "cell_type": "code",
   "execution_count": null,
   "id": "f93f7b7c-ba31-4f16-8082-1ff52a2a9a28",
   "metadata": {},
   "outputs": [],
   "source": []
  },
  {
   "cell_type": "code",
   "execution_count": null,
   "id": "8daf171f-cf6c-4f8e-bbc9-ff0ce8653502",
   "metadata": {},
   "outputs": [],
   "source": []
  },
  {
   "cell_type": "code",
   "execution_count": null,
   "id": "52a61200-2495-4aa6-a99b-4a1209c27b89",
   "metadata": {},
   "outputs": [],
   "source": []
  },
  {
   "cell_type": "code",
   "execution_count": null,
   "id": "f7e7e731-e23b-4288-af85-052ebcfaf09c",
   "metadata": {},
   "outputs": [],
   "source": []
  },
  {
   "cell_type": "code",
   "execution_count": null,
   "id": "7c624524-99dc-4161-8330-22ce1cecde8b",
   "metadata": {},
   "outputs": [],
   "source": []
  },
  {
   "cell_type": "code",
   "execution_count": null,
   "id": "ac42beb6-3bae-4049-af89-c8481978ee93",
   "metadata": {},
   "outputs": [],
   "source": []
  },
  {
   "cell_type": "code",
   "execution_count": null,
   "id": "e9c5d614-d4ea-4501-901e-5c155fcbacd9",
   "metadata": {},
   "outputs": [],
   "source": []
  },
  {
   "cell_type": "code",
   "execution_count": null,
   "id": "d5eb9ae5-c8d0-47ca-a7b9-655eb956a292",
   "metadata": {},
   "outputs": [],
   "source": []
  },
  {
   "cell_type": "code",
   "execution_count": null,
   "id": "7a5f51d3-189b-436a-8533-baad0d977636",
   "metadata": {},
   "outputs": [],
   "source": []
  },
  {
   "cell_type": "code",
   "execution_count": null,
   "id": "697c21e3-42e7-4142-aebc-214c23a7170f",
   "metadata": {},
   "outputs": [],
   "source": []
  }
 ],
 "metadata": {
  "kernelspec": {
   "display_name": "Python 3 (ipykernel)",
   "language": "python",
   "name": "python3"
  },
  "language_info": {
   "codemirror_mode": {
    "name": "ipython",
    "version": 3
   },
   "file_extension": ".py",
   "mimetype": "text/x-python",
   "name": "python",
   "nbconvert_exporter": "python",
   "pygments_lexer": "ipython3",
   "version": "3.12.4"
  }
 },
 "nbformat": 4,
 "nbformat_minor": 5
}
