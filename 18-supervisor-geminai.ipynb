{
 "cells": [
  {
   "cell_type": "markdown",
   "id": "c5ddc178-bc6d-47cb-96c2-01f30a375a32",
   "metadata": {},
   "source": [
    "# 슈퍼바이저 멀티 에이전트 \n",
    "- 구글 제미나이 사용\n",
    "https://medium.com/@dharamai2024/build-a-multi-agent-system-with-langgraph-5b938e0104b5\n",
    "\n",
    "Gemini API키는 다음 사이트에서 [Google AI 스튜디오](https://aistudio.google.com/app/apikey?hl=ko) 등록합니다."
   ]
  },
  {
   "cell_type": "markdown",
   "id": "fad0d06d-e53a-4620-abb9-65f66f04ecc0",
   "metadata": {},
   "source": [
    "<img src=\"https://miro.medium.com/v2/resize:fit:786/format:webp/1*MLHRiyXv7py7vT--wupJeA.png\" />"
   ]
  },
  {
   "cell_type": "markdown",
   "id": "e0957b7e-d85b-493b-8f66-df7397782140",
   "metadata": {},
   "source": [
    "## 환경 설정"
   ]
  },
  {
   "cell_type": "code",
   "execution_count": 1,
   "id": "1472b295-df94-4df4-b377-75bc984b9818",
   "metadata": {},
   "outputs": [
    {
     "name": "stdout",
     "output_type": "stream",
     "text": [
      "Python 3.13.4\n"
     ]
    }
   ],
   "source": [
    "!python --version"
   ]
  },
  {
   "cell_type": "code",
   "execution_count": 2,
   "id": "59d2b38e-99eb-4495-90da-23bfedd1ede7",
   "metadata": {},
   "outputs": [
    {
     "name": "stdout",
     "output_type": "stream",
     "text": [
      "Note: you may need to restart the kernel to use updated packages.\n"
     ]
    }
   ],
   "source": [
    "%pip install -qU python-dotenv langchain pypdf langchain-community langgraph langchain-tavily langchain-google-genai langchain-openai"
   ]
  },
  {
   "cell_type": "code",
   "execution_count": 3,
   "id": "2e823a02-9e76-4d9f-a451-5f0a6766eb6b",
   "metadata": {},
   "outputs": [
    {
     "name": "stdout",
     "output_type": "stream",
     "text": [
      "sk-proj-8x\n",
      "AIzaSyB_bx\n",
      "tvly-dev-G\n"
     ]
    }
   ],
   "source": [
    "# 환경 변수 확인\n",
    "from dotenv import load_dotenv\n",
    "import os\n",
    "load_dotenv(override=True)\n",
    "\n",
    "def _set_env(var: str):\n",
    "    if not os.environ.get(var):\n",
    "        os.environ[var] = getpass.getpass(f\"{var}: \")\n",
    "\n",
    "_set_env(\"OPENAI_API_KEY\")\n",
    "_set_env(\"GOOGLE_API_KEY\")\n",
    "_set_env(\"TAVILY_API_KEY\")\n",
    "\n",
    "print(os.environ.get(\"OPENAI_API_KEY\")[:10])\n",
    "print(os.environ.get(\"GOOGLE_API_KEY\")[:10])\n",
    "print(os.environ.get(\"TAVILY_API_KEY\")[:10])"
   ]
  },
  {
   "cell_type": "code",
   "execution_count": 4,
   "id": "cccf7337-8d1a-4213-88f9-d3e101c67a7a",
   "metadata": {},
   "outputs": [],
   "source": [
    "\n",
    "import os\n",
    "from langchain.prompts import ChatPromptTemplate, PromptTemplate\n",
    "from typing import Annotated, TypedDict, Literal, Sequence\n",
    "from pydantic import BaseModel, Field\n",
    "from langgraph.graph import START, StateGraph, MessagesState, add_messages, END\n",
    "from langgraph.graph.message import add_messages\n",
    "from IPython.display import Image, display\n",
    "from langchain_tavily import TavilySearch\n",
    "from langchain_core.messages import BaseMessage, SystemMessage\n",
    "from langgraph.prebuilt import ToolNode, tools_condition\n",
    "from langchain.schema import HumanMessage\n",
    "from langchain.tools import Tool\n",
    "from langchain_core.tools import tool\n",
    "from langchain_core.messages import ToolMessage\n",
    "from langchain_core.tools import InjectedToolCallId, tool\n",
    "from langgraph.types import Command, interrupt\n",
    "from langchain_core.output_parsers import StrOutputParser\n"
   ]
  },
  {
   "cell_type": "code",
   "execution_count": null,
   "id": "a0f517aa-e9a0-4227-a127-2399fc81e6f4",
   "metadata": {},
   "outputs": [],
   "source": []
  },
  {
   "cell_type": "code",
   "execution_count": 5,
   "id": "0cdb393a-63f2-40df-aba6-4c2753e4fa29",
   "metadata": {},
   "outputs": [],
   "source": [
    "# from langchain_google_genai import GoogleGenerativeAIEmbeddings\n",
    "# from langchain_google_genai import ChatGoogleGenerativeAI\n",
    "\n",
    "# embeddings = GoogleGenerativeAIEmbeddings(model=\"models/embedding-001\")\n",
    "# llm = ChatGoogleGenerativeAI(model=\"gemini-2.0-flash\", \n",
    "#                              temperature=0)"
   ]
  },
  {
   "cell_type": "code",
   "execution_count": 6,
   "id": "dc37356d-765e-40b5-beb6-b7392c08986a",
   "metadata": {},
   "outputs": [],
   "source": [
    "from langchain_openai import ChatOpenAI\n",
    "from langchain_openai import OpenAIEmbeddings\n",
    "\n",
    "embeddings = OpenAIEmbeddings(\n",
    "    model=\"text-embedding-3-small\",  # 가격이 저렴\n",
    ")\n",
    "llm = ChatOpenAI(model_name=\"gpt-4o-mini\")"
   ]
  },
  {
   "cell_type": "markdown",
   "id": "5c649cce-fe10-4b52-989c-93cae2b090e7",
   "metadata": {},
   "source": [
    "## 도구 만들기"
   ]
  },
  {
   "cell_type": "markdown",
   "id": "d530e6c4-5000-45c3-be21-42c3607e23a0",
   "metadata": {},
   "source": [
    "LangGraph를 사용하는 이 다중 에이전트 시스템 은 7명의 전문 에이전트 로 구성되며 , 각 에이전트는 고유한 책임과 툴셋을 가지고 있습니다. 핵심적으로, 슈퍼바이저 에이전트는 쿼리 유형에 따라 가장 적합한 에이전트에게 작업을 동적으로 라우팅하여 전체 워크플로를 조율합니다.\n",
    "\n",
    "저희 에이전트 팀에 대한 개요는 다음과 같습니다.\n",
    "\n",
    "- **Supervisor Agent**는 중앙 조정자 역할을 합니다. 사용자 입력을 받아 적절한 전문 에이전트에게 작업을 위임합니다.\n",
    "- **Enhancer Agent**는 다른 에이전트에게 전달되기 전에 사용자의 쿼리를 세부화하거나 향상시킵니다(예: 명확성이나 맥락 추가).\n",
    "- **Validator Agent**는 사용자의 질문과 최종 응답을 모두 검증하여 정확성, 완전성, 안전성을 보장합니다.\n",
    "- **Researcher Agent**는 검색 엔진 도구(예: Tavily)를 사용하여 실시간 웹 조사를 수행하여 최신 정보를 검색합니다.\n",
    "- **PDF_RAG Agent**는 PDF 검색기를 사용하여 PDF 컬렉션에서 관련 콘텐츠를 검색하고 RAG(검색 증강 생성) 기술을 적용합니다.\n",
    "- **Movie_RAG Agent**는 CSV 기반 검색기를 사용하여 영화 데이터 세트와 관련된 질문에 답합니다.\n",
    "- **Math Expert Agent**는 Wolfram이나 LangChain의 내장된 수학 기능과 같은 계산 도구를 사용하여 수학 문제를 해결합니다."
   ]
  },
  {
   "cell_type": "markdown",
   "id": "f865b59d-4000-4c4d-8b91-9fdc623f3df7",
   "metadata": {},
   "source": [
    "## Research Agent Tool:"
   ]
  },
  {
   "cell_type": "code",
   "execution_count": 7,
   "id": "06b209ea-7994-43bc-a43c-ac8cf0c8fb53",
   "metadata": {},
   "outputs": [],
   "source": [
    "from langchain_tavily import TavilySearch\n",
    "\n",
    "web_search_tool = TavilySearch(max_results=2)"
   ]
  },
  {
   "cell_type": "markdown",
   "id": "5d9d28e7-a761-4521-89b7-84168d485671",
   "metadata": {},
   "source": [
    "## PDF Agnet Tool"
   ]
  },
  {
   "cell_type": "code",
   "execution_count": 8,
   "id": "a1fdf686-2c94-4113-a166-7faa7f48e5d9",
   "metadata": {},
   "outputs": [
    {
     "name": "stdout",
     "output_type": "stream",
     "text": [
      "28 documents loaded\n"
     ]
    }
   ],
   "source": [
    "from langchain_community.document_loaders import PyPDFLoader, CSVLoader\n",
    "from langchain.text_splitter import RecursiveCharacterTextSplitter\n",
    "\n",
    "def load_pdf_documents(file_path):\n",
    "  documents = []\n",
    "  for file in os.listdir(file_path):\n",
    "    if file.endswith(\".pdf\"):\n",
    "      loader = PyPDFLoader(os.path.join(file_path, file))\n",
    "      documents.extend(loader.load())\n",
    "  return documents\n",
    "\n",
    "# upload and create documents\n",
    "documents = load_pdf_documents(\"./docs\")\n",
    "print(f\"{len(documents)} documents loaded\")"
   ]
  },
  {
   "cell_type": "code",
   "execution_count": 9,
   "id": "82173d53-aea9-4be7-8744-3023d925a450",
   "metadata": {},
   "outputs": [
    {
     "name": "stdout",
     "output_type": "stream",
     "text": [
      "Split the documents into 71 chunks.\n"
     ]
    }
   ],
   "source": [
    "text_splitter = RecursiveCharacterTextSplitter(\n",
    "     chunk_size=1000,\n",
    "     chunk_overlap=200,\n",
    "     length_function=len\n",
    " )\n",
    "\n",
    "splits = text_splitter.split_documents(documents)\n",
    "print(f\"Split the documents into {len(splits)} chunks.\")"
   ]
  },
  {
   "cell_type": "code",
   "execution_count": 10,
   "id": "b70aae57",
   "metadata": {},
   "outputs": [],
   "source": [
    "!pip install -qU \"langchain-chroma>=0.1.2\""
   ]
  },
  {
   "cell_type": "code",
   "execution_count": 28,
   "id": "e0fb628d-da9d-4582-a3bb-181b2d8c26e1",
   "metadata": {},
   "outputs": [
    {
     "ename": "TypeError",
     "evalue": "Descriptors cannot be created directly.\nIf this call came from a _pb2.py file, your generated code is out of date and must be regenerated with protoc >= 3.19.0.\nIf you cannot immediately regenerate your protos, some other possible workarounds are:\n 1. Downgrade the protobuf package to 3.20.x or lower.\n 2. Set PROTOCOL_BUFFERS_PYTHON_IMPLEMENTATION=python (but this will use pure-Python parsing and will be much slower).\n\nMore information: https://developers.google.com/protocol-buffers/docs/news/2022-05-06#python-updates",
     "output_type": "error",
     "traceback": [
      "\u001b[31m---------------------------------------------------------------------------\u001b[39m",
      "\u001b[31mTypeError\u001b[39m                                 Traceback (most recent call last)",
      "\u001b[36mCell\u001b[39m\u001b[36m \u001b[39m\u001b[32mIn[28]\u001b[39m\u001b[32m, line 1\u001b[39m\n\u001b[32m----> \u001b[39m\u001b[32m1\u001b[39m \u001b[38;5;28;01mfrom\u001b[39;00m\u001b[38;5;250m \u001b[39m\u001b[34;01mlangchain_chroma\u001b[39;00m\u001b[38;5;250m \u001b[39m\u001b[38;5;28;01mimport\u001b[39;00m Chroma\n\u001b[32m      3\u001b[39m collection_name = \u001b[33m\"\u001b[39m\u001b[33mmy_collection\u001b[39m\u001b[33m\"\u001b[39m\n\u001b[32m      4\u001b[39m vectorstore = Chroma.from_documents(\n\u001b[32m      5\u001b[39m     collection_name=collection_name,\n\u001b[32m      6\u001b[39m     documents=splits,\n\u001b[32m      7\u001b[39m     embedding=embeddings\n\u001b[32m      8\u001b[39m )\n",
      "\u001b[36mFile \u001b[39m\u001b[32md:\\ws\\2025-ksci-agent\\.venv\\Lib\\site-packages\\langchain_chroma\\__init__.py:6\u001b[39m\n\u001b[32m      1\u001b[39m \u001b[33;03m\"\"\"This is the langchain_chroma package.\u001b[39;00m\n\u001b[32m      2\u001b[39m \n\u001b[32m      3\u001b[39m \u001b[33;03mIt contains the Chroma class for handling various tasks.\u001b[39;00m\n\u001b[32m      4\u001b[39m \u001b[33;03m\"\"\"\u001b[39;00m\n\u001b[32m----> \u001b[39m\u001b[32m6\u001b[39m \u001b[38;5;28;01mfrom\u001b[39;00m\u001b[38;5;250m \u001b[39m\u001b[34;01mlangchain_chroma\u001b[39;00m\u001b[34;01m.\u001b[39;00m\u001b[34;01mvectorstores\u001b[39;00m\u001b[38;5;250m \u001b[39m\u001b[38;5;28;01mimport\u001b[39;00m Chroma\n\u001b[32m      8\u001b[39m __all__ = [\n\u001b[32m      9\u001b[39m     \u001b[33m\"\u001b[39m\u001b[33mChroma\u001b[39m\u001b[33m\"\u001b[39m,\n\u001b[32m     10\u001b[39m ]\n",
      "\u001b[36mFile \u001b[39m\u001b[32md:\\ws\\2025-ksci-agent\\.venv\\Lib\\site-packages\\langchain_chroma\\vectorstores.py:20\u001b[39m\n\u001b[32m     11\u001b[39m \u001b[38;5;28;01mfrom\u001b[39;00m\u001b[38;5;250m \u001b[39m\u001b[34;01mcollections\u001b[39;00m\u001b[34;01m.\u001b[39;00m\u001b[34;01mabc\u001b[39;00m\u001b[38;5;250m \u001b[39m\u001b[38;5;28;01mimport\u001b[39;00m Iterable, Sequence\n\u001b[32m     12\u001b[39m \u001b[38;5;28;01mfrom\u001b[39;00m\u001b[38;5;250m \u001b[39m\u001b[34;01mtyping\u001b[39;00m\u001b[38;5;250m \u001b[39m\u001b[38;5;28;01mimport\u001b[39;00m (\n\u001b[32m     13\u001b[39m     TYPE_CHECKING,\n\u001b[32m     14\u001b[39m     Any,\n\u001b[32m   (...)\u001b[39m\u001b[32m     17\u001b[39m     Union,\n\u001b[32m     18\u001b[39m )\n\u001b[32m---> \u001b[39m\u001b[32m20\u001b[39m \u001b[38;5;28;01mimport\u001b[39;00m\u001b[38;5;250m \u001b[39m\u001b[34;01mchromadb\u001b[39;00m\n\u001b[32m     21\u001b[39m \u001b[38;5;28;01mimport\u001b[39;00m\u001b[38;5;250m \u001b[39m\u001b[34;01mchromadb\u001b[39;00m\u001b[34;01m.\u001b[39;00m\u001b[34;01mconfig\u001b[39;00m\n\u001b[32m     22\u001b[39m \u001b[38;5;28;01mimport\u001b[39;00m\u001b[38;5;250m \u001b[39m\u001b[34;01mnumpy\u001b[39;00m\u001b[38;5;250m \u001b[39m\u001b[38;5;28;01mas\u001b[39;00m\u001b[38;5;250m \u001b[39m\u001b[34;01mnp\u001b[39;00m\n",
      "\u001b[36mFile \u001b[39m\u001b[32md:\\ws\\2025-ksci-agent\\.venv\\Lib\\site-packages\\chromadb\\__init__.py:6\u001b[39m\n\u001b[32m      4\u001b[39m \u001b[38;5;28;01mfrom\u001b[39;00m\u001b[38;5;250m \u001b[39m\u001b[34;01mchromadb\u001b[39;00m\u001b[34;01m.\u001b[39;00m\u001b[34;01mapi\u001b[39;00m\u001b[34;01m.\u001b[39;00m\u001b[34;01mclient\u001b[39;00m\u001b[38;5;250m \u001b[39m\u001b[38;5;28;01mimport\u001b[39;00m AdminClient \u001b[38;5;28;01mas\u001b[39;00m AdminClientCreator\n\u001b[32m      5\u001b[39m \u001b[38;5;28;01mfrom\u001b[39;00m\u001b[38;5;250m \u001b[39m\u001b[34;01mchromadb\u001b[39;00m\u001b[34;01m.\u001b[39;00m\u001b[34;01mapi\u001b[39;00m\u001b[34;01m.\u001b[39;00m\u001b[34;01masync_client\u001b[39;00m\u001b[38;5;250m \u001b[39m\u001b[38;5;28;01mimport\u001b[39;00m AsyncClient \u001b[38;5;28;01mas\u001b[39;00m AsyncClientCreator\n\u001b[32m----> \u001b[39m\u001b[32m6\u001b[39m \u001b[38;5;28;01mfrom\u001b[39;00m\u001b[38;5;250m \u001b[39m\u001b[34;01mchromadb\u001b[39;00m\u001b[34;01m.\u001b[39;00m\u001b[34;01mauth\u001b[39;00m\u001b[34;01m.\u001b[39;00m\u001b[34;01mtoken_authn\u001b[39;00m\u001b[38;5;250m \u001b[39m\u001b[38;5;28;01mimport\u001b[39;00m TokenTransportHeader\n\u001b[32m      7\u001b[39m \u001b[38;5;28;01mimport\u001b[39;00m\u001b[38;5;250m \u001b[39m\u001b[34;01mchromadb\u001b[39;00m\u001b[34;01m.\u001b[39;00m\u001b[34;01mconfig\u001b[39;00m\n\u001b[32m      8\u001b[39m \u001b[38;5;28;01mfrom\u001b[39;00m\u001b[38;5;250m \u001b[39m\u001b[34;01mchromadb\u001b[39;00m\u001b[34;01m.\u001b[39;00m\u001b[34;01mconfig\u001b[39;00m\u001b[38;5;250m \u001b[39m\u001b[38;5;28;01mimport\u001b[39;00m DEFAULT_DATABASE, DEFAULT_TENANT, Settings\n",
      "\u001b[36mFile \u001b[39m\u001b[32md:\\ws\\2025-ksci-agent\\.venv\\Lib\\site-packages\\chromadb\\auth\\token_authn\\__init__.py:24\u001b[39m\n\u001b[32m     22\u001b[39m \u001b[38;5;28;01mfrom\u001b[39;00m\u001b[38;5;250m \u001b[39m\u001b[34;01mchromadb\u001b[39;00m\u001b[34;01m.\u001b[39;00m\u001b[34;01mconfig\u001b[39;00m\u001b[38;5;250m \u001b[39m\u001b[38;5;28;01mimport\u001b[39;00m System\n\u001b[32m     23\u001b[39m \u001b[38;5;28;01mfrom\u001b[39;00m\u001b[38;5;250m \u001b[39m\u001b[34;01mchromadb\u001b[39;00m\u001b[34;01m.\u001b[39;00m\u001b[34;01merrors\u001b[39;00m\u001b[38;5;250m \u001b[39m\u001b[38;5;28;01mimport\u001b[39;00m ChromaAuthError\n\u001b[32m---> \u001b[39m\u001b[32m24\u001b[39m \u001b[38;5;28;01mfrom\u001b[39;00m\u001b[38;5;250m \u001b[39m\u001b[34;01mchromadb\u001b[39;00m\u001b[34;01m.\u001b[39;00m\u001b[34;01mtelemetry\u001b[39;00m\u001b[34;01m.\u001b[39;00m\u001b[34;01mopentelemetry\u001b[39;00m\u001b[38;5;250m \u001b[39m\u001b[38;5;28;01mimport\u001b[39;00m (\n\u001b[32m     25\u001b[39m     OpenTelemetryGranularity,\n\u001b[32m     26\u001b[39m     trace_method,\n\u001b[32m     27\u001b[39m )\n\u001b[32m     29\u001b[39m T = TypeVar(\u001b[33m\"\u001b[39m\u001b[33mT\u001b[39m\u001b[33m\"\u001b[39m)\n\u001b[32m     31\u001b[39m logger = logging.getLogger(\u001b[34m__name__\u001b[39m)\n",
      "\u001b[36mFile \u001b[39m\u001b[32md:\\ws\\2025-ksci-agent\\.venv\\Lib\\site-packages\\chromadb\\telemetry\\opentelemetry\\__init__.py:13\u001b[39m\n\u001b[32m      9\u001b[39m \u001b[38;5;28;01mfrom\u001b[39;00m\u001b[38;5;250m \u001b[39m\u001b[34;01mopentelemetry\u001b[39;00m\u001b[34;01m.\u001b[39;00m\u001b[34;01msdk\u001b[39;00m\u001b[34;01m.\u001b[39;00m\u001b[34;01mtrace\u001b[39;00m\u001b[38;5;250m \u001b[39m\u001b[38;5;28;01mimport\u001b[39;00m TracerProvider\n\u001b[32m     10\u001b[39m \u001b[38;5;28;01mfrom\u001b[39;00m\u001b[38;5;250m \u001b[39m\u001b[34;01mopentelemetry\u001b[39;00m\u001b[34;01m.\u001b[39;00m\u001b[34;01msdk\u001b[39;00m\u001b[34;01m.\u001b[39;00m\u001b[34;01mtrace\u001b[39;00m\u001b[34;01m.\u001b[39;00m\u001b[34;01mexport\u001b[39;00m\u001b[38;5;250m \u001b[39m\u001b[38;5;28;01mimport\u001b[39;00m (\n\u001b[32m     11\u001b[39m     BatchSpanProcessor,\n\u001b[32m     12\u001b[39m )\n\u001b[32m---> \u001b[39m\u001b[32m13\u001b[39m \u001b[38;5;28;01mfrom\u001b[39;00m\u001b[38;5;250m \u001b[39m\u001b[34;01mopentelemetry\u001b[39;00m\u001b[34;01m.\u001b[39;00m\u001b[34;01mexporter\u001b[39;00m\u001b[34;01m.\u001b[39;00m\u001b[34;01motlp\u001b[39;00m\u001b[34;01m.\u001b[39;00m\u001b[34;01mproto\u001b[39;00m\u001b[34;01m.\u001b[39;00m\u001b[34;01mgrpc\u001b[39;00m\u001b[34;01m.\u001b[39;00m\u001b[34;01mtrace_exporter\u001b[39;00m\u001b[38;5;250m \u001b[39m\u001b[38;5;28;01mimport\u001b[39;00m OTLPSpanExporter\n\u001b[32m     15\u001b[39m \u001b[38;5;28;01mfrom\u001b[39;00m\u001b[38;5;250m \u001b[39m\u001b[34;01mchromadb\u001b[39;00m\u001b[34;01m.\u001b[39;00m\u001b[34;01mconfig\u001b[39;00m\u001b[38;5;250m \u001b[39m\u001b[38;5;28;01mimport\u001b[39;00m Component\n\u001b[32m     16\u001b[39m \u001b[38;5;28;01mfrom\u001b[39;00m\u001b[38;5;250m \u001b[39m\u001b[34;01mchromadb\u001b[39;00m\u001b[34;01m.\u001b[39;00m\u001b[34;01mconfig\u001b[39;00m\u001b[38;5;250m \u001b[39m\u001b[38;5;28;01mimport\u001b[39;00m System\n",
      "\u001b[36mFile \u001b[39m\u001b[32md:\\ws\\2025-ksci-agent\\.venv\\Lib\\site-packages\\opentelemetry\\exporter\\otlp\\proto\\grpc\\trace_exporter\\__init__.py:22\u001b[39m\n\u001b[32m     18\u001b[39m \u001b[38;5;28;01mfrom\u001b[39;00m\u001b[38;5;250m \u001b[39m\u001b[34;01mtyping\u001b[39;00m\u001b[38;5;250m \u001b[39m\u001b[38;5;28;01mimport\u001b[39;00m Optional, Sequence\n\u001b[32m     20\u001b[39m \u001b[38;5;28;01mfrom\u001b[39;00m\u001b[38;5;250m \u001b[39m\u001b[34;01mgrpc\u001b[39;00m\u001b[38;5;250m \u001b[39m\u001b[38;5;28;01mimport\u001b[39;00m ChannelCredentials, Compression\n\u001b[32m---> \u001b[39m\u001b[32m22\u001b[39m \u001b[38;5;28;01mfrom\u001b[39;00m\u001b[38;5;250m \u001b[39m\u001b[34;01mopentelemetry\u001b[39;00m\u001b[34;01m.\u001b[39;00m\u001b[34;01mexporter\u001b[39;00m\u001b[34;01m.\u001b[39;00m\u001b[34;01motlp\u001b[39;00m\u001b[34;01m.\u001b[39;00m\u001b[34;01mproto\u001b[39;00m\u001b[34;01m.\u001b[39;00m\u001b[34;01mgrpc\u001b[39;00m\u001b[34;01m.\u001b[39;00m\u001b[34;01mexporter\u001b[39;00m\u001b[38;5;250m \u001b[39m\u001b[38;5;28;01mimport\u001b[39;00m (\n\u001b[32m     23\u001b[39m     OTLPExporterMixin,\n\u001b[32m     24\u001b[39m     _get_credentials,\n\u001b[32m     25\u001b[39m     _translate_key_values,\n\u001b[32m     26\u001b[39m     environ_to_compression,\n\u001b[32m     27\u001b[39m     get_resource_data,\n\u001b[32m     28\u001b[39m )\n\u001b[32m     29\u001b[39m \u001b[38;5;28;01mfrom\u001b[39;00m\u001b[38;5;250m \u001b[39m\u001b[34;01mopentelemetry\u001b[39;00m\u001b[34;01m.\u001b[39;00m\u001b[34;01mproto\u001b[39;00m\u001b[34;01m.\u001b[39;00m\u001b[34;01mcollector\u001b[39;00m\u001b[34;01m.\u001b[39;00m\u001b[34;01mtrace\u001b[39;00m\u001b[34;01m.\u001b[39;00m\u001b[34;01mv1\u001b[39;00m\u001b[34;01m.\u001b[39;00m\u001b[34;01mtrace_service_pb2\u001b[39;00m\u001b[38;5;250m \u001b[39m\u001b[38;5;28;01mimport\u001b[39;00m (\n\u001b[32m     30\u001b[39m     ExportTraceServiceRequest,\n\u001b[32m     31\u001b[39m )\n\u001b[32m     32\u001b[39m \u001b[38;5;28;01mfrom\u001b[39;00m\u001b[38;5;250m \u001b[39m\u001b[34;01mopentelemetry\u001b[39;00m\u001b[34;01m.\u001b[39;00m\u001b[34;01mproto\u001b[39;00m\u001b[34;01m.\u001b[39;00m\u001b[34;01mcollector\u001b[39;00m\u001b[34;01m.\u001b[39;00m\u001b[34;01mtrace\u001b[39;00m\u001b[34;01m.\u001b[39;00m\u001b[34;01mv1\u001b[39;00m\u001b[34;01m.\u001b[39;00m\u001b[34;01mtrace_service_pb2_grpc\u001b[39;00m\u001b[38;5;250m \u001b[39m\u001b[38;5;28;01mimport\u001b[39;00m (\n\u001b[32m     33\u001b[39m     TraceServiceStub,\n\u001b[32m     34\u001b[39m )\n",
      "\u001b[36mFile \u001b[39m\u001b[32md:\\ws\\2025-ksci-agent\\.venv\\Lib\\site-packages\\opentelemetry\\exporter\\otlp\\proto\\grpc\\exporter.py:39\u001b[39m\n\u001b[32m     28\u001b[39m \u001b[38;5;28;01mfrom\u001b[39;00m\u001b[38;5;250m \u001b[39m\u001b[34;01mgoogle\u001b[39;00m\u001b[34;01m.\u001b[39;00m\u001b[34;01mrpc\u001b[39;00m\u001b[34;01m.\u001b[39;00m\u001b[34;01merror_details_pb2\u001b[39;00m\u001b[38;5;250m \u001b[39m\u001b[38;5;28;01mimport\u001b[39;00m RetryInfo\n\u001b[32m     29\u001b[39m \u001b[38;5;28;01mfrom\u001b[39;00m\u001b[38;5;250m \u001b[39m\u001b[34;01mgrpc\u001b[39;00m\u001b[38;5;250m \u001b[39m\u001b[38;5;28;01mimport\u001b[39;00m (\n\u001b[32m     30\u001b[39m     ChannelCredentials,\n\u001b[32m     31\u001b[39m     Compression,\n\u001b[32m   (...)\u001b[39m\u001b[32m     36\u001b[39m     ssl_channel_credentials,\n\u001b[32m     37\u001b[39m )\n\u001b[32m---> \u001b[39m\u001b[32m39\u001b[39m \u001b[38;5;28;01mfrom\u001b[39;00m\u001b[38;5;250m \u001b[39m\u001b[34;01mopentelemetry\u001b[39;00m\u001b[34;01m.\u001b[39;00m\u001b[34;01mproto\u001b[39;00m\u001b[34;01m.\u001b[39;00m\u001b[34;01mcommon\u001b[39;00m\u001b[34;01m.\u001b[39;00m\u001b[34;01mv1\u001b[39;00m\u001b[34;01m.\u001b[39;00m\u001b[34;01mcommon_pb2\u001b[39;00m\u001b[38;5;250m \u001b[39m\u001b[38;5;28;01mimport\u001b[39;00m (\n\u001b[32m     40\u001b[39m     AnyValue,\n\u001b[32m     41\u001b[39m     ArrayValue,\n\u001b[32m     42\u001b[39m     KeyValue,\n\u001b[32m     43\u001b[39m )\n\u001b[32m     44\u001b[39m \u001b[38;5;28;01mfrom\u001b[39;00m\u001b[38;5;250m \u001b[39m\u001b[34;01mopentelemetry\u001b[39;00m\u001b[34;01m.\u001b[39;00m\u001b[34;01mproto\u001b[39;00m\u001b[34;01m.\u001b[39;00m\u001b[34;01mresource\u001b[39;00m\u001b[34;01m.\u001b[39;00m\u001b[34;01mv1\u001b[39;00m\u001b[34;01m.\u001b[39;00m\u001b[34;01mresource_pb2\u001b[39;00m\u001b[38;5;250m \u001b[39m\u001b[38;5;28;01mimport\u001b[39;00m Resource\n\u001b[32m     45\u001b[39m \u001b[38;5;28;01mfrom\u001b[39;00m\u001b[38;5;250m \u001b[39m\u001b[34;01mopentelemetry\u001b[39;00m\u001b[34;01m.\u001b[39;00m\u001b[34;01msdk\u001b[39;00m\u001b[34;01m.\u001b[39;00m\u001b[34;01menvironment_variables\u001b[39;00m\u001b[38;5;250m \u001b[39m\u001b[38;5;28;01mimport\u001b[39;00m (\n\u001b[32m     46\u001b[39m     OTEL_EXPORTER_OTLP_CERTIFICATE,\n\u001b[32m     47\u001b[39m     OTEL_EXPORTER_OTLP_COMPRESSION,\n\u001b[32m   (...)\u001b[39m\u001b[32m     51\u001b[39m     OTEL_EXPORTER_OTLP_TIMEOUT,\n\u001b[32m     52\u001b[39m )\n",
      "\u001b[36mFile \u001b[39m\u001b[32md:\\ws\\2025-ksci-agent\\.venv\\Lib\\site-packages\\opentelemetry\\proto\\common\\v1\\common_pb2.py:36\u001b[39m\n\u001b[32m     11\u001b[39m _sym_db = _symbol_database.Default()\n\u001b[32m     16\u001b[39m DESCRIPTOR = _descriptor.FileDescriptor(\n\u001b[32m     17\u001b[39m   name=\u001b[33m'\u001b[39m\u001b[33mopentelemetry/proto/common/v1/common.proto\u001b[39m\u001b[33m'\u001b[39m,\n\u001b[32m     18\u001b[39m   package=\u001b[33m'\u001b[39m\u001b[33mopentelemetry.proto.common.v1\u001b[39m\u001b[33m'\u001b[39m,\n\u001b[32m   (...)\u001b[39m\u001b[32m     22\u001b[39m   serialized_pb=\u001b[33mb\u001b[39m\u001b[33m'\u001b[39m\u001b[38;5;130;01m\\n\u001b[39;00m\u001b[33m*opentelemetry/proto/common/v1/common.proto\u001b[39m\u001b[38;5;130;01m\\x12\u001b[39;00m\u001b[38;5;130;01m\\x1d\u001b[39;00m\u001b[33mopentelemetry.proto.common.v1\u001b[39m\u001b[38;5;130;01m\\\"\u001b[39;00m\u001b[38;5;130;01m\\x8c\u001b[39;00m\u001b[38;5;130;01m\\x02\u001b[39;00m\u001b[38;5;130;01m\\n\u001b[39;00m\u001b[38;5;130;01m\\x08\u001b[39;00m\u001b[38;5;130;01m\\x41\u001b[39;00m\u001b[33mnyValue\u001b[39m\u001b[38;5;130;01m\\x12\u001b[39;00m\u001b[38;5;130;01m\\x16\u001b[39;00m\u001b[38;5;130;01m\\n\u001b[39;00m\u001b[38;5;130;01m\\x0c\u001b[39;00m\u001b[33mstring_value\u001b[39m\u001b[38;5;130;01m\\x18\u001b[39;00m\u001b[38;5;130;01m\\x01\u001b[39;00m\u001b[33m \u001b[39m\u001b[38;5;130;01m\\x01\u001b[39;00m\u001b[33m(\u001b[39m\u001b[38;5;130;01m\\t\u001b[39;00m\u001b[33mH\u001b[39m\u001b[38;5;130;01m\\x00\u001b[39;00m\u001b[38;5;130;01m\\x12\u001b[39;00m\u001b[38;5;130;01m\\x14\u001b[39;00m\u001b[38;5;130;01m\\n\u001b[39;00m\u001b[38;5;130;01m\\n\u001b[39;00m\u001b[33mbool_value\u001b[39m\u001b[38;5;130;01m\\x18\u001b[39;00m\u001b[38;5;130;01m\\x02\u001b[39;00m\u001b[33m \u001b[39m\u001b[38;5;130;01m\\x01\u001b[39;00m\u001b[33m(\u001b[39m\u001b[38;5;130;01m\\x08\u001b[39;00m\u001b[33mH\u001b[39m\u001b[38;5;130;01m\\x00\u001b[39;00m\u001b[38;5;130;01m\\x12\u001b[39;00m\u001b[38;5;130;01m\\x13\u001b[39;00m\u001b[38;5;130;01m\\n\u001b[39;00m\u001b[38;5;130;01m\\t\u001b[39;00m\u001b[33mint_value\u001b[39m\u001b[38;5;130;01m\\x18\u001b[39;00m\u001b[38;5;130;01m\\x03\u001b[39;00m\u001b[33m \u001b[39m\u001b[38;5;130;01m\\x01\u001b[39;00m\u001b[33m(\u001b[39m\u001b[38;5;130;01m\\x03\u001b[39;00m\u001b[33mH\u001b[39m\u001b[38;5;130;01m\\x00\u001b[39;00m\u001b[38;5;130;01m\\x12\u001b[39;00m\u001b[38;5;130;01m\\x16\u001b[39;00m\u001b[38;5;130;01m\\n\u001b[39;00m\u001b[38;5;130;01m\\x0c\u001b[39;00m\u001b[38;5;130;01m\\x64\u001b[39;00m\u001b[33mouble_value\u001b[39m\u001b[38;5;130;01m\\x18\u001b[39;00m\u001b[38;5;130;01m\\x04\u001b[39;00m\u001b[33m \u001b[39m\u001b[38;5;130;01m\\x01\u001b[39;00m\u001b[33m(\u001b[39m\u001b[38;5;130;01m\\x01\u001b[39;00m\u001b[33mH\u001b[39m\u001b[38;5;130;01m\\x00\u001b[39;00m\u001b[38;5;130;01m\\x12\u001b[39;00m\u001b[33m@\u001b[39m\u001b[38;5;130;01m\\n\u001b[39;00m\u001b[38;5;130;01m\\x0b\u001b[39;00m\u001b[38;5;130;01m\\x61\u001b[39;00m\u001b[33mrray_value\u001b[39m\u001b[38;5;130;01m\\x18\u001b[39;00m\u001b[38;5;130;01m\\x05\u001b[39;00m\u001b[33m \u001b[39m\u001b[38;5;130;01m\\x01\u001b[39;00m\u001b[33m(\u001b[39m\u001b[38;5;130;01m\\x0b\u001b[39;00m\u001b[38;5;130;01m\\x32\u001b[39;00m\u001b[33m).opentelemetry.proto.common.v1.ArrayValueH\u001b[39m\u001b[38;5;130;01m\\x00\u001b[39;00m\u001b[38;5;130;01m\\x12\u001b[39;00m\u001b[38;5;130;01m\\x43\u001b[39;00m\u001b[38;5;130;01m\\n\u001b[39;00m\u001b[38;5;130;01m\\x0c\u001b[39;00m\u001b[33mkvlist_value\u001b[39m\u001b[38;5;130;01m\\x18\u001b[39;00m\u001b[38;5;130;01m\\x06\u001b[39;00m\u001b[33m \u001b[39m\u001b[38;5;130;01m\\x01\u001b[39;00m\u001b[33m(\u001b[39m\u001b[38;5;130;01m\\x0b\u001b[39;00m\u001b[38;5;130;01m\\x32\u001b[39;00m\u001b[33m+.opentelemetry.proto.common.v1.KeyValueListH\u001b[39m\u001b[38;5;130;01m\\x00\u001b[39;00m\u001b[38;5;130;01m\\x12\u001b[39;00m\u001b[38;5;130;01m\\x15\u001b[39;00m\u001b[38;5;130;01m\\n\u001b[39;00m\u001b[38;5;130;01m\\x0b\u001b[39;00m\u001b[38;5;130;01m\\x62\u001b[39;00m\u001b[33mytes_value\u001b[39m\u001b[38;5;130;01m\\x18\u001b[39;00m\u001b[38;5;130;01m\\x07\u001b[39;00m\u001b[33m \u001b[39m\u001b[38;5;130;01m\\x01\u001b[39;00m\u001b[33m(\u001b[39m\u001b[38;5;130;01m\\x0c\u001b[39;00m\u001b[33mH\u001b[39m\u001b[38;5;130;01m\\x00\u001b[39;00m\u001b[38;5;130;01m\\x42\u001b[39;00m\u001b[38;5;130;01m\\x07\u001b[39;00m\u001b[38;5;130;01m\\n\u001b[39;00m\u001b[38;5;130;01m\\x05\u001b[39;00m\u001b[33mvalue\u001b[39m\u001b[38;5;130;01m\\\"\u001b[39;00m\u001b[33mE\u001b[39m\u001b[38;5;130;01m\\n\u001b[39;00m\u001b[38;5;130;01m\\n\u001b[39;00m\u001b[33mArrayValue\u001b[39m\u001b[38;5;130;01m\\x12\u001b[39;00m\u001b[38;5;130;01m\\x37\u001b[39;00m\u001b[38;5;130;01m\\n\u001b[39;00m\u001b[38;5;130;01m\\x06\u001b[39;00m\u001b[33mvalues\u001b[39m\u001b[38;5;130;01m\\x18\u001b[39;00m\u001b[38;5;130;01m\\x01\u001b[39;00m\u001b[33m \u001b[39m\u001b[38;5;130;01m\\x03\u001b[39;00m\u001b[33m(\u001b[39m\u001b[38;5;130;01m\\x0b\u001b[39;00m\u001b[38;5;130;01m\\x32\u001b[39;00m\u001b[38;5;130;01m\\'\u001b[39;00m\u001b[33m.opentelemetry.proto.common.v1.AnyValue\u001b[39m\u001b[38;5;130;01m\\\"\u001b[39;00m\u001b[33mG\u001b[39m\u001b[38;5;130;01m\\n\u001b[39;00m\u001b[38;5;130;01m\\x0c\u001b[39;00m\u001b[33mKeyValueList\u001b[39m\u001b[38;5;130;01m\\x12\u001b[39;00m\u001b[38;5;130;01m\\x37\u001b[39;00m\u001b[38;5;130;01m\\n\u001b[39;00m\u001b[38;5;130;01m\\x06\u001b[39;00m\u001b[33mvalues\u001b[39m\u001b[38;5;130;01m\\x18\u001b[39;00m\u001b[38;5;130;01m\\x01\u001b[39;00m\u001b[33m \u001b[39m\u001b[38;5;130;01m\\x03\u001b[39;00m\u001b[33m(\u001b[39m\u001b[38;5;130;01m\\x0b\u001b[39;00m\u001b[38;5;130;01m\\x32\u001b[39;00m\u001b[38;5;130;01m\\'\u001b[39;00m\u001b[33m.opentelemetry.proto.common.v1.KeyValue\u001b[39m\u001b[38;5;130;01m\\\"\u001b[39;00m\u001b[33mO\u001b[39m\u001b[38;5;130;01m\\n\u001b[39;00m\u001b[38;5;130;01m\\x08\u001b[39;00m\u001b[33mKeyValue\u001b[39m\u001b[38;5;130;01m\\x12\u001b[39;00m\u001b[38;5;130;01m\\x0b\u001b[39;00m\u001b[38;5;130;01m\\n\u001b[39;00m\u001b[38;5;130;01m\\x03\u001b[39;00m\u001b[33mkey\u001b[39m\u001b[38;5;130;01m\\x18\u001b[39;00m\u001b[38;5;130;01m\\x01\u001b[39;00m\u001b[33m \u001b[39m\u001b[38;5;130;01m\\x01\u001b[39;00m\u001b[33m(\u001b[39m\u001b[38;5;130;01m\\t\u001b[39;00m\u001b[38;5;130;01m\\x12\u001b[39;00m\u001b[38;5;130;01m\\x36\u001b[39;00m\u001b[38;5;130;01m\\n\u001b[39;00m\u001b[38;5;130;01m\\x05\u001b[39;00m\u001b[33mvalue\u001b[39m\u001b[38;5;130;01m\\x18\u001b[39;00m\u001b[38;5;130;01m\\x02\u001b[39;00m\u001b[33m \u001b[39m\u001b[38;5;130;01m\\x01\u001b[39;00m\u001b[33m(\u001b[39m\u001b[38;5;130;01m\\x0b\u001b[39;00m\u001b[38;5;130;01m\\x32\u001b[39;00m\u001b[38;5;130;01m\\'\u001b[39;00m\u001b[33m.opentelemetry.proto.common.v1.AnyValue\u001b[39m\u001b[38;5;130;01m\\\"\u001b[39;00m\u001b[33m;\u001b[39m\u001b[38;5;130;01m\\n\u001b[39;00m\u001b[38;5;130;01m\\x16\u001b[39;00m\u001b[33mInstrumentationLibrary\u001b[39m\u001b[38;5;130;01m\\x12\u001b[39;00m\u001b[38;5;130;01m\\x0c\u001b[39;00m\u001b[38;5;130;01m\\n\u001b[39;00m\u001b[38;5;130;01m\\x04\u001b[39;00m\u001b[33mname\u001b[39m\u001b[38;5;130;01m\\x18\u001b[39;00m\u001b[38;5;130;01m\\x01\u001b[39;00m\u001b[33m \u001b[39m\u001b[38;5;130;01m\\x01\u001b[39;00m\u001b[33m(\u001b[39m\u001b[38;5;130;01m\\t\u001b[39;00m\u001b[38;5;130;01m\\x12\u001b[39;00m\u001b[38;5;130;01m\\x0f\u001b[39;00m\u001b[38;5;130;01m\\n\u001b[39;00m\u001b[38;5;130;01m\\x07\u001b[39;00m\u001b[33mversion\u001b[39m\u001b[38;5;130;01m\\x18\u001b[39;00m\u001b[38;5;130;01m\\x02\u001b[39;00m\u001b[33m \u001b[39m\u001b[38;5;130;01m\\x01\u001b[39;00m\u001b[33m(\u001b[39m\u001b[38;5;130;01m\\t\u001b[39;00m\u001b[33m:\u001b[39m\u001b[38;5;130;01m\\x02\u001b[39;00m\u001b[38;5;130;01m\\x18\u001b[39;00m\u001b[38;5;130;01m\\x01\u001b[39;00m\u001b[38;5;130;01m\\\"\u001b[39;00m\u001b[33m5\u001b[39m\u001b[38;5;130;01m\\n\u001b[39;00m\u001b[38;5;130;01m\\x14\u001b[39;00m\u001b[33mInstrumentationScope\u001b[39m\u001b[38;5;130;01m\\x12\u001b[39;00m\u001b[38;5;130;01m\\x0c\u001b[39;00m\u001b[38;5;130;01m\\n\u001b[39;00m\u001b[38;5;130;01m\\x04\u001b[39;00m\u001b[33mname\u001b[39m\u001b[38;5;130;01m\\x18\u001b[39;00m\u001b[38;5;130;01m\\x01\u001b[39;00m\u001b[33m \u001b[39m\u001b[38;5;130;01m\\x01\u001b[39;00m\u001b[33m(\u001b[39m\u001b[38;5;130;01m\\t\u001b[39;00m\u001b[38;5;130;01m\\x12\u001b[39;00m\u001b[38;5;130;01m\\x0f\u001b[39;00m\u001b[38;5;130;01m\\n\u001b[39;00m\u001b[38;5;130;01m\\x07\u001b[39;00m\u001b[33mversion\u001b[39m\u001b[38;5;130;01m\\x18\u001b[39;00m\u001b[38;5;130;01m\\x02\u001b[39;00m\u001b[33m \u001b[39m\u001b[38;5;130;01m\\x01\u001b[39;00m\u001b[33m(\u001b[39m\u001b[38;5;130;01m\\t\u001b[39;00m\u001b[33mB[\u001b[39m\u001b[38;5;130;01m\\n\u001b[39;00m\u001b[33m io.opentelemetry.proto.common.v1B\u001b[39m\u001b[38;5;130;01m\\x0b\u001b[39;00m\u001b[38;5;130;01m\\x43\u001b[39;00m\u001b[33mommonProtoP\u001b[39m\u001b[38;5;130;01m\\x01\u001b[39;00m\u001b[33mZ(go.opentelemetry.io/proto/otlp/common/v1b\u001b[39m\u001b[38;5;130;01m\\x06\u001b[39;00m\u001b[33mproto3\u001b[39m\u001b[33m'\u001b[39m\n\u001b[32m     23\u001b[39m )\n\u001b[32m     28\u001b[39m _ANYVALUE = _descriptor.Descriptor(\n\u001b[32m     29\u001b[39m   name=\u001b[33m'\u001b[39m\u001b[33mAnyValue\u001b[39m\u001b[33m'\u001b[39m,\n\u001b[32m     30\u001b[39m   full_name=\u001b[33m'\u001b[39m\u001b[33mopentelemetry.proto.common.v1.AnyValue\u001b[39m\u001b[33m'\u001b[39m,\n\u001b[32m     31\u001b[39m   filename=\u001b[38;5;28;01mNone\u001b[39;00m,\n\u001b[32m     32\u001b[39m   file=DESCRIPTOR,\n\u001b[32m     33\u001b[39m   containing_type=\u001b[38;5;28;01mNone\u001b[39;00m,\n\u001b[32m     34\u001b[39m   create_key=_descriptor._internal_create_key,\n\u001b[32m     35\u001b[39m   fields=[\n\u001b[32m---> \u001b[39m\u001b[32m36\u001b[39m     \u001b[43m_descriptor\u001b[49m\u001b[43m.\u001b[49m\u001b[43mFieldDescriptor\u001b[49m\u001b[43m(\u001b[49m\n\u001b[32m     37\u001b[39m \u001b[43m      \u001b[49m\u001b[43mname\u001b[49m\u001b[43m=\u001b[49m\u001b[33;43m'\u001b[39;49m\u001b[33;43mstring_value\u001b[39;49m\u001b[33;43m'\u001b[39;49m\u001b[43m,\u001b[49m\u001b[43m \u001b[49m\u001b[43mfull_name\u001b[49m\u001b[43m=\u001b[49m\u001b[33;43m'\u001b[39;49m\u001b[33;43mopentelemetry.proto.common.v1.AnyValue.string_value\u001b[39;49m\u001b[33;43m'\u001b[39;49m\u001b[43m,\u001b[49m\u001b[43m \u001b[49m\u001b[43mindex\u001b[49m\u001b[43m=\u001b[49m\u001b[32;43m0\u001b[39;49m\u001b[43m,\u001b[49m\n\u001b[32m     38\u001b[39m \u001b[43m      \u001b[49m\u001b[43mnumber\u001b[49m\u001b[43m=\u001b[49m\u001b[32;43m1\u001b[39;49m\u001b[43m,\u001b[49m\u001b[43m \u001b[49m\u001b[38;5;28;43mtype\u001b[39;49m\u001b[43m=\u001b[49m\u001b[32;43m9\u001b[39;49m\u001b[43m,\u001b[49m\u001b[43m \u001b[49m\u001b[43mcpp_type\u001b[49m\u001b[43m=\u001b[49m\u001b[32;43m9\u001b[39;49m\u001b[43m,\u001b[49m\u001b[43m \u001b[49m\u001b[43mlabel\u001b[49m\u001b[43m=\u001b[49m\u001b[32;43m1\u001b[39;49m\u001b[43m,\u001b[49m\n\u001b[32m     39\u001b[39m \u001b[43m      \u001b[49m\u001b[43mhas_default_value\u001b[49m\u001b[43m=\u001b[49m\u001b[38;5;28;43;01mFalse\u001b[39;49;00m\u001b[43m,\u001b[49m\u001b[43m \u001b[49m\u001b[43mdefault_value\u001b[49m\u001b[43m=\u001b[49m\u001b[33;43mb\u001b[39;49m\u001b[33;43m\"\u001b[39;49m\u001b[33;43m\"\u001b[39;49m\u001b[43m.\u001b[49m\u001b[43mdecode\u001b[49m\u001b[43m(\u001b[49m\u001b[33;43m'\u001b[39;49m\u001b[33;43mutf-8\u001b[39;49m\u001b[33;43m'\u001b[39;49m\u001b[43m)\u001b[49m\u001b[43m,\u001b[49m\n\u001b[32m     40\u001b[39m \u001b[43m      \u001b[49m\u001b[43mmessage_type\u001b[49m\u001b[43m=\u001b[49m\u001b[38;5;28;43;01mNone\u001b[39;49;00m\u001b[43m,\u001b[49m\u001b[43m \u001b[49m\u001b[43menum_type\u001b[49m\u001b[43m=\u001b[49m\u001b[38;5;28;43;01mNone\u001b[39;49;00m\u001b[43m,\u001b[49m\u001b[43m \u001b[49m\u001b[43mcontaining_type\u001b[49m\u001b[43m=\u001b[49m\u001b[38;5;28;43;01mNone\u001b[39;49;00m\u001b[43m,\u001b[49m\n\u001b[32m     41\u001b[39m \u001b[43m      \u001b[49m\u001b[43mis_extension\u001b[49m\u001b[43m=\u001b[49m\u001b[38;5;28;43;01mFalse\u001b[39;49;00m\u001b[43m,\u001b[49m\u001b[43m \u001b[49m\u001b[43mextension_scope\u001b[49m\u001b[43m=\u001b[49m\u001b[38;5;28;43;01mNone\u001b[39;49;00m\u001b[43m,\u001b[49m\n\u001b[32m     42\u001b[39m \u001b[43m      \u001b[49m\u001b[43mserialized_options\u001b[49m\u001b[43m=\u001b[49m\u001b[38;5;28;43;01mNone\u001b[39;49;00m\u001b[43m,\u001b[49m\u001b[43m \u001b[49m\u001b[43mfile\u001b[49m\u001b[43m=\u001b[49m\u001b[43mDESCRIPTOR\u001b[49m\u001b[43m,\u001b[49m\u001b[43m  \u001b[49m\u001b[43mcreate_key\u001b[49m\u001b[43m=\u001b[49m\u001b[43m_descriptor\u001b[49m\u001b[43m.\u001b[49m\u001b[43m_internal_create_key\u001b[49m\u001b[43m)\u001b[49m,\n\u001b[32m     43\u001b[39m     _descriptor.FieldDescriptor(\n\u001b[32m     44\u001b[39m       name=\u001b[33m'\u001b[39m\u001b[33mbool_value\u001b[39m\u001b[33m'\u001b[39m, full_name=\u001b[33m'\u001b[39m\u001b[33mopentelemetry.proto.common.v1.AnyValue.bool_value\u001b[39m\u001b[33m'\u001b[39m, index=\u001b[32m1\u001b[39m,\n\u001b[32m     45\u001b[39m       number=\u001b[32m2\u001b[39m, \u001b[38;5;28mtype\u001b[39m=\u001b[32m8\u001b[39m, cpp_type=\u001b[32m7\u001b[39m, label=\u001b[32m1\u001b[39m,\n\u001b[32m     46\u001b[39m       has_default_value=\u001b[38;5;28;01mFalse\u001b[39;00m, default_value=\u001b[38;5;28;01mFalse\u001b[39;00m,\n\u001b[32m     47\u001b[39m       message_type=\u001b[38;5;28;01mNone\u001b[39;00m, enum_type=\u001b[38;5;28;01mNone\u001b[39;00m, containing_type=\u001b[38;5;28;01mNone\u001b[39;00m,\n\u001b[32m     48\u001b[39m       is_extension=\u001b[38;5;28;01mFalse\u001b[39;00m, extension_scope=\u001b[38;5;28;01mNone\u001b[39;00m,\n\u001b[32m     49\u001b[39m       serialized_options=\u001b[38;5;28;01mNone\u001b[39;00m, file=DESCRIPTOR,  create_key=_descriptor._internal_create_key),\n\u001b[32m     50\u001b[39m     _descriptor.FieldDescriptor(\n\u001b[32m     51\u001b[39m       name=\u001b[33m'\u001b[39m\u001b[33mint_value\u001b[39m\u001b[33m'\u001b[39m, full_name=\u001b[33m'\u001b[39m\u001b[33mopentelemetry.proto.common.v1.AnyValue.int_value\u001b[39m\u001b[33m'\u001b[39m, index=\u001b[32m2\u001b[39m,\n\u001b[32m     52\u001b[39m       number=\u001b[32m3\u001b[39m, \u001b[38;5;28mtype\u001b[39m=\u001b[32m3\u001b[39m, cpp_type=\u001b[32m2\u001b[39m, label=\u001b[32m1\u001b[39m,\n\u001b[32m     53\u001b[39m       has_default_value=\u001b[38;5;28;01mFalse\u001b[39;00m, default_value=\u001b[32m0\u001b[39m,\n\u001b[32m     54\u001b[39m       message_type=\u001b[38;5;28;01mNone\u001b[39;00m, enum_type=\u001b[38;5;28;01mNone\u001b[39;00m, containing_type=\u001b[38;5;28;01mNone\u001b[39;00m,\n\u001b[32m     55\u001b[39m       is_extension=\u001b[38;5;28;01mFalse\u001b[39;00m, extension_scope=\u001b[38;5;28;01mNone\u001b[39;00m,\n\u001b[32m     56\u001b[39m       serialized_options=\u001b[38;5;28;01mNone\u001b[39;00m, file=DESCRIPTOR,  create_key=_descriptor._internal_create_key),\n\u001b[32m     57\u001b[39m     _descriptor.FieldDescriptor(\n\u001b[32m     58\u001b[39m       name=\u001b[33m'\u001b[39m\u001b[33mdouble_value\u001b[39m\u001b[33m'\u001b[39m, full_name=\u001b[33m'\u001b[39m\u001b[33mopentelemetry.proto.common.v1.AnyValue.double_value\u001b[39m\u001b[33m'\u001b[39m, index=\u001b[32m3\u001b[39m,\n\u001b[32m     59\u001b[39m       number=\u001b[32m4\u001b[39m, \u001b[38;5;28mtype\u001b[39m=\u001b[32m1\u001b[39m, cpp_type=\u001b[32m5\u001b[39m, label=\u001b[32m1\u001b[39m,\n\u001b[32m     60\u001b[39m       has_default_value=\u001b[38;5;28;01mFalse\u001b[39;00m, default_value=\u001b[38;5;28mfloat\u001b[39m(\u001b[32m0\u001b[39m),\n\u001b[32m     61\u001b[39m       message_type=\u001b[38;5;28;01mNone\u001b[39;00m, enum_type=\u001b[38;5;28;01mNone\u001b[39;00m, containing_type=\u001b[38;5;28;01mNone\u001b[39;00m,\n\u001b[32m     62\u001b[39m       is_extension=\u001b[38;5;28;01mFalse\u001b[39;00m, extension_scope=\u001b[38;5;28;01mNone\u001b[39;00m,\n\u001b[32m     63\u001b[39m       serialized_options=\u001b[38;5;28;01mNone\u001b[39;00m, file=DESCRIPTOR,  create_key=_descriptor._internal_create_key),\n\u001b[32m     64\u001b[39m     _descriptor.FieldDescriptor(\n\u001b[32m     65\u001b[39m       name=\u001b[33m'\u001b[39m\u001b[33marray_value\u001b[39m\u001b[33m'\u001b[39m, full_name=\u001b[33m'\u001b[39m\u001b[33mopentelemetry.proto.common.v1.AnyValue.array_value\u001b[39m\u001b[33m'\u001b[39m, index=\u001b[32m4\u001b[39m,\n\u001b[32m     66\u001b[39m       number=\u001b[32m5\u001b[39m, \u001b[38;5;28mtype\u001b[39m=\u001b[32m11\u001b[39m, cpp_type=\u001b[32m10\u001b[39m, label=\u001b[32m1\u001b[39m,\n\u001b[32m     67\u001b[39m       has_default_value=\u001b[38;5;28;01mFalse\u001b[39;00m, default_value=\u001b[38;5;28;01mNone\u001b[39;00m,\n\u001b[32m     68\u001b[39m       message_type=\u001b[38;5;28;01mNone\u001b[39;00m, enum_type=\u001b[38;5;28;01mNone\u001b[39;00m, containing_type=\u001b[38;5;28;01mNone\u001b[39;00m,\n\u001b[32m     69\u001b[39m       is_extension=\u001b[38;5;28;01mFalse\u001b[39;00m, extension_scope=\u001b[38;5;28;01mNone\u001b[39;00m,\n\u001b[32m     70\u001b[39m       serialized_options=\u001b[38;5;28;01mNone\u001b[39;00m, file=DESCRIPTOR,  create_key=_descriptor._internal_create_key),\n\u001b[32m     71\u001b[39m     _descriptor.FieldDescriptor(\n\u001b[32m     72\u001b[39m       name=\u001b[33m'\u001b[39m\u001b[33mkvlist_value\u001b[39m\u001b[33m'\u001b[39m, full_name=\u001b[33m'\u001b[39m\u001b[33mopentelemetry.proto.common.v1.AnyValue.kvlist_value\u001b[39m\u001b[33m'\u001b[39m, index=\u001b[32m5\u001b[39m,\n\u001b[32m     73\u001b[39m       number=\u001b[32m6\u001b[39m, \u001b[38;5;28mtype\u001b[39m=\u001b[32m11\u001b[39m, cpp_type=\u001b[32m10\u001b[39m, label=\u001b[32m1\u001b[39m,\n\u001b[32m     74\u001b[39m       has_default_value=\u001b[38;5;28;01mFalse\u001b[39;00m, default_value=\u001b[38;5;28;01mNone\u001b[39;00m,\n\u001b[32m     75\u001b[39m       message_type=\u001b[38;5;28;01mNone\u001b[39;00m, enum_type=\u001b[38;5;28;01mNone\u001b[39;00m, containing_type=\u001b[38;5;28;01mNone\u001b[39;00m,\n\u001b[32m     76\u001b[39m       is_extension=\u001b[38;5;28;01mFalse\u001b[39;00m, extension_scope=\u001b[38;5;28;01mNone\u001b[39;00m,\n\u001b[32m     77\u001b[39m       serialized_options=\u001b[38;5;28;01mNone\u001b[39;00m, file=DESCRIPTOR,  create_key=_descriptor._internal_create_key),\n\u001b[32m     78\u001b[39m     _descriptor.FieldDescriptor(\n\u001b[32m     79\u001b[39m       name=\u001b[33m'\u001b[39m\u001b[33mbytes_value\u001b[39m\u001b[33m'\u001b[39m, full_name=\u001b[33m'\u001b[39m\u001b[33mopentelemetry.proto.common.v1.AnyValue.bytes_value\u001b[39m\u001b[33m'\u001b[39m, index=\u001b[32m6\u001b[39m,\n\u001b[32m     80\u001b[39m       number=\u001b[32m7\u001b[39m, \u001b[38;5;28mtype\u001b[39m=\u001b[32m12\u001b[39m, cpp_type=\u001b[32m9\u001b[39m, label=\u001b[32m1\u001b[39m,\n\u001b[32m     81\u001b[39m       has_default_value=\u001b[38;5;28;01mFalse\u001b[39;00m, default_value=\u001b[33mb\u001b[39m\u001b[33m\"\u001b[39m\u001b[33m\"\u001b[39m,\n\u001b[32m     82\u001b[39m       message_type=\u001b[38;5;28;01mNone\u001b[39;00m, enum_type=\u001b[38;5;28;01mNone\u001b[39;00m, containing_type=\u001b[38;5;28;01mNone\u001b[39;00m,\n\u001b[32m     83\u001b[39m       is_extension=\u001b[38;5;28;01mFalse\u001b[39;00m, extension_scope=\u001b[38;5;28;01mNone\u001b[39;00m,\n\u001b[32m     84\u001b[39m       serialized_options=\u001b[38;5;28;01mNone\u001b[39;00m, file=DESCRIPTOR,  create_key=_descriptor._internal_create_key),\n\u001b[32m     85\u001b[39m   ],\n\u001b[32m     86\u001b[39m   extensions=[\n\u001b[32m     87\u001b[39m   ],\n\u001b[32m     88\u001b[39m   nested_types=[],\n\u001b[32m     89\u001b[39m   enum_types=[\n\u001b[32m     90\u001b[39m   ],\n\u001b[32m     91\u001b[39m   serialized_options=\u001b[38;5;28;01mNone\u001b[39;00m,\n\u001b[32m     92\u001b[39m   is_extendable=\u001b[38;5;28;01mFalse\u001b[39;00m,\n\u001b[32m     93\u001b[39m   syntax=\u001b[33m'\u001b[39m\u001b[33mproto3\u001b[39m\u001b[33m'\u001b[39m,\n\u001b[32m     94\u001b[39m   extension_ranges=[],\n\u001b[32m     95\u001b[39m   oneofs=[\n\u001b[32m     96\u001b[39m     _descriptor.OneofDescriptor(\n\u001b[32m     97\u001b[39m       name=\u001b[33m'\u001b[39m\u001b[33mvalue\u001b[39m\u001b[33m'\u001b[39m, full_name=\u001b[33m'\u001b[39m\u001b[33mopentelemetry.proto.common.v1.AnyValue.value\u001b[39m\u001b[33m'\u001b[39m,\n\u001b[32m     98\u001b[39m       index=\u001b[32m0\u001b[39m, containing_type=\u001b[38;5;28;01mNone\u001b[39;00m,\n\u001b[32m     99\u001b[39m       create_key=_descriptor._internal_create_key,\n\u001b[32m    100\u001b[39m     fields=[]),\n\u001b[32m    101\u001b[39m   ],\n\u001b[32m    102\u001b[39m   serialized_start=\u001b[32m78\u001b[39m,\n\u001b[32m    103\u001b[39m   serialized_end=\u001b[32m346\u001b[39m,\n\u001b[32m    104\u001b[39m )\n\u001b[32m    107\u001b[39m _ARRAYVALUE = _descriptor.Descriptor(\n\u001b[32m    108\u001b[39m   name=\u001b[33m'\u001b[39m\u001b[33mArrayValue\u001b[39m\u001b[33m'\u001b[39m,\n\u001b[32m    109\u001b[39m   full_name=\u001b[33m'\u001b[39m\u001b[33mopentelemetry.proto.common.v1.ArrayValue\u001b[39m\u001b[33m'\u001b[39m,\n\u001b[32m   (...)\u001b[39m\u001b[32m    135\u001b[39m   serialized_end=\u001b[32m417\u001b[39m,\n\u001b[32m    136\u001b[39m )\n\u001b[32m    139\u001b[39m _KEYVALUELIST = _descriptor.Descriptor(\n\u001b[32m    140\u001b[39m   name=\u001b[33m'\u001b[39m\u001b[33mKeyValueList\u001b[39m\u001b[33m'\u001b[39m,\n\u001b[32m    141\u001b[39m   full_name=\u001b[33m'\u001b[39m\u001b[33mopentelemetry.proto.common.v1.KeyValueList\u001b[39m\u001b[33m'\u001b[39m,\n\u001b[32m   (...)\u001b[39m\u001b[32m    167\u001b[39m   serialized_end=\u001b[32m490\u001b[39m,\n\u001b[32m    168\u001b[39m )\n",
      "\u001b[36mFile \u001b[39m\u001b[32md:\\ws\\2025-ksci-agent\\.venv\\Lib\\site-packages\\google\\protobuf\\descriptor.py:621\u001b[39m, in \u001b[36mFieldDescriptor.__new__\u001b[39m\u001b[34m(cls, name, full_name, index, number, type, cpp_type, label, default_value, message_type, enum_type, containing_type, is_extension, extension_scope, options, serialized_options, has_default_value, containing_oneof, json_name, file, create_key)\u001b[39m\n\u001b[32m    615\u001b[39m \u001b[38;5;28;01mdef\u001b[39;00m\u001b[38;5;250m \u001b[39m\u001b[34m__new__\u001b[39m(\u001b[38;5;28mcls\u001b[39m, name, full_name, index, number, \u001b[38;5;28mtype\u001b[39m, cpp_type, label,\n\u001b[32m    616\u001b[39m             default_value, message_type, enum_type, containing_type,\n\u001b[32m    617\u001b[39m             is_extension, extension_scope, options=\u001b[38;5;28;01mNone\u001b[39;00m,\n\u001b[32m    618\u001b[39m             serialized_options=\u001b[38;5;28;01mNone\u001b[39;00m,\n\u001b[32m    619\u001b[39m             has_default_value=\u001b[38;5;28;01mTrue\u001b[39;00m, containing_oneof=\u001b[38;5;28;01mNone\u001b[39;00m, json_name=\u001b[38;5;28;01mNone\u001b[39;00m,\n\u001b[32m    620\u001b[39m             file=\u001b[38;5;28;01mNone\u001b[39;00m, create_key=\u001b[38;5;28;01mNone\u001b[39;00m):  \u001b[38;5;66;03m# pylint: disable=redefined-builtin\u001b[39;00m\n\u001b[32m--> \u001b[39m\u001b[32m621\u001b[39m   \u001b[43m_message\u001b[49m\u001b[43m.\u001b[49m\u001b[43mMessage\u001b[49m\u001b[43m.\u001b[49m\u001b[43m_CheckCalledFromGeneratedFile\u001b[49m\u001b[43m(\u001b[49m\u001b[43m)\u001b[49m\n\u001b[32m    622\u001b[39m   \u001b[38;5;28;01mif\u001b[39;00m is_extension:\n\u001b[32m    623\u001b[39m     \u001b[38;5;28;01mreturn\u001b[39;00m _message.default_pool.FindExtensionByName(full_name)\n",
      "\u001b[31mTypeError\u001b[39m: Descriptors cannot be created directly.\nIf this call came from a _pb2.py file, your generated code is out of date and must be regenerated with protoc >= 3.19.0.\nIf you cannot immediately regenerate your protos, some other possible workarounds are:\n 1. Downgrade the protobuf package to 3.20.x or lower.\n 2. Set PROTOCOL_BUFFERS_PYTHON_IMPLEMENTATION=python (but this will use pure-Python parsing and will be much slower).\n\nMore information: https://developers.google.com/protocol-buffers/docs/news/2022-05-06#python-updates"
     ]
    }
   ],
   "source": [
    " from langchain_chroma import Chroma\n",
    "\n",
    " collection_name = \"my_collection\"\n",
    " vectorstore = Chroma.from_documents(\n",
    "     collection_name=collection_name,\n",
    "     documents=splits,\n",
    "     embedding=embeddings\n",
    " )\n"
   ]
  },
  {
   "cell_type": "code",
   "execution_count": null,
   "id": "b248b40f-6d45-4065-9f28-dda082b2907e",
   "metadata": {},
   "outputs": [],
   "source": []
  },
  {
   "cell_type": "code",
   "execution_count": null,
   "id": "f93f7b7c-ba31-4f16-8082-1ff52a2a9a28",
   "metadata": {},
   "outputs": [],
   "source": []
  },
  {
   "cell_type": "code",
   "execution_count": null,
   "id": "8daf171f-cf6c-4f8e-bbc9-ff0ce8653502",
   "metadata": {},
   "outputs": [],
   "source": []
  },
  {
   "cell_type": "code",
   "execution_count": null,
   "id": "52a61200-2495-4aa6-a99b-4a1209c27b89",
   "metadata": {},
   "outputs": [],
   "source": []
  },
  {
   "cell_type": "code",
   "execution_count": null,
   "id": "f7e7e731-e23b-4288-af85-052ebcfaf09c",
   "metadata": {},
   "outputs": [],
   "source": []
  },
  {
   "cell_type": "code",
   "execution_count": null,
   "id": "7c624524-99dc-4161-8330-22ce1cecde8b",
   "metadata": {},
   "outputs": [],
   "source": []
  },
  {
   "cell_type": "code",
   "execution_count": null,
   "id": "ac42beb6-3bae-4049-af89-c8481978ee93",
   "metadata": {},
   "outputs": [],
   "source": []
  },
  {
   "cell_type": "code",
   "execution_count": null,
   "id": "e9c5d614-d4ea-4501-901e-5c155fcbacd9",
   "metadata": {},
   "outputs": [],
   "source": []
  },
  {
   "cell_type": "code",
   "execution_count": null,
   "id": "d5eb9ae5-c8d0-47ca-a7b9-655eb956a292",
   "metadata": {},
   "outputs": [],
   "source": []
  },
  {
   "cell_type": "code",
   "execution_count": null,
   "id": "7a5f51d3-189b-436a-8533-baad0d977636",
   "metadata": {},
   "outputs": [],
   "source": []
  },
  {
   "cell_type": "code",
   "execution_count": null,
   "id": "697c21e3-42e7-4142-aebc-214c23a7170f",
   "metadata": {},
   "outputs": [],
   "source": []
  }
 ],
 "metadata": {
  "kernelspec": {
   "display_name": "Python 3 (ipykernel)",
   "language": "python",
   "name": "python3"
  },
  "language_info": {
   "codemirror_mode": {
    "name": "ipython",
    "version": 3
   },
   "file_extension": ".py",
   "mimetype": "text/x-python",
   "name": "python",
   "nbconvert_exporter": "python",
   "pygments_lexer": "ipython3",
   "version": "3.12.4"
  }
 },
 "nbformat": 4,
 "nbformat_minor": 5
}
