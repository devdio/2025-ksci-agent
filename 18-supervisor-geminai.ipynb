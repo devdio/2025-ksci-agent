{
 "cells": [
  {
   "cell_type": "markdown",
   "id": "c5ddc178-bc6d-47cb-96c2-01f30a375a32",
   "metadata": {},
   "source": [
    "# 슈퍼바이저 멀티 에이전트 \n",
    "- 구글 제미나이 사용\n",
    "https://medium.com/@dharamai2024/build-a-multi-agent-system-with-langgraph-5b938e0104b5\n",
    "\n",
    "Gemini API키는 다음 사이트에서 [Google AI 스튜디오](https://aistudio.google.com/app/apikey?hl=ko) 등록합니다."
   ]
  },
  {
   "cell_type": "markdown",
   "id": "fad0d06d-e53a-4620-abb9-65f66f04ecc0",
   "metadata": {},
   "source": [
    "<img src=\"https://miro.medium.com/v2/resize:fit:786/format:webp/1*MLHRiyXv7py7vT--wupJeA.png\" />"
   ]
  },
  {
   "cell_type": "markdown",
   "id": "e0957b7e-d85b-493b-8f66-df7397782140",
   "metadata": {},
   "source": [
    "## 환경 설정"
   ]
  },
  {
   "cell_type": "code",
   "execution_count": 1,
   "id": "1472b295-df94-4df4-b377-75bc984b9818",
   "metadata": {},
   "outputs": [
    {
     "name": "stdout",
     "output_type": "stream",
     "text": [
      "Python 3.13.4\n"
     ]
    }
   ],
   "source": [
    "!python --version"
   ]
  },
  {
   "cell_type": "code",
   "execution_count": 2,
   "id": "59d2b38e-99eb-4495-90da-23bfedd1ede7",
   "metadata": {},
   "outputs": [
    {
     "name": "stdout",
     "output_type": "stream",
     "text": [
      "Note: you may need to restart the kernel to use updated packages.\n"
     ]
    }
   ],
   "source": [
    "%pip install -qU python-dotenv langchain pypdf langchain-community langgraph langchain-tavily langchain-google-genai langchain-openai"
   ]
  },
  {
   "cell_type": "code",
   "execution_count": 3,
   "id": "2e823a02-9e76-4d9f-a451-5f0a6766eb6b",
   "metadata": {},
   "outputs": [
    {
     "name": "stdout",
     "output_type": "stream",
     "text": [
      "sk-proj-8x\n",
      "AIzaSyB_bx\n",
      "tvly-dev-G\n"
     ]
    }
   ],
   "source": [
    "# 환경 변수 확인\n",
    "from dotenv import load_dotenv\n",
    "import os\n",
    "load_dotenv(override=True)\n",
    "\n",
    "def _set_env(var: str):\n",
    "    if not os.environ.get(var):\n",
    "        os.environ[var] = getpass.getpass(f\"{var}: \")\n",
    "\n",
    "_set_env(\"OPENAI_API_KEY\")\n",
    "_set_env(\"GOOGLE_API_KEY\")\n",
    "_set_env(\"TAVILY_API_KEY\")\n",
    "\n",
    "print(os.environ.get(\"OPENAI_API_KEY\")[:10])\n",
    "print(os.environ.get(\"GOOGLE_API_KEY\")[:10])\n",
    "print(os.environ.get(\"TAVILY_API_KEY\")[:10])"
   ]
  },
  {
   "cell_type": "code",
   "execution_count": 4,
   "id": "cccf7337-8d1a-4213-88f9-d3e101c67a7a",
   "metadata": {},
   "outputs": [],
   "source": [
    "\n",
    "import os\n",
    "from langchain.prompts import ChatPromptTemplate, PromptTemplate\n",
    "from typing import Annotated, TypedDict, Literal, Sequence\n",
    "from pydantic import BaseModel, Field\n",
    "from langgraph.graph import START, StateGraph, MessagesState, add_messages, END\n",
    "from langgraph.graph.message import add_messages\n",
    "from IPython.display import Image, display\n",
    "from langchain_core.messages import BaseMessage, SystemMessage\n",
    "from langgraph.prebuilt import ToolNode, tools_condition\n",
    "from langchain.schema import HumanMessage\n",
    "from langchain.tools import Tool\n",
    "from langchain_core.tools import tool\n",
    "from langchain_core.messages import ToolMessage\n",
    "from langchain_core.tools import InjectedToolCallId, tool\n",
    "from langgraph.types import Command, interrupt\n",
    "from langchain_core.output_parsers import StrOutputParser\n"
   ]
  },
  {
   "cell_type": "code",
   "execution_count": null,
   "id": "a0f517aa-e9a0-4227-a127-2399fc81e6f4",
   "metadata": {},
   "outputs": [],
   "source": []
  },
  {
   "cell_type": "code",
   "execution_count": 5,
   "id": "0cdb393a-63f2-40df-aba6-4c2753e4fa29",
   "metadata": {},
   "outputs": [],
   "source": [
    "# from langchain_google_genai import GoogleGenerativeAIEmbeddings\n",
    "# from langchain_google_genai import ChatGoogleGenerativeAI\n",
    "\n",
    "# embeddings = GoogleGenerativeAIEmbeddings(model=\"models/embedding-001\")\n",
    "# llm = ChatGoogleGenerativeAI(model=\"gemini-2.0-flash\", \n",
    "#                              temperature=0)"
   ]
  },
  {
   "cell_type": "code",
   "execution_count": 6,
   "id": "dc37356d-765e-40b5-beb6-b7392c08986a",
   "metadata": {},
   "outputs": [],
   "source": [
    "from langchain_openai import ChatOpenAI\n",
    "from langchain_openai import OpenAIEmbeddings\n",
    "\n",
    "embeddings = OpenAIEmbeddings(\n",
    "    model=\"text-embedding-3-small\",  # 가격이 저렴\n",
    ")\n",
    "llm = ChatOpenAI(model_name=\"gpt-4o-mini\")"
   ]
  },
  {
   "cell_type": "markdown",
   "id": "5c649cce-fe10-4b52-989c-93cae2b090e7",
   "metadata": {},
   "source": [
    "## 도구 만들기"
   ]
  },
  {
   "cell_type": "markdown",
   "id": "d530e6c4-5000-45c3-be21-42c3607e23a0",
   "metadata": {},
   "source": [
    "LangGraph를 사용하는 이 다중 에이전트 시스템 은 7명의 전문 에이전트 로 구성되며 , 각 에이전트는 고유한 책임과 툴셋을 가지고 있습니다. 핵심적으로, 슈퍼바이저 에이전트는 쿼리 유형에 따라 가장 적합한 에이전트에게 작업을 동적으로 라우팅하여 전체 워크플로를 조율합니다.\n",
    "\n",
    "저희 에이전트 팀에 대한 개요는 다음과 같습니다.\n",
    "\n",
    "- **Supervisor Agent**는 중앙 조정자 역할을 합니다. 사용자 입력을 받아 적절한 전문 에이전트에게 작업을 위임합니다.\n",
    "- **Enhancer Agent**는 다른 에이전트에게 전달되기 전에 사용자의 쿼리를 세부화하거나 향상시킵니다(예: 명확성이나 맥락 추가).\n",
    "- **Validator Agent**는 사용자의 질문과 최종 응답을 모두 검증하여 정확성, 완전성, 안전성을 보장합니다.\n",
    "- **Researcher Agent**는 검색 엔진 도구(예: Tavily)를 사용하여 실시간 웹 조사를 수행하여 최신 정보를 검색합니다.\n",
    "- **PDF_RAG Agent**는 PDF 검색기를 사용하여 PDF 컬렉션에서 관련 콘텐츠를 검색하고 RAG(검색 증강 생성) 기술을 적용합니다.\n",
    "- **Movie_RAG Agent**는 CSV 기반 검색기를 사용하여 영화 데이터 세트와 관련된 질문에 답합니다.\n",
    "- **Math Expert Agent**는 Wolfram이나 LangChain의 내장된 수학 기능과 같은 계산 도구를 사용하여 수학 문제를 해결합니다."
   ]
  },
  {
   "cell_type": "markdown",
   "id": "f865b59d-4000-4c4d-8b91-9fdc623f3df7",
   "metadata": {},
   "source": [
    "### Research Agent Tool:"
   ]
  },
  {
   "cell_type": "code",
   "execution_count": 7,
   "id": "06b209ea-7994-43bc-a43c-ac8cf0c8fb53",
   "metadata": {},
   "outputs": [],
   "source": [
    "from langchain_tavily import TavilySearch\n",
    "\n",
    "web_search_tool = TavilySearch(max_results=2)"
   ]
  },
  {
   "cell_type": "markdown",
   "id": "5d9d28e7-a761-4521-89b7-84168d485671",
   "metadata": {},
   "source": [
    "### PDF Agnet Tool"
   ]
  },
  {
   "cell_type": "code",
   "execution_count": 8,
   "id": "a1fdf686-2c94-4113-a166-7faa7f48e5d9",
   "metadata": {},
   "outputs": [
    {
     "name": "stdout",
     "output_type": "stream",
     "text": [
      "File: SPRi AI Brief_6월호_산업동향_F.pdf\n",
      "28 documents loaded\n"
     ]
    }
   ],
   "source": [
    "from langchain_community.document_loaders import PyPDFLoader\n",
    "from langchain.text_splitter import RecursiveCharacterTextSplitter\n",
    "\n",
    "def load_pdf_documents(file_path):\n",
    "  documents = []\n",
    "  for file in os.listdir(file_path):\n",
    "    if file.endswith(\".pdf\"):\n",
    "        print(\"File:\", file)\n",
    "        loader = PyPDFLoader(os.path.join(file_path, file))\n",
    "        documents.extend(loader.load())\n",
    "  return documents\n",
    "\n",
    "# upload and create documents\n",
    "documents = load_pdf_documents(\"./docs\")\n",
    "print(f\"{len(documents)} documents loaded\")"
   ]
  },
  {
   "cell_type": "code",
   "execution_count": 9,
   "id": "82173d53-aea9-4be7-8744-3023d925a450",
   "metadata": {},
   "outputs": [
    {
     "name": "stdout",
     "output_type": "stream",
     "text": [
      "Split the documents into 159 chunks.\n"
     ]
    }
   ],
   "source": [
    "text_splitter = RecursiveCharacterTextSplitter(\n",
    "     chunk_size=300,\n",
    "     chunk_overlap=20,\n",
    "     length_function=len,\n",
    "     is_separator_regex=False,\n",
    " )\n",
    "\n",
    "splits = text_splitter.split_documents(documents)\n",
    "print(f\"Split the documents into {len(splits)} chunks.\")"
   ]
  },
  {
   "cell_type": "code",
   "execution_count": 10,
   "id": "b70aae57",
   "metadata": {},
   "outputs": [],
   "source": [
    "# !pip install -qU langchain-chroma"
   ]
  },
  {
   "cell_type": "code",
   "execution_count": 11,
   "id": "e0fb628d-da9d-4582-a3bb-181b2d8c26e1",
   "metadata": {},
   "outputs": [],
   "source": [
    " # from langchain_chroma import Chroma\n",
    "\n",
    " # collection_name = \"my_collection\"\n",
    " # vectorstore = Chroma.from_documents(\n",
    " #     collection_name=collection_name,\n",
    " #     documents=splits,\n",
    " #     embedding=embeddings\n",
    " # )\n"
   ]
  },
  {
   "cell_type": "code",
   "execution_count": 12,
   "id": "b248b40f-6d45-4065-9f28-dda082b2907e",
   "metadata": {},
   "outputs": [],
   "source": [
    "# %pip install -qU faiss-cpu"
   ]
  },
  {
   "cell_type": "code",
   "execution_count": 13,
   "id": "f93f7b7c-ba31-4f16-8082-1ff52a2a9a28",
   "metadata": {},
   "outputs": [],
   "source": [
    "from langchain_community.vectorstores import FAISS\n",
    "\n",
    "pdf_vectors = FAISS.from_documents(documents=splits, \n",
    "                                   embedding=embeddings)"
   ]
  },
  {
   "cell_type": "code",
   "execution_count": 14,
   "id": "8daf171f-cf6c-4f8e-bbc9-ff0ce8653502",
   "metadata": {},
   "outputs": [],
   "source": [
    "class PDFToolSchema(BaseModel):\n",
    "  question: str = Field(description=\"문서에 대한 질문\")\n",
    "\n",
    "# PDF RETRIEVER TOOL\n",
    "@tool(args_schema=PDFToolSchema)\n",
    "def pdf_documents_tool(question):\n",
    "  \"\"\"문서와 관련된 사용자 질문에 답변하기 위해 의미적으로 유사한 문서를 검색하는 도구\"\"\"\n",
    "  print(\"INSIDE pdf_documents_tool\")\n",
    "  retriever = pdf_vectors.as_retriever(search_type='similarity', search_kwargs={\"k\": 3})\n",
    "  docs = retriever.invoke(question)\n",
    "  return \"/n/n\".join(doc.page_content for doc in docs)"
   ]
  },
  {
   "cell_type": "markdown",
   "id": "e800e352-d2c2-49d7-8856-40f6436b1924",
   "metadata": {},
   "source": [
    "### Movie Agent Tool"
   ]
  },
  {
   "cell_type": "code",
   "execution_count": 15,
   "id": "f7e7e731-e23b-4288-af85-052ebcfaf09c",
   "metadata": {},
   "outputs": [],
   "source": [
    "from langchain_community.document_loaders import CSVLoader\n",
    "from langchain_chroma import Chroma\n",
    "\n",
    "\n",
    "# Load movie data from csv file\n",
    "load_movie_data = CSVLoader(\"./data/top_100_movies.csv\")\n",
    "data = load_movie_data.load()\n",
    "\n",
    "# Split the documents into smaller chunks\n",
    "text_splitter = RecursiveCharacterTextSplitter(chunk_size=1000, chunk_overlap=0)\n",
    "docs = text_splitter.split_documents(data)\n",
    "\n",
    "movie_vectors = FAISS.from_documents(documents=docs, \n",
    "                                   embedding=embeddings)"
   ]
  },
  {
   "cell_type": "code",
   "execution_count": 16,
   "id": "7c624524-99dc-4161-8330-22ce1cecde8b",
   "metadata": {},
   "outputs": [],
   "source": [
    "class MovieToolSchema(BaseModel):\n",
    "  question: str = Field(description=\"Question about the Movies csv document\")\n",
    "\n",
    "# MOVIE RETRIEVER TOOL\n",
    "@tool(args_schema=MovieToolSchema)\n",
    "def movie_documents_tool(question):\n",
    "  \"\"\"Tool to Retrieve Semantically Similar documents to answer User Questions related movies, share info from csv documents\"\"\"\n",
    "  print(\"INSIDE movie_documents_tool\")\n",
    "  retriever = movie_vectors.as_retriever(search_type='similarity' , search_kwargs={\"k\": 5})\n",
    "  docs = retriever.invoke(question)\n",
    "  return \"/n/n\".join(doc.page_content for doc in docs)"
   ]
  },
  {
   "cell_type": "markdown",
   "id": "92a4aab3-2ddb-4350-ad99-2f3efa004259",
   "metadata": {},
   "source": [
    "### Math Agent Tools:"
   ]
  },
  {
   "cell_type": "code",
   "execution_count": 17,
   "id": "e9c5d614-d4ea-4501-901e-5c155fcbacd9",
   "metadata": {},
   "outputs": [],
   "source": [
    "@tool\n",
    "def get_sum(a: float, b: float) -> float:\n",
    "    \"\"\"Returns the sum of two numbers.\"\"\"\n",
    "    return a + b\n",
    "\n",
    "@tool\n",
    "def get_subtraction(a: float, b: float) -> float:\n",
    "    \"\"\"Returns the subtraction of two numbers.\"\"\"\n",
    "    return a - b\n",
    "\n",
    "@tool\n",
    "def get_multiplication(a: float, b: float) -> float:\n",
    "    \"\"\"Returns the multiplication of two numbers.\"\"\"\n",
    "    return a * b\n",
    "\n",
    "@tool\n",
    "def get_division(a: float, b: float) -> float:\n",
    "    \"\"\"Returns the division of two numbers.\"\"\"\n",
    "    if b == 0:\n",
    "        return float(\"inf\")  # or raise an error\n",
    "    return a / b\n",
    "\n",
    "@tool\n",
    "def get_modulus(a: float, b: float) -> float:\n",
    "    \"\"\"Returns the modulus of two numbers.\"\"\"\n",
    "    if b == 0:\n",
    "        return float(\"nan\")  # or raise an error\n",
    "    return a % b\n",
    "\n",
    "@tool\n",
    "def get_power(a: float, b: float) -> float:\n",
    "    \"\"\"Returns the result of raising a to the power of b.\"\"\"\n",
    "    return a ** b"
   ]
  },
  {
   "cell_type": "markdown",
   "id": "46d87547-1821-4d23-b925-2e267c03b51f",
   "metadata": {},
   "source": [
    "## 에이전트 구성"
   ]
  },
  {
   "cell_type": "markdown",
   "id": "bc504f85-abf3-4b0a-95d4-9a297eca9aeb",
   "metadata": {},
   "source": [
    "이제 모든 도구가 준비되었으므로, 에이전트 구축을 시작할 수 있습니다.  \n",
    "`Command` 클래스를 사용하여 **상태(State)** 를 업데이트하고, 서로 다른 노드 또는 에이전트 간의 **라우팅을 관리**할 것입니다."
   ]
  },
  {
   "cell_type": "markdown",
   "id": "7c8a0479-9630-432d-9478-1ba25aec7308",
   "metadata": {},
   "source": [
    "### Enhancer 에이전트"
   ]
  },
  {
   "cell_type": "markdown",
   "id": "a0c4188d-f48c-47c4-9846-459580caeb87",
   "metadata": {},
   "source": [
    "사용자의 질의를 다른 에이전트에게 전달하기 전에 내용을 명확히 하거나 문맥을 추가하여 질의를 정제하거나 향상시키는 역할을 합니다."
   ]
  },
  {
   "cell_type": "code",
   "execution_count": 18,
   "id": "cc960c60-238a-4d17-8c64-6e602b8e0909",
   "metadata": {},
   "outputs": [],
   "source": [
    "def enhancer_node(state: MessagesState) -> Command[Literal[\"supervisor\"]]:\n",
    "\n",
    "    \"\"\"\n",
    "    사용자 질의를 개선하고 명확하게 만드는 향상(Enhancer) 에이전트 노드입니다.\n",
    "    원래의 사용자 입력을 받아 보다 정확하고 실행 가능한 요청으로 변환한 후,\n",
    "    이를 슈퍼바이저에게 전달합니다.\n",
    "    \"\"\"\n",
    "\n",
    "    system_prompt = (\n",
    "        \"당신은 사용자의 모호한 요청을 명확한 지시로 변환하는 데 전문성을 가진 질의 개선 전문가입니다. 당신의 책임은 다음과 같습니다:\\n\\n\"\n",
    "        \"1. 원래의 질의를 분석하여 핵심 의도와 요구 사항을 식별합니다.\\n\"\n",
    "        \"2. 추가적인 사용자 입력을 요청하지 않고 모든 모호함을 해결합니다.\\n\"\n",
    "        \"3. 충분히 구체화되지 않은 질의의 부분을 합리적인 가정을 통해 확장합니다.\\n\"\n",
    "        \"4. 질의를 명확하고 실행 가능한 형태로 재구성합니다.\\n\"\n",
    "        \"5. 모든 기술 용어가 문맥상 적절하게 정의되어 있는지 확인합니다.\\n\\n\"\n",
    "        \"중요: 사용자에게 다시 질문하지 마십시오. 대신, 정보에 기반한 가정을 통해 가능한 가장 포괄적인 형태의 요청을 작성하십시오.\"\n",
    "    )\n",
    "\n",
    "    messages = [\n",
    "        {\"role\": \"system\", \"content\": system_prompt},\n",
    "    ] + state[\"messages\"]\n",
    "\n",
    "    enhanced_query = llm.invoke(messages)\n",
    "\n",
    "    print(f\"--- Workflow Transition: Prompt Enhancer → Supervisor ---\")\n",
    "\n",
    "    return Command(\n",
    "        update={\n",
    "            \"messages\": [\n",
    "                HumanMessage(\n",
    "                    content=enhanced_query.content,\n",
    "                    name=\"enhancer\"\n",
    "                )\n",
    "            ]\n",
    "        },\n",
    "        goto=\"supervisor\",\n",
    "    )"
   ]
  },
  {
   "cell_type": "markdown",
   "id": "a2404625-4c96-4811-9fbf-f39867cd21bf",
   "metadata": {},
   "source": [
    "### 검증(Validator) 에이전트"
   ]
  },
  {
   "cell_type": "code",
   "execution_count": 19,
   "id": "bea54f66-c847-45d0-b2c9-6116c9352725",
   "metadata": {},
   "outputs": [],
   "source": [
    "# System prompt providing clear instructions to the validator agent\n",
    "system_prompt = '''\n",
    "    당신의 임무는 합리적인 품질을 보장하는 것입니다.  \n",
    "    구체적으로 다음을 수행해야 합니다:\n",
    "    \n",
    "    - 사용자의 질문(워크플로의 첫 번째 메시지)을 검토합니다.  \n",
    "    - 응답(워크플로의 마지막 메시지)을 검토합니다.  \n",
    "    - 응답이 질문의 핵심 의도를 완전히 충족하지는 않더라도 어느 정도 충족한다면, 'FINISH'로 워크플로를 종료하도록 지시합니다.  \n",
    "    - 응답이 완전히 엉뚱하거나, 해롭거나, 질문을 근본적으로 오해한 경우에만 supervisor로 다시 라우팅합니다.\n",
    "    \n",
    "    - \"충분히 괜찮은\" 응답은 수용합니다. 완벽할 필요는 없습니다.  \n",
    "    - 워크플로의 완료를 완벽한 응답보다 우선시합니다.  \n",
    "    - 경계선에 있는 응답에는 의심의 여지를 주고 수용하는 쪽을 택합니다.\n",
    "    \n",
    "    라우팅 지침:  \n",
    "    1. 'supervisor' 에이전트: 응답이 완전히 잘못되었거나 엉뚱한 경우에만 해당  \n",
    "    2. 그 외 모든 경우에는 'FINISH'로 응답하여 워크플로를 종료합니다.\n",
    "'''\n",
    "\n",
    "class Validator(BaseModel):\n",
    "    next: Literal[\"supervisor\", \"FINISH\"] = Field(\n",
    "        description=\"파이프라인에서 다음 작업자를 지정합니다. 계속 진행하려면 'supervisor', 종료하려면 'FINISH'를 사용합니다.\"\n",
    "    )\n",
    "    reason: str = Field(\n",
    "        description=\"결정을 내린 이유.\"\n",
    "    )\n",
    "\n",
    "def validator_node(state: MessagesState) -> Command[Literal[\"supervisor\", \"__end__\"]]:\n",
    "\n",
    "    user_question = state[\"messages\"][0].content\n",
    "    agent_answer = state[\"messages\"][-1].content\n",
    "\n",
    "    messages = [\n",
    "        {\"role\": \"system\", \"content\": system_prompt},\n",
    "        {\"role\": \"user\", \"content\": user_question},\n",
    "        {\"role\": \"assistant\", \"content\": agent_answer},\n",
    "    ]\n",
    "\n",
    "    response = llm.with_structured_output(Validator).invoke(messages)\n",
    "\n",
    "    goto = response.next\n",
    "    reason = response.reason\n",
    "\n",
    "    if goto == \"FINISH\" or goto == END:\n",
    "        goto = END\n",
    "        print(\" --- Transitioning to END ---\")\n",
    "    else:\n",
    "        print(f\"--- Workflow Transition: Validator → Supervisor ---\")\n",
    "\n",
    "    \n",
    "    return Command(\n",
    "        update={\n",
    "            \"messages\": [\n",
    "                HumanMessage(content=reason, name=\"validator\")\n",
    "            ]\n",
    "        },\n",
    "        goto=goto,\n",
    "    )"
   ]
  },
  {
   "cell_type": "markdown",
   "id": "608cb7bb-943d-4400-ab16-c34cc56737f8",
   "metadata": {},
   "source": [
    "### 개별 에이전트 구현:\n"
   ]
  },
  {
   "cell_type": "markdown",
   "id": "6a5d0e15-8bc1-47c1-b6fb-dd05d40e5c42",
   "metadata": {},
   "source": [
    "이제 각 에이전트를 정의하기 위해, 개별 LangGraph 그래프를 생성하는 사용자 정의 함수를 사용해 보겠습니다.  \n",
    "이러한 모듈형 방식은 각 에이전트가 고유한 워크플로우를 가지도록 하여 독립적으로 동작할 수 있게 하며, 요청을 처리하고 도구를 활용하는 구조는 일관되게 유지할 수 있습니다."
   ]
  },
  {
   "cell_type": "code",
   "execution_count": 20,
   "id": "3677d85a-61d2-41a9-a2e1-7360401c95d0",
   "metadata": {},
   "outputs": [],
   "source": [
    "# Custom Agent State\n",
    "class AgentState(TypedDict):\n",
    "    \"\"\"The state of the agent.\"\"\"\n",
    "    messages: Annotated[Sequence[BaseMessage], add_messages]\n",
    "\n",
    "# Create Custom Agent with llm and tools\n",
    "def create_agent(llm, tools):\n",
    "    llm_with_tools = llm.bind_tools(tools)\n",
    "\n",
    "    def chatbot(state: AgentState):\n",
    "        return {\"messages\": [llm_with_tools.invoke(state[\"messages\"])]}\n",
    "\n",
    "    graph_builder = StateGraph(AgentState)\n",
    "    graph_builder.add_node(\"agent\", chatbot)\n",
    "\n",
    "    tool_node = ToolNode(tools=tools)\n",
    "    graph_builder.add_node(\"tools\", tool_node)\n",
    "\n",
    "    graph_builder.add_conditional_edges(\n",
    "        \"agent\",\n",
    "        tools_condition,\n",
    "    )\n",
    "    graph_builder.add_edge(\"tools\", \"agent\")\n",
    "    graph_builder.set_entry_point(\"agent\")\n",
    "    return graph_builder.compile()"
   ]
  },
  {
   "cell_type": "markdown",
   "id": "eb2a7f54-13b6-4a1b-acf4-6bfd8d58112d",
   "metadata": {},
   "source": [
    "### Agent Researcher and Graph Node:"
   ]
  },
  {
   "cell_type": "markdown",
   "id": "f231e694-7f63-4f0c-b69f-258ea1d59933",
   "metadata": {},
   "source": [
    "검색 엔진 도구(예: Tavily)를 사용하여 실시간 웹 조사를 수행하고 최신 정보를 검색합니다."
   ]
  },
  {
   "cell_type": "code",
   "execution_count": 21,
   "id": "935fa050-75b3-4ad5-b12a-806f7def2d3e",
   "metadata": {},
   "outputs": [],
   "source": [
    "researcher_agent = create_agent(llm, [web_search_tool])\n",
    "\n",
    "def researcher_node(state: MessagesState) -> Command[Literal[\"validator\"]]:\n",
    "    result = researcher_agent.invoke(state)\n",
    "\n",
    "    return Command(\n",
    "        update={\n",
    "            \"messages\": [\n",
    "                HumanMessage(\n",
    "                    content=result[\"messages\"][-1].content,\n",
    "                    name=\"researcher\"\n",
    "                )\n",
    "            ]\n",
    "        },\n",
    "        goto=\"validator\",\n",
    "    )"
   ]
  },
  {
   "cell_type": "markdown",
   "id": "5745af6d-dfea-4de0-aca9-45201c36c666",
   "metadata": {},
   "source": [
    "### Agent Pdf RAG and Graph Node:"
   ]
  },
  {
   "cell_type": "markdown",
   "id": "fc6fde9d-baad-4be9-9aca-29685495e273",
   "metadata": {},
   "source": [
    "PDF 리트리버를 사용하여 여러 PDF 문서에서 관련 내용을 검색하고, RAG(검색 증강 생성) 기법을 적용합니다."
   ]
  },
  {
   "cell_type": "code",
   "execution_count": 22,
   "id": "ee4e2bdc-4ade-4621-b78d-d31a55420475",
   "metadata": {},
   "outputs": [],
   "source": [
    "pdf_agent = create_agent(llm, [pdf_documents_tool])\n",
    "\n",
    "def pdf_node(state: MessagesState) -> Command[Literal[\"validator\"]]:\n",
    "    result = pdf_agent.invoke(state)\n",
    "\n",
    "    return Command(\n",
    "        update={\n",
    "            \"messages\": [\n",
    "                HumanMessage(\n",
    "                    content=result[\"messages\"][-1].content,\n",
    "                    name=\"pdf_rag\"\n",
    "                )\n",
    "            ]\n",
    "        },\n",
    "        goto=\"validator\",\n",
    "    )"
   ]
  },
  {
   "cell_type": "markdown",
   "id": "79473177-fe7c-471e-8814-f41aad284ab0",
   "metadata": {},
   "source": [
    "### Agent Movie RAG and Graph Node:"
   ]
  },
  {
   "cell_type": "markdown",
   "id": "bf57f7db-a13e-447f-a142-d84047ed0f63",
   "metadata": {},
   "source": [
    "CSV 기반 리트리버를 사용하여 영화 데이터셋과 관련된 질문에 답변합니다."
   ]
  },
  {
   "cell_type": "code",
   "execution_count": 23,
   "id": "5808cc2b-0119-4dd6-bf7f-8aaba66ba267",
   "metadata": {},
   "outputs": [],
   "source": [
    "movie_agent = create_agent(llm, [movie_documents_tool])\n",
    "\n",
    "def movie_node(state: MessagesState) -> Command[Literal[\"validator\"]]:\n",
    "    result = movie_agent.invoke(state)\n",
    "\n",
    "    return Command(\n",
    "        update={\n",
    "            \"messages\": [\n",
    "                HumanMessage(\n",
    "                    content=result[\"messages\"][-1].content,\n",
    "                    name=\"movie_rag\"\n",
    "                )\n",
    "            ]\n",
    "        },\n",
    "        goto=\"validator\",\n",
    "    )"
   ]
  },
  {
   "cell_type": "markdown",
   "id": "a4dac9db-c0f2-483a-9369-11b36fd6c644",
   "metadata": {},
   "source": [
    "### Agent Math Expert and Graph Node:"
   ]
  },
  {
   "cell_type": "markdown",
   "id": "fc9fcac3-86e1-439c-9fb8-dcccfb9a3e09",
   "metadata": {},
   "source": [
    "Wolfram이나 LangChain의 내장 수학 기능과 같은 계산 도구를 사용하여 수학 문제를 해결합니다."
   ]
  },
  {
   "cell_type": "code",
   "execution_count": 24,
   "id": "5106ec8e-6b88-4ec4-baa2-e68a8aa01db7",
   "metadata": {},
   "outputs": [],
   "source": [
    "math_expert_agent = create_agent(llm, [get_sum, get_subtraction, get_multiplication, get_division, get_modulus, get_power])\n",
    "\n",
    "def math_expert_Node(state: MessagesState) -> Command[Literal[\"validator\"]]:\n",
    "    result = math_expert_agent.invoke(state)\n",
    "\n",
    "    return Command(\n",
    "        update={\n",
    "            \"messages\": [\n",
    "                HumanMessage(\n",
    "                    content=result[\"messages\"][-1].content,\n",
    "                    name=\"math_expert\"\n",
    "                )\n",
    "            ]\n",
    "        },\n",
    "        goto=\"validator\",\n",
    "    )"
   ]
  },
  {
   "cell_type": "markdown",
   "id": "26d14a40-1e72-411d-a1bd-107fd7aaf77a",
   "metadata": {},
   "source": [
    "### Implementing the Supervisor Agent:"
   ]
  },
  {
   "cell_type": "markdown",
   "id": "28e41177-fe04-4d55-b48b-b2fe93fae003",
   "metadata": {},
   "source": [
    "Supervisor 에이전트는 전문화된 에이전트들 간의 대화 흐름을 조율하는 역할을 담당합니다. 현재 작업을 어떤 에이전트가 처리할지 결정하고, 에이전트 간의 전환을 관리합니다. 작업이 완료되면 Supervisor는 응답을 최종 확정하거나 추가 처리를 다른 에이전트에 위임합니다. 이제 이러한 로직을 어떻게 구현하는지 살펴보겠습니다."
   ]
  },
  {
   "cell_type": "code",
   "execution_count": 25,
   "id": "645c0924-84e7-4fcf-984d-7f8703788a2d",
   "metadata": {},
   "outputs": [],
   "source": [
    "class Supervisor(BaseModel):\n",
    "    next: Literal[\"enhancer\", \"researcher\", \"pdf_rag\", \"movie_rag\", \"math_expert\"] = Field(\n",
    "        description=\"워크플로우 순서에서 다음으로 활성화할 전문가를 결정합니다: \"\n",
    "                    \"'enhancer'는 사용자 입력에 명확화, 확장 또는 정제가 필요한 경우, \"\n",
    "                    \"'researcher'는 추가적인 사실, 맥락 또는 데이터 수집이 필요한 경우에 사용됩니다. \"\n",
    "    )\n",
    "    reason: str = Field(\n",
    "        description=\"특정 전문가를 선택한 결정에 대한 자세한 정당화로, 선택한 이유와 이 선택이 과업을 완수하는 데 어떻게 기여하는지를 설명합니다.\"\n",
    "    )\n",
    "\n",
    "def supervisor_node(state: MessagesState) -> Command[Literal[\"enhancer\", \"researcher\", \"pdf_rag\", \"movie_rag\", \"math_expert\"]]:\n",
    "\n",
    "    system_prompt = ('''\n",
    "\n",
    "        당신은 Prompt Enhancer, Researcher, PDF Documents RAG, Movie Documents RAG, Math Expert, 이렇게  5개의 전문 에이전트로 구성된 팀을 관리하는 워크플로우 감독자입니다. 당신의 역할은 작업의 현재 상태와 요구 사항에 따라 가장 적절한 다음 에이전트를 선택하여 워크플로우를 조율하는 것입니다. 각 결정에 대해 명확하고 간결한 근거를 제공하여 의사결정 과정을 투명하게 유지하십시오.\n",
    "        \n",
    "        **팀 구성원**:\n",
    "        1. **Prompt Enhancer**: 항상 이 에이전트를 우선적으로 고려하세요. 이 에이전트는 모호한 요청을 명확히 하고, 정의가 불충분한 질의를 개선하며, 보다 깊은 처리를 시작하기 전에 작업이 잘 구조화되었는지 확인합니다.\n",
    "        2. **Researcher**: 정보 수집, 사실 확인, 사용자 요청을 처리하는 데 필요한 관련 데이터 수집을 전문으로 합니다. 금융 관련 질문은 처리하지 않습니다.\n",
    "        3. **PDF Documents RAG**: 벡터 데이터베이스에서 관련 문서를 수집하고 검색하는 데 특화되어 있습니다.\n",
    "        4. **Movie Documents RAG**: 영화와 관련된 벡터 데이터베이스에서 관련 문서를 수집하고 검색하는 데 특화되어 있습니다.\n",
    "        5. **Math Expert**: 수학 연산을 전문으로 처리합니다. 수학 관련 질문이 있을 경우 반드시 Math Expert 도구만 호출하십시오.\n",
    "        \n",
    "        **당신의 책임**:\n",
    "        1. 각 사용자 요청과 에이전트 응답을 완전성, 정확성, 관련성 측면에서 분석합니다.\n",
    "        2. 각 결정 시점에서 작업을 가장 적절한 에이전트에게 라우팅합니다.\n",
    "        3. 중복되는 에이전트 할당을 피하여 워크플로우의 효율성을 유지합니다.\n",
    "        4. 사용자의 요청이 완전하고 만족스럽게 해결될 때까지 프로세스를 계속합니다.\n",
    "        \n",
    "        당신의 목표는 각 에이전트의 강점을 효과적으로 활용하면서 불필요한 단계를 최소화하고, 궁극적으로 사용자 요청에 대해 완전하고 정확한 솔루션을 제공하는 효율적인 워크플로우를 만드는 것입니다.\n",
    "        \n",
    "    ''')\n",
    "\n",
    "    messages = [\n",
    "        {\"role\": \"system\", \"content\": system_prompt},\n",
    "    ] + state[\"messages\"]\n",
    "\n",
    "    response = llm.with_structured_output(Supervisor).invoke(messages)\n",
    "\n",
    "    goto = response.next\n",
    "    reason = response.reason\n",
    "\n",
    "    print(f\"--- Workflow Transition: Supervisor → {goto.upper()} ---\")\n",
    "\n",
    "    return Command(\n",
    "        update={\n",
    "            \"messages\": [\n",
    "                HumanMessage(content=reason, name=\"supervisor\")\n",
    "            ]\n",
    "        },\n",
    "        goto=goto,\n",
    "    )"
   ]
  },
  {
   "cell_type": "markdown",
   "id": "3f24ebac-f1f7-4bf1-af86-d22e38ed6d82",
   "metadata": {},
   "source": [
    "## Putting It All Together\n",
    "### 그래프 만들기"
   ]
  },
  {
   "cell_type": "markdown",
   "id": "c2ca43b2-9960-43a9-8e8a-687a37ae2d3e",
   "metadata": {},
   "source": [
    "마지막으로, 모든 에이전트를 연결하는 메인 그래프를 생성해봅시다:"
   ]
  },
  {
   "cell_type": "code",
   "execution_count": 26,
   "id": "2834b76f-4d26-47a5-a285-11c66f7ca9ac",
   "metadata": {},
   "outputs": [],
   "source": [
    "builder = StateGraph(MessagesState)\n",
    "\n",
    "builder.add_node(\"supervisor\", supervisor_node)\n",
    "builder.add_node(\"enhancer\", enhancer_node)\n",
    "builder.add_node(\"researcher\", researcher_node)\n",
    "builder.add_node(\"pdf_rag\", pdf_node)\n",
    "builder.add_node(\"movie_rag\", movie_node)\n",
    "builder.add_node(\"math_expert\", math_expert_Node)\n",
    "builder.add_node(\"validator\", validator_node)\n",
    "\n",
    "builder.add_edge(START, \"supervisor\")\n",
    "graph = builder.compile()"
   ]
  },
  {
   "cell_type": "markdown",
   "id": "b074e4da-5e21-46e2-bcf2-e280e508ef36",
   "metadata": {},
   "source": [
    "### Visualizing the LangGraph"
   ]
  },
  {
   "cell_type": "code",
   "execution_count": 27,
   "id": "0b30ad4e-9f56-4793-a0de-65f453292f96",
   "metadata": {},
   "outputs": [
    {
     "data": {
      "image/png": "[encoded data removed]",
      "text/plain": [
       "<IPython.core.display.Image object>"
      ]
     },
     "metadata": {},
     "output_type": "display_data"
    }
   ],
   "source": [
    "from IPython.display import Image, display\n",
    "\n",
    "try:\n",
    "    display(Image(graph.get_graph().draw_mermaid_png()))\n",
    "except Exception:\n",
    "    # You can put your exception handling code here\n",
    "    pass"
   ]
  },
  {
   "cell_type": "markdown",
   "id": "4838c446-cd9c-4acf-a6fb-e766068e91b1",
   "metadata": {},
   "source": [
    "## 실행"
   ]
  },
  {
   "cell_type": "code",
   "execution_count": 29,
   "id": "03b6eecf-f489-46a8-a1e5-617459ada21c",
   "metadata": {},
   "outputs": [
    {
     "name": "stdout",
     "output_type": "stream",
     "text": [
      "--- Workflow Transition: Supervisor → RESEARCHER ---\n",
      "\"******Output from node****** 'supervisor':\"\n",
      "HumanMessage(content='제주의 날씨에 대한 정보는 현재 데이터 수집을 필요로 하므로 Researcher 에이전트를 호출하여 관련 정보를 검색할 수 있도록 하겠습니다.', additional_kwargs={}, response_metadata={}, name='supervisor', id='6f5e3891-7148-43f3-9626-07f0c01b2dc5')\n",
      "\n",
      "\"******Output from node****** 'researcher':\"\n",
      "HumanMessage(content='현재 제주의 날씨에 대한 정보를 아래의 링크에서 확인할 수 있습니다.\\n\\n1. [AccuWeather - 제주시, 제주도](https://www.accuweather.com/ko/kr/jeju/224209/weather-forecast/224209)\\n   - 제주시에서는 흐리고 습하며 일부 지역에 뇌우가 내릴 가능성이 있습니다. 다소 높은 기온과 습도가 예상됩니다.\\n\\n2. [기상청 - 제주특별자치도 중기예보](https://www.weather.go.kr/w/weather/forecast/mid-term.do?stnId1=184)\\n   - 13일(일)에서 14일(월) 사이에 비가 내릴 예정이며, 아침 기온은 24~26도, 낮 기온은 30~32도로 예상됩니다.\\n\\n이 링크들을 통해 자세한 날씨 예보를 확인하세요!', additional_kwargs={}, response_metadata={}, name='researcher', id='c7e7f170-4a9e-4e1a-91a9-ec7c233094c2')\n",
      "\n"
     ]
    },
    {
     "name": "stderr",
     "output_type": "stream",
     "text": [
      "Task validator with path ('__pregel_pull', 'validator') wrote to unknown channel branch:to:__end__, ignoring it.\n"
     ]
    },
    {
     "name": "stdout",
     "output_type": "stream",
     "text": [
      " --- Transitioning to END ---\n",
      "\"******Output from node****** 'validator':\"\n",
      "HumanMessage(content='응답에서 제주 날씨에 대한 정보와 관련된 링크를 제공하여 질문의 의도를 부분적으로 충족했습니다.', additional_kwargs={}, response_metadata={}, name='validator', id='d76a9907-9b38-40d1-a358-5dd03e12364e')\n",
      "\n"
     ]
    }
   ],
   "source": [
    "import pprint\n",
    "\n",
    "inputs = {\n",
    "    \"messages\": [\n",
    "        (\"user\", \"제주의 날씨는? \"),\n",
    "    ]\n",
    "}\n",
    "\n",
    "for event in graph.stream(inputs):\n",
    "    for key, value in event.items():\n",
    "        if value is None:\n",
    "            continue\n",
    "        last_message = value.get(\"messages\", [])[-1] if \"messages\" in value else None\n",
    "        if last_message:\n",
    "            pprint.pprint(f\"******Output from node****** '{key}':\")\n",
    "            pprint.pprint(last_message, indent=2, width=80, depth=None)\n",
    "            print()"
   ]
  },
  {
   "cell_type": "code",
   "execution_count": null,
   "id": "24306db2-7f48-43c4-8275-9554f0579011",
   "metadata": {},
   "outputs": [],
   "source": []
  },
  {
   "cell_type": "code",
   "execution_count": null,
   "id": "99bce208-074b-4f0a-8a44-26bf58b11bf2",
   "metadata": {},
   "outputs": [],
   "source": []
  },
  {
   "cell_type": "code",
   "execution_count": null,
   "id": "12a34e22-e5f8-4e0c-852e-7b05d11fc472",
   "metadata": {},
   "outputs": [],
   "source": []
  },
  {
   "cell_type": "code",
   "execution_count": null,
   "id": "fcac4a60-eb34-4e8f-a9f7-9d7a0cc2fce5",
   "metadata": {},
   "outputs": [],
   "source": []
  },
  {
   "cell_type": "code",
   "execution_count": null,
   "id": "38328a2d-2695-40b0-a7bd-f974a7566e0e",
   "metadata": {},
   "outputs": [],
   "source": []
  }
 ],
 "metadata": {
  "kernelspec": {
   "display_name": "Python 3 (ipykernel)",
   "language": "python",
   "name": "python3"
  },
  "language_info": {
   "codemirror_mode": {
    "name": "ipython",
    "version": 3
   },
   "file_extension": ".py",
   "mimetype": "text/x-python",
   "name": "python",
   "nbconvert_exporter": "python",
   "pygments_lexer": "ipython3",
   "version": "3.12.4"
  }
 },
 "nbformat": 4,
 "nbformat_minor": 5
}
