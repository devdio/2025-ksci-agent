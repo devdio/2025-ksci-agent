{
 "cells": [
  {
   "cell_type": "markdown",
   "id": "76dad523-b845-4284-9008-03232d1548fa",
   "metadata": {},
   "source": [
    "# 인간 참여 제어 추가 (HIL : human-in-the-loop)"
   ]
  },
  {
   "cell_type": "markdown",
   "id": "64c53f09-2c5f-4090-af96-e7f31a6fb3a7",
   "metadata": {},
   "source": [
    "에이전트는 신뢰할 수 없으며 작업을 성공적으로 완료하려면 사람의 입력이 필요할 수 있습니다. 마찬가지로, 일부 작업의 경우 모든 것이 의도한 대로 실행되는지 확인하기 위해 실행 전에 사람의 승인을 받아야 할 수도 있습니다."
   ]
  },
  {
   "cell_type": "markdown",
   "id": "758846b9-ee92-4ca2-beb3-f856ed629f5e",
   "metadata": {},
   "source": [
    "LangGraph의 **영속성 계층(persistence layer)** 은 사람의 피드백을 기반으로 실행을 **일시 중지하고 다시 이어서 진행**할 수 있는 **human-in-the-loop(사람 개입형)** 워크플로우를 지원합니다.\n",
    "\n",
    "이 기능의 핵심 인터페이스는 `interrupt` 함수입니다."
   ]
  },
  {
   "cell_type": "markdown",
   "id": "b70fe037-eee5-49cd-8ca8-4eb8108abcee",
   "metadata": {},
   "source": [
    "-  노드 내부에서 `interrupt`를 호출하면 **그래프의 실행이 일시 중지**됩니다.\n",
    "-  이후 **사람의 새로운 입력(피드백)** 을 `Command` 객체로 전달하면, 그 시점부터 **다시 실행을 이어갈 수 있습니다.**\n",
    "-  `interrupt`는 사용법이 Python의 내장 함수 `input()`과 비슷하지만, 몇 가지 주의사항이 있습니다.\n",
    "\n"
   ]
  },
  {
   "cell_type": "markdown",
   "id": "df0177d6-94c8-48e1-a870-51ebf7eca5d2",
   "metadata": {},
   "source": [
    "## 1. 환경 설정"
   ]
  },
  {
   "cell_type": "code",
   "execution_count": 5,
   "id": "b80f535c-06be-49de-86a7-9f6dda136a85",
   "metadata": {},
   "outputs": [
    {
     "name": "stdout",
     "output_type": "stream",
     "text": [
      "tvly-dev-GUT1o6jP4Og\n"
     ]
    }
   ],
   "source": [
    "# 환경 변수 확인\n",
    "from dotenv import load_dotenv\n",
    "import os\n",
    "load_dotenv(override=True)\n",
    "\n",
    "TAVILY_API_KEY= os.environ.get(\"TAVILY_API_KEY\")\n",
    "print(TAVILY_API_KEY[:20])"
   ]
  },
  {
   "cell_type": "markdown",
   "id": "e47d728a-3830-4b6a-8bce-ab7065232a67",
   "metadata": {},
   "source": [
    "## 2. `human_assistance` 도구 추가"
   ]
  },
  {
   "cell_type": "code",
   "execution_count": 16,
   "id": "ba8eaa09-674e-48f3-a23c-7108be460795",
   "metadata": {},
   "outputs": [
    {
     "data": {
      "text/plain": [
       "<langgraph.graph.state.StateGraph at 0x174b27d43e0>"
      ]
     },
     "execution_count": 16,
     "metadata": {},
     "output_type": "execute_result"
    }
   ],
   "source": [
    "from typing import Annotated\n",
    "\n",
    "from langchain_tavily import TavilySearch\n",
    "from langchain_core.tools import tool\n",
    "from typing_extensions import TypedDict\n",
    "\n",
    "from langgraph.graph import StateGraph, START, END\n",
    "from langgraph.graph.message import add_messages\n",
    "from langgraph.prebuilt import ToolNode, tools_condition\n",
    "from langchain_openai import ChatOpenAI\n",
    "\n",
    "from langgraph.types import Command, interrupt\n",
    "\n",
    "class State(TypedDict):\n",
    "    messages: Annotated[list, add_messages]\n",
    "\n",
    "graph_builder = StateGraph(State)\n",
    "\n",
    "# 📌 tool 정의\n",
    "@tool\n",
    "def human_assistance(query: str) -> str:\n",
    "    \"\"\"사람의 개입을 요청합니다.\"\"\"\n",
    "    human_response = interrupt({\"query\": query})\n",
    "    return human_response[\"data\"]\n",
    "\n",
    "tool = TavilySearch(max_results=2)\n",
    "# 도구 추가\n",
    "tools = [tool, human_assistance]\n",
    "    \n",
    "def chatbot(state: State):\n",
    "    llm = ChatOpenAI(model=\"gpt-4o-mini\", temperature=0)\n",
    "    llm_with_tools = llm.bind_tools(tools)\n",
    "    response = llm_with_tools.invoke(state[\"messages\"])\n",
    "    # 도구 실행 중에 중단(interrupt)할 것이기 때문에,\n",
    "    # 실행 재개 시 도구 호출이 반복되지 않도록\n",
    "    # 병렬 도구 호출을 비활성화합니다.\n",
    "    assert len(response.tool_calls) <= 1\n",
    "    return {\"messages\": [response]}\n",
    "\n",
    "graph_builder.add_node(\"chatbot\", chatbot)\n",
    "\n",
    "# 📌 ToolNode 추가\n",
    "tool_node = ToolNode(tools=tools)\n",
    "graph_builder.add_node(\"tools\", tool_node)\n",
    "\n",
    "# \n",
    "graph_builder.add_conditional_edges(\n",
    "    \"chatbot\",\n",
    "    # 📌 \"tools\" 또는 END를 리턴한다.\n",
    "    tools_condition,\n",
    ")\n",
    "# Any time a tool is called, we return to the chatbot to decide the next step\n",
    "graph_builder.add_edge(\"tools\", \"chatbot\")\n",
    "graph_builder.add_edge(START, \"chatbot\")"
   ]
  },
  {
   "cell_type": "markdown",
   "id": "c3494703-2d85-4bb0-8dc7-38d289823ea2",
   "metadata": {},
   "source": [
    "## 3. 그래프 컴파일"
   ]
  },
  {
   "cell_type": "code",
   "execution_count": 17,
   "id": "9b379ad5-ab9c-4006-b21c-4ea70fb9f25a",
   "metadata": {},
   "outputs": [],
   "source": [
    "from langgraph.checkpoint.memory import MemorySaver\n",
    "\n",
    "memory = MemorySaver()\n",
    "\n",
    "graph = graph_builder.compile(checkpointer=memory)"
   ]
  },
  {
   "cell_type": "markdown",
   "id": "dd30365b-e0dc-42fc-9da3-21118aebaa67",
   "metadata": {},
   "source": [
    "## 4. 그래프 시각화"
   ]
  },
  {
   "cell_type": "code",
   "execution_count": 18,
   "id": "cff5572f-cf6f-484b-9278-f4a870d7befe",
   "metadata": {},
   "outputs": [
    {
     "data": {
      "image/png": "[encoded data removed]",
      "text/plain": [
       "<IPython.core.display.Image object>"
      ]
     },
     "metadata": {},
     "output_type": "display_data"
    }
   ],
   "source": [
    "from IPython.display import Image, display\n",
    "\n",
    "try:\n",
    "    display(Image(graph.get_graph().draw_mermaid_png()))\n",
    "except Exception:\n",
    "    pass"
   ]
  },
  {
   "cell_type": "code",
   "execution_count": 19,
   "id": "2bc49cab-e3df-4e88-9d7a-3466959eb842",
   "metadata": {},
   "outputs": [
    {
     "name": "stdout",
     "output_type": "stream",
     "text": [
      "================================\u001b[1m Human Message \u001b[0m=================================\n",
      "\n",
      "AI 에이전트를 만들기 위해 전문가의 도움이 필요합니다. 저를 대신해서 도움을 요청하세요?\n",
      "==================================\u001b[1m Ai Message \u001b[0m==================================\n",
      "Tool Calls:\n",
      "  human_assistance (call_5y0Se4CZuYmZ3VtFEodB5gSu)\n",
      " Call ID: call_5y0Se4CZuYmZ3VtFEodB5gSu\n",
      "  Args:\n",
      "    query: AI 에이전트를 만들기 위해 전문가의 도움이 필요합니다. 관련된 조언이나 지원을 받을 수 있는 방법을 알려주세요.\n"
     ]
    }
   ],
   "source": [
    "user_input = \"AI 에이전트를 만들기 위해 전문가의 도움이 필요합니다. 저를 대신해서 도움을 요청하세요?\"\n",
    "config = {\"configurable\": {\"thread_id\": \"1\"}}\n",
    "\n",
    "events = graph.stream({\"messages\": [{\"role\": \"user\", \"content\": user_input}]},config,stream_mode=\"values\")\n",
    "for event in events:\n",
    "    if \"messages\" in event:\n",
    "        event[\"messages\"][-1].pretty_print()"
   ]
  },
  {
   "cell_type": "markdown",
   "id": "514147cb-d27d-42ee-9a5c-cf60cc6e82c5",
   "metadata": {},
   "source": [
    "📌 챗봇이 도구 호출을 생성했지만 실행이 중단되었습니다. 그래프 상태를 살펴보면 도구 노드에서 멈췄음을 알 수 있습니다."
   ]
  },
  {
   "cell_type": "code",
   "execution_count": 20,
   "id": "f3cdd5de-7c88-4384-af7b-f6dd4829625c",
   "metadata": {},
   "outputs": [
    {
     "data": {
      "text/plain": [
       "('tools',)"
      ]
     },
     "execution_count": 20,
     "metadata": {},
     "output_type": "execute_result"
    }
   ],
   "source": [
    "snapshot = graph.get_state(config)\n",
    "snapshot.next"
   ]
  },
  {
   "cell_type": "markdown",
   "id": "3a73761c-048e-4dd9-ab46-a0d720fe42f0",
   "metadata": {},
   "source": [
    "## 5. 실행 재개"
   ]
  },
  {
   "cell_type": "markdown",
   "id": "f06969b4-0d53-4d28-ae7e-0999dfd57419",
   "metadata": {},
   "source": [
    "실행을 다시 시작하려면, 도구가 기대하는 데이터를 담은 `Command` 객체를 전달하면 됩니다.\n",
    "이 데이터의 형식은 필요에 따라 자유롭게 지정할 수 있습니다. 이 예제에서는 \"data\"라는 키를 가진 dict를 사용합니다."
   ]
  },
  {
   "cell_type": "code",
   "execution_count": 22,
   "id": "fe68617c-e21c-42f4-8ab6-271d25185414",
   "metadata": {},
   "outputs": [
    {
     "name": "stdout",
     "output_type": "stream",
     "text": [
      "==================================\u001b[1m Ai Message \u001b[0m==================================\n",
      "Tool Calls:\n",
      "  human_assistance (call_5y0Se4CZuYmZ3VtFEodB5gSu)\n",
      " Call ID: call_5y0Se4CZuYmZ3VtFEodB5gSu\n",
      "  Args:\n",
      "    query: AI 에이전트를 만들기 위해 전문가의 도움이 필요합니다. 관련된 조언이나 지원을 받을 수 있는 방법을 알려주세요.\n",
      "=================================\u001b[1m Tool Message \u001b[0m=================================\n",
      "Name: human_assistance\n",
      "\n",
      "이전트를 구축하시려면 LangGraph를 꼭 확인해보시길 추천드립니다.LangGraph는 단순한 자율 에이전트보다 훨씬 더 신뢰성 있고 확장성 있는 솔루션입니다.\n",
      "==================================\u001b[1m Ai Message \u001b[0m==================================\n",
      "\n",
      "AI 에이전트를 만들기 위해 전문가의 도움을 요청하는 대신, LangGraph를 추천드립니다. LangGraph는 단순한 자율 에이전트보다 훨씬 더 신뢰성 있고 확장성 있는 솔루션입니다. 이 도구를 통해 AI 에이전트를 구축하는 데 필요한 지원을 받을 수 있을 것입니다.\n"
     ]
    }
   ],
   "source": [
    "from langgraph.types import Command\n",
    "\n",
    "human_response = (\n",
    "    \"AI 에이전트를 구축하시려면 LangGraph를 꼭 확인해보시길 추천드립니다.\"\n",
    "    \"LangGraph는 단순한 자율 에이전트보다 훨씬 더 신뢰성 있고 확장성 있는 솔루션입니다.\"\n",
    ")\n",
    "\n",
    "human_command = Command(resume={\"data\": human_response})\n",
    "\n",
    "events = graph.stream(human_command, config, stream_mode=\"values\")\n",
    "for event in events:\n",
    "    if \"messages\" in event:\n",
    "        event[\"messages\"][-1].pretty_print()"
   ]
  },
  {
   "cell_type": "markdown",
   "id": "3df482af-198d-418b-b309-7688a88b2f32",
   "metadata": {},
   "source": [
    "📌 자세한 설명은 [Enable human intervention](https://langchain-ai.github.io/langgraph/how-tos/human_in_the_loop/add-human-in-the-loop/#approve-or-reject) 페이지를 참고하세요"
   ]
  },
  {
   "cell_type": "code",
   "execution_count": null,
   "id": "79a3673e-f82f-4ef2-b8e9-c96b9dd3c730",
   "metadata": {},
   "outputs": [],
   "source": []
  },
  {
   "cell_type": "code",
   "execution_count": null,
   "id": "1c25cddc-89d4-4770-b422-dbdd91b9584d",
   "metadata": {},
   "outputs": [],
   "source": []
  }
 ],
 "metadata": {
  "kernelspec": {
   "display_name": "Python 3 (ipykernel)",
   "language": "python",
   "name": "python3"
  },
  "language_info": {
   "codemirror_mode": {
    "name": "ipython",
    "version": 3
   },
   "file_extension": ".py",
   "mimetype": "text/x-python",
   "name": "python",
   "nbconvert_exporter": "python",
   "pygments_lexer": "ipython3",
   "version": "3.13.4"
  }
 },
 "nbformat": 4,
 "nbformat_minor": 5
}
