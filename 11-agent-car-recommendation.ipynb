{
 "cells": [
  {
   "cell_type": "markdown",
   "id": "b549beac-dd2f-491c-872c-763df8314b43",
   "metadata": {},
   "source": [
    "# 차량 추천"
   ]
  },
  {
   "cell_type": "markdown",
   "id": "4c69c7b7-0e56-4e8f-ad1e-372797fdad71",
   "metadata": {},
   "source": [
    "`langgraph-supervisor`는 LangChain에서 최근 발표된 LangGraph를 활용하여 **계층형 멀티 에이전트 시스템**을 구축하기 위한 Python 라이브러리입니다.\n",
    "중앙의 **슈퍼바이저 에이전트**가 각 전문 에이전트를 총괄하며, **작업 할당**과 **통신 관리**를 담당합니다.\n",
    "이를 통해 복잡한 작업을 효율적으로 처리할 수 있는 유연한 시스템을 구축할 수 있습니다."
   ]
  },
  {
   "cell_type": "markdown",
   "id": "e045636d-f615-4147-8423-d8e8f96e6be3",
   "metadata": {},
   "source": [
    "**주요 기능**\n",
    "- Supervisor Agent 생성:여러 명의 전문 에이전트를 총괄하며, 전체 작업 흐름을 조율합니다.\n",
    "- 툴 기반의 에이전트 간 Handoff 메커니즘:에이전트 간 원활한 통신을 위한 전환(handoff) 메커니즘을 제공합니다.\n",
    "- 유연한 메시지 기록 관리:대화의 흐름을 쉽게 제어할 수 있도록, 메시지 기록을 유연하게 관리할 수 있습니다."
   ]
  },
  {
   "cell_type": "markdown",
   "id": "c840c2a5-b1ed-4fd2-96b3-b12208bf5cc4",
   "metadata": {},
   "source": [
    "## 1. 환경 설정"
   ]
  },
  {
   "cell_type": "code",
   "execution_count": 2,
   "id": "98443688-9479-44e8-932b-661dfcc3fd18",
   "metadata": {},
   "outputs": [
    {
     "name": "stdout",
     "output_type": "stream",
     "text": [
      "Note: you may need to restart the kernel to use updated packages.\n"
     ]
    }
   ],
   "source": [
    "%pip install -qU langchain langgraph langchain-openai langgraph-supervisor"
   ]
  },
  {
   "cell_type": "code",
   "execution_count": 4,
   "id": "8518e9ee-4650-4d71-9680-5c7449591aa5",
   "metadata": {},
   "outputs": [],
   "source": [
    "# 환경 변수 확인\n",
    "from dotenv import load_dotenv\n",
    "import os\n",
    "load_dotenv(override=True)\n",
    "\n",
    "# TAVILY_API_KEY= os.environ.get(\"TAVILY_API_KEY\")\n",
    "# print(TAVILY_API_KEY[:20])\n",
    "\n",
    "def _set_env(var: str):\n",
    "    if not os.environ.get(var):\n",
    "        os.environ[var] = getpass.getpass(f\"{var}: \")\n",
    "\n",
    "_set_env(\"TAVILY_API_KEY\")\n",
    "_set_env(\"OPENAI_API_KEY\")"
   ]
  },
  {
   "cell_type": "markdown",
   "id": "84cb2b5b-fb73-4608-9a10-64f33aff7d05",
   "metadata": {},
   "source": [
    "## 2. LLM 객체 생성"
   ]
  },
  {
   "cell_type": "code",
   "execution_count": 5,
   "id": "63a0a310-301a-407d-a329-c4d774783580",
   "metadata": {},
   "outputs": [],
   "source": [
    "from langchain_openai import ChatOpenAI\n",
    "\n",
    "llm = ChatOpenAI(model_name=\"gpt-4o-mini\")"
   ]
  },
  {
   "cell_type": "markdown",
   "id": "0d43f580-b5a8-49c2-877f-6f7f45803076",
   "metadata": {},
   "source": [
    "## 3. 도구 생성"
   ]
  },
  {
   "cell_type": "code",
   "execution_count": null,
   "id": "7935eefe-5d53-4f48-a758-8fb5969152e9",
   "metadata": {},
   "outputs": [],
   "source": [
    "car_information_path = \"/xxx/xxx/車両情報.csv\""
   ]
  },
  {
   "cell_type": "code",
   "execution_count": null,
   "id": "edce2385-cd7f-4eb5-ae42-ff88c755e3ce",
   "metadata": {},
   "outputs": [],
   "source": [
    "# CSV 파일에서 차량 정보를 불러와 후보를 생성하는 예\n",
    "def get_car_features():\n",
    "    \"\"\"The python code to get car information.\"\"\"\n",
    "    path = car_information_path\n",
    "    df = pd.read_csv(car_information_path)\n",
    "    car_features = df[[\"CAR_NAME\", \"BODY_TYPE\", \"DESCRIPTION\"]].drop_duplicates()\n",
    "    return car_features.to_dict(orient=\"records\")\n",
    "\n",
    "# 선택된 차종에 대해 엔진 타입을 추출하는 예\n",
    "def get_engine_type(selected_car):\n",
    "    \"\"\"The python code to get engine type and engine information.\"\"\"\n",
    "    path = car_information_path\n",
    "    df = pd.read_csv(car_information_path)\n",
    "    engine_types = list(df[df[\"CAR_NAME\"] == selected_car][\"ENGINE_TYPE\"].unique())\n",
    "    return engine_types, \"ENGINE_DETAIL\""
   ]
  },
  {
   "cell_type": "markdown",
   "id": "2f76fc1c-589c-46ea-88ff-a2f98a39e1ad",
   "metadata": {},
   "source": [
    "## 4. 에이전트 생성"
   ]
  },
  {
   "cell_type": "code",
   "execution_count": null,
   "id": "df85539a-7b77-4dcb-a207-d32cce55ed7a",
   "metadata": {},
   "outputs": [],
   "source": [
    "from langgraph.prebuilt import create_react_agent\n",
    "\n",
    "# 차량 추천 에이전트\n",
    "car_agent = create_react_agent(\n",
    "    model=llm,\n",
    "    tools=[get_car_features],\n",
    "    name=\"car_agent\",\n",
    "    prompt=\"\"\"\n",
    "    # 지시문\n",
    "    제안 패턴에 따라 추천할 차량 종류를 선택하고, 그 근거를 약 200자 정도로 설명해주세요.\n",
    "    \"\"\"\n",
    ")\n",
    "\n",
    "# 엔진타입 선택 에이전트 \n",
    "engine_agent = create_react_agent(\n",
    "    model=llm,\n",
    "    tools=[get_engine_type],\n",
    "    name=\"engine_agent\",\n",
    "    prompt=\"\"\"\n",
    "    # 지시문\n",
    "    추천 차량에 가장 적합한 엔진 타입을 선택하고, 그 근거를 약 200자 정도로 설명해주세요.\n",
    "    \"\"\"\n",
    ")"
   ]
  },
  {
   "cell_type": "markdown",
   "id": "b3444726-8308-4253-a428-ff917c5b82a2",
   "metadata": {},
   "source": [
    "## 5. 슈퍼바이저 에이전트"
   ]
  },
  {
   "cell_type": "markdown",
   "id": "b4598260-42d1-4220-a146-866dc6decf00",
   "metadata": {},
   "source": [
    "각 에이전트를 총괄하는 Supervisor를 생성하고, 고객 정보를 바탕으로 최종 제안을 생성합니다.\n",
    "여기서의 핵심 아이디어는 Supervisor에 입력되는 프롬프트를 모듈화하여, 높은 재사용성과 범용성을 확보한 것입니다.\n",
    "role이나 task 변수의 내용과 연결된 에이전트를 바꾸기만 하면, 다른 작업에도 쉽게 응용할 수 있습니"
   ]
  },
  {
   "cell_type": "code",
   "execution_count": null,
   "id": "8cff00b8-b010-4fda-99a0-d8875f6beac7",
   "metadata": {},
   "outputs": [],
   "source": [
    "from langgraph_supervisor import create_supervisor\n",
    "\n",
    "# 프롬프트의 각 모듈 내용을 작성\n",
    "role = \"자동차 판매원\"\n",
    "task = \"고객 정보를 바탕으로, 최적의 자동차와 엔진 타입을 제안해 주세요.\"\n",
    "guideline = \"\"\"\n",
    "    - 출력은 반드시 최종 생성불 포맷에 맞추어서 JSON 형식으로 해주세요.\n",
    "    - 각 근거는 200자 정도의 풍부한 문장으로 작성해 주세요.\n",
    "    \"\"\"\n",
    "output_format = \"\"\"\n",
    "    {\n",
    "        \"제안 내용\": {\n",
    "            \"제안할 차종\",\n",
    "            \"차종 선택의 근거\",\n",
    "            \"선택한 엔진 타입\",\n",
    "            \"엔진 선택 이유\"\n",
    "        }\n",
    "    }\n",
    "    \"\"\"\n",
    "\n",
    "# 프롬프트 작성\n",
    "system_prompt = f\"\"\"\n",
    "    ## 역할\n",
    "    당신은 뛰어난 {role}입니다.\n",
    "\n",
    "    ## 작업 \n",
    "    {task}\n",
    "\n",
    "    ## 가이드라인\n",
    "    {guideline}\n",
    "    \n",
    "    ## 최종 생성물 포맷\n",
    "    {output_format}\n",
    "    \"\"\"\n",
    "\n",
    "# Supervisor 생성\n",
    "workflow = create_supervisor(\n",
    "    # 앞서 생성한 에이전트와 연결\n",
    "    [car_agent, engine_agent],\n",
    "    model=llm,\n",
    "    prompt=system_prompt\n",
    ")\n",
    "\n",
    "# 그래프 컴파일\n",
    "app = workflow.compile()\n"
   ]
  },
  {
   "cell_type": "markdown",
   "id": "0d9262e1-31b0-44c5-baa3-1a61280cbe10",
   "metadata": {},
   "source": [
    "## 6. 실행"
   ]
  },
  {
   "cell_type": "code",
   "execution_count": null,
   "id": "e074118d-29d2-4e89-8261-e1272bc30f33",
   "metadata": {},
   "outputs": [],
   "source": [
    "from langchain.schema import HumanMessage\n",
    "import time\n",
    "\n",
    "# 고객 정보 예시 (필요에 따라 상세 정보를 추가)\n",
    "customer_info = \"고객 정보: 나이 35세, 연비 중시, 현재 탑승 중인 차량은 소형차\"\n",
    "\n",
    "\n",
    "# 실행\n",
    "start_time = time.time()\n",
    "result = app.invoke({\n",
    "    \"messages\": [\n",
    "        {\"role\": \"user\", \"content\": customer_info}\n",
    "    ]\n",
    "})\n",
    "end_time = time.time()\n",
    "\n",
    "# 최종 출력 표시\n",
    "print(\"최종 제안:\")\n",
    "print(result[\"messages\"][-1].content)\n",
    "print(\"실행 시간: {:.3f}초\".format(end_time - start_time))\n"
   ]
  },
  {
   "cell_type": "code",
   "execution_count": null,
   "id": "61e04a5d-ad01-4f77-a2fe-8ab4b1b57b77",
   "metadata": {},
   "outputs": [],
   "source": [
    "# 최종 제안:\n",
    "# {\n",
    "#     \"제안 내용\": {\n",
    "#         \"제안하는 차종\": \"하이브리드 기술을 적용한 최신 컴팩트카\",\n",
    "#         \"차종의 근거\": \"고객은 현재 컴팩트카를 운전 중이며, 연비 성능을 중시하고 있습니다. 하이브리드 기술을 적용한 차량은 연료 사용 효율이 높고, 경제적 부담과 환경에 대한 배려도 우수합니다. 또한, 하이브리드 시스템은 단거리나 도심 주행에도 적합합니다. 따라서 최신 하이브리드 컴팩트카가 최적의 선택지입니다.\",\n",
    "#         \"선택한 엔진 타입\": \"하이브리드 엔진\",\n",
    "#         \"엔진 선택 이유\": \"하이브리드 엔진은 연비 성능이 매우 우수하며, 고객의 니즈인 연료 효율을 최우선으로 고려했습니다. 게다가 컴팩트카와의 궁합도 좋고, 도심 이용이나 일상 이동에서 높은 퍼포먼스를 발휘합니다. 이 엔진의 선택은 쾌적성, 경제성, 환경 성능을 모두 충족합니다.\"\n",
    "#     }\n",
    "# }\n",
    "# 실행 시간: 21.938초\n"
   ]
  },
  {
   "cell_type": "code",
   "execution_count": null,
   "id": "424f1a05-4713-44c0-b994-ea83ffcd046a",
   "metadata": {},
   "outputs": [],
   "source": []
  },
  {
   "cell_type": "code",
   "execution_count": null,
   "id": "03e0702f-3542-4f2d-baca-73903009bebe",
   "metadata": {},
   "outputs": [],
   "source": []
  }
 ],
 "metadata": {
  "kernelspec": {
   "display_name": "Python 3 (ipykernel)",
   "language": "python",
   "name": "python3"
  },
  "language_info": {
   "codemirror_mode": {
    "name": "ipython",
    "version": 3
   },
   "file_extension": ".py",
   "mimetype": "text/x-python",
   "name": "python",
   "nbconvert_exporter": "python",
   "pygments_lexer": "ipython3",
   "version": "3.13.4"
  }
 },
 "nbformat": 4,
 "nbformat_minor": 5
}
