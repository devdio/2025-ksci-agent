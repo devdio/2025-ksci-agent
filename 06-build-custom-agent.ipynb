{
 "cells": [
  {
   "cell_type": "markdown",
   "id": "beda0262-400e-475e-96c7-56dc83e63afe",
   "metadata": {},
   "source": [
    "# 웹검색, RAG, NL2SQL 도구를 사용하는 에이전트 만들기"
   ]
  },
  {
   "cell_type": "markdown",
   "id": "13837c83-a2df-41a3-8597-b84f52d36521",
   "metadata": {},
   "source": [
    "<img src=\"https://cdn.hashnode.com/res/hashnode/image/upload/v1732639865242/450250f2-b59c-4bab-af75-cf4367c2e61b.png?auto=compress,format&format=webp\" />"
   ]
  },
  {
   "cell_type": "markdown",
   "id": "3a519877-7942-4243-afc3-3123b16173d4",
   "metadata": {},
   "source": [
    "## 1. 환경설정"
   ]
  },
  {
   "cell_type": "code",
   "execution_count": 2,
   "id": "2ae03bd6-89da-4dcf-a7db-c6554d2d0f07",
   "metadata": {},
   "outputs": [],
   "source": [
    "!pip install -qU langchain langchain-chroma pypdf sentence-transformers langgraph langchain_openai langchain_community"
   ]
  },
  {
   "cell_type": "code",
   "execution_count": 3,
   "id": "85103a6e-0631-4dbe-a275-821bf12fbad5",
   "metadata": {},
   "outputs": [],
   "source": [
    "# 환경 변수 확인\n",
    "from dotenv import load_dotenv\n",
    "import os\n",
    "load_dotenv(override=True)\n",
    "\n",
    "# TAVILY_API_KEY= os.environ.get(\"TAVILY_API_KEY\")\n",
    "# print(TAVILY_API_KEY[:20])\n",
    "\n",
    "def _set_env(var: str):\n",
    "    if not os.environ.get(var):\n",
    "        os.environ[var] = getpass.getpass(f\"{var}: \")\n",
    "\n",
    "_set_env(\"TAVILY_API_KEY\")\n",
    "_set_env(\"OPENAI_API_KEY\")\n"
   ]
  },
  {
   "cell_type": "markdown",
   "id": "a56c9504-f955-4d08-a07c-9128d49a0fed",
   "metadata": {},
   "source": [
    "## 2. LLM 객체 생성"
   ]
  },
  {
   "cell_type": "code",
   "execution_count": 4,
   "id": "68109db2-24d5-405f-928d-e7948bc4f207",
   "metadata": {},
   "outputs": [],
   "source": [
    "from langchain_openai import ChatOpenAI\n",
    "\n",
    "llm = ChatOpenAI(model_name=\"gpt-4o-mini\")"
   ]
  },
  {
   "cell_type": "markdown",
   "id": "935ea855-db18-4e3c-bfb5-35c5ee745749",
   "metadata": {},
   "source": [
    "## 3. 웹검색 도구"
   ]
  },
  {
   "cell_type": "markdown",
   "id": "910806be-53e7-4c4e-911e-6cc0d404943c",
   "metadata": {},
   "source": [
    "웹 검색 도구를 통합하면 AI 에이전트가 웹에서 실시간 정보를 가져올 수 있습니다. 이번 튜토리얼에서는 `TavilySearch`를 사용하지만, 원하는 웹 검색 도구를 사용할 수도 있습니다."
   ]
  },
  {
   "cell_type": "code",
   "execution_count": 9,
   "id": "17efd8ac-90f8-49ca-8923-3150c753cca2",
   "metadata": {},
   "outputs": [
    {
     "name": "stdout",
     "output_type": "stream",
     "text": [
      "Note: you may need to restart the kernel to use updated packages.\n"
     ]
    }
   ],
   "source": [
    "%pip install -qU langchain-tavily"
   ]
  },
  {
   "cell_type": "code",
   "execution_count": 10,
   "id": "d5bb124b-cd1c-46ec-8e1f-0fef23b562f9",
   "metadata": {},
   "outputs": [],
   "source": [
    "from langchain_tavily import TavilySearch\n",
    "\n",
    "web_search_tool = TavilySearch(max_results=2)"
   ]
  },
  {
   "cell_type": "markdown",
   "id": "79b43b0a-d144-4e25-8be3-ff9f26f93b0b",
   "metadata": {},
   "source": [
    "## 4. Agentic RAG 도구"
   ]
  },
  {
   "cell_type": "markdown",
   "id": "5a8c6915-7091-47fe-8af9-278f3a571a7f",
   "metadata": {},
   "source": [
    "검색 증강 생성(RAG) 도구는 AI 에이전트가 사용자 질문에 적합한 문서를 가져올 수 있도록 지원하여 AI 에이전트의 성능을 향상시킵니다. 결과적으로 사용자는 더욱 정확하고 맥락이 풍부한 답변을 얻을 수 있습니다."
   ]
  },
  {
   "cell_type": "markdown",
   "id": "0b51a8f1-38dd-4f6b-93c3-864713c99a16",
   "metadata": {},
   "source": [
    "### 1. 문서 로드\n",
    "`PyPDFLoader`와 `Docx2txtLoader`를 사용하여 문서 폴더에서 문서를 로드합니다."
   ]
  },
  {
   "cell_type": "code",
   "execution_count": 16,
   "id": "50905337-1a07-4d80-96b1-1d0df8b603fc",
   "metadata": {},
   "outputs": [
    {
     "name": "stdout",
     "output_type": "stream",
     "text": [
      "Loaded 28 documents from the folder.\n"
     ]
    }
   ],
   "source": [
    "from langchain_community.document_loaders import PyPDFLoader, Docx2txtLoader\n",
    "from langchain_core.documents import Document\n",
    "\n",
    "def load_documents(folder_path: str) -> list[Document]:\n",
    "    documents = []\n",
    "    for filename in os.listdir(folder_path):\n",
    "        file_path = os.path.join(folder_path, filename)\n",
    "        if filename.endswith('.pdf'):\n",
    "            loader = PyPDFLoader(file_path)\n",
    "        elif filename.endswith('.docx'):\n",
    "            loader = Docx2txtLoader(file_path)\n",
    "        else:\n",
    "            print(f\"Unsupported file type: {filename}\")\n",
    "            continue\n",
    "        documents.extend(loader.load())\n",
    "    return documents\n",
    "\n",
    "folder_path = \"./docs\"\n",
    "documents = load_documents(folder_path)\n",
    "print(f\"Loaded {len(documents)} documents from the folder.\")"
   ]
  },
  {
   "cell_type": "markdown",
   "id": "f652bf67-b6be-4349-b80b-9c6bfd82d833",
   "metadata": {},
   "source": [
    "사용 문서는 [소프트웨어 정책연구소 AI브리프](https://spri.kr/posts?code=AI-Brief) 문서를 사용합니다."
   ]
  },
  {
   "cell_type": "markdown",
   "id": "bfca7df1-9670-4afc-815e-7b2b2ffa32da",
   "metadata": {},
   "source": [
    "### 2. 문서 분할"
   ]
  },
  {
   "cell_type": "code",
   "execution_count": 19,
   "id": "f20d0b0f-beed-4425-afdc-b15004a23657",
   "metadata": {},
   "outputs": [
    {
     "name": "stdout",
     "output_type": "stream",
     "text": [
      "Split the documents into 71 chunks.\n"
     ]
    }
   ],
   "source": [
    "from langchain_text_splitters import RecursiveCharacterTextSplitter\n",
    "\n",
    "text_splitter = RecursiveCharacterTextSplitter(\n",
    "     chunk_size=1000,\n",
    "     chunk_overlap=200,\n",
    "     length_function=len\n",
    " )\n",
    "\n",
    "splits = text_splitter.split_documents(documents)\n",
    "print(f\"Split the documents into {len(splits)} chunks.\")"
   ]
  },
  {
   "cell_type": "markdown",
   "id": "625223c8-e215-4806-9510-5331922bde8d",
   "metadata": {},
   "source": [
    "### 3. 임베딩 생성"
   ]
  },
  {
   "cell_type": "code",
   "execution_count": 24,
   "id": "3a24ae17-9610-45f0-ba8a-2553165be3ed",
   "metadata": {},
   "outputs": [],
   "source": [
    "from langchain_openai import OpenAIEmbeddings\n",
    "\n",
    "embedding_function = OpenAIEmbeddings(\n",
    "    model=\"text-embedding-3-small\",  # 가격이 저렴\n",
    ")\n"
   ]
  },
  {
   "cell_type": "markdown",
   "id": "36f42b2c-05f7-4895-8c4a-0ba1268fe067",
   "metadata": {},
   "source": [
    "### 4. 벡터스토어"
   ]
  },
  {
   "cell_type": "code",
   "execution_count": 25,
   "id": "5751c37f-c329-461d-971b-994de23dafc8",
   "metadata": {},
   "outputs": [],
   "source": [
    " from langchain_chroma import Chroma\n",
    "\n",
    " collection_name = \"my_collection\"\n",
    " vectorstore = Chroma.from_documents(\n",
    "     collection_name=collection_name,\n",
    "     documents=splits,\n",
    "     embedding=embedding_function,\n",
    "     persist_directory=\"./chroma_db\"\n",
    " )\n"
   ]
  },
  {
   "cell_type": "markdown",
   "id": "bc7c698a-254c-44a8-84b4-b3b5be329f81",
   "metadata": {},
   "source": [
    "### 5. 리트리버 생성"
   ]
  },
  {
   "cell_type": "code",
   "execution_count": 26,
   "id": "6af101be-06ee-4a9c-9843-15a0b1bfd57a",
   "metadata": {},
   "outputs": [],
   "source": [
    " from langchain.tools import tool\n",
    " from pydantic import BaseModel\n",
    "\n",
    " class RagToolSchema(BaseModel):\n",
    "     question: str\n",
    "\n",
    " @tool(args_schema=RagToolSchema)\n",
    " def retriever_tool(question):\n",
    "   \"\"\"사용자 질문에 답하기 위해 의미적으로 유사한 문서를 검색하는 도구\"\"\"\n",
    "   print(\"===== RETRIEVER =====\")\n",
    "   retriever = vectorstore.as_retriever(search_kwargs={\"k\": 2})\n",
    "   retriever_result = retriever.invoke(question)\n",
    "   return \"\\n\\n\".join(doc.page_content for doc in retriever_results)\n"
   ]
  },
  {
   "cell_type": "markdown",
   "id": "10ae6ea3-6c9d-4498-a72c-ff641756b4d8",
   "metadata": {},
   "source": [
    "retriever의 성능을 확인합니다."
   ]
  },
  {
   "cell_type": "code",
   "execution_count": 38,
   "id": "fe09287e-e2b2-49dc-ae69-8e2fa8791158",
   "metadata": {},
   "outputs": [
    {
     "name": "stdout",
     "output_type": "stream",
     "text": [
      "=== RETRIEVER ===\n",
      "Answer: 정책･법제기업･산업기술･연구인력･교육\n",
      "9\n",
      "아마존, 촉각 기능을 갖춘 물류 로봇 ‘벌컨’ 공개n아마존이 처리 가능한 품목을 식별하는 알고리즘이 적용되고 물체의 크기와 모양에 따라 그립 강도를 조절할 수 있는 물류 로봇 ‘벌컨’을 공개n아마존은 미국과 독일의 물류센터에 벌컨을 도입해 직원의 육체적 부담을 줄이고 안전을 개선하고 있으며, 향후 몇 년간 유럽과 미국 전역의 물류센터에 벌컨을 도입할 계획\n",
      "KEY Contents\n",
      "\n",
      "KEY Contents\n",
      "£벌컨, 물품에 접촉하는 지점과 압력을 인식해 좁은 공간에서 물품 이동 능력 제고n아마존(Amazon)이 2025년 5월 7일 로봇공학과 엔지니어링, 피지컬 AI 분야의 핵심 기술을 활용해 제작된 물류 로봇 ‘벌컨(Vulcan)’을 공개∙이전까지는 산업용 로봇에 예상치 않은 접촉이 있으면 비상 정지하거나 접촉을 아예 감지하지 못하는 경우가 일반적이었으나, 벌컨은 촉각 기능을 갖춘 최초의 로봇이라는 점에서 기존 로봇과 차별화∙벌컨에는 처리 가능한 품목과 불가능한 품목을 식별하는 알고리즘과 같은 피지컬 AI 기술이 적용되었으며, 수천 가지 물품을 다루는 실제 사례로 훈련을 진행n아마존 물류센터는 약 0.093제곱미터 크기의 칸에 최대 10개의 상품을 보관하는데, 좁은 공간에서 물품을 잡기가 어려운 기존 산업용 로봇과 달리, 벌컨은 로봇 팔 끝에 부착된 장치(EOAT*)를 통해 물품에 접촉하는 지점과 가해지는 압력을 인식해 손상 없이 물품을 이동 가능   * End of Arm Tooling: 벌컨의 EoAT는 물품을 밀어내는 장치와 집게, 압력 피드백 센서 등으로 구성∙벌컨에 탑재된 집게 장치는 압력 피드백 센서를 바탕으로 물체의 크기와 모양에 따라 그립 강도를 조절할 수 있으며, 카메라로 수납공간을 확인해 물체를 가장 잘 잡을 수 있는 위치를 파악∙벌컨은 물류센터에 보관되는 모든 종류의 품목 중 약 75%를 픽업하고 적재할 수 있고 물품 픽업이 불가능한 경우 직원에게 도움을 청할 수 있으며, 현장 직원과 비슷한 속도로 작업을 진행∙아마존은 미국 워싱턴주와 독일 함부르크의 물류센터에 벌컨을 도입해 직원 안전과 인체공학을 개선하고 있으며, 향후 몇 년간 유럽과 미국 전역의 물류 현장에 벌컨 시스템을 구축할 계획이라고 설명\n",
      " <아마존의 물류 로봇 ‘벌컨’의 도입 현장>\n",
      "출처 | Amazon, Introducing Vulcan: Amazon's first robot with a sense of touch, 2025.05.07.\n"
     ]
    }
   ],
   "source": [
    "question = \"아마존에서 개발한 촉각 기능을 갖춘 물류 로봇의 이름은?\"\n",
    "result = retriever_tool.invoke({\"question\": question})\n",
    "print(f\"Answer: {result}\")"
   ]
  },
  {
   "cell_type": "code",
   "execution_count": 39,
   "id": "ec25f5cc-62ab-42e6-a5a8-0fde025acb30",
   "metadata": {},
   "outputs": [],
   "source": [
    "# retriever = vectorstore.as_retriever(search_kwargs={\"k\": 2})\n",
    "# # pass question\n",
    "# retriever_results = retriever.invoke(\"아마존에서 개발한 촉각 기능을 갖춘 물류 로봇의 이름은?\")\n",
    "# print(retriever_results)"
   ]
  },
  {
   "cell_type": "markdown",
   "id": "0f51aeef-a598-4a1d-bd3c-47b2d76a1942",
   "metadata": {},
   "source": [
    "## 5. NL2SQL 도구"
   ]
  },
  {
   "cell_type": "markdown",
   "id": "29efb1a4-e1b5-47e2-b5b4-513755e237f1",
   "metadata": {},
   "source": [
    "SQL 에이전트는 자연어 질문을 기반으로 SQL 쿼리를 생성하고 실행하여 인간 언어와 SQL 데이터베이스 간의 간극을 메웁니다. 이를 통해 AI 에이전트가 데이터베이스 관련 쿼리에 효율적으로 답변할 수 있습니다."
   ]
  },
  {
   "cell_type": "markdown",
   "id": "6dcd1ab0-36c2-47cf-b2e6-71668dcf0248",
   "metadata": {},
   "source": [
    "### 1. 데이터베이스 설정"
   ]
  },
  {
   "cell_type": "markdown",
   "id": "67e09ca6-5e34-4d37-a741-afde30960716",
   "metadata": {},
   "source": [
    "CHinook 데이터 베이스의 상세 내요은 여기를 [SQLite Sample Database](https://www.sqlitetutorial.net/sqlite-sample-database/) 참고하세요."
   ]
  },
  {
   "cell_type": "code",
   "execution_count": 30,
   "id": "a2e01128-a98c-4353-8b64-8ac890935ce6",
   "metadata": {},
   "outputs": [],
   "source": [
    "from langchain_community.utilities import SQLDatabase\n",
    "\n",
    "db = SQLDatabase.from_uri(\"sqlite:///./db/Chinook.db\")"
   ]
  },
  {
   "cell_type": "markdown",
   "id": "b20b4106-7f10-48c6-95e0-c5b53e6c5fe1",
   "metadata": {},
   "source": [
    "### 2. SQL쿼리"
   ]
  },
  {
   "cell_type": "markdown",
   "id": "ba67e808-0ca4-4224-8aca-ff23668b84a5",
   "metadata": {},
   "source": [
    "이 기능은 매우 중요합니다. 많은 경우 LLM에서 생성된 SQL 쿼리에 불필요한 기호, 텍스트, 백틱 등이 포함되어 있는 문제를 자주 발견됩니다. 따라서 이러한 추가 텍스트를 정리하는 기능을 정의합니다."
   ]
  },
  {
   "cell_type": "code",
   "execution_count": 33,
   "id": "29c2b6ef-0c7e-405c-a39a-597ed1e43f7e",
   "metadata": {},
   "outputs": [],
   "source": [
    "import re\n",
    "\n",
    "def clean_sql_query(text: str) -> str:\n",
    "    \"\"\"\n",
    "    SQL 쿼리에서 코드 블록 문법, 다양한 SQL 태그, 백틱(`), 접두사, 불필요한 공백 등을 제거하여 \n",
    "    핵심 SQL 쿼리만 보존한 채로 정리합니다.\n",
    "    \n",
    "    Args:\n",
    "        text (str): 코드 블록, 태그, 백틱 등을 포함할 수 있는 원본 SQL 쿼리 문자열\n",
    "    \n",
    "    Returns:\n",
    "        str: 정리된(cleaned) SQL 쿼리 문자열\n",
    "\n",
    "    \"\"\"\n",
    "    # 1단계: 코드 블록 문법 및 SQL 관련 태그 제거\n",
    "    # ```sql, ```SQL, ```SQLQuery 등 다양한 변형을 처리합니다.\n",
    "    block_pattern = r\"```(?:sql|SQL|SQLQuery|mysql|postgresql)?\\s*(.*?)\\s*```\"\n",
    "    text = re.sub(block_pattern, r\"\\1\", text, flags=re.DOTALL)\n",
    "\n",
    "    # 2단계: \"SQLQuery:\"와 유사한 접두사 처리\n",
    "    # \"SQLQuery:\", \"SQL Query:\", \"MySQL:\" 등과 같은 패턴을 매칭합니다.\n",
    "    prefix_pattern = r\"^(?:SQL\\s*Query|SQLQuery|MySQL|PostgreSQL|SQL)\\s*:\\s*\"\n",
    "    text = re.sub(prefix_pattern, \"\", text, flags=re.IGNORECASE)\n",
    "\n",
    "    # 3단계: SQL문 뒤에 불필요한 텍스트가 있을 경우, 첫 번째 SQL문만 추출\n",
    "    # 세미콜론(;)으로 끝나는 완전한 SQL문을 찾습니다.\n",
    "    sql_statement_pattern = r\"(SELECT.*?;)\"\n",
    "    sql_match = re.search(sql_statement_pattern, text, flags=re.IGNORECASE | re.DOTALL)\n",
    "    if sql_match:\n",
    "        text = sql_match.group(1)\n",
    "\n",
    "    # 4단계: 식별자(identifier)를 감싸고 있는 백틱(`) 제거\n",
    "    text = re.sub(r'`([^`]*)`', r'\\1', text)\n",
    "\n",
    "    # 5단계: 공백 정규화\n",
    "    # 여러 개의 공백을 하나의 공백으로 변경합니다.\n",
    "    text = re.sub(r'\\s+', ' ', text)\n",
    "\n",
    "    # 6단계: 가독성을 유지하기 위해 주요 SQL 키워드 앞에 줄바꿈을 유지합니다.\n",
    "    keywords = ['SELECT', 'FROM', 'WHERE', 'GROUP BY', 'HAVING', 'ORDER BY',\n",
    "               'LIMIT', 'JOIN', 'LEFT JOIN', 'RIGHT JOIN', 'INNER JOIN',\n",
    "               'OUTER JOIN', 'UNION', 'VALUES', 'INSERT', 'UPDATE', 'DELETE']\n",
    "\n",
    "    # SQL 키워드를 대소문자 구분 없이 치환합니다.\n",
    "    pattern = '|'.join(r'\\b{}\\b'.format(k) for k in keywords)\n",
    "    text = re.sub(f'({pattern})', r'\\n\\1', text, flags=re.IGNORECASE)\n",
    "\n",
    "    # 7단계: 최종 정리\n",
    "    # 앞뒤의 불필요한 공백과 과도한 줄바꿈을 제거합니다.\n",
    "    text = text.strip()\n",
    "    text = re.sub(r'\\n\\s*\\n', '\\n', text)\n",
    "\n",
    "    return text\n"
   ]
  },
  {
   "cell_type": "markdown",
   "id": "96e2e200-78b1-4a39-9587-663f40882308",
   "metadata": {},
   "source": [
    "### 3. NL2SQL"
   ]
  },
  {
   "cell_type": "markdown",
   "id": "10f9cdc0-fdcb-4686-bf59-c19e9e8b0eee",
   "metadata": {},
   "source": [
    "SQL 쿼리를 생성하고 실행하는 도구를 정의합니다."
   ]
  },
  {
   "cell_type": "code",
   "execution_count": 43,
   "id": "ff440fc0-1b2f-4e69-865b-dc5f8d3b22b7",
   "metadata": {},
   "outputs": [],
   "source": [
    " from langchain.chains import create_sql_query_chain\n",
    " from langchain_community.tools import QuerySQLDatabaseTool\n",
    " from operator import itemgetter\n",
    " import re\n",
    " from langchain_core.output_parsers import StrOutputParser\n",
    " from langchain_core.prompts import PromptTemplate\n",
    " from langchain_core.runnables import RunnablePassthrough, RunnableLambda\n",
    "\n",
    " class SQLToolSchema(BaseModel):\n",
    "     question: str\n",
    "\n",
    " @tool(args_schema=SQLToolSchema)\n",
    " def nl2sql_tool(question):\n",
    "   \"\"\"사용자의 질문에 답하기 위해 데이터베이스와 관련된 SQL 쿼리를 생성하고 실행하는 도구\"\"\"\n",
    "   print(\"===== INSIDE NL2SQL TOOL =====\")\n",
    "   execute_query = QuerySQLDataBaseTool(db=db)\n",
    "   write_query = create_sql_query_chain(llm, db)\n",
    "  \n",
    "   chain = (\n",
    "       RunnablePassthrough.assign(query=write_query | RunnableLambda(clean_sql_query)).assign(\n",
    "           result=itemgetter(\"query\") | execute_query\n",
    "       )\n",
    "   )\n",
    "\n",
    "   response = chain.invoke({\"question\": question})\n",
    "   return response['result']\n"
   ]
  },
  {
   "cell_type": "markdown",
   "id": "2bce66d5-7346-4b47-9c8c-d8eb98f03d95",
   "metadata": {},
   "source": [
    "### 4. 테스트"
   ]
  },
  {
   "cell_type": "code",
   "execution_count": 44,
   "id": "ef15d2eb-71ba-4821-a889-427bfba85773",
   "metadata": {},
   "outputs": [
    {
     "name": "stdout",
     "output_type": "stream",
     "text": [
      "===== INSIDE NL2SQL TOOL =====\n",
      "Answer: [(8,)]\n"
     ]
    }
   ],
   "source": [
    "question = \"직원은 몇 명인가요?\"\n",
    "result = nl2sql_tool.invoke({\"question\": question})\n",
    "print(f\"Answer: {result}\")"
   ]
  },
  {
   "cell_type": "markdown",
   "id": "bd0c8484-8d02-42ff-8eab-6507b0c647f2",
   "metadata": {},
   "source": [
    "## 6. 도구 결합"
   ]
  },
  {
   "cell_type": "markdown",
   "id": "478220d4-cf62-42ac-85b6-d5164e113922",
   "metadata": {},
   "source": [
    "완벽하게 작동하는 LangGraph AI 에이전트를 만들려면 WebSearch, RAG, NL2SQL 도구를 LLM에 통합해야 합니다. 그러면 검색 에이전트, RAG 에이전트, SQL 에이전트가 모두 하나로 통합됩니다."
   ]
  },
  {
   "cell_type": "code",
   "execution_count": 45,
   "id": "31286e5d-b5b3-45b2-a542-4ade12a7bfa6",
   "metadata": {},
   "outputs": [],
   "source": [
    "tools = [web_search_tool, retriever_tool, nl2sql_tool]\n",
    "llm_with_tools = llm.bind_tools(tools)"
   ]
  },
  {
   "cell_type": "markdown",
   "id": "ed05e759-c248-415e-a985-6303ea9f7270",
   "metadata": {},
   "source": [
    "## 7. 그래프 구축"
   ]
  },
  {
   "cell_type": "markdown",
   "id": "6dd016a4-0122-4af6-8fd1-e75dea45dcb0",
   "metadata": {},
   "source": [
    "### 1. 상태 정의"
   ]
  },
  {
   "cell_type": "code",
   "execution_count": 50,
   "id": "a8314501-acbf-4a33-8a4e-d60b371cfe45",
   "metadata": {},
   "outputs": [],
   "source": [
    "from typing import Annotated, TypedDict\n",
    "from langgraph.graph import StateGraph\n",
    "from langgraph.graph.message import add_messages\n",
    "\n",
    "class State(TypedDict):\n",
    "    messages: Annotated[list, add_messages]\n"
   ]
  },
  {
   "cell_type": "markdown",
   "id": "67e61c00-13af-4cf1-bba7-77606248e855",
   "metadata": {},
   "source": [
    "### 2. 노드 추가"
   ]
  },
  {
   "cell_type": "code",
   "execution_count": 56,
   "id": "670fd20f-a586-4f86-8f36-b03e5ef7a118",
   "metadata": {},
   "outputs": [
    {
     "data": {
      "text/plain": [
       "<langgraph.graph.state.StateGraph at 0x1f64f702fd0>"
      ]
     },
     "execution_count": 56,
     "metadata": {},
     "output_type": "execute_result"
    }
   ],
   "source": [
    "from langgraph.prebuilt.tool_node import ToolNode\n",
    "\n",
    "def chatbot(state: State):\n",
    "     return {\"messages\": [llm_with_tools.invoke(state[\"messages\"])]}\n",
    "\n",
    "graph_builder = StateGraph(State)\n",
    "graph_builder.add_node(\"chatbot\", chatbot)\n",
    "\n",
    "tool_node = ToolNode(tools=[web_search_tool, retriever_tool, nl2sql_tool])\n",
    "graph_builder.add_node(\"tools\", tool_node)\n"
   ]
  },
  {
   "cell_type": "markdown",
   "id": "d30841cc-8573-4344-aa24-8cb19a53ed2a",
   "metadata": {},
   "source": [
    "### 3. 엣지 정의\n",
    "조건부 에지를 사용하여 에이전트가 노드 사이를 전환해야 하는 시점을 결정합니다."
   ]
  },
  {
   "cell_type": "code",
   "execution_count": 58,
   "id": "cff1a4ac-2037-4a54-9d44-7a05bccc73ef",
   "metadata": {},
   "outputs": [
    {
     "data": {
      "text/plain": [
       "<langgraph.graph.state.StateGraph at 0x1f64f702fd0>"
      ]
     },
     "execution_count": 58,
     "metadata": {},
     "output_type": "execute_result"
    }
   ],
   "source": [
    "from langgraph.prebuilt import tools_condition\n",
    "\n",
    "graph_builder.add_conditional_edges(\"chatbot\", tools_condition)\n",
    "graph_builder.add_edge(\"tools\", \"chatbot\")\n",
    "graph_builder.set_entry_point(\"chatbot\")\n"
   ]
  },
  {
   "cell_type": "markdown",
   "id": "b5b5a0d7-61e4-4c00-a0ed-0ab5ae63d92b",
   "metadata": {},
   "source": [
    "### 4.컴파일"
   ]
  },
  {
   "cell_type": "code",
   "execution_count": 60,
   "id": "56b31784-01cf-457f-a092-a8fbb9f10ffb",
   "metadata": {},
   "outputs": [],
   "source": [
    "graph = graph_builder.compile()"
   ]
  },
  {
   "cell_type": "code",
   "execution_count": 61,
   "id": "672cd5c3-4c33-4aa6-897a-0b329b96028a",
   "metadata": {},
   "outputs": [
    {
     "data": {
      "image/png": "[encoded data removed]",
      "text/plain": [
       "<IPython.core.display.Image object>"
      ]
     },
     "metadata": {},
     "output_type": "display_data"
    }
   ],
   "source": [
    "from IPython.display import Image, display\n",
    "\n",
    "try:\n",
    "    display(Image(graph.get_graph().draw_mermaid_png()))\n",
    "except Exception:\n",
    "    pass"
   ]
  },
  {
   "cell_type": "markdown",
   "id": "5ba83751-b334-41f3-9508-5e8e78846b98",
   "metadata": {},
   "source": [
    "## 8. 실행"
   ]
  },
  {
   "cell_type": "markdown",
   "id": "0b42715b-6b20-4ed0-a22e-c3901f383cee",
   "metadata": {},
   "source": [
    "사용자 입력을 시뮬레이션하여 에이전트를 테스트할 수 있습니다. 이를 통해 도구와 워크플로가 예상대로 작동하는지 확인할 수 있습니다."
   ]
  },
  {
   "cell_type": "code",
   "execution_count": null,
   "id": "d469e869-595c-433b-ab2d-9d11f855944f",
   "metadata": {},
   "outputs": [
    {
     "name": "stdin",
     "output_type": "stream",
     "text": [
      "User:  직원은 몇명인가\n"
     ]
    },
    {
     "name": "stdout",
     "output_type": "stream",
     "text": [
      "Assistant: \n",
      "===== INSIDE NL2SQL TOOL =====\n",
      "Assistant: [(8,)]\n",
      "Assistant: 직원 수는 8명입니다.\n"
     ]
    },
    {
     "name": "stdin",
     "output_type": "stream",
     "text": [
      "User:  아마존에서 개발한 촉각로봇의 이름은 무엇인가\n"
     ]
    },
    {
     "name": "stdout",
     "output_type": "stream",
     "text": [
      "Assistant: \n",
      "Assistant: [{\"title\": \"아마존의 물류에는 로봇이 있다 : 네이버 블로그\", \"url\": \"https://blog.naver.com/thesouppub/223775479368\", \"content\": \"신고하기. ​. 아마존은 2012년 로봇 스타트업 기업,. 키바 시스템을 인수했습니다. 키바 시스템은 현재 아마존 로보틱스로 이름을 바꿨다. 전 세계 200여\", \"score\": 0.7570233}, {\"title\": \"[그게 뭔가요] 아마존이 만든 로봇 총정리 - 바이라인네트워크\", \"url\": \"https://byline.network/2023/11/1-1225/\", \"content\": \"바이라인네트워크\\n바이라인네트워크\\n\\n# [그게 뭔가요] 아마존이 만든 로봇 총정리\\n\\n아마존이 만든 로봇을 모아봤습니다. 아마존이 로봇에 힘을 쓰는 데는 이유가 있습니다. 효율성과 안전성을 목표로 로봇을 물류센터에 바로 투입하기 위한 목적인데요. 로봇팔과 자율주행 로봇을 선보이더니 최근에는 이를 망라한 물류 로봇 시스템을 선보이기도 했죠. 가정 내에서 쓰는 로봇까지, 그 라인업을 다양화하고 있습니다. 아마존이 발표한 로봇에 어떤 것들이 있는지 살펴볼까요?\\n\\n스패로우\\n\\n아마존이 지난해 하반기 공개한 로봇 팔의 이름은 ‘스패로우’. 물류 창고 내 재고에서 주문이 들어온 개별 제품을 감지하고 선택, ‘토트’라고 하는 바구니로 옮기는 역할을 합니다. 로봇에 달린 카메라로 사물을 인식, 판별하도록 컴퓨터 비전 기술과 인공지능이 활용됩니다. 아마존에 따르면 스패로우는 현재 아마존 제품 재고의 65%를 식별할 수 있다고 하는데요. 상품 항목 수가 수백만 가지에 달하는 거죠. [...] YouTube video\\nYouTube video\\n\\n위 영상을 보면 아시겠지만, 스패로우의 팔 끝에는 흡착판이 붙어 있어서 물건을 집어냅니다. 비타민 병에서부터 종이 포장으로 되어 있는 물건까지 분별하고 골라내지만 팔을 자유롭게 움직일 뿐, 로봇 자체가 이동할 수 있는 건 아닙니다.\\n\\n## [무료 웨비나] 아이덴티티 보안 없는 보안 전략은 더 이상 안전할 수 없습니다\\n\\n◎ 일시 : 2025년 7월 15일 (화) 14:00 ~ 15:30  \\n◎ 장소 : \\n\\n프로테우스\\n\\n이동의 역할을 맡은 것이 프로테우스입니다. 스패로우가 팔 역할을 하면서 상품을 바구니에 담는다면, 이 바구니를 포장 센터로 옮기는 발 역할을 프로테우스가 하는 것이죠. 아마존은 이 자율주행 로봇(Autonomous Mobile Robots, AMR) 프로테우스를 지난해 6월에 공개했는데요. 겉으로 보면 그냥 조금 커다란 로봇 청소기처럼 생겼습니다. [...] 이후에 작업자가 상품을 꺼내 패킹(포장) 센터로 보내면 로봇팔 스패로우가 토트를 다시 가득 채우기 위해 남은 재고를 합칩니다. 다시 채워진 토트는 가장 효율적인 공간에 보관된다고 하죠. 사람과 섞여 일하되, 사람의 움직임은 거의 최소화한 프로세스입니다.\\n\\n디짓\\n\\n또 하나, 세콰이어는 별개로 아마존은 바퀴로 구르는 게 아닌 다리로 걷는 휴머노이드 로봇 ‘디짓’을 발표하기도 했습니다. 사람처럼 두 개의 팔과 두 개의 다리가 달린 로봇인데요, 두 다리로 걷고 허리를 숙여 물건을 집고 들어올리는 등의 일을 할 수 있습니다. 기존의 바퀴달린 로봇, 위치가 고정된 로봇팔과 달리 사람만 할 수 있는 일에도 도전할 수 있습니다.\", \"score\": 0.7407191}]\n",
      "Assistant: 아마존에서 개발한 촉각 로봇의 이름은 \"디짓(DiGiT)\"입니다. 디짓은 두 개의 팔과 두 개의 다리를 가진 휴머노이드 로봇으로, 사람처럼 걷고 물건을 집는 등의 작업을 수행할 수 있습니다. 이 로봇은 기존의 바퀴 달린 로봇과는 달리 사람만 할 수 있는 일에도 도전할 수 있는 특징을 가지고 있습니다.\n"
     ]
    },
    {
     "name": "stdin",
     "output_type": "stream",
     "text": [
      "User:  아마존에서 개발한 로봇의 이름을 문서에서 찾아줘\n"
     ]
    },
    {
     "name": "stdout",
     "output_type": "stream",
     "text": [
      "Assistant: \n",
      "=== RETRIEVER ===\n",
      "Assistant: 정책･법제기업･산업기술･연구인력･교육\n",
      "9\n",
      "아마존, 촉각 기능을 갖춘 물류 로봇 ‘벌컨’ 공개n아마존이 처리 가능한 품목을 식별하는 알고리즘이 적용되고 물체의 크기와 모양에 따라 그립 강도를 조절할 수 있는 물류 로봇 ‘벌컨’을 공개n아마존은 미국과 독일의 물류센터에 벌컨을 도입해 직원의 육체적 부담을 줄이고 안전을 개선하고 있으며, 향후 몇 년간 유럽과 미국 전역의 물류센터에 벌컨을 도입할 계획\n",
      "KEY Contents\n",
      "\n",
      "KEY Contents\n",
      "£벌컨, 물품에 접촉하는 지점과 압력을 인식해 좁은 공간에서 물품 이동 능력 제고n아마존(Amazon)이 2025년 5월 7일 로봇공학과 엔지니어링, 피지컬 AI 분야의 핵심 기술을 활용해 제작된 물류 로봇 ‘벌컨(Vulcan)’을 공개∙이전까지는 산업용 로봇에 예상치 않은 접촉이 있으면 비상 정지하거나 접촉을 아예 감지하지 못하는 경우가 일반적이었으나, 벌컨은 촉각 기능을 갖춘 최초의 로봇이라는 점에서 기존 로봇과 차별화∙벌컨에는 처리 가능한 품목과 불가능한 품목을 식별하는 알고리즘과 같은 피지컬 AI 기술이 적용되었으며, 수천 가지 물품을 다루는 실제 사례로 훈련을 진행n아마존 물류센터는 약 0.093제곱미터 크기의 칸에 최대 10개의 상품을 보관하는데, 좁은 공간에서 물품을 잡기가 어려운 기존 산업용 로봇과 달리, 벌컨은 로봇 팔 끝에 부착된 장치(EOAT*)를 통해 물품에 접촉하는 지점과 가해지는 압력을 인식해 손상 없이 물품을 이동 가능   * End of Arm Tooling: 벌컨의 EoAT는 물품을 밀어내는 장치와 집게, 압력 피드백 센서 등으로 구성∙벌컨에 탑재된 집게 장치는 압력 피드백 센서를 바탕으로 물체의 크기와 모양에 따라 그립 강도를 조절할 수 있으며, 카메라로 수납공간을 확인해 물체를 가장 잘 잡을 수 있는 위치를 파악∙벌컨은 물류센터에 보관되는 모든 종류의 품목 중 약 75%를 픽업하고 적재할 수 있고 물품 픽업이 불가능한 경우 직원에게 도움을 청할 수 있으며, 현장 직원과 비슷한 속도로 작업을 진행∙아마존은 미국 워싱턴주와 독일 함부르크의 물류센터에 벌컨을 도입해 직원 안전과 인체공학을 개선하고 있으며, 향후 몇 년간 유럽과 미국 전역의 물류 현장에 벌컨 시스템을 구축할 계획이라고 설명\n",
      " <아마존의 물류 로봇 ‘벌컨’의 도입 현장>\n",
      "출처 | Amazon, Introducing Vulcan: Amazon's first robot with a sense of touch, 2025.05.07.\n",
      "Assistant: 아마존에서 개발한 로봇의 이름은 '벌컨(Vulcan)'입니다. 이 로봇은 촉각 기능을 갖추고 있으며, 물체의 크기와 모양에 따라 그립 강도를 조절할 수 있는 알고리즘을 적용하고 있습니다. 아마존은 이미 미국과 독일의 물류센터에 벌컨을 도입했으며, 향후 여러 지역의 물류센터에도 확대할 계획입니다.\n"
     ]
    },
    {
     "name": "stdin",
     "output_type": "stream",
     "text": [
      "User:  2024년 대선에서 당선된 미국의 대통령은 누구인가\n"
     ]
    },
    {
     "name": "stdout",
     "output_type": "stream",
     "text": [
      "Assistant: \n",
      "Assistant: [{\"title\": \"2024년 미국 대통령 선거 - 위키백과, 우리 모두의 백과사전\", \"url\": \"https://ko.wikipedia.org/wiki/2024%EB%85%84_%EB%AF%B8%EA%B5%AD_%EB%8C%80%ED%86%B5%EB%A0%B9_%EC%84%A0%EA%B1%B0\", \"content\": \"2024년 미국 대통령 선거(영어: 2024 United States presidential election)는 2024년 11월 5일 화요일에 치러진 60번째 미국의 대통령 선거이다.[\\\\[3\\\\]]( 선거 결과 공화당 \\\"공화당 (미국)\\\")의 미국의 전 45대 대통령 도널드 트럼프 대통령 후보와 오하이오주 상원의원 JD 밴스 부통령 후보가 민주당 \\\"민주당 (미국)\\\")의 현 부통령 카멀라 해리스 대통령 후보와 미네소타주 주지사 팀 월즈 부통령 후보 측을 물리치고 선거에서 승리하였다.[\\\\[4\\\\]]( 선거에서 승리한 트럼프와 밴스는 선거인단에 의한 공식 인증 이후 2025년 1월 20일 제47대 대통령과 제50대 부통령으로 취임했다.[\\\\[6\\\\]]( [...] | 선거 결과 |\\n| --- |\\n| 대통령 후보 | 정당 | 기반주 | 득표[\\\\[376\\\\]]( | 선거인단[\\\\[2\\\\]]( | 러닝메이트 |\\n| 총 득표수 | 비율 | 부통령 후보 | 기반주 |\\n| 도널드 트럼프 | 공화당 \\\"공화당 (미국)\\\") | 플로리다주 | 77,302,169 | 49.74% | 312 | JD 밴스 | 오하이오주 |\\n| 카멀라 해리스 | 민주당 \\\"민주당 (미국)\\\") | 캘리포니아주 | 75,015,834 | 48.27% | 226 | 팀 월즈 | 미네소타주 |\\n| 질 스타인 | 녹색당 | 매사추세츠주 | 861,141 | 0.55% | 0 | 부치 웨어\\\") | 캘리포니아주 |\\n| 로버트 F. 케네디 주니어[\\\\[o\\\\]]( | 무소속 | 캘리포니아주 | 756,377 | 0.49% | 0 | 니콜 샤나한\\\") | 캘리포니아주 | [...] | 여론조사  \\n집계기관 | 여론조사  \\n집계시기 | 여론조사  \\n갱신시점 | 카멀라 해리스  \\n민주당 \\\"민주당 (미국)\\\") | 도널드 트럼프  \\n공화당 \\\"공화당 (미국)\\\") | 로버트 F. 케네디 주니어  \\n[\\\\[o\\\\]]( | 질 스타인  \\n녹색당 | 체이스 올리버\\\")  \\n자유당 \\\"자유당 (미국)\\\") | 코넬 웨스트  \\n무소속 | 그 외  \\n혹은 미결정  \\n[\\\\[n\\\\]]( | 차이 |\\n| --- | --- | --- | --- | --- | --- | --- | --- | --- | --- | --- |\\n| Race to the WH | 2024년 11월 2일까지 | 2024년 11월 3일 | 47.7% | 47.1% | 1.3% | 0.9% | 0.7% | 0.9% | 1.4% | 해리스 +0.6% |\", \"score\": 0.8875269}, {\"title\": \"2024년 미국 대통령 선거 - 나무위키\", \"url\": \"https://namu.wiki/w/2024%EB%85%84%20%EB%AF%B8%EA%B5%AD%20%EB%8C%80%ED%86%B5%EB%A0%B9%20%EC%84%A0%EA%B1%B0\", \"content\": \"선거 결과, 2020년 대통령 선거에서 패한 뒤 재도전한 도널드 트럼프 공화당 후보가 현직 부통령인 카멀라 해리스 민주당 후보를 누르고 승리하며 퇴임 4\", \"score\": 0.82048416}]\n",
      "Assistant: 2024년 미국 대통령 선거에서 당선된 대통령은 도널드 트럼프입니다. 그는 민주당 후보인 카멀라 해리스를 누르고 승리하였으며, 2025년 1월 20일에 취임할 예정입니다. 더 자세한 내용을 원하시면 [위키백과](https://ko.wikipedia.org/wiki/2024%EB%85%84_%EB%AF%B8%EA%B5%AD_%EB%8C%80%ED%86%B5%EB%A0%B9_%EC%84%A0%EA%B1%B0)나 [나무위키](https://namu.wiki/w/2024%EB%85%84%20%EB%AF%B8%EA%B5%AD%20%EB%8C%80%ED%86%B5%EB%A0%B9%20%EC%84%A0%EA%B1%B0)에서 확인하실 수 있습니다.\n"
     ]
    }
   ],
   "source": [
    "import uuid\n",
    "\n",
    "thread_id = uuid.uuid4()\n",
    "config = {\"configurable\": {\"thread_id\": thread_id}}\n",
    "\n",
    "while True:\n",
    "    user_input = input(\"User: \")\n",
    "    if user_input.lower() in [\"quit\", \"exit\", \"q\"]:\n",
    "        print(\"Goodbye!\")\n",
    "        break\n",
    "\n",
    "    for event in graph.stream({\"messages\": [(\"user\", user_input)]}, config):\n",
    "        for value in event.values():\n",
    "            print(\"Assistant:\", value[\"messages\"][-1].content)\n"
   ]
  },
  {
   "cell_type": "code",
   "execution_count": null,
   "id": "cf67ed58-8d37-4ec7-8437-74e1cd4d38ea",
   "metadata": {},
   "outputs": [],
   "source": []
  },
  {
   "cell_type": "code",
   "execution_count": null,
   "id": "0187056d-a24d-43d2-9d68-7377d3746ab4",
   "metadata": {},
   "outputs": [],
   "source": []
  },
  {
   "cell_type": "code",
   "execution_count": null,
   "id": "f447623e-ebc2-47b7-9445-2f30f0902e10",
   "metadata": {},
   "outputs": [],
   "source": []
  },
  {
   "cell_type": "code",
   "execution_count": null,
   "id": "8c540555-dabc-4c1a-b5c5-48dfbd20556f",
   "metadata": {},
   "outputs": [],
   "source": []
  },
  {
   "cell_type": "code",
   "execution_count": null,
   "id": "858dbd0d-ed56-43dd-9c75-4b7cd2e2ea88",
   "metadata": {},
   "outputs": [],
   "source": []
  }
 ],
 "metadata": {
  "kernelspec": {
   "display_name": "Python 3 (ipykernel)",
   "language": "python",
   "name": "python3"
  },
  "language_info": {
   "codemirror_mode": {
    "name": "ipython",
    "version": 3
   },
   "file_extension": ".py",
   "mimetype": "text/x-python",
   "name": "python",
   "nbconvert_exporter": "python",
   "pygments_lexer": "ipython3",
   "version": "3.12.4"
  }
 },
 "nbformat": 4,
 "nbformat_minor": 5
}
