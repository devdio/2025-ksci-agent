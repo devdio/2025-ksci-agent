{
 "cells": [
  {
   "cell_type": "markdown",
   "id": "9da0899a-a8ae-4428-a751-096bf52597b7",
   "metadata": {},
   "source": [
    "# 멀티 에이전트 만들기"
   ]
  },
  {
   "cell_type": "markdown",
   "id": "61adebeb-edbf-436f-a9e4-171bc25a143c",
   "metadata": {},
   "source": [
    "이 튜토리얼에서는 애플리케이션을 더 작고 독립적인 에이전트로 분할합니다. 이러한 접근 방식은 모듈성, 전문성, 그리고 제어 기능을 제공합니다. 개별 에이전트를 개별적으로 처리하고, 전문가 에이전트를 생성하고, 에이전트 간의 통신 방식을 제어할 수 있습니다."
   ]
  },
  {
   "cell_type": "markdown",
   "id": "c1ef5854-192d-4908-b28e-84c3f8980cc6",
   "metadata": {},
   "source": [
    "지금부터는 LangGraph를 사용하여 완전한 다중 에이전트 시스템을 처음부터 구축하는 방법을 알아보겠습니다. 여기에는 다른 전문 에이전트와 통신할 수 있는 슈퍼바이저 에이전트가 있습니다. 각 에이전트는 고유한 도구 세트를 가지고 있습니다."
   ]
  },
  {
   "cell_type": "markdown",
   "id": "0ab303b2-0360-44d4-a72a-2cab2a606f5e",
   "metadata": {},
   "source": [
    "<img src=\"https://cdn.hashnode.com/res/hashnode/image/upload/v1735243479772/e2c48b8a-4992-42af-b2ec-3d045082d794.png?auto=compress,format&format=webp\" />"
   ]
  },
  {
   "cell_type": "markdown",
   "id": "893d38f9-711f-49ff-9d79-878a4f5faa41",
   "metadata": {},
   "source": [
    "## 1. 환경설정"
   ]
  },
  {
   "cell_type": "code",
   "execution_count": 234,
   "id": "0feddccb-094c-4647-9d63-6d4bfb44d3ee",
   "metadata": {},
   "outputs": [],
   "source": [
    "%%capture --no-stderr\n",
    "%pip install -U langgraph langchain_community langchain_openai langchain_experimental langchain-chroma pypdf sentence-transformers"
   ]
  },
  {
   "cell_type": "code",
   "execution_count": 235,
   "id": "247c4d04-88d4-4ddd-8469-536e91c0149e",
   "metadata": {},
   "outputs": [],
   "source": [
    "import getpass\n",
    "import os\n",
    "from dotenv import load_dotenv\n",
    "load_dotenv(override=True)\n",
    "\n",
    "def _set_env(var: str):\n",
    "    if not os.environ.get(var):\n",
    "        os.environ[var] = getpass.getpass(f\"{var}: \")\n",
    "\n",
    "_set_env(\"TAVILY_API_KEY\")\n",
    "_set_env(\"OPENAI_API_KEY\")"
   ]
  },
  {
   "cell_type": "markdown",
   "id": "0e0436a9-38de-44ba-a9c8-a8f1e51deb03",
   "metadata": {},
   "source": [
    "## 2. LLM 객체 생성"
   ]
  },
  {
   "cell_type": "code",
   "execution_count": 236,
   "id": "c719eef3-a3b2-47c5-ab24-6c1bec654938",
   "metadata": {},
   "outputs": [],
   "source": [
    "from langchain_openai import ChatOpenAI\n",
    "\n",
    "llm = ChatOpenAI(model_name=\"gpt-4o-mini\")"
   ]
  },
  {
   "cell_type": "markdown",
   "id": "7a5e24e6-72ac-4901-ba0d-b43ba0796b98",
   "metadata": {},
   "source": [
    "## 3. 웹검색 도구"
   ]
  },
  {
   "cell_type": "code",
   "execution_count": 237,
   "id": "7129fe96-aa6f-4c9e-9951-ec648b8c2829",
   "metadata": {},
   "outputs": [
    {
     "name": "stdout",
     "output_type": "stream",
     "text": [
      "Note: you may need to restart the kernel to use updated packages.\n"
     ]
    }
   ],
   "source": [
    "%pip install -qU langchain-tavily"
   ]
  },
  {
   "cell_type": "code",
   "execution_count": 238,
   "id": "11d7ffef-5c61-45d1-bb94-1352c5fc0ec8",
   "metadata": {},
   "outputs": [],
   "source": [
    "from langchain_tavily import TavilySearch\n",
    "\n",
    "web_search_tool = TavilySearch(max_results=2)"
   ]
  },
  {
   "cell_type": "markdown",
   "id": "8c949b00-b2b6-45c6-aac9-4fd918009c1e",
   "metadata": {},
   "source": [
    "## 4. Agentic RAG 도구"
   ]
  },
  {
   "cell_type": "code",
   "execution_count": 239,
   "id": "ce4fccb9-df09-4fa2-9be9-51eacc7a0627",
   "metadata": {},
   "outputs": [
    {
     "name": "stdout",
     "output_type": "stream",
     "text": [
      "Loaded 28 documents from the folder.\n"
     ]
    }
   ],
   "source": [
    "from langchain_community.document_loaders import PyPDFLoader, Docx2txtLoader\n",
    "from langchain_core.documents import Document\n",
    "\n",
    "def load_documents(folder_path: str) -> list[Document]:\n",
    "    documents = []\n",
    "    for filename in os.listdir(folder_path):\n",
    "        file_path = os.path.join(folder_path, filename)\n",
    "        if filename.endswith('.pdf'):\n",
    "            loader = PyPDFLoader(file_path)\n",
    "        elif filename.endswith('.docx'):\n",
    "            loader = Docx2txtLoader(file_path)\n",
    "        else:\n",
    "            print(f\"Unsupported file type: {filename}\")\n",
    "            continue\n",
    "        documents.extend(loader.load())\n",
    "    return documents\n",
    "\n",
    "folder_path = \"./docs\"\n",
    "documents = load_documents(folder_path)\n",
    "print(f\"Loaded {len(documents)} documents from the folder.\")"
   ]
  },
  {
   "cell_type": "code",
   "execution_count": 240,
   "id": "f459cc4a-080c-4d17-b174-3246fd305be1",
   "metadata": {},
   "outputs": [
    {
     "name": "stdout",
     "output_type": "stream",
     "text": [
      "Split the documents into 71 chunks.\n"
     ]
    }
   ],
   "source": [
    "from langchain_text_splitters import RecursiveCharacterTextSplitter\n",
    "\n",
    "text_splitter = RecursiveCharacterTextSplitter(\n",
    "     chunk_size=1000,\n",
    "     chunk_overlap=200,\n",
    "     length_function=len\n",
    " )\n",
    "\n",
    "splits = text_splitter.split_documents(documents)\n",
    "print(f\"Split the documents into {len(splits)} chunks.\")"
   ]
  },
  {
   "cell_type": "code",
   "execution_count": 241,
   "id": "d371ed72-8681-4938-b4ba-2f25c86aace3",
   "metadata": {},
   "outputs": [],
   "source": [
    "from langchain_openai import OpenAIEmbeddings\n",
    "\n",
    "embedding_function = OpenAIEmbeddings(\n",
    "    model=\"text-embedding-3-small\",  # 가격이 저렴\n",
    ")"
   ]
  },
  {
   "cell_type": "code",
   "execution_count": 242,
   "id": "25557d81-1c43-4e4f-9593-9990641307b8",
   "metadata": {},
   "outputs": [],
   "source": [
    "from langchain_chroma import Chroma\n",
    "\n",
    "collection_name = \"my_collection\"\n",
    "vectorstore = Chroma.from_documents(\n",
    "    collection_name=collection_name,\n",
    "    documents=splits,\n",
    "    embedding=embedding_function,\n",
    "    persist_directory=\"./chroma_db\"\n",
    ")"
   ]
  },
  {
   "cell_type": "code",
   "execution_count": 243,
   "id": "c4dfdb4c-303a-4efa-98bc-dd95a53c50df",
   "metadata": {},
   "outputs": [],
   "source": [
    "from langchain.tools import tool\n",
    "from pydantic import BaseModel\n",
    "\n",
    "class RagToolSchema(BaseModel):\n",
    "    question: str\n",
    "\n",
    "@tool(args_schema=RagToolSchema)\n",
    "def retriever_tool(question):\n",
    "    \"\"\"사용자 질문에 답하기 위해 의미적으로 유사한 내용을 AI브리프 문서에서 검색하는 도구\"\"\"\n",
    "    print(\"===== RETRIEVER =====\")\n",
    "    retriever = vectorstore.as_retriever(search_kwargs={\"k\": 2})\n",
    "    retriever_result = retriever.invoke(question)\n",
    "    return \"\\n\\n\".join(doc.page_content for doc in retriever_results)"
   ]
  },
  {
   "cell_type": "markdown",
   "id": "2b6bcedb-6c2e-4ec6-b0e8-e785e6c5c580",
   "metadata": {},
   "source": [
    "## 5. NL2SQL 도구"
   ]
  },
  {
   "cell_type": "code",
   "execution_count": 244,
   "id": "40f280b0-c20b-4f7d-b073-3208ed6c545a",
   "metadata": {},
   "outputs": [],
   "source": [
    "from langchain_community.utilities import SQLDatabase\n",
    "\n",
    "db = SQLDatabase.from_uri(\"sqlite:///./db/Chinook.db\")"
   ]
  },
  {
   "cell_type": "code",
   "execution_count": 245,
   "id": "f3a5d124-7196-47e0-ba15-ed290d4b0974",
   "metadata": {},
   "outputs": [],
   "source": [
    "import re\n",
    "\n",
    "def clean_sql_query(text: str) -> str:\n",
    "    \"\"\"\n",
    "    SQL 쿼리에서 코드 블록 문법, 다양한 SQL 태그, 백틱(`), 접두사, 불필요한 공백 등을 제거하여 \n",
    "    핵심 SQL 쿼리만 보존한 채로 정리합니다.\n",
    "    \n",
    "    Args:\n",
    "        text (str): 코드 블록, 태그, 백틱 등을 포함할 수 있는 원본 SQL 쿼리 문자열\n",
    "    \n",
    "    Returns:\n",
    "        str: 정리된(cleaned) SQL 쿼리 문자열\n",
    "\n",
    "    \"\"\"\n",
    "    # 1단계: 코드 블록 문법 및 SQL 관련 태그 제거\n",
    "    # ```sql, ```SQL, ```SQLQuery 등 다양한 변형을 처리합니다.\n",
    "    block_pattern = r\"```(?:sql|SQL|SQLQuery|mysql|postgresql)?\\s*(.*?)\\s*```\"\n",
    "    text = re.sub(block_pattern, r\"\\1\", text, flags=re.DOTALL)\n",
    "\n",
    "    # 2단계: \"SQLQuery:\"와 유사한 접두사 처리\n",
    "    # \"SQLQuery:\", \"SQL Query:\", \"MySQL:\" 등과 같은 패턴을 매칭합니다.\n",
    "    prefix_pattern = r\"^(?:SQL\\s*Query|SQLQuery|MySQL|PostgreSQL|SQL)\\s*:\\s*\"\n",
    "    text = re.sub(prefix_pattern, \"\", text, flags=re.IGNORECASE)\n",
    "\n",
    "    # 3단계: SQL문 뒤에 불필요한 텍스트가 있을 경우, 첫 번째 SQL문만 추출\n",
    "    # 세미콜론(;)으로 끝나는 완전한 SQL문을 찾습니다.\n",
    "    sql_statement_pattern = r\"(SELECT.*?;)\"\n",
    "    sql_match = re.search(sql_statement_pattern, text, flags=re.IGNORECASE | re.DOTALL)\n",
    "    if sql_match:\n",
    "        text = sql_match.group(1)\n",
    "\n",
    "    # 4단계: 식별자(identifier)를 감싸고 있는 백틱(`) 제거\n",
    "    text = re.sub(r'`([^`]*)`', r'\\1', text)\n",
    "\n",
    "    # 5단계: 공백 정규화\n",
    "    # 여러 개의 공백을 하나의 공백으로 변경합니다.\n",
    "    text = re.sub(r'\\s+', ' ', text)\n",
    "\n",
    "    # 6단계: 가독성을 유지하기 위해 주요 SQL 키워드 앞에 줄바꿈을 유지합니다.\n",
    "    keywords = ['SELECT', 'FROM', 'WHERE', 'GROUP BY', 'HAVING', 'ORDER BY',\n",
    "               'LIMIT', 'JOIN', 'LEFT JOIN', 'RIGHT JOIN', 'INNER JOIN',\n",
    "               'OUTER JOIN', 'UNION', 'VALUES', 'INSERT', 'UPDATE', 'DELETE']\n",
    "\n",
    "    # SQL 키워드를 대소문자 구분 없이 치환합니다.\n",
    "    pattern = '|'.join(r'\\b{}\\b'.format(k) for k in keywords)\n",
    "    text = re.sub(f'({pattern})', r'\\n\\1', text, flags=re.IGNORECASE)\n",
    "\n",
    "    # 7단계: 최종 정리\n",
    "    # 앞뒤의 불필요한 공백과 과도한 줄바꿈을 제거합니다.\n",
    "    text = text.strip()\n",
    "    text = re.sub(r'\\n\\s*\\n', '\\n', text)\n",
    "\n",
    "    return text"
   ]
  },
  {
   "cell_type": "code",
   "execution_count": 246,
   "id": "6803e2f5-3641-436b-a55d-26b4c540b04d",
   "metadata": {},
   "outputs": [],
   "source": [
    "from langchain.chains import create_sql_query_chain\n",
    "from langchain_community.tools import QuerySQLDatabaseTool\n",
    "from operator import itemgetter\n",
    "import re\n",
    "from langchain_core.output_parsers import StrOutputParser\n",
    "from langchain_core.prompts import PromptTemplate\n",
    "from langchain_core.runnables import RunnablePassthrough, RunnableLambda\n",
    "\n",
    "class SQLToolSchema(BaseModel):\n",
    "    question: str\n",
    "\n",
    "@tool(args_schema=SQLToolSchema)\n",
    "def nl2sql_tool(question):\n",
    "    \"\"\"사용자의 질문에 답하기 위해 데이터베이스와 관련된 SQL 쿼리를 생성하고 실행하는 도구\"\"\"\n",
    "    print(\"===== INSIDE NL2SQL TOOL =====\")\n",
    "    execute_query = QuerySQLDataBaseTool(db=db)\n",
    "    write_query = create_sql_query_chain(llm, db)\n",
    "    \n",
    "    chain = (\n",
    "       RunnablePassthrough.assign(query=write_query | RunnableLambda(clean_sql_query)).assign(\n",
    "           result=itemgetter(\"query\") | execute_query\n",
    "       )\n",
    "    )\n",
    "    \n",
    "    response = chain.invoke({\"question\": question})\n",
    "    return response['result']"
   ]
  },
  {
   "cell_type": "markdown",
   "id": "cda6e7d7-570b-4419-b95c-ccd959f1539c",
   "metadata": {},
   "source": [
    "## 6. 감독자 에이전트 생성"
   ]
  },
  {
   "cell_type": "markdown",
   "id": "8a1568f1-0644-429d-8164-848c9482420c",
   "metadata": {},
   "source": [
    "감독 에이전트는 여러 전문 에이전트 간의 대화 흐름을 관리합니다. 현재 요청을 어떤 에이전트가 처리해야 하는지, 그리고 작업 완료 시점을 결정합니다. 이를 구현하는 방법을 살펴보겠습니다."
   ]
  },
  {
   "cell_type": "code",
   "execution_count": 247,
   "id": "6301e031-eb05-4693-be7e-63b5871a2320",
   "metadata": {},
   "outputs": [],
   "source": [
    "from typing import Literal\n",
    "from typing_extensions import TypedDict\n",
    "from langgraph.graph import MessagesState, START, END\n",
    "from langgraph.types import Command\n",
    "\n",
    "# 사용가능한 에이전트 리스트 \n",
    "members = [\"web_researcher\", \"rag\", \"nl2sql\"]\n",
    "#작업 완료를 위한 옵션으로 FINISH를 추가합니다.\n",
    "# options = members + [\"FINISH\"]\n",
    "options = members + [END]\n",
    "\n",
    "# 슈퍼바이저 에이전트를 위한 시스템 프롬프트 \n",
    "system_prompt = (\n",
    "    f\"당신은 다음 작업자(에이전트)들 간의 대화를 관리하는 감독자 역할을 맡고 있습니다: {members}.\"\n",
    "    \"사용자의 요청을 바탕으로, 다음에 작업을 수행할 작업자(에이전트)를 선택해서 응답하세요.\"\n",
    "    \"각 작업자(에이전트)는 하나의 작업을 수행하고 그 결과 및 상태를 응답할 것입니다.\"\n",
    "    \"모든 작업이 완료되면, `FINISH`로 응답하세요.\"\n",
    ")\n",
    "\n",
    "# 구조화된 출력을 위한 라우터 타입 정의\n",
    "class Router(TypedDict):\n",
    "    \"\"\"다음에 작업을 수행할 작업자(에이전트)를 선택하세요. 더 이상 작업자(에이전트)가 필요하지 않으면 `FINISH`로 라우팅하세요.\"\"\"\n",
    "    # next: Literal[\"web_researcher\", \"rag\", \"nl2sql\", \"FINISH\"]\n",
    "    next: Literal[\"web_researcher\", \"rag\", \"nl2sql\", END]\n",
    "\n",
    "# 슈퍼바이저 노드 함수를 생성합니다.\n",
    "def supervisor_node(state: MessagesState) -> Command[Literal[\"web_researcher\", \"rag\", \"nl2sql\", END]]:\n",
    "    messages = [\n",
    "        {\"role\": \"system\", \"content\": system_prompt},] + state[\"messages\"]\n",
    "    response = llm.with_structured_output(Router).invoke(messages)\n",
    "    print(\"***** response *****\" , response)\n",
    "    goto = response[\"next\"]\n",
    "    print(f\"Next Worker: {goto}\")\n",
    "    if goto == \"FINISH\":\n",
    "        print(\"***** END *****\")\n",
    "        goto = END\n",
    "    return Command(goto=goto)\n"
   ]
  },
  {
   "cell_type": "markdown",
   "id": "73894f31-555d-49b9-b72f-c5eb67bb2696",
   "metadata": {},
   "source": [
    "슈퍼바이저 에이전트는 다음과 같이 작동합니다.\n",
    "\n",
    "1. 현재 대화 상태를 입력으로 사용\n",
    "1. 시스템 프롬프트를 사용하여 해당 역할을 이해합니다.\n",
    "1. 다음에 어떤 에이전트가 행동해야 할지 결정합니다.\n",
    "1. 선택한 에이전트로 흐름을 지시하는 명령을 반환합니다."
   ]
  },
  {
   "cell_type": "markdown",
   "id": "590731f2-dce1-4ef5-aeeb-3bfb53a7a745",
   "metadata": {},
   "source": [
    "## 7. 개별 에이전트 생성\n",
    "### 1. 에이전트 구현용 함수 정의"
   ]
  },
  {
   "cell_type": "code",
   "execution_count": 248,
   "id": "584c58b3-38f7-4016-9b0a-7bf3ea9d4c67",
   "metadata": {},
   "outputs": [],
   "source": [
    "from typing import TypedDict, Annotated, Sequence\n",
    "from langchain_core.messages.base import BaseMessage\n",
    "from langgraph.graph.message import add_messages\n",
    "\n",
    "class AgentState(TypedDict):\n",
    "    \"\"\"작업자(에이전트)의 상태를 저장.\"\"\"\n",
    "    messages: Annotated[Sequence[BaseMessage], add_messages]\n",
    "\n",
    "# 에이전트를 생성하기 위한 함수 \n",
    "def create_agent(llm, tools):\n",
    "    llm_with_tools = llm.bind_tools(tools)\n",
    "    \n",
    "    def chatbot(state: AgentState):\n",
    "        return {\"messages\": [llm_with_tools.invoke(state[\"messages\"])]}\n",
    "\n",
    "    graph_builder = StateGraph(AgentState)\n",
    "    graph_builder.add_node(\"agent\", chatbot)\n",
    "\n",
    "    tool_node = ToolNode(tools=tools)\n",
    "    graph_builder.add_node(\"tools\", tool_node)\n",
    "\n",
    "    graph_builder.add_conditional_edges(\n",
    "        \"agent\",\n",
    "        tools_condition,\n",
    "    )\n",
    "    graph_builder.add_edge(\"tools\", \"agent\")\n",
    "    graph_builder.set_entry_point(\"agent\")\n",
    "    return graph_builder.compile()\n"
   ]
  },
  {
   "cell_type": "markdown",
   "id": "61ed277b-74c6-4503-9f37-871898534fc7",
   "metadata": {},
   "source": [
    "### 2. 웹 서치 에이전트"
   ]
  },
  {
   "cell_type": "code",
   "execution_count": 249,
   "id": "bebb5366-e37e-4ff8-8b9e-9f77c6bb733b",
   "metadata": {},
   "outputs": [],
   "source": [
    "from langgraph.graph import StateGraph\n",
    "from langgraph.prebuilt.tool_node import ToolNode\n",
    "from langgraph.prebuilt import tools_condition\n",
    "\n",
    "websearch_agent = create_agent(llm, [web_search_tool])\n",
    "\n",
    "def web_research_node(state: MessagesState) -> Command[Literal[\"supervisor\"]]:\n",
    "    result = websearch_agent.invoke(state)\n",
    "    return Command(\n",
    "        update={\n",
    "            \"messages\": [\n",
    "                HumanMessage(content=result[\"messages\"][-1].content, name=\"web_researcher\")\n",
    "            ]\n",
    "        },\n",
    "        goto=\"supervisor\",\n",
    "    )"
   ]
  },
  {
   "cell_type": "markdown",
   "id": "079d32ed-bc49-4294-b924-27df91e0dd04",
   "metadata": {},
   "source": [
    "### 3. RAG 에이전트"
   ]
  },
  {
   "cell_type": "code",
   "execution_count": 250,
   "id": "8599f4be-e968-47c3-a398-a1ac68048f13",
   "metadata": {},
   "outputs": [],
   "source": [
    "from langchain_core.messages import HumanMessage, SystemMessage\n",
    "\n",
    "rag_agent = create_agent(llm, [retriever_tool])\n",
    "\n",
    "def rag_node(state: MessagesState) -> Command[Literal[\"supervisor\"]]:\n",
    "    result = rag_agent.invoke(state)\n",
    "    return Command(\n",
    "        update={\n",
    "            \"messages\": [\n",
    "                HumanMessage(content=result[\"messages\"][-1].content, name=\"rag\")\n",
    "            ]\n",
    "        },\n",
    "        goto=\"supervisor\",\n",
    "    )\n"
   ]
  },
  {
   "cell_type": "markdown",
   "id": "75fb329b-6eff-492b-b9d3-91f768e6a635",
   "metadata": {},
   "source": [
    "### 4. NL2SQL 에이전트"
   ]
  },
  {
   "cell_type": "code",
   "execution_count": 251,
   "id": "de34df5a-dc77-4698-9b70-e8d9c1e51620",
   "metadata": {},
   "outputs": [],
   "source": [
    "nl2sql_agent = create_agent(llm, [nl2sql_tool])\n",
    "\n",
    "def nl2sql_node(state: MessagesState) -> Command[Literal[\"supervisor\"]]:\n",
    "    result = nl2sql_agent.invoke(state)\n",
    "    return Command(\n",
    "        update={\n",
    "            \"messages\": [\n",
    "                HumanMessage(content=result[\"messages\"][-1].content, name=\"nl2sql\")\n",
    "            ]\n",
    "        },\n",
    "        goto=\"supervisor\",\n",
    "    )\n"
   ]
  },
  {
   "cell_type": "markdown",
   "id": "e9755fc6-cab0-475f-849d-eab279bafc73",
   "metadata": {},
   "source": [
    "## 8. 그래프 구축\n",
    "\n",
    "내부적으로 `Command`를 사용하고 있어서, `edge` 추가는 명시적으로 하지 않는다."
   ]
  },
  {
   "cell_type": "code",
   "execution_count": 252,
   "id": "7c25a30f-2fb4-4718-b9b7-f7e56eed100c",
   "metadata": {},
   "outputs": [],
   "source": [
    "from langgraph.graph import StateGraph, START, END\n",
    "\n",
    "builder = StateGraph(MessagesState)\n",
    "builder.add_edge(START, \"supervisor\")\n",
    "builder.add_node(\"supervisor\", supervisor_node)\n",
    "builder.add_node(\"web_researcher\", web_research_node)\n",
    "builder.add_node(\"rag\", rag_node)\n",
    "builder.add_node(\"nl2sql\", nl2sql_node)\n",
    "graph = builder.compile()\n"
   ]
  },
  {
   "cell_type": "markdown",
   "id": "b6391a40-31a1-410c-aed5-5313cab1f4cd",
   "metadata": {},
   "source": [
    "이를 통해 다음과 같은 완전한 다중 에이전트 시스템이 생성됩니다.\n",
    "\n",
    "1. 감독자는 초기 요청을 받습니다.\n",
    "1. 해당 전문 에이전트에게 요청을 라우팅합니다.\n",
    "1. 전문 에이전트는 도구를 사용하여 요청을 처리합니다.\n",
    "1. 다음 단계를 결정하기 위해 통제권이 감독자에게 반환됩니다.\n",
    "1. 감독자가 작업이 완료되었다고 판단할 때까지 프로세스가 계속됩니다."
   ]
  },
  {
   "cell_type": "code",
   "execution_count": 253,
   "id": "fa80c2ff-da03-4d9d-8350-f37cbd79b986",
   "metadata": {},
   "outputs": [
    {
     "data": {
      "image/png": "[encoded data removed]",
      "text/plain": [
       "<IPython.core.display.Image object>"
      ]
     },
     "metadata": {},
     "output_type": "display_data"
    }
   ],
   "source": [
    "from IPython.display import Image, display\n",
    "\n",
    "try:\n",
    "    display(Image(graph.get_graph().draw_mermaid_png()))\n",
    "except Exception:\n",
    "    pass"
   ]
  },
  {
   "cell_type": "markdown",
   "id": "3486ed13-0459-47c6-862a-5ab096dba04d",
   "metadata": {},
   "source": [
    "## 9. 실행"
   ]
  },
  {
   "cell_type": "code",
   "execution_count": 254,
   "id": "9ddb98b7-b29d-47db-b8e2-5d2eddf642db",
   "metadata": {},
   "outputs": [
    {
     "name": "stdout",
     "output_type": "stream",
     "text": [
      "***** response ***** {'next': 'web_researcher'}\n",
      "Next Worker: web_researcher\n",
      "((), {'supervisor': None})\n",
      "----\n",
      "(('web_researcher:bc27c0b9-269e-87fb-19b3-31c935f2b3e3',), {'agent': {'messages': [AIMessage(content='', additional_kwargs={'tool_calls': [{'id': 'call_tClZLQWRiBJXxixwml3g1JzX', 'function': {'arguments': '{\"query\":\"FutureSmart AI 창립자\",\"search_depth\":\"advanced\"}', 'name': 'tavily_search'}, 'type': 'function'}], 'refusal': None}, response_metadata={'token_usage': {'completion_tokens': 26, 'prompt_tokens': 810, 'total_tokens': 836, 'completion_tokens_details': {'accepted_prediction_tokens': 0, 'audio_tokens': 0, 'reasoning_tokens': 0, 'rejected_prediction_tokens': 0}, 'prompt_tokens_details': {'audio_tokens': 0, 'cached_tokens': 0}}, 'model_name': 'gpt-4o-mini-2024-07-18', 'system_fingerprint': 'fp_34a54ae93c', 'id': 'chatcmpl-BpUJbdNVPYKcyS35hEsKeZb9Ab5iG', 'service_tier': 'default', 'finish_reason': 'tool_calls', 'logprobs': None}, id='run--fbb54461-c724-4849-a86e-0cdf68844f9c-0', tool_calls=[{'name': 'tavily_search', 'args': {'query': 'FutureSmart AI 창립자', 'search_depth': 'advanced'}, 'id': 'call_tClZLQWRiBJXxixwml3g1JzX', 'type': 'tool_call'}], usage_metadata={'input_tokens': 810, 'output_tokens': 26, 'total_tokens': 836, 'input_token_details': {'audio': 0, 'cache_read': 0}, 'output_token_details': {'audio': 0, 'reasoning': 0}})]}})\n",
      "----\n",
      "(('web_researcher:bc27c0b9-269e-87fb-19b3-31c935f2b3e3',), {'tools': {'messages': [ToolMessage(content='{\"query\": \"FutureSmart AI 창립자\", \"follow_up_questions\": null, \"answer\": null, \"images\": [], \"results\": [{\"title\": \"About Us - FutureSmart AI\", \"url\": \"https://www.futuresmart.ai/about-us\", \"content\": \"Founded by Pradip Nichite, an Expert-Vetted freelancer (top 1% on Upwork) and former Lead Data Scientist at Oracle, FutureSmart AI started as a solo effort and has grown into a focused team delivering production-grade AI across industries like e-commerce, finance, healthcare, and HR.\\\\n\\\\nOur Expertise [...] We run a YouTube channel where our founder shares hands-on, practical tutorials—a key channel through which we initially showcased our capabilities.\\\\n\\\\nTechnical Blog\\\\n\\\\nOur technical blog features deep, implementation-focused content written by our developers. Several posts have been shared and referenced by LangChain, Qdrant, and LlamaIndex teams.\\\\n\\\\nAI Demos\\\\n\\\\nWe also operate AI Demos, a platform to explore and discover the latest AI tools and use cases.\\\\n\\\\nOur Approach [...] About FutureSmart AI\\\\n\\\\nBuilding intelligent solutions for tomorrow\\'s challenges\\\\n\\\\nOur Mission\\\\n\\\\nFutureSmart AI builds custom Generative AI solutions—from RAG systems, NL2SQL bots, to AI Agents—designed to solve real business problems.\", \"score\": 0.87807417, \"raw_content\": null}, {\"title\": \"FutureSmart AI - LinkedIn\", \"url\": \"https://www.linkedin.com/company/futuresmartai\", \"content\": \"## Employees\\\\nPradip Nichite (Founder at FutureSmart AI | Generative AI Solutions | AI Agents & Automation | RAG | NL2SQL):  Rounak Show (AWS Certified | ML & Deep Learning | LangChain | GenAI | LLMs | Write Blogs on Data Science):  Sumit Nichite (No Code Developer | Canva | Veed.io | Premiere Pro):  jasna cp (Generative AI|Agentic AI): [...] (N/A); Oracle (IT Services and IT Consulting):  (Austin, Texas)\", \"score\": 0.8335554, \"raw_content\": null}], \"response_time\": 1.32}', name='tavily_search', id='ce622ef0-46bd-4850-a854-e28f3cdc3f0d', tool_call_id='call_tClZLQWRiBJXxixwml3g1JzX')]}})\n",
      "----\n",
      "(('web_researcher:bc27c0b9-269e-87fb-19b3-31c935f2b3e3',), {'agent': {'messages': [AIMessage(content='FutureSmart AI의 창립자는 **Pradip Nichite**입니다. 그는 과거에 Oracle의 수석 데이터 과학자로 일한 경험이 있으며, 현재는 FutureSmart AI를 통해 다양한 산업에서 생산 품질의 AI 솔루션을 제공하고 있습니다.\\n\\n### FutureSmart AI 소개\\n- **설립자**: Pradip Nichite\\n- **배경**: Nichite는 Upwork에서 상위 1%의 전문가로 평가받는 프리랜서이며, 데이터 과학 분야에서 전문성을 갖추고 있습니다.\\n- **기술 블로그**: 회사의 기술 블로그에는 개발자들이 작성한 심화적인 구현 중심의 콘텐츠가 포함되어 있으며, 이는 LangChain, Qdrant, LlamaIndex 팀에 의해 공유되고 참조된 바 있습니다.\\n- **YouTube 채널**: 창립자는 실습 튜토리얼을 공유하는 YouTube 채널을 운영하여 회사의 역량을 과시했습니다.\\n- **AI 데모 플랫폼**: 최신 AI 도구와 사용 사례를 탐색할 수 있는 AI Demos 플랫폼도 운영하고 있습니다.\\n\\nFutureSmart AI는 전자상거래, 금융, 의료, 인사 관리 등 여러 산업에 걸쳐 사용자 맞춤형 생성적 AI 솔루션을 구축하는 것을 목표로 하고 있습니다.\\n\\n더 자세한 정보는 아래의 링크에서 확인하실 수 있습니다:\\n- [FutureSmart AI 웹사이트](https://www.futuresmart.ai/about-us)\\n- [FutureSmart AI LinkedIn](https://www.linkedin.com/company/futuresmartai)', additional_kwargs={'refusal': None}, response_metadata={'token_usage': {'completion_tokens': 332, 'prompt_tokens': 1306, 'total_tokens': 1638, 'completion_tokens_details': {'accepted_prediction_tokens': 0, 'audio_tokens': 0, 'reasoning_tokens': 0, 'rejected_prediction_tokens': 0}, 'prompt_tokens_details': {'audio_tokens': 0, 'cached_tokens': 1280}}, 'model_name': 'gpt-4o-mini-2024-07-18', 'system_fingerprint': 'fp_34a54ae93c', 'id': 'chatcmpl-BpUJeLijg3RDBM5OD0mHS8PNyQ581', 'service_tier': 'default', 'finish_reason': 'stop', 'logprobs': None}, id='run--1b161350-bcbb-4a3f-b851-f779cdad89ca-0', usage_metadata={'input_tokens': 1306, 'output_tokens': 332, 'total_tokens': 1638, 'input_token_details': {'audio': 0, 'cache_read': 1280}, 'output_token_details': {'audio': 0, 'reasoning': 0}})]}})\n",
      "----\n",
      "((), {'web_researcher': {'messages': [HumanMessage(content='FutureSmart AI의 창립자는 **Pradip Nichite**입니다. 그는 과거에 Oracle의 수석 데이터 과학자로 일한 경험이 있으며, 현재는 FutureSmart AI를 통해 다양한 산업에서 생산 품질의 AI 솔루션을 제공하고 있습니다.\\n\\n### FutureSmart AI 소개\\n- **설립자**: Pradip Nichite\\n- **배경**: Nichite는 Upwork에서 상위 1%의 전문가로 평가받는 프리랜서이며, 데이터 과학 분야에서 전문성을 갖추고 있습니다.\\n- **기술 블로그**: 회사의 기술 블로그에는 개발자들이 작성한 심화적인 구현 중심의 콘텐츠가 포함되어 있으며, 이는 LangChain, Qdrant, LlamaIndex 팀에 의해 공유되고 참조된 바 있습니다.\\n- **YouTube 채널**: 창립자는 실습 튜토리얼을 공유하는 YouTube 채널을 운영하여 회사의 역량을 과시했습니다.\\n- **AI 데모 플랫폼**: 최신 AI 도구와 사용 사례를 탐색할 수 있는 AI Demos 플랫폼도 운영하고 있습니다.\\n\\nFutureSmart AI는 전자상거래, 금융, 의료, 인사 관리 등 여러 산업에 걸쳐 사용자 맞춤형 생성적 AI 솔루션을 구축하는 것을 목표로 하고 있습니다.\\n\\n더 자세한 정보는 아래의 링크에서 확인하실 수 있습니다:\\n- [FutureSmart AI 웹사이트](https://www.futuresmart.ai/about-us)\\n- [FutureSmart AI LinkedIn](https://www.linkedin.com/company/futuresmartai)', additional_kwargs={}, response_metadata={}, name='web_researcher')]}})\n",
      "----\n"
     ]
    },
    {
     "name": "stderr",
     "output_type": "stream",
     "text": [
      "Task supervisor with path ('__pregel_pull', 'supervisor') wrote to unknown channel branch:to:__end__, ignoring it.\n"
     ]
    },
    {
     "name": "stdout",
     "output_type": "stream",
     "text": [
      "***** response ***** {'next': 'FINISH'}\n",
      "Next Worker: FINISH\n",
      "***** END *****\n",
      "((), {'supervisor': None})\n",
      "----\n"
     ]
    }
   ],
   "source": [
    "# Example: Complex Query Using Multiple Agents\n",
    "input_question = \"FutureSmart AI의 창립자를 찾은 다음, 그에 대해 웹 조사를 수행하세요.\"\n",
    "for s in graph.stream(\n",
    "    {\"messages\": [(\"user\", input_question)]}, \n",
    "    subgraphs=True\n",
    "):\n",
    "    print(s)\n",
    "    print(\"----\")\n"
   ]
  },
  {
   "cell_type": "code",
   "execution_count": null,
   "id": "8b085bcb-3b2e-460b-ab59-81ad535f98e7",
   "metadata": {},
   "outputs": [],
   "source": []
  },
  {
   "cell_type": "code",
   "execution_count": null,
   "id": "4f32937f-5da9-4adc-a134-92e219c30072",
   "metadata": {},
   "outputs": [],
   "source": []
  },
  {
   "cell_type": "code",
   "execution_count": null,
   "id": "08cc554d-0207-4e58-8ca5-0d6a78decaee",
   "metadata": {},
   "outputs": [],
   "source": []
  },
  {
   "cell_type": "code",
   "execution_count": null,
   "id": "6f715eb2-e0da-4f99-a14b-739517b82c1c",
   "metadata": {},
   "outputs": [],
   "source": []
  }
 ],
 "metadata": {
  "kernelspec": {
   "display_name": "Python 3 (ipykernel)",
   "language": "python",
   "name": "python3"
  },
  "language_info": {
   "codemirror_mode": {
    "name": "ipython",
    "version": 3
   },
   "file_extension": ".py",
   "mimetype": "text/x-python",
   "name": "python",
   "nbconvert_exporter": "python",
   "pygments_lexer": "ipython3",
   "version": "3.13.4"
  }
 },
 "nbformat": 4,
 "nbformat_minor": 5
}
