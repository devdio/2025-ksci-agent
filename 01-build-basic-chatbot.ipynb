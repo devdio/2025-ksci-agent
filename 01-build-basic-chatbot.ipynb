{
 "cells": [
  {
   "cell_type": "markdown",
   "id": "f3c65d70-1bfe-4b46-81dd-aacc659d619f",
   "metadata": {},
   "source": [
    "# 기본 챗봇 만들기"
   ]
  },
  {
   "cell_type": "markdown",
   "id": "aabad230-dbc2-44a6-b6e3-36d391fb5f42",
   "metadata": {},
   "source": [
    "이 튜토리얼에서는 기본적인 챗봇을 만들어 보겠습니다. 이 챗봇을 기반으로, 앞으로 더 정교한 기능을 추가하고 LangGraph의 주요 개념을 소개하는 튜토리얼 시리즈를 진행할 예정입니다.🌟"
   ]
  },
  {
   "cell_type": "markdown",
   "id": "d02e83bc-593b-4a88-97d3-641bae1a503e",
   "metadata": {},
   "source": [
    "## 필수 조건"
   ]
  },
  {
   "cell_type": "markdown",
   "id": "4ea05c7b-f047-4872-8387-0c235347d49b",
   "metadata": {},
   "source": [
    "이 튜토리얼을 시작하기 전에 [OpenAI](https://platform.openai.com/api-keys),\n",
    "[Anthropic](https://console.anthropic.com/settings/keys), 또는\n",
    "[Google Gemini](https://ai.google.dev/gemini-api/docs/api-key) 등 도구 호출 기능을 지원하는 LLM에 연결할 수 있는지 확인하세요."
   ]
  },
  {
   "cell_type": "code",
   "execution_count": 30,
   "id": "9959a62c-97f1-41f8-b6b4-64042e7030cb",
   "metadata": {},
   "outputs": [
    {
     "data": {
      "text/plain": [
       "'\\n# OPENAI API KEY\\nOPENAI_API_KEY={your-open-api-key-here}\\n\\n# GOOGLE API KEY\\nGOOGLE_GENAI_USE_VERTEXAI=FALSE\\nGOOGLE_API_KEY={your-google-api-key-here}\\n\\n# ANTHROPIC API KEY\\nANTHROPIC_API_KEY={your-anthropic-api-key-here}\\n\\n# LANGCHAIN TOOL\\nTAVILY_API_KEY={your-tavily-api-key-here}\\n\\n# LangSmith 설정\\nLANGCHAIN_TRACING_V2=false\\nLANGCHAIN_ENDPOINT=https://api.smith.langchain.com\\nLANGCHAIN_API_KEY={your-langchain-api-key-here}\\nLANGCHAIN_PROJECT={your-project-name-here}\\n'"
      ]
     },
     "execution_count": 30,
     "metadata": {},
     "output_type": "execute_result"
    }
   ],
   "source": [
    "\"\"\"\n",
    "# OPENAI API KEY\n",
    "OPENAI_API_KEY={your-open-api-key-here}\n",
    "\n",
    "# GOOGLE API KEY\n",
    "GOOGLE_GENAI_USE_VERTEXAI=FALSE\n",
    "GOOGLE_API_KEY={your-google-api-key-here}\n",
    "\n",
    "# ANTHROPIC API KEY\n",
    "ANTHROPIC_API_KEY={your-anthropic-api-key-here}\n",
    " \n",
    "# LANGCHAIN TOOL\n",
    "TAVILY_API_KEY={your-tavily-api-key-here}\n",
    "\n",
    "# LangSmith 설정\n",
    "LANGCHAIN_TRACING_V2=false\n",
    "LANGCHAIN_ENDPOINT=https://api.smith.langchain.com\n",
    "LANGCHAIN_API_KEY={your-langchain-api-key-here}\n",
    "LANGCHAIN_PROJECT={your-project-name-here}\n",
    "\"\"\""
   ]
  },
  {
   "cell_type": "markdown",
   "id": "e46696d1-a528-49ea-9e1b-bcb5da912d03",
   "metadata": {},
   "source": [
    "## 1. 패키지 설치\n",
    "필요한 팩키지를 설치하세요.\n",
    "> LangSmith를 사용하면 LangGraph로 빌드한 LLM 앱을 디버그, 테스트 및 모니터링할 수 있습니다.  \n",
    "> 시작하는 방법에 대한 자세한 내용은 [LangSmith 문서](https://docs.smith.langchain.com)를 참조하세요."
   ]
  },
  {
   "cell_type": "code",
   "execution_count": 31,
   "id": "76056a56-606c-4b02-9271-021b590a44f4",
   "metadata": {},
   "outputs": [],
   "source": [
    "!pip install -qU python-dotenv langgraph langsmith langchain-openai "
   ]
  },
  {
   "cell_type": "code",
   "execution_count": 32,
   "id": "7fd31aa2-9e4b-4e6a-b230-02496f9c05eb",
   "metadata": {},
   "outputs": [
    {
     "name": "stdout",
     "output_type": "stream",
     "text": [
      "sk-proj-8xZc3Ppf7BtK\n"
     ]
    }
   ],
   "source": [
    "# 환경 변수 확인\n",
    "from dotenv import load_dotenv\n",
    "import os\n",
    "load_dotenv(override=True)\n",
    "\n",
    "OPENAI_API_KEY= os.environ.get(\"OPENAI_API_KEY\")\n",
    "print(OPENAI_API_KEY[:20])"
   ]
  },
  {
   "cell_type": "markdown",
   "id": "b77a7374-5984-4a35-a7e3-9277d0576d7b",
   "metadata": {},
   "source": [
    "## 2. `StateGraph` 생성  \n",
    "먼저 `StateGraph`를 만들어야 합니다. `StateGraph`는 \"하나의 상태에서 다른 상태로 어떻게 이동할지를 정의한 모델\"입니다. 간단히 `StateGraph`는 챗봇의 흐름을 설계하는 일종의 지도(Map)라고 생각합시다. 우리는 이 `StateGraph`에 **노드(Node)**를 추가합니다. 노드는 챗봇이 수행할 작업(예: 질문 처리, 계산 등)을 나타냅니다. 그리고 각 노드를 **엣지(Edge)**로 연결합니다. **엣지(Edge)**는 어떤 상태에서 다음 상태로 갈지 이동  규칙을 정의합니다. "
   ]
  },
  {
   "cell_type": "code",
   "execution_count": 33,
   "id": "d7bcc1bc-03b4-48d0-a5bc-4419553824a1",
   "metadata": {},
   "outputs": [],
   "source": [
    "from typing import Annotated\n",
    "from typing_extensions import TypedDict\n",
    "\n",
    "from langgraph.graph import StateGraph, START, END\n",
    "from langgraph.graph.message import add_messages\n",
    "\n",
    "class State(TypedDict):\n",
    "    # Messages는 \"list\" 타입을 가집니다. \n",
    "    # 주석에 있는 `add_messages`는 메시지를 덮어쓰는 것이 아니라 리스트에 추가하는 방식으로 작동합니다\n",
    "    messages: Annotated[list, add_messages]\n",
    "\n",
    "\n",
    "# StateGraph생성\n",
    "graph_builder = StateGraph(State)"
   ]
  },
  {
   "cell_type": "markdown",
   "id": "4fc13f59-2a85-43f1-8b0e-1bf97f63a5bc",
   "metadata": {},
   "source": [
    "그래프를 정의할 때 첫 번째 단계는 그래프의 `State`를 정의하는 것입니다.   \n",
    "`State`에는 그래프의 스키마와 상태 업데이트를 처리하는 [reducer 함수](https://langchain-ai.github.io/langgraph/concepts/low_level/#reducers)가 포함됩니다. 이 예제에서 `State`는 하나의 키인 `메시지`를 가진 `TypedDict`입니다. [`add_messages`](https://langchain-ai.github.io/langgraph/reference/graphs/#langgraph.graph.message.add_messages) 함수는 목록을 덮어쓰는 대신 새 메시지를 목록에 추가하는 데 사용됩니다. Reducer가 없는 키는 이전 값을 덮어씁니다. State, Reducer에 대해 자세히 알아보려면 [LangGraph 참조 문서](https://langchain-ai.github.io/langgraph/reference/graphs/#langgraph.graph.message.add_messages)를 참조하세요."
   ]
  },
  {
   "cell_type": "markdown",
   "id": "01740332-e243-4980-8bce-bad5acc4f387",
   "metadata": {},
   "source": [
    "## 3. 노드 추가"
   ]
  },
  {
   "cell_type": "markdown",
   "id": "3de3d166-562e-4e5a-bec0-35552c5c11ac",
   "metadata": {},
   "source": [
    "`chatbot` 노드를 추가합니다. **노드**는 작업 단위를 나타내며 일반적으로 Python 함수로 구현합니다."
   ]
  },
  {
   "cell_type": "code",
   "execution_count": 34,
   "id": "d35948c6-791b-49fb-b87e-544cfc940284",
   "metadata": {},
   "outputs": [
    {
     "data": {
      "text/plain": [
       "<langgraph.graph.state.StateGraph at 0x2cf9a4ed1d0>"
      ]
     },
     "execution_count": 34,
     "metadata": {},
     "output_type": "execute_result"
    }
   ],
   "source": [
    "from langchain_openai import ChatOpenAI\n",
    "\n",
    "def chatbot(state: State):\n",
    "    # LLM 정의\n",
    "    llm = ChatOpenAI(model=\"gpt-4o-mini\", temperature=0)\n",
    "    response = llm.invoke(state[\"messages\"])\n",
    "    return {\"messages\": [response]}\n",
    "\n",
    "\n",
    "# 첫 번째 인자는 고유한 노드 이름입니다.\n",
    "# 두 번째 인자는 노드가 호출될 때마다 실행될 함수나 객체입니다.\n",
    "graph_builder.add_node(\"chatbot\", chatbot)"
   ]
  },
  {
   "cell_type": "markdown",
   "id": "e408afd3-bade-403a-9093-13752a28d37f",
   "metadata": {},
   "source": [
    "모든 노드는 State를 입력으로 받아서 업데이트 된 State를 반환하는 방식이다. 이는 모든 LangGraph 노드의 기본 패턴입니다."
   ]
  },
  {
   "cell_type": "markdown",
   "id": "fd26b912-ad57-407b-882a-b046ca37497d",
   "metadata": {},
   "source": [
    "## 4. `Entry 포인트` 추가"
   ]
  },
  {
   "cell_type": "markdown",
   "id": "82f06ead-dcfd-44b0-b167-d372c2ea9b5c",
   "metadata": {},
   "source": [
    "Graph가 시작될 때마다 작업의 시작 위치를 알려주는 지점을 추가합니다."
   ]
  },
  {
   "cell_type": "code",
   "execution_count": 35,
   "id": "f56314b5-fa10-416c-9b76-96e2a6b739ed",
   "metadata": {},
   "outputs": [
    {
     "data": {
      "text/plain": [
       "<langgraph.graph.state.StateGraph at 0x2cf9a4ed1d0>"
      ]
     },
     "execution_count": 35,
     "metadata": {},
     "output_type": "execute_result"
    }
   ],
   "source": [
    "graph_builder.add_edge(START, \"chatbot\")"
   ]
  },
  {
   "cell_type": "markdown",
   "id": "e7e1c293-6d20-4e44-8cc9-1071a4a2245b",
   "metadata": {},
   "source": [
    "## 5. `exit 포인트` 추가"
   ]
  },
  {
   "cell_type": "code",
   "execution_count": 36,
   "id": "e55e675b-a7db-4cb5-a86d-c888ebc64c9a",
   "metadata": {},
   "outputs": [
    {
     "data": {
      "text/plain": [
       "<langgraph.graph.state.StateGraph at 0x2cf9a4ed1d0>"
      ]
     },
     "execution_count": 36,
     "metadata": {},
     "output_type": "execute_result"
    }
   ],
   "source": [
    "graph_builder.add_edge(\"chatbot\", END)"
   ]
  },
  {
   "cell_type": "markdown",
   "id": "d580b200-fc2c-4d57-ac54-932a7445dbc8",
   "metadata": {},
   "source": [
    "## 6. 그래프 컴파일"
   ]
  },
  {
   "cell_type": "markdown",
   "id": "3c407719-e3a8-4a4c-961a-2bfac7e8d150",
   "metadata": {},
   "source": [
    "그래프를 실행하기 전에 먼저 그래프를 컴파일해야 합니다. `compile()`함수를 호출하여 컴파일할 수 있습니다. 이렇게 하면 CompiledGraph상태를 호출할 수 있는 함수가 생성됩니다."
   ]
  },
  {
   "cell_type": "code",
   "execution_count": 37,
   "id": "934362c6-a5dd-4439-9508-f80fb1827b9c",
   "metadata": {},
   "outputs": [],
   "source": [
    "graph = graph_builder.compile()"
   ]
  },
  {
   "cell_type": "markdown",
   "id": "acb28b62-e612-4e73-ac45-14eabb89482d",
   "metadata": {},
   "source": [
    "## 7. 그래프 시각화 (선택)"
   ]
  },
  {
   "cell_type": "code",
   "execution_count": 38,
   "id": "20a58e0c-f388-442b-bd37-224f9c07d825",
   "metadata": {},
   "outputs": [
    {
     "data": {
      "image/png": "[encoded data removed]",
      "text/plain": [
       "<IPython.core.display.Image object>"
      ]
     },
     "metadata": {},
     "output_type": "display_data"
    }
   ],
   "source": [
    "from IPython.display import Image, display\n",
    "\n",
    "try:\n",
    "    display(Image(graph.get_graph().draw_mermaid_png()))\n",
    "except Exception:\n",
    "    pass"
   ]
  },
  {
   "cell_type": "markdown",
   "id": "62fc2fab-14e9-4b11-ac8e-2b2bcbbd8466",
   "metadata": {},
   "source": [
    "## 8. 챗봇 실행"
   ]
  },
  {
   "cell_type": "code",
   "execution_count": 39,
   "id": "be3bec90-3652-4ec4-b4c4-0411d6f9781e",
   "metadata": {},
   "outputs": [
    {
     "name": "stdin",
     "output_type": "stream",
     "text": [
      "User:  지구의 둘레는\n"
     ]
    },
    {
     "name": "stdout",
     "output_type": "stream",
     "text": [
      "Assistant: 지구의 둘레는 약 40,075킬로미터(24,901마일)입니다. 이는 적도를 기준으로 한 측정값이며, 극을 기준으로 측정할 경우 약 40,008킬로미터(24,860마일)입니다. 지구는 완벽한 구형이 아니고 약간 편평한 형태를 가지고 있기 때문에, 둘레는 측정하는 위치에 따라 다소 차이가 있습니다.\n"
     ]
    },
    {
     "name": "stdin",
     "output_type": "stream",
     "text": [
      "User:  지구의 중력은 얼마인가\n"
     ]
    },
    {
     "name": "stdout",
     "output_type": "stream",
     "text": [
      "Assistant: 지구의 중력 가속도는 평균적으로 약 9.81 m/s²입니다. 이는 지구 표면에서 물체가 자유 낙하할 때의 가속도를 나타내며, 지역에 따라 약간의 차이가 있을 수 있습니다. 예를 들어, 고도가 높거나 지구의 중심에서 멀어질수록 중력 가속도는 약간 감소합니다.\n"
     ]
    },
    {
     "name": "stdin",
     "output_type": "stream",
     "text": [
      "User:  quit\n"
     ]
    },
    {
     "name": "stdout",
     "output_type": "stream",
     "text": [
      "또 만나요!\n"
     ]
    }
   ],
   "source": [
    "# You can exit the chat loop at any time by typing `quit`, `exit`, or `q`.\n",
    "\n",
    "def stream_graph_updates(user_input: str):\n",
    "    for event in graph.stream({\"messages\": [{\"role\": \"user\", \"content\": user_input}]}):\n",
    "        for value in event.values():\n",
    "            print(\"Assistant:\", value[\"messages\"][-1].content)\n",
    "\n",
    "while True:\n",
    "    try:\n",
    "        user_input = input(\"User: \")\n",
    "        if user_input.lower() in [\"quit\", \"exit\", \"q\"]:\n",
    "            print(\"또 만나요!\")\n",
    "            break\n",
    "        stream_graph_updates(user_input)\n",
    "    except:\n",
    "        # input()을 사용할 수 없는 경우의 대체 처리(fallback)\n",
    "        user_input = \"지구에서 달까지의 거리를 알려줘?\"\n",
    "        print(\"User: \" + user_input)\n",
    "        stream_graph_updates(user_input)\n",
    "        break"
   ]
  },
  {
   "cell_type": "markdown",
   "id": "1ed091fc-b343-41c5-953b-242074384cdb",
   "metadata": {},
   "source": [
    "## 9. 전체 코드"
   ]
  },
  {
   "cell_type": "code",
   "execution_count": null,
   "id": "b61fab6e-0db7-4cd8-a0a4-1d665f3bac66",
   "metadata": {},
   "outputs": [],
   "source": [
    "from typing import Annotated\n",
    "\n",
    "from langchain.chat_models import init_chat_model\n",
    "from typing_extensions import TypedDict\n",
    "\n",
    "from langgraph.graph import StateGraph, START, END\n",
    "from langgraph.graph.message import add_messages\n",
    "from langchain_openai import ChatOpenAI\n",
    "\n",
    "class State(TypedDict):\n",
    "    messages: Annotated[list, add_messages]\n",
    "\n",
    "graph_builder = StateGraph(State)\n",
    "\n",
    "def chatbot(state: State):\n",
    "    llm = ChatOpenAI(model=\"gpt-4o-mini\", temperature=0)\n",
    "    response = llm.invoke(state[\"messages\"])\n",
    "    return {\"messages\": [response]}\n",
    "\n",
    "graph_builder.add_node(\"chatbot\", chatbot)\n",
    "graph_builder.add_edge(START, \"chatbot\")\n",
    "graph_builder.add_edge(\"chatbot\", END)\n",
    "graph = graph_builder.compile()"
   ]
  }
 ],
 "metadata": {
  "kernelspec": {
   "display_name": "Python 3 (ipykernel)",
   "language": "python",
   "name": "python3"
  },
  "language_info": {
   "codemirror_mode": {
    "name": "ipython",
    "version": 3
   },
   "file_extension": ".py",
   "mimetype": "text/x-python",
   "name": "python",
   "nbconvert_exporter": "python",
   "pygments_lexer": "ipython3",
   "version": "3.13.4"
  }
 },
 "nbformat": 4,
 "nbformat_minor": 5
}
