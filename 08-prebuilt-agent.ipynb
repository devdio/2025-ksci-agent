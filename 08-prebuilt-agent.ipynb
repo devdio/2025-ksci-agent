{
 "cells": [
  {
   "cell_type": "markdown",
   "id": "51d8c8a7-2513-4004-86ad-3eff43635252",
   "metadata": {},
   "source": [
    "# 사전 구축된 에이전트 사용"
   ]
  },
  {
   "cell_type": "markdown",
   "id": "b318eb44-6a53-48b6-9933-41d15a653ef2",
   "metadata": {},
   "source": [
    "자세한 내용은 [Start with a prebuilt agent](https://langchain-ai.github.io/langgraph/agents/agents/) 페이지를 참조"
   ]
  },
  {
   "cell_type": "markdown",
   "id": "4e788527-8cc6-4694-9167-4f5ca7737149",
   "metadata": {},
   "source": [
    "## 1. 환경설정"
   ]
  },
  {
   "cell_type": "code",
   "execution_count": 1,
   "id": "fc3ba3d4-c53a-46d2-9bf1-3bd7cf637d5a",
   "metadata": {},
   "outputs": [],
   "source": [
    "# 환경 변수 확인\n",
    "from dotenv import load_dotenv\n",
    "import os\n",
    "load_dotenv(override=True)\n",
    "\n",
    "# TAVILY_API_KEY= os.environ.get(\"TAVILY_API_KEY\")\n",
    "# print(TAVILY_API_KEY[:20])\n",
    "\n",
    "def _set_env(var: str):\n",
    "    if not os.environ.get(var):\n",
    "        os.environ[var] = getpass.getpass(f\"{var}: \")\n",
    "\n",
    "_set_env(\"TAVILY_API_KEY\")\n",
    "_set_env(\"OPENAI_API_KEY\")"
   ]
  },
  {
   "cell_type": "markdown",
   "id": "9e26a856-1795-4569-a5ad-defec459db4c",
   "metadata": {},
   "source": [
    "## 2. 기본 에이전트 생성"
   ]
  },
  {
   "cell_type": "code",
   "execution_count": 4,
   "id": "a8c7516b-4934-43ec-8a8d-b0412d8d11f6",
   "metadata": {},
   "outputs": [
    {
     "data": {
      "text/plain": [
       "'서울의 날씨는 항상 화창합니다! 추가로 확인하고 싶은 정보가 있나요?'"
      ]
     },
     "execution_count": 4,
     "metadata": {},
     "output_type": "execute_result"
    }
   ],
   "source": [
    "from langgraph.prebuilt import create_react_agent\n",
    "\n",
    "def get_weather(city: str) -> str:  \n",
    "    \"\"\"주어진 도시의 날씨를 확인합니다.\"\"\"\n",
    "    return f\"{city}의 날씨는 항상 화창합니다!\"\n",
    "\n",
    "agent = create_react_agent(\n",
    "    model=\"openai:gpt-4o-mini\",  \n",
    "    temperature=0,\n",
    "    tools=[get_weather],  \n",
    "    prompt=\"당신은 유용한 AI 도우미입니다.\"  \n",
    ")\n",
    "\n",
    "# Run the agent\n",
    "response = agent.invoke(\n",
    "    {\"messages\": [{\"role\": \"user\", \"content\": \"서울의 날씨는 어떤가?\"}]}\n",
    ")\n",
    "\n",
    "response[\"messages\"][-1].content"
   ]
  },
  {
   "cell_type": "markdown",
   "id": "6a6eda69-69b6-46f8-8b20-6d8f712bd477",
   "metadata": {},
   "source": [
    "## 2. 동적 프롬프트"
   ]
  },
  {
   "cell_type": "code",
   "execution_count": 12,
   "id": "37508a77-68fd-4112-a011-67409a6ebe3c",
   "metadata": {},
   "outputs": [
    {
     "data": {
      "text/plain": [
       "'서울의 날씨는 항상 화창합니다! 다른 정보가 필요하시면 말씀해 주세요, 제임스.'"
      ]
     },
     "execution_count": 12,
     "metadata": {},
     "output_type": "execute_result"
    }
   ],
   "source": [
    "from langchain_core.messages import AnyMessage\n",
    "from langchain_core.runnables import RunnableConfig\n",
    "from langgraph.prebuilt.chat_agent_executor import AgentState\n",
    "from langgraph.prebuilt import create_react_agent\n",
    "\n",
    "def prompt(state: AgentState, config: RunnableConfig) -> list[AnyMessage]:  \n",
    "    user_name = config[\"configurable\"].get(\"user_name\")\n",
    "    system_msg = f\"당신은 유용한 AI 도우미입니다. 사용자에게 {user_name}이라고 호칭하세요.\"\n",
    "    return [{\"role\": \"system\", \"content\": system_msg}] + state[\"messages\"]\n",
    "\n",
    "agent = create_react_agent(\n",
    "    model=\"openai:gpt-4o-mini\",\n",
    "    tools=[get_weather],\n",
    "    prompt=prompt\n",
    ")\n",
    "\n",
    "response = agent.invoke(\n",
    "    {\"messages\": [{\"role\": \"user\", \"content\": \"서울의 날씨는 어떤가?\"}]},\n",
    "    config={\"configurable\": {\"user_name\": \"제임스\"}}\n",
    ")\n",
    "\n",
    "response[\"messages\"][-1].content"
   ]
  },
  {
   "cell_type": "markdown",
   "id": "b7c11377-0da2-49df-802c-fd7965432955",
   "metadata": {},
   "source": [
    "## 3. 메모리 추가"
   ]
  },
  {
   "cell_type": "code",
   "execution_count": 13,
   "id": "9bb6fefc-7596-497c-8f62-8098c2de53fb",
   "metadata": {},
   "outputs": [
    {
     "data": {
      "text/plain": [
       "'안녕하세요, 제이슨! 어떻게 도와드릴까요?'"
      ]
     },
     "execution_count": 13,
     "metadata": {},
     "output_type": "execute_result"
    }
   ],
   "source": [
    "from langgraph.checkpoint.memory import InMemorySaver\n",
    "from langchain.chat_models import init_chat_model\n",
    "\n",
    "checkpointer = InMemorySaver()\n",
    "\n",
    "def get_weather(city: str) -> str:  \n",
    "    \"\"\"주어진 도시의 날씨를 확인합니다.\"\"\"\n",
    "    return f\"{city}의 날씨는 항상 화창합니다!\"\n",
    "\n",
    "model = init_chat_model(\n",
    "    \"openai:gpt-4o-mini\",\n",
    "    temperature=0\n",
    ")\n",
    "\n",
    "agent = create_react_agent(\n",
    "    model=model,  \n",
    "    tools=[get_weather],  \n",
    "    checkpointer=checkpointer,\n",
    "    prompt=\"당신은 유용한 AI 도우미입니다.\"  \n",
    ")\n",
    "\n",
    "# Run the agent\n",
    "config = {\"configurable\": {\"thread_id\": \"1\"}}\n",
    "response = agent.invoke(\n",
    "    {\"messages\": [{\"role\": \"user\", \"content\": \"안녕 내이름은 제이슨이야?\"}]},\n",
    "    config  \n",
    ")\n",
    "\n",
    "response[\"messages\"][-1].content"
   ]
  },
  {
   "cell_type": "code",
   "execution_count": 14,
   "id": "2353e09a-05fd-4e59-aef3-18ad794fded9",
   "metadata": {},
   "outputs": [
    {
     "name": "stdout",
     "output_type": "stream",
     "text": [
      "안녕하세요, 제이슨! 어떻게 도와드릴까요?\n"
     ]
    },
    {
     "data": {
      "text/plain": [
       "'당신의 이름은 제이슨입니다.'"
      ]
     },
     "execution_count": 14,
     "metadata": {},
     "output_type": "execute_result"
    }
   ],
   "source": [
    "print(response[\"messages\"][-1].content)\n",
    "\n",
    "response = agent.invoke(\n",
    "    {\"messages\": [{\"role\": \"user\", \"content\": \"내이름이 뭐라고 했지?\"}]},\n",
    "    config\n",
    ")\n",
    "\n",
    "response[\"messages\"][-1].content"
   ]
  },
  {
   "cell_type": "markdown",
   "id": "3776eb85-e830-4857-adba-521ad95fde3f",
   "metadata": {},
   "source": [
    "## 4. 구조화 된 출력"
   ]
  },
  {
   "cell_type": "code",
   "execution_count": 16,
   "id": "74b71b49-55ff-4797-bc5b-b9a8adda355b",
   "metadata": {},
   "outputs": [
    {
     "data": {
      "text/plain": [
       "WeatherResponse(conditions='서울의 날씨는 항상 화창합니다!')"
      ]
     },
     "execution_count": 16,
     "metadata": {},
     "output_type": "execute_result"
    }
   ],
   "source": [
    "from pydantic import BaseModel\n",
    "from langgraph.prebuilt import create_react_agent\n",
    "\n",
    "class WeatherResponse(BaseModel):\n",
    "    conditions: str\n",
    "\n",
    "agent = create_react_agent(\n",
    "    model=\"openai:gpt-4o-mini\",\n",
    "    tools=[get_weather],\n",
    "    response_format=WeatherResponse  \n",
    ")\n",
    "\n",
    "response = agent.invoke(\n",
    "    {\"messages\": [{\"role\": \"user\", \"content\": \"서울의 날씨는 어떤가?\"}]}\n",
    ")\n",
    "\n",
    "response[\"structured_response\"]"
   ]
  }
 ],
 "metadata": {
  "kernelspec": {
   "display_name": "Python 3 (ipykernel)",
   "language": "python",
   "name": "python3"
  },
  "language_info": {
   "codemirror_mode": {
    "name": "ipython",
    "version": 3
   },
   "file_extension": ".py",
   "mimetype": "text/x-python",
   "name": "python",
   "nbconvert_exporter": "python",
   "pygments_lexer": "ipython3",
   "version": "3.13.4"
  }
 },
 "nbformat": 4,
 "nbformat_minor": 5
}
