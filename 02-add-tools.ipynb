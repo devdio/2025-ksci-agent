{
 "cells": [
  {
   "cell_type": "markdown",
   "id": "7cd17dce-81df-43cb-be80-b32e12c43c02",
   "metadata": {},
   "source": [
    "#  도구(Tool) 추가"
   ]
  },
  {
   "cell_type": "markdown",
   "id": "9f65e629-7d31-4c89-96c9-a1a1c5bd0ff0",
   "metadata": {},
   "source": [
    "챗봇이 \"기억만으로\" 답변할 수 없는 질문을 처리하기 위해서 `웹 검색 도구`를 사용하도록 합니다. 챗봇은 이 도구를 사용하여 관련 정보를 찾고 더 나은 답변을 제공할 수 있습니다."
   ]
  },
  {
   "cell_type": "markdown",
   "id": "a0a461bc-f0aa-418e-bc1f-7f9529e82478",
   "metadata": {},
   "source": [
    "## 1. 환경 설정"
   ]
  },
  {
   "cell_type": "markdown",
   "id": "b517b3d2-4a18-4732-b223-900e7ffa9ad8",
   "metadata": {},
   "source": [
    "### `.env`파일 설정\n",
    "\n",
    "이번 튜토리얼에서는 웹 검색도구로 `Tavily 검색 엔진`을 사용합니다. [Tavily 검색 엔진](https://python.langchain.com/docs/integrations/tools/tavily_search/)을 위한 API 키를 `.env`파일에 등록하세요. "
   ]
  },
  {
   "cell_type": "markdown",
   "id": "a9d4f0df-d3ee-418d-9dd0-ef7cad86409e",
   "metadata": {},
   "source": [
    "### 패키지 설치"
   ]
  },
  {
   "cell_type": "code",
   "execution_count": 3,
   "id": "e9317222-3f81-4c1a-b764-dc49a11d143f",
   "metadata": {},
   "outputs": [
    {
     "name": "stdout",
     "output_type": "stream",
     "text": [
      "Note: you may need to restart the kernel to use updated packages.\n"
     ]
    }
   ],
   "source": [
    "%pip install -qU python-dotenv langgraph langsmith langchain-openai langchain-tavily"
   ]
  },
  {
   "cell_type": "code",
   "execution_count": 33,
   "id": "2bda2f89-07bb-46a3-bc1c-455cbe0a7deb",
   "metadata": {},
   "outputs": [
    {
     "name": "stdout",
     "output_type": "stream",
     "text": [
      "sk-proj-8xZc3Ppf7BtK\n",
      "tvly-dev-GUT1o6jP4Og\n"
     ]
    }
   ],
   "source": [
    "# 환경 변수 확인\n",
    "from dotenv import load_dotenv\n",
    "import os\n",
    "load_dotenv(override=True)\n",
    "\n",
    "def _set_env(var: str):\n",
    "    if not os.environ.get(var):\n",
    "        os.environ[var] = getpass.getpass(f\"{var}: \")\n",
    "\n",
    "_set_env(\"OPENAI_API_KEY\")\n",
    "_set_env(\"TAVILY_API_KEY\")\n",
    "\n",
    "print(os.environ.get(\"OPENAI_API_KEY\")[:20])\n",
    "print(os.environ.get(\"TAVILY_API_KEY\")[:20])\n"
   ]
  },
  {
   "cell_type": "markdown",
   "id": "a7dd4a6a-28aa-490c-9afe-b6d404fb8d2b",
   "metadata": {},
   "source": [
    "## 2. 도구 정의"
   ]
  },
  {
   "cell_type": "markdown",
   "id": "a30651fd-d4d5-4d1d-b59e-07fb009cf9ee",
   "metadata": {},
   "source": [
    "웹 검색을 위한 도구를 정의합니다. 이 튜토리얼에서는 [Tavily](https://www.tavily.com/) 서비스를 도구로 사용합니다. 도구를 사용하기 위해서는 API키의 등록이 필요합니다."
   ]
  },
  {
   "cell_type": "code",
   "execution_count": 34,
   "id": "cadbe39b-d3f3-4efb-82ba-5ff7a2e1e073",
   "metadata": {},
   "outputs": [],
   "source": [
    "from langchain_tavily import TavilySearch\n",
    "\n",
    "search_tool = TavilySearch(max_results=2)\n",
    "tools = [search_tool]"
   ]
  },
  {
   "cell_type": "code",
   "execution_count": 35,
   "id": "78f73779-d906-4cef-bacf-19faa3382205",
   "metadata": {},
   "outputs": [
    {
     "data": {
      "text/plain": [
       "{'query': '2024 한국 프로야구 우승팀을 알려줘',\n",
       " 'follow_up_questions': None,\n",
       " 'answer': None,\n",
       " 'images': [],\n",
       " 'results': [{'url': 'https://blog.naver.com/travelguide_94/223637975869',\n",
       "   'title': '2024 프로야구 한국시리즈 우승팀은 기아 타이거즈! KBO 최종 순위 정보',\n",
       "   'content': '... 우승은. 7년 만의 통합 우승인. 기아 타이거즈가 가져가게 되었는데요. 내년에는 과연 어떤 팀이. 우승을 할지도 궁금해지네요:) \\u200b. 결론,. 야구 쪼오온잼',\n",
       "   'score': 0.85567063,\n",
       "   'raw_content': None},\n",
       "  {'url': 'https://namu.wiki/w/2024%20%EC%8B%A0%ED%95%9C%20SOL%20Bank%20KBO%20%ED%95%9C%EA%B5%AD%EC%8B%9C%EB%A6%AC%EC%A6%88',\n",
       "   'title': '2024 신한 SOL Bank KBO 한국시리즈 - 나무위키',\n",
       "   'content': '2024 프로야구 챔피언, KBO 최다 우승팀, 열두 번째 우승, KIA 타이거즈! 최초의 80년대생 감독 이범호 감독은 팬들에게 했던 우승의 약속을 지켰고, KBO 리그의',\n",
       "   'score': 0.7750779,\n",
       "   'raw_content': None}],\n",
       " 'response_time': 1.13}"
      ]
     },
     "execution_count": 35,
     "metadata": {},
     "output_type": "execute_result"
    }
   ],
   "source": [
    "# 테스트\n",
    "search_tool.invoke(\"2024 한국 프로야구 우승팀을 알려줘\")"
   ]
  },
  {
   "cell_type": "markdown",
   "id": "163d540b-714e-481a-aa24-1c9bfcda0d91",
   "metadata": {},
   "source": [
    "## 3. 그래프 정의"
   ]
  },
  {
   "cell_type": "markdown",
   "id": "ffc53086-b65f-4918-86ed-c41518ffa5b6",
   "metadata": {},
   "source": [
    "LLM이 검색 도구를 사용할 수 있도록 `bind_tools()` 함수를 사용하여 등록합니다."
   ]
  },
  {
   "cell_type": "code",
   "execution_count": 36,
   "id": "22cf846a-9cbe-4f34-a406-f6c3e2fb1af8",
   "metadata": {},
   "outputs": [],
   "source": [
    "from typing import Annotated\n",
    "from langchain.chat_models import init_chat_model\n",
    "from typing_extensions import TypedDict\n",
    "from langgraph.graph import StateGraph, START, END\n",
    "from langgraph.graph.message import add_messages\n",
    "from langchain_openai import ChatOpenAI\n",
    "\n",
    "class State(TypedDict):\n",
    "    messages: Annotated[list, add_messages]\n",
    "\n",
    "def chatbot(state: State):\n",
    "    llm = ChatOpenAI(model=\"gpt-4o-mini\", temperature=0)\n",
    "    # 수정: LLM이 검색 엔진을 사용할 수 있도록 LLM에게 알려줍니다. \n",
    "    llm_with_tools = llm.bind_tools(tools)\n",
    "    response = llm_with_tools.invoke(state[\"messages\"])\n",
    "    return {\"messages\": [response]}"
   ]
  },
  {
   "cell_type": "code",
   "execution_count": 37,
   "id": "32c05a99-a539-4b38-a1f8-5b95f3e65973",
   "metadata": {},
   "outputs": [
    {
     "data": {
      "text/plain": [
       "<langgraph.graph.state.StateGraph at 0x248a5fff620>"
      ]
     },
     "execution_count": 37,
     "metadata": {},
     "output_type": "execute_result"
    }
   ],
   "source": [
    "graph_builder = StateGraph(State)\n",
    "graph_builder.add_node(\"chatbot\", chatbot)"
   ]
  },
  {
   "cell_type": "markdown",
   "id": "163d1964-457d-4ec7-9039-372adcfd0683",
   "metadata": {},
   "source": [
    "## 4. 도구 실행 위한 노드\n",
    "\n",
    "LangGraph에는 도구 실행을 위한 미리 정의된(prebuilt) 노드가 준비되어있습니다. `ToolNode`를 그래프에 추가합니다."
   ]
  },
  {
   "cell_type": "code",
   "execution_count": 38,
   "id": "bedf040d-871e-472a-8590-bd4bf381e7a3",
   "metadata": {},
   "outputs": [
    {
     "data": {
      "text/plain": [
       "<langgraph.graph.state.StateGraph at 0x248a5fff620>"
      ]
     },
     "execution_count": 38,
     "metadata": {},
     "output_type": "execute_result"
    }
   ],
   "source": [
    "from langgraph.prebuilt import ToolNode\n",
    "\n",
    "tool_node = ToolNode(tools)\n",
    "graph_builder.add_node(\"tools\", tool_node)"
   ]
  },
  {
   "cell_type": "markdown",
   "id": "b3ca2128-4a4e-447d-85bd-667842cb496a",
   "metadata": {},
   "source": [
    "## 조건부 엣지(Conditional Edge) 추가"
   ]
  },
  {
   "cell_type": "markdown",
   "id": "70f7e7e7-2dd0-4d45-b006-615a8e3ca7d1",
   "metadata": {},
   "source": [
    "조건부 엣지(conditional edges) 는 하나의 노드에서 시작되며, 현재 그래프 상태에 따라 서로 다른 노드로 이동하기 위해 사용됩니다.  \n",
    "`tools_condition` 는 LLM의 리턴값에 도구 호출이 필요하면 Tool노드로 이동시키고, 그렇지 않으면 `END`노드로 이동시킨다.  "
   ]
  },
  {
   "cell_type": "code",
   "execution_count": 39,
   "id": "a6f6fffa-acc1-4f63-aec5-fe019ebf4162",
   "metadata": {},
   "outputs": [
    {
     "data": {
      "text/plain": [
       "<langgraph.graph.state.StateGraph at 0x248a5fff620>"
      ]
     },
     "execution_count": 39,
     "metadata": {},
     "output_type": "execute_result"
    }
   ],
   "source": [
    "from langgraph.prebuilt import tools_condition\n",
    "\n",
    "# `tools_condition` 함수는 챗봇이 도구 사용을 요청하면 \"tools\"를 반환하고,\n",
    "# 바로 응답해도 되는 경우에는 \"END\"를 반환합니다.\n",
    "graph_builder.add_conditional_edges(\n",
    "    \"chatbot\",\n",
    "    tools_condition\n",
    ")"
   ]
  },
  {
   "cell_type": "code",
   "execution_count": 40,
   "id": "a9a15368-4796-404a-8800-f29dc7b38ee1",
   "metadata": {},
   "outputs": [],
   "source": [
    "# 도구가 호출될 때마다, 다음 단계를 결정하기 위해 다시 챗봇으로 돌아갑니다.\n",
    "graph_builder.add_edge(\"tools\", \"chatbot\")\n",
    "graph_builder.add_edge(START, \"chatbot\")\n",
    "\n",
    "graph = graph_builder.compile()"
   ]
  },
  {
   "cell_type": "markdown",
   "id": "727dcf5f-0587-4121-a7b9-81b6144d06ca",
   "metadata": {},
   "source": [
    "이 부분은 LangGraph에서 제공하는 [tools_condition](https://langchain-ai.github.io/langgraph/reference/prebuilt/#tools_condition) 을 사용하면 간격하게 작성할 수 있다."
   ]
  },
  {
   "cell_type": "markdown",
   "id": "3f045a4c-7cac-4f45-bb88-b30341cfba91",
   "metadata": {},
   "source": [
    "## 5. 시각화"
   ]
  },
  {
   "cell_type": "code",
   "execution_count": 41,
   "id": "ca1c98ab-ff3e-4cdd-9a83-d46590ebc223",
   "metadata": {},
   "outputs": [
    {
     "data": {
      "image/png": "[encoded data removed]",
      "text/plain": [
       "<IPython.core.display.Image object>"
      ]
     },
     "metadata": {},
     "output_type": "display_data"
    }
   ],
   "source": [
    "from IPython.display import Image, display\n",
    "\n",
    "try:\n",
    "    display(Image(graph.get_graph().draw_mermaid_png()))\n",
    "except Exception:\n",
    "    pass"
   ]
  },
  {
   "cell_type": "markdown",
   "id": "30ebf8f7-a208-4de3-bfaf-280eeb468757",
   "metadata": {},
   "source": [
    "## 6. 챗봇 실행"
   ]
  },
  {
   "cell_type": "code",
   "execution_count": 42,
   "id": "e9dbae02-019a-47d8-a6d0-314d213f4b22",
   "metadata": {},
   "outputs": [
    {
     "name": "stdin",
     "output_type": "stream",
     "text": [
      "User:  2025년 윔브던 테니스 대회는 어떻게 되고 있나\n"
     ]
    },
    {
     "name": "stdout",
     "output_type": "stream",
     "text": [
      "Assistant: \n",
      "Assistant: {\"query\": \"2025 Wimbledon Tennis Championships\", \"follow_up_questions\": null, \"answer\": null, \"images\": [], \"results\": [{\"url\": \"https://www.greenwichtime.com/sports/article/yes-wimbledon-can-be-serious-about-getting-rid-20402190.php\", \"title\": \"Yes, Wimbledon can be serious about getting rid of line judges and switching to electronic calls - Greenwich Time\", \"score\": 0.88822687, \"published_date\": \"Tue, 01 Jul 2025 10:20:57 GMT\", \"content\": \"Image 1: General view during the round women's single match between Diane Perry of France and Petra Martic of Croatia at the Wimbledon Tennis Championships in London, Monday, June 30, 2025. Image 2: Aryna Sabalenka of Belarus reacts during her match against Carson Branstine of Canada at their first round women's single match at the Wimbledon Tennis Championships in London, Monday, June 30, 2025. Image 3: Matteo Berrettini of Italy serves to Kamil Majchrzak of Poland in their first round men's singles match at the Wimbledon Tennis Championships in London, Monday, June 30, 2025. Image 4: Frances Tiafoe of the U.S. returns the ball to Elmer Moller of Denmark during their first round men's single match at the Wimbledon Tennis Championships in London, Monday, June 30, 2025.\", \"raw_content\": null}, {\"url\": \"https://www.greenwichtime.com/sports/article/photo-highlights-from-the-first-and-second-rounds-20421777.php\", \"title\": \"Photo highlights from the first and second rounds of Wimbledon - Greenwich Time\", \"score\": 0.8747745, \"published_date\": \"Thu, 03 Jul 2025 22:00:45 GMT\", \"content\": \"Image 2: Carlos Alcaraz of Spain returns the ball to Oliver Tarvet of Britain in his second round men's singles match at the Wimbledon Tennis Championships in London, Wednesday, July 2, 2025. Image 10: Argentina's Solana Sierra returns to Katie Boulter of Britain during their second round women's singles match at the Wimbledon Tennis Championships in London, Wednesday, July 2, 2025. Image 28: General view as Gael Monfils of France plays a return to Marton Fucsovics of Hungary in their second round men's singles match at the Wimbledon Tennis Championships in London, Thursday, July 3, 2025. Image 29: Mattia Bellucci of Italy plays a return to Jiri Lehecka of Czech Republic during the second round men's singles match at the Wimbledon Tennis Championships in London, Wednesday, July 2, 2025.\", \"raw_content\": null}], \"response_time\": 0.34}\n",
      "Assistant: 2025년 윔블던 테니스 대회는 현재 진행 중이며, 여러 흥미로운 경기가 펼쳐지고 있습니다. 다음은 최근의 주요 소식입니다:\n",
      "\n",
      "1. **라인 심판 제거 논의**: 윔블던 대회는 전자 호출 시스템을 도입하여 라인 심판을 없애는 방안을 진지하게 고려하고 있습니다. 이와 관련된 기사에서는 대회 중의 경기 장면과 선수들의 반응이 담겨 있습니다. [자세한 내용은 여기서 확인하세요.](https://www.greenwichtime.com/sports/article/yes-wimbledon-can-be-serious-about-getting-rid-20402190.php)\n",
      "\n",
      "2. **1, 2라운드 하이라이트**: 대회 첫 두 라운드의 사진 하이라이트가 공개되었습니다. 카를로스 알카라즈와 솔라나 시에라 등 여러 선수들의 경기가 포함되어 있습니다. [하이라이트 사진을 보려면 여기를 클릭하세요.](https://www.greenwichtime.com/sports/article/photo-highlights-from-the-first-and-second-rounds-20421777.php)\n",
      "\n",
      "대회는 6월 30일부터 시작되어 현재 진행 중이며, 많은 기대를 모으고 있습니다.\n"
     ]
    },
    {
     "name": "stdin",
     "output_type": "stream",
     "text": [
      "User:  2024년 미국 대선 결과는 어떤가?\n"
     ]
    },
    {
     "name": "stdout",
     "output_type": "stream",
     "text": [
      "Assistant: \n",
      "Assistant: {\"query\": \"2024년 미국 대선 결과\", \"follow_up_questions\": null, \"answer\": null, \"images\": [], \"results\": [{\"url\": \"https://www.usatoday.com/elections/results/2024-11-05\", \"title\": \"2024 U.S. Election: Live Results and Maps - USA TODAY\", \"score\": 0.735737, \"published_date\": \"Mon, 04 Nov 2024 17:11:05 GMT\", \"content\": \"2024 U.S. Election: Live Results and Maps State Results Advertisement - scroll for more content Advertisement - scroll for more content 2024 U.S. Election Results Heading into Election Day, Democrat Kamala Harris and Republican Donald Trump were locked in a tight race for the White House, and control of both the U.S. Senate and House was hanging in the balance. | Electoral Votes | ArizonaAZ11 | GeorgiaGA16 | MichiganMI15 | North CarolinaNC16 | NevadaNV6 | PennsylvaniaPA19 | WisconsinWI10 | Full Presidential Results U.S. Senate Full U.S. Senate Results No results U.S. House Full U.S. House Results No results Advertisement Advertisement - scroll for more content Election Results by State North Carolina North Dakota Advertisement Advertisement - scroll for more content\", \"raw_content\": null}, {\"url\": \"https://www.ukiahdailyjournal.com/2024/11/05/2024-presidential-election-results/\", \"title\": \"2024 presidential election results - Ukiah Daily Journal\", \"score\": 0.6803909, \"published_date\": \"Tue, 05 Nov 2024 22:42:56 GMT\", \"content\": \"2024 presidential election results Local News Crime and Public Safety Sports Submissions Event Submission News Obituaries Log In Sign up for email newsletters Click to share on Facebook (Opens in new window) Click to share on Twitter (Opens in new window) Sign up for email newsletters Click to share on Facebook (Opens in new window) Click to share on Twitter (Opens in new window) This combination of photos shows Republican presidential nominee former President Donald Trump, left, speaking at a campaign event Sept. 25, 2024, in Mint Hill, N.C., and Democratic presidential nominee Vice President Kamala Harris, right, speaking a campaign event Oct. 19, 2024, in Atlanta. Here are the latest results for the 2024 presidential election in the United States:\", \"raw_content\": null}], \"response_time\": 1.23}\n",
      "Assistant: 2024년 미국 대선 결과에 대한 정보는 아직 확정되지 않았습니다. 현재까지의 상황에 따르면, 민주당의 카말라 해리스와 공화당의 도널드 트럼프가 치열한 경쟁을 벌이고 있으며, 선거일인 11월 5일에 대한 실시간 결과가 업데이트되고 있습니다.\n",
      "\n",
      "자세한 결과는 다음 링크에서 확인할 수 있습니다:\n",
      "- [USA TODAY의 2024년 미국 대선 결과](https://www.usatoday.com/elections/results/2024-11-05)\n",
      "- [Ukiah Daily Journal의 2024년 대선 결과](https://www.ukiahdailyjournal.com/2024/11/05/2024-presidential-election-results/)\n",
      "\n",
      "이 링크들을 통해 최신 정보를 확인하시기 바랍니다.\n"
     ]
    },
    {
     "name": "stdin",
     "output_type": "stream",
     "text": [
      "User:  2025년 윔블던 대회는 얼만큼 진행중인가\n"
     ]
    },
    {
     "name": "stdout",
     "output_type": "stream",
     "text": [
      "Assistant: \n",
      "Assistant: {\"query\": \"2025 Wimbledon Championship progress\", \"follow_up_questions\": null, \"answer\": null, \"images\": [], \"results\": [{\"url\": \"https://www.greenwichtime.com/sports/article/photo-highlights-from-the-first-and-second-rounds-20421777.php\", \"title\": \"Photo highlights from the first and second rounds of Wimbledon - Greenwich Time\", \"score\": 0.7498395, \"published_date\": \"Thu, 03 Jul 2025 22:00:45 GMT\", \"content\": \"Image 2: Carlos Alcaraz of Spain returns the ball to Oliver Tarvet of Britain in his second round men's singles match at the Wimbledon Tennis Championships in London, Wednesday, July 2, 2025. Image 10: Argentina's Solana Sierra returns to Katie Boulter of Britain during their second round women's singles match at the Wimbledon Tennis Championships in London, Wednesday, July 2, 2025. Image 28: General view as Gael Monfils of France plays a return to Marton Fucsovics of Hungary in their second round men's singles match at the Wimbledon Tennis Championships in London, Thursday, July 3, 2025. Image 29: Mattia Bellucci of Italy plays a return to Jiri Lehecka of Czech Republic during the second round men's singles match at the Wimbledon Tennis Championships in London, Wednesday, July 2, 2025.\", \"raw_content\": null}, {\"url\": \"https://www.greenwichtime.com/sports/article/yes-wimbledon-can-be-serious-about-getting-rid-20402190.php\", \"title\": \"Yes, Wimbledon can be serious about getting rid of line judges and switching to electronic calls - Greenwich Time\", \"score\": 0.6889923, \"published_date\": \"Tue, 01 Jul 2025 10:20:57 GMT\", \"content\": \"Image 1: General view during the round women's single match between Diane Perry of France and Petra Martic of Croatia at the Wimbledon Tennis Championships in London, Monday, June 30, 2025. Image 2: Aryna Sabalenka of Belarus reacts during her match against Carson Branstine of Canada at their first round women's single match at the Wimbledon Tennis Championships in London, Monday, June 30, 2025. Image 3: Matteo Berrettini of Italy serves to Kamil Majchrzak of Poland in their first round men's singles match at the Wimbledon Tennis Championships in London, Monday, June 30, 2025. Image 4: Frances Tiafoe of the U.S. returns the ball to Elmer Moller of Denmark during their first round men's single match at the Wimbledon Tennis Championships in London, Monday, June 30, 2025.\", \"raw_content\": null}], \"response_time\": 0.32}\n",
      "Assistant: 2025년 윔블던 대회는 현재 진행 중이며, 7월 2일과 3일에 걸쳐 2라운드 경기가 진행되었습니다. 다음은 관련된 기사 링크입니다:\n",
      "\n",
      "1. [Photo highlights from the first and second rounds of Wimbledon - Greenwich Time](https://www.greenwichtime.com/sports/article/photo-highlights-from-the-first-and-second-rounds-20421777.php) (2025년 7월 3일)\n",
      "2. [Yes, Wimbledon can be serious about getting rid of line judges and switching to electronic calls - Greenwich Time](https://www.greenwichtime.com/sports/article/yes-wimbledon-can-be-serious-about-getting-rid-20402190.php) (2025년 7월 1일)\n",
      "\n",
      "이 대회는 현재 활발히 진행되고 있으며, 여러 선수들이 경기를 치르고 있습니다.\n"
     ]
    },
    {
     "name": "stdin",
     "output_type": "stream",
     "text": [
      "User:  exit\n"
     ]
    },
    {
     "name": "stdout",
     "output_type": "stream",
     "text": [
      "또 만나요!\n"
     ]
    }
   ],
   "source": [
    "# You can exit the chat loop at any time by typing `quit`, `exit`, or `q`.\n",
    "while True:\n",
    "    try:\n",
    "        user_input = input(\"User: \")\n",
    "        if user_input.lower() in [\"quit\", \"exit\", \"q\"]:\n",
    "            print(\"Goodbye!\")\n",
    "            break\n",
    "            \n",
    "        for event in graph.stream({\"messages\": [{\"role\": \"user\", \"content\": user_input}]}):\n",
    "            for value in event.values():\n",
    "                print(\"Assistant:\", value[\"messages\"][-1].content)\n",
    "    except:\n",
    "        # input()을 사용할 수 없는 경우의 대체 처리(fallback)\n",
    "        user_input = \"지구에서 달까지의 거리를 알려줘?\"\n",
    "        print(\"User: \" + user_input)\n",
    "        stream_graph_updates(user_input)\n",
    "        break"
   ]
  },
  {
   "cell_type": "markdown",
   "id": "10e21a23-1180-4d34-a322-2b1a0dc54c8d",
   "metadata": {},
   "source": [
    "## 전체 코드"
   ]
  },
  {
   "cell_type": "markdown",
   "id": "c6b901a7-f679-41bb-a6c8-158592507dfd",
   "metadata": {},
   "source": [
    "- `BasicToolNode`는  [ToolNode](https://langchain-ai.github.io/langgraph/reference/prebuilt/#toolnode)로 사용\n",
    "- `route_tools`는  [tools_condition](https://langchain-ai.github.io/langgraph/reference/prebuilt/#tools_condition)로 사용"
   ]
  },
  {
   "cell_type": "code",
   "execution_count": null,
   "id": "07c523e7-b0e4-4ac5-85e1-1e1a733748c9",
   "metadata": {},
   "outputs": [],
   "source": [
    "from typing import Annotated\n",
    "\n",
    "from langchain_tavily import TavilySearch\n",
    "from langchain_core.messages import BaseMessage\n",
    "from typing_extensions import TypedDict\n",
    "\n",
    "from langgraph.graph import StateGraph, START, END\n",
    "from langgraph.graph.message import add_messages\n",
    "from langgraph.prebuilt import ToolNode, tools_condition\n",
    "from langchain_openai import ChatOpenAI\n",
    "\n",
    "\n",
    "class State(TypedDict):\n",
    "    messages: Annotated[list, add_messages]\n",
    "\n",
    "graph_builder = StateGraph(State)\n",
    "\n",
    "tool = TavilySearch(max_results=2)\n",
    "tools = [tool]\n",
    "\n",
    "def chatbot(state: State):\n",
    "    llm = ChatOpenAI(model=\"gpt-4o-mini\", temperature=0)\n",
    "    llm_with_tools = llm.bind_tools(tools)\n",
    "    return {\"messages\": [llm_with_tools.invoke(state[\"messages\"])]}\n",
    "\n",
    "graph_builder.add_node(\"chatbot\", chatbot)\n",
    "\n",
    "# 📌 ToolNode 추가\n",
    "tool_node = ToolNode(tools=[tool])\n",
    "graph_builder.add_node(\"tools\", tool_node)\n",
    "\n",
    "# \n",
    "graph_builder.add_conditional_edges(\n",
    "    \"chatbot\",\n",
    "    # 📌 \"tools\" 또는 END를 리턴한다.\n",
    "    tools_condition,\n",
    ")\n",
    "# Any time a tool is called, we return to the chatbot to decide the next step\n",
    "graph_builder.add_edge(\"tools\", \"chatbot\")\n",
    "graph_builder.add_edge(START, \"chatbot\")\n",
    "graph = graph_builder.compile()"
   ]
  }
 ],
 "metadata": {
  "kernelspec": {
   "display_name": "Python 3 (ipykernel)",
   "language": "python",
   "name": "python3"
  },
  "language_info": {
   "codemirror_mode": {
    "name": "ipython",
    "version": 3
   },
   "file_extension": ".py",
   "mimetype": "text/x-python",
   "name": "python",
   "nbconvert_exporter": "python",
   "pygments_lexer": "ipython3",
   "version": "3.12.4"
  }
 },
 "nbformat": 4,
 "nbformat_minor": 5
}
