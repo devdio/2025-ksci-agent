{
 "cells": [
  {
   "cell_type": "markdown",
   "id": "7cd17dce-81df-43cb-be80-b32e12c43c02",
   "metadata": {},
   "source": [
    "#  도구(Tool) 추가"
   ]
  },
  {
   "cell_type": "markdown",
   "id": "9f65e629-7d31-4c89-96c9-a1a1c5bd0ff0",
   "metadata": {},
   "source": [
    "챗봇이 \"기억만으로\" 답변할 수 없는 질문을 처리하기 위해서 `웹 검색 도구`를 사용하도록 합니다. 챗봇은 이 도구를 사용하여 관련 정보를 찾고 더 나은 답변을 제공할 수 있습니다."
   ]
  },
  {
   "cell_type": "markdown",
   "id": "a0a461bc-f0aa-418e-bc1f-7f9529e82478",
   "metadata": {},
   "source": [
    "## 필수 조건"
   ]
  },
  {
   "cell_type": "markdown",
   "id": "b517b3d2-4a18-4732-b223-900e7ffa9ad8",
   "metadata": {},
   "source": [
    "이번 튜토리얼에서는 웹 검색도구로 `Tavily 검색 엔진`을 사용합니다. [Tavily 검색 엔진](https://python.langchain.com/docs/integrations/tools/tavily_search/)을 위한 API 키를 등록하세요. "
   ]
  },
  {
   "cell_type": "code",
   "execution_count": 31,
   "id": "edef7ab3-d7f4-407d-b853-d9cf99a1680f",
   "metadata": {},
   "outputs": [
    {
     "data": {
      "text/plain": [
       "'\\n# OPENAI API KEY\\nOPENAI_API_KEY={your-open-api-key-here}\\n\\n# GOOGLE API KEY\\nGOOGLE_GENAI_USE_VERTEXAI=FALSE\\nGOOGLE_API_KEY={your-google-api-key-here}\\n\\n# ANTHROPIC API KEY\\nANTHROPIC_API_KEY={your-anthropic-api-key-here}\\n\\n# LANGCHAIN TOOL\\nTAVILY_API_KEY={your-tavily-api-key-here}\\n\\n# LangSmith 설정\\nLANGCHAIN_TRACING_V2=false\\nLANGCHAIN_ENDPOINT=https://api.smith.langchain.com\\nLANGCHAIN_API_KEY={your-langchain-api-key-here}\\nLANGCHAIN_PROJECT={your-project-name-here}\\n'"
      ]
     },
     "execution_count": 31,
     "metadata": {},
     "output_type": "execute_result"
    }
   ],
   "source": [
    "\"\"\"\n",
    "# OPENAI API KEY\n",
    "OPENAI_API_KEY={your-open-api-key-here}\n",
    "\n",
    "# GOOGLE API KEY\n",
    "GOOGLE_GENAI_USE_VERTEXAI=FALSE\n",
    "GOOGLE_API_KEY={your-google-api-key-here}\n",
    "\n",
    "# ANTHROPIC API KEY\n",
    "ANTHROPIC_API_KEY={your-anthropic-api-key-here}\n",
    " \n",
    "# LANGCHAIN TOOL\n",
    "TAVILY_API_KEY={your-tavily-api-key-here}\n",
    "\n",
    "# LangSmith 설정\n",
    "LANGCHAIN_TRACING_V2=false\n",
    "LANGCHAIN_ENDPOINT=https://api.smith.langchain.com\n",
    "LANGCHAIN_API_KEY={your-langchain-api-key-here}\n",
    "LANGCHAIN_PROJECT={your-project-name-here}\n",
    "\"\"\""
   ]
  },
  {
   "cell_type": "markdown",
   "id": "a9d4f0df-d3ee-418d-9dd0-ef7cad86409e",
   "metadata": {},
   "source": [
    "## 1. 패키지 설치"
   ]
  },
  {
   "cell_type": "code",
   "execution_count": 32,
   "id": "e9317222-3f81-4c1a-b764-dc49a11d143f",
   "metadata": {},
   "outputs": [
    {
     "name": "stdout",
     "output_type": "stream",
     "text": [
      "Note: you may need to restart the kernel to use updated packages.\n"
     ]
    }
   ],
   "source": [
    "pip install -qU langchain-tavily"
   ]
  },
  {
   "cell_type": "code",
   "execution_count": 33,
   "id": "2bda2f89-07bb-46a3-bc1c-455cbe0a7deb",
   "metadata": {},
   "outputs": [
    {
     "name": "stdout",
     "output_type": "stream",
     "text": [
      "tvly-dev-GUT1o6jP4Og\n"
     ]
    }
   ],
   "source": [
    "# 환경 변수 확인\n",
    "from dotenv import load_dotenv\n",
    "import os\n",
    "load_dotenv(override=True)\n",
    "\n",
    "TAVILY_API_KEY= os.environ.get(\"TAVILY_API_KEY\")\n",
    "print(TAVILY_API_KEY[:20])"
   ]
  },
  {
   "cell_type": "markdown",
   "id": "a7dd4a6a-28aa-490c-9afe-b6d404fb8d2b",
   "metadata": {},
   "source": [
    "## 2. 도구 정의"
   ]
  },
  {
   "cell_type": "markdown",
   "id": "a30651fd-d4d5-4d1d-b59e-07fb009cf9ee",
   "metadata": {},
   "source": [
    "웹 검색을 위한 도구를 정의합니다."
   ]
  },
  {
   "cell_type": "code",
   "execution_count": 34,
   "id": "b876f39b-d238-486b-90db-39e3859cd266",
   "metadata": {},
   "outputs": [
    {
     "data": {
      "text/plain": [
       "{'query': '2024 한국 프로야구 우승팀을 알려줘',\n",
       " 'follow_up_questions': None,\n",
       " 'answer': None,\n",
       " 'images': [],\n",
       " 'results': [{'url': 'https://blog.naver.com/travelguide_94/223637975869',\n",
       "   'title': '2024 프로야구 한국시리즈 우승팀은 기아 타이거즈! KBO 최종 순위 정보',\n",
       "   'content': '... 우승은. 7년 만의 통합 우승인. 기아 타이거즈가 가져가게 되었는데요. 내년에는 과연 어떤 팀이. 우승을 할지도 궁금해지네요:) \\u200b. 결론,. 야구 쪼오온잼',\n",
       "   'score': 0.85567063,\n",
       "   'raw_content': None},\n",
       "  {'url': 'https://namu.wiki/w/2024%20%EC%8B%A0%ED%95%9C%20SOL%20Bank%20KBO%20%ED%95%9C%EA%B5%AD%EC%8B%9C%EB%A6%AC%EC%A6%88',\n",
       "   'title': '2024 신한 SOL Bank KBO 한국시리즈 - 나무위키',\n",
       "   'content': '2024 프로야구 챔피언, KBO 최다 우승팀, 열두 번째 우승, KIA 타이거즈! 최초의 80년대생 감독 이범호 감독은 팬들에게 했던 우승의 약속을 지켰고, KBO 리그의',\n",
       "   'score': 0.7750779,\n",
       "   'raw_content': None}],\n",
       " 'response_time': 1.08}"
      ]
     },
     "execution_count": 34,
     "metadata": {},
     "output_type": "execute_result"
    }
   ],
   "source": [
    "from langchain_tavily import TavilySearch\n",
    "\n",
    "tool = TavilySearch(max_results=2)\n",
    "tools = [tool]\n",
    "tool.invoke(\"2024 한국 프로야구 우승팀을 알려줘\")"
   ]
  },
  {
   "cell_type": "markdown",
   "id": "163d540b-714e-481a-aa24-1c9bfcda0d91",
   "metadata": {},
   "source": [
    "## 3. 그래프 정의"
   ]
  },
  {
   "cell_type": "markdown",
   "id": "ffc53086-b65f-4918-86ed-c41518ffa5b6",
   "metadata": {},
   "source": [
    "LLM이 검색 도구를 사용할 수 있도록 `bind_tools()` 함수를 사용하여 등록합니다."
   ]
  },
  {
   "cell_type": "code",
   "execution_count": 35,
   "id": "b315168d-3543-4d37-8c27-519d06c05bb7",
   "metadata": {},
   "outputs": [
    {
     "data": {
      "text/plain": [
       "<langgraph.graph.state.StateGraph at 0x24f8fe6a210>"
      ]
     },
     "execution_count": 35,
     "metadata": {},
     "output_type": "execute_result"
    }
   ],
   "source": [
    "from typing import Annotated\n",
    "\n",
    "from langchain.chat_models import init_chat_model\n",
    "from typing_extensions import TypedDict\n",
    "\n",
    "from langgraph.graph import StateGraph, START, END\n",
    "from langgraph.graph.message import add_messages\n",
    "from langchain_openai import ChatOpenAI\n",
    "\n",
    "class State(TypedDict):\n",
    "    messages: Annotated[list, add_messages]\n",
    "\n",
    "graph_builder = StateGraph(State)\n",
    "\n",
    "def chatbot(state: State):\n",
    "    llm = ChatOpenAI(model=\"gpt-4o-mini\", temperature=0)\n",
    "    # 수정: LLM이 검색 엔진을 사용할 수 있도록 LLM에게 알려줍니다. \n",
    "    llm_with_tools = llm.bind_tools(tools)\n",
    "    \n",
    "    response = llm_with_tools.invoke(state[\"messages\"])\n",
    "    return {\"messages\": [response]}\n",
    "\n",
    "graph_builder.add_node(\"chatbot\", chatbot)"
   ]
  },
  {
   "cell_type": "markdown",
   "id": "163d1964-457d-4ec7-9039-372adcfd0683",
   "metadata": {},
   "source": [
    "## 4. 도구 실행을 위한 함수 "
   ]
  },
  {
   "cell_type": "code",
   "execution_count": 36,
   "id": "bedf040d-871e-472a-8590-bd4bf381e7a3",
   "metadata": {},
   "outputs": [
    {
     "data": {
      "text/plain": [
       "<langgraph.graph.state.StateGraph at 0x24f8fe6a210>"
      ]
     },
     "execution_count": 36,
     "metadata": {},
     "output_type": "execute_result"
    }
   ],
   "source": [
    "import json\n",
    "from langchain_core.messages import ToolMessage\n",
    "\n",
    "class BasicToolNode:\n",
    "    \"\"\"마지막 AIMessage에서 요청한 도구를 실제로 실행하는 노드\"\"\"\n",
    "\n",
    "    def __init__(self, tools: list) -> None:\n",
    "        # 도구의 이름으로 도구를 찾을 수 있도록 준비한다.\n",
    "        self.tools_by_name = {tool.name: tool for tool in tools}\n",
    "\n",
    "    def __call__(self, inputs: dict):\n",
    "        # Python 3.8 이상에서 도입된 \"할당 표현식\"\n",
    "        # :=를 사용하면 한 줄로 조건 검사와 변수 할당을 동시에 할 수 있습니다.\n",
    "        if messages := inputs.get(\"messages\", []):\n",
    "            message = messages[-1]\n",
    "        else:\n",
    "            raise ValueError(\"No message found in input\")\n",
    "\n",
    "        outputs = []\n",
    "        for tool_call in message.tool_calls:\n",
    "            # 도구 실행\n",
    "            tool_result = self.tools_by_name[tool_call[\"name\"]].invoke(\n",
    "                tool_call[\"args\"]\n",
    "            )\n",
    "            outputs.append(\n",
    "                ToolMessage(\n",
    "                    content=json.dumps(tool_result),\n",
    "                    name=tool_call[\"name\"],\n",
    "                    tool_call_id=tool_call[\"id\"],\n",
    "                )\n",
    "            )\n",
    "        return {\"messages\": outputs}\n",
    "\n",
    "\n",
    "# 도구 실행 노드를 그래프에 추가한다.\n",
    "tool_node = BasicToolNode(tools=[tool])\n",
    "graph_builder.add_node(\"tools\", tool_node)"
   ]
  },
  {
   "cell_type": "markdown",
   "id": "1e365a32-99e0-4d81-b4f9-791aabae3bef",
   "metadata": {},
   "source": [
    "앞으로 도구 실행 노드를 직접 만들지 않고, LangGraph에서 미리 만들어둔 [ToolNode](https://langchain-ai.github.io/langgraph/reference/agents/#langgraph.prebuilt.tool_node.ToolNode)를 사용합니다.\n"
   ]
  },
  {
   "cell_type": "markdown",
   "id": "b3ca2128-4a4e-447d-85bd-667842cb496a",
   "metadata": {},
   "source": [
    "## 조건부 엣지(Conditional Edge) 추가"
   ]
  },
  {
   "cell_type": "markdown",
   "id": "70f7e7e7-2dd0-4d45-b006-615a8e3ca7d1",
   "metadata": {},
   "source": [
    "엣지(edges)는 하나의 노드에서 다음 노드로 제어 흐름(control flow) 을 전달합니다.\n",
    "조건부 엣지(conditional edges) 는 하나의 노드에서 시작되며, 현재 그래프 상태에 따라 서로 다른 노드로 이동하기 위해 보통 \"if\" 문을 포함합니다.  \n",
    "  \n",
    "이러한 함수들은 현재의 그래프 상태를 받아서, 다음에 실행할 노드 이름(문자열 또는 문자열 리스트)을 반환합니다."
   ]
  },
  {
   "cell_type": "markdown",
   "id": "f6eb4e91-1e4e-4c7e-af98-17fe5ee420a1",
   "metadata": {},
   "source": [
    "이제 `route_tools` 라는 `라우터 함수(router function)` 를 정의합니다. 이 함수는 챗봇의 출력에 `tool_calls`가 포함되어 있는지를 확인합니다.\n",
    "이 함수를 그래프에 전달하기 위해 `add_conditional_edges` 를 사용하며,이 함수는 챗봇 노드가 완료된 후 어느 노드로 이동할지 결정할 때 호출됩니다."
   ]
  },
  {
   "cell_type": "markdown",
   "id": "ab5a6bec-4e52-4427-b544-705402e727c3",
   "metadata": {},
   "source": [
    "조건은 다음과 같은 흐름을 따릅니다:\n",
    "- tool_calls가 존재하면 → tools 노드로 이동\n",
    "- 없다면 → END로 이동\n",
    "\n",
    "이 조건 함수가 END를 반환할 수 있기 때문에, 이번에는 별도로 finish_point를 명시하지 않아도 됩니다."
   ]
  },
  {
   "cell_type": "code",
   "execution_count": 37,
   "id": "0cbf5c09-47ff-482e-825f-40414324f5a4",
   "metadata": {},
   "outputs": [],
   "source": [
    "def route_tools(state: State):\n",
    "    \"\"\"\n",
    "    조건부 엣지에서 마지막 메시지에 tool_calls가 있으면 ToolNode로 라우팅하고,그렇지 않으면 END로 라우팅합니다.\n",
    "    \"\"\"\n",
    "    if isinstance(state, list):\n",
    "        ai_message = state[-1]\n",
    "    elif messages := state.get(\"messages\", []):\n",
    "        ai_message = messages[-1]\n",
    "    else:\n",
    "        raise ValueError(f\"No messages found in input state to tool_edge: {state}\")\n",
    "\n",
    "    # tool_calls가 있고, 하나 이상일때 \"tools\"를 리턴\n",
    "    if hasattr(ai_message, \"tool_calls\") and len(ai_message.tool_calls) > 0:\n",
    "        return \"tools\"\n",
    "    return END\n",
    "\n",
    "\n",
    "# `tools_condition` 함수는 챗봇이 도구 사용을 요청하면 \"tools\"를 반환하고,\n",
    "# 바로 응답해도 되는 경우에는 \"END\"를 반환합니다.\n",
    "graph_builder.add_conditional_edges(\n",
    "    \"chatbot\",\n",
    "    route_tools,\n",
    "    # `route_tools`에서 'tools'문자열이 리턴되면 'tools'노드로 이동, END가 리턴되면 END노드로 이동한다.\n",
    "    {\"tools\": \"tools\", END: END},\n",
    ")\n",
    "\n",
    "# 도구가 호출될 때마다, 다음 단계를 결정하기 위해 다시 챗봇으로 돌아갑니다.\n",
    "graph_builder.add_edge(\"tools\", \"chatbot\")\n",
    "graph_builder.add_edge(START, \"chatbot\")\n",
    "\n",
    "graph = graph_builder.compile()"
   ]
  },
  {
   "cell_type": "markdown",
   "id": "727dcf5f-0587-4121-a7b9-81b6144d06ca",
   "metadata": {},
   "source": [
    "이 부분은 LangGraph에서 제공하는 [tools_condition](https://langchain-ai.github.io/langgraph/reference/prebuilt/#tools_condition) 을 사용하면 간격하게 작성할 수 있다."
   ]
  },
  {
   "cell_type": "markdown",
   "id": "3f045a4c-7cac-4f45-bb88-b30341cfba91",
   "metadata": {},
   "source": [
    "## 5. 시각화"
   ]
  },
  {
   "cell_type": "code",
   "execution_count": 38,
   "id": "ca1c98ab-ff3e-4cdd-9a83-d46590ebc223",
   "metadata": {},
   "outputs": [
    {
     "data": {
      "image/png": "[encoded data removed]",
      "text/plain": [
       "<IPython.core.display.Image object>"
      ]
     },
     "metadata": {},
     "output_type": "display_data"
    }
   ],
   "source": [
    "from IPython.display import Image, display\n",
    "\n",
    "try:\n",
    "    display(Image(graph.get_graph().draw_mermaid_png()))\n",
    "except Exception:\n",
    "    pass"
   ]
  },
  {
   "cell_type": "markdown",
   "id": "30ebf8f7-a208-4de3-bfaf-280eeb468757",
   "metadata": {},
   "source": [
    "## 6. 챗봇 실행"
   ]
  },
  {
   "cell_type": "code",
   "execution_count": 39,
   "id": "e9dbae02-019a-47d8-a6d0-314d213f4b22",
   "metadata": {},
   "outputs": [
    {
     "name": "stdin",
     "output_type": "stream",
     "text": [
      "User:  \n"
     ]
    },
    {
     "name": "stdout",
     "output_type": "stream",
     "text": [
      "Assistant: Hello! How can I assist you today?\n"
     ]
    },
    {
     "name": "stdin",
     "output_type": "stream",
     "text": [
      "User:  2024 미국 대선결과를 알려줘\n"
     ]
    },
    {
     "name": "stdout",
     "output_type": "stream",
     "text": [
      "Assistant: \n",
      "Assistant: {\"query\": \"2024 \\ubbf8\\uad6d \\ub300\\uc120 \\uacb0\\uacfc\", \"follow_up_questions\": null, \"answer\": null, \"images\": [], \"results\": [{\"url\": \"https://www.axios.com/2025/06/26/trump-harris-latino-voters-2024-election-pew\", \"title\": \"Trump came close to winning Latino vote in '24 \\u2014 Pew analysis - Axios\", \"score\": 0.6453216, \"published_date\": \"Thu, 26 Jun 2025 14:24:59 GMT\", \"content\": \"President Trump won a higher percentage of the Latino vote in 2024 than previously believed and came within striking distance of capturing a historic majority of those voters, according to a new Pew Research Center analysis of the election results. **The big picture:** Pew's analysis of election data shows that Trump won 48% of Latino voters \\u2014 a group that had soundly rejected him in 2020 and 2016 \\u2014 and that it was a crucial factor in his victory. *   Hispanics were a growing share of Trump's support while white non-Latino voters were a declining share, or a smaller share, said Mark Lopez, Pew's director of race and ethnicity research. Image 13,2024%20presidential%20election,Immigration,Kamala%20Harris,African%20Americans,Race,Donald%20Trump%20immigration%20policy,Race%20and%20Equity,Racial%20discrimination,Unauthorized%20immigration,2024%20elections&p=https%3A%2F%2Fwww.axios.com%2F2025%2F06%2F26%2Ftrump-harris-latino-voters-2024-election-pew&r=&lt=869&evt=pageLoad&sv=1&cdb=ARoR&rn=581196)\", \"raw_content\": null}, {\"url\": \"https://www.pewresearch.org/politics/2025/06/26/behind-trumps-2024-victory-a-more-racially-and-ethnically-diverse-voter-coalition/\", \"title\": \"Behind Trump\\u2019s 2024 Victory, a More Racially and Ethnically Diverse Voter Coalition - Pew Research Center\", \"score\": 0.36806548, \"published_date\": \"Thu, 26 Jun 2025 13:56:39 GMT\", \"content\": \"Politics & Policy International Affairs Immigration & Migration Race & Ethnicity Religion Age & Generations Gender & LGBTQ  Family & Relationships Economy & Work Science Internet & Technology News Habits & Media Methodological Research  Pew Research Center conducted this study to better understand which voters cast ballots in the 2024 presidential election and how they voted. **Voter file:**A list of adults that includes information such as whether a person is registered to vote, which elections they have voted in, whether they voted in person or by mail, and additional data. This Pew Research Center analysis examines voter turnout and voting preferences in the 2024 presidential election through the lens of validated voters. Harris, Trump Voters Differ Over Election Security, Vote Counts and Hacking Concerns\", \"raw_content\": null}], \"response_time\": 0.8}\n",
      "Assistant: 2024년 미국 대선 결과에 대한 정보는 다음과 같습니다:\n",
      "\n",
      "1. **트럼프의 승리**: 도널드 트럼프는 2024년 대선에서 라틴계 유권자들로부터 48%의 지지를 얻어 역사적인 다수의 지지를 받을 뻔 했다는 분석이 있습니다. 이는 그가 2016년과 2020년 대선에서 라틴계 유권자들에게서 받은 지지율보다 크게 증가한 수치입니다. 이 결과는 트럼프의 승리에 중요한 요소로 작용했습니다. [자세한 내용은 여기서 확인할 수 있습니다.](https://www.axios.com/2025/06/26/trump-harris-latino-voters-2024-election-pew)\n",
      "\n",
      "2. **다양한 유권자 연합**: Pew Research Center의 분석에 따르면, 트럼프의 2024년 승리는 더 다양한 인종 및 민족의 유권자 연합에 의해 뒷받침되었습니다. 이 연구는 2024년 대선에서 어떤 유권자들이 투표했는지와 그들의 투표 성향을 이해하기 위해 수행되었습니다. [자세한 내용은 여기서 확인할 수 있습니다.](https://www.pewresearch.org/politics/2025/06/26/behind-trumps-2024-victory-a-more-racially-and-ethnically-diverse-voter-coalition/)\n",
      "\n",
      "이 정보는 2025년 6월에 발표된 분석을 기반으로 하고 있습니다.\n"
     ]
    },
    {
     "name": "stdin",
     "output_type": "stream",
     "text": [
      "User:  exit\n"
     ]
    },
    {
     "name": "stdout",
     "output_type": "stream",
     "text": [
      "또 만나요!\n"
     ]
    }
   ],
   "source": [
    "# You can exit the chat loop at any time by typing `quit`, `exit`, or `q`.\n",
    "\n",
    "def stream_graph_updates(user_input: str):\n",
    "    for event in graph.stream({\"messages\": [{\"role\": \"user\", \"content\": user_input}]}):\n",
    "        for value in event.values():\n",
    "            print(\"Assistant:\", value[\"messages\"][-1].content)\n",
    "\n",
    "while True:\n",
    "    try:\n",
    "        user_input = input(\"User: \")\n",
    "        if user_input.lower() in [\"quit\", \"exit\", \"q\"]:\n",
    "            print(\"또 만나요!\")\n",
    "            break\n",
    "        stream_graph_updates(user_input)\n",
    "    except:\n",
    "        # input()을 사용할 수 없는 경우의 대체 처리(fallback)\n",
    "        user_input = \"지구에서 달까지의 거리를 알려줘?\"\n",
    "        print(\"User: \" + user_input)\n",
    "        stream_graph_updates(user_input)\n",
    "        break"
   ]
  },
  {
   "cell_type": "markdown",
   "id": "10e21a23-1180-4d34-a322-2b1a0dc54c8d",
   "metadata": {},
   "source": [
    "## 7. ToolNode, tool_condition 사용하기"
   ]
  },
  {
   "cell_type": "markdown",
   "id": "c6b901a7-f679-41bb-a6c8-158592507dfd",
   "metadata": {},
   "source": [
    "- `BasicToolNode`는  [ToolNode](https://langchain-ai.github.io/langgraph/reference/prebuilt/#toolnode)로 사용\n",
    "- `route_tools`는  [tools_condition](https://langchain-ai.github.io/langgraph/reference/prebuilt/#tools_condition)로 사용"
   ]
  },
  {
   "cell_type": "code",
   "execution_count": null,
   "id": "07c523e7-b0e4-4ac5-85e1-1e1a733748c9",
   "metadata": {},
   "outputs": [],
   "source": [
    "from typing import Annotated\n",
    "\n",
    "from langchain_tavily import TavilySearch\n",
    "from langchain_core.messages import BaseMessage\n",
    "from typing_extensions import TypedDict\n",
    "\n",
    "from langgraph.graph import StateGraph, START, END\n",
    "from langgraph.graph.message import add_messages\n",
    "from langgraph.prebuilt import ToolNode, tools_condition\n",
    "from langchain_openai import ChatOpenAI\n",
    "\n",
    "\n",
    "class State(TypedDict):\n",
    "    messages: Annotated[list, add_messages]\n",
    "\n",
    "graph_builder = StateGraph(State)\n",
    "\n",
    "tool = TavilySearch(max_results=2)\n",
    "tools = [tool]\n",
    "\n",
    "def chatbot(state: State):\n",
    "    llm = ChatOpenAI(model=\"gpt-4o-mini\", temperature=0)\n",
    "    llm_with_tools = llm.bind_tools(tools)\n",
    "    return {\"messages\": [llm_with_tools.invoke(state[\"messages\"])]}\n",
    "\n",
    "graph_builder.add_node(\"chatbot\", chatbot)\n",
    "\n",
    "# 📌 ToolNode 추가\n",
    "tool_node = ToolNode(tools=[tool])\n",
    "graph_builder.add_node(\"tools\", tool_node)\n",
    "\n",
    "# \n",
    "graph_builder.add_conditional_edges(\n",
    "    \"chatbot\",\n",
    "    # 📌 \"tools\" 또는 END를 리턴한다.\n",
    "    tools_condition,\n",
    ")\n",
    "# Any time a tool is called, we return to the chatbot to decide the next step\n",
    "graph_builder.add_edge(\"tools\", \"chatbot\")\n",
    "graph_builder.add_edge(START, \"chatbot\")\n",
    "graph = graph_builder.compile()"
   ]
  },
  {
   "cell_type": "code",
   "execution_count": null,
   "id": "8849bfd6-1d46-4125-84fc-a8c5c96cb7ff",
   "metadata": {},
   "outputs": [],
   "source": []
  },
  {
   "cell_type": "code",
   "execution_count": null,
   "id": "18d7912b-ec35-4aa2-92a9-4e52fb428e72",
   "metadata": {},
   "outputs": [],
   "source": []
  },
  {
   "cell_type": "code",
   "execution_count": null,
   "id": "5778ba4e-846e-4509-8bc3-87b19f4fa7b9",
   "metadata": {},
   "outputs": [],
   "source": []
  }
 ],
 "metadata": {
  "kernelspec": {
   "display_name": "Python 3 (ipykernel)",
   "language": "python",
   "name": "python3"
  },
  "language_info": {
   "codemirror_mode": {
    "name": "ipython",
    "version": 3
   },
   "file_extension": ".py",
   "mimetype": "text/x-python",
   "name": "python",
   "nbconvert_exporter": "python",
   "pygments_lexer": "ipython3",
   "version": "3.13.4"
  }
 },
 "nbformat": 4,
 "nbformat_minor": 5
}
