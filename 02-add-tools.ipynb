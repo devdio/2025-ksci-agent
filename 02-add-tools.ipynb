{
 "cells": [
  {
   "cell_type": "markdown",
   "id": "077d672b",
   "metadata": {},
   "source": [
    "[![Open In Colab](https://colab.research.google.com/assets/colab-badge.svg)](https://colab.research.google.com/github/devdio/2025-ksci-agent/blob/main/02-add-tools.ipynb) [![Open nbviewer](https://raw.githubusercontent.com/pinecone-io/examples/master/assets/nbviewer-shield.svg)](https://nbviewer.org/github/devdio/2025-ksci-agent/blob/main/02-add-tools.ipynb)"
   ]
  },
  {
   "cell_type": "markdown",
   "id": "7cd17dce-81df-43cb-be80-b32e12c43c02",
   "metadata": {},
   "source": [
    "#  도구(Tool) 추가"
   ]
  },
  {
   "cell_type": "markdown",
   "id": "9f65e629-7d31-4c89-96c9-a1a1c5bd0ff0",
   "metadata": {},
   "source": [
    "챗봇이 \"기억만으로\" 답변할 수 없는 질문을 처리하기 위해서 외부 환경의 도움을 받아야 한다.  \n",
    "이번 튜토리얼에서는 `웹 검색 도구`를 사용하여 LLM이 외부 환경과 작용하기 위햇 **도구(Tool)** 를 사용하는 방법에 대해서 진행합니다. "
   ]
  },
  {
   "cell_type": "markdown",
   "id": "b8fabc8a-123a-4ba0-8aea-241a40b75d90",
   "metadata": {},
   "source": [
    "> LangChain에는 미리 구현된 많은 종류의 도구들이 있습니다. [랭체인에 미리 준비된 도구들](https://python.langchain.com/docs/integrations/tools/)에서 확인 할 수 있습니다.\n",
    "> 또는 **나만의 도구** 를 파이썬 함수로 간단히 만들 수도 있으며, **MCP(ModelContextProtoco)** 을 사용하여 외부 도구들과 연결할 수 있습니다."
   ]
  },
  {
   "cell_type": "markdown",
   "id": "9a54d8d6-f789-4046-88d4-415aedbfe07f",
   "metadata": {},
   "source": [
    "![LangGraph Tool Calling](https://python.langchain.com/assets/images/tool_calling_concept-552a73031228ff9144c7d59f26dedbbf.png)"
   ]
  },
  {
   "cell_type": "markdown",
   "id": "a0a461bc-f0aa-418e-bc1f-7f9529e82478",
   "metadata": {},
   "source": [
    "## 1. 환경 설정"
   ]
  },
  {
   "cell_type": "markdown",
   "id": "b517b3d2-4a18-4732-b223-900e7ffa9ad8",
   "metadata": {},
   "source": [
    "### `.env`파일 설정\n",
    "\n",
    "이번 튜토리얼에서는 웹 검색도구로 `Tavily 검색 엔진`을 사용합니다. [Tavily 검색 엔진](https://python.langchain.com/docs/integrations/tools/tavily_search/)을 위한 API 키를 `.env`파일에 등록하세요. "
   ]
  },
  {
   "cell_type": "markdown",
   "id": "a9d4f0df-d3ee-418d-9dd0-ef7cad86409e",
   "metadata": {},
   "source": [
    "### 패키지 설치"
   ]
  },
  {
   "cell_type": "code",
   "execution_count": 2,
   "id": "e9317222-3f81-4c1a-b764-dc49a11d143f",
   "metadata": {},
   "outputs": [
    {
     "name": "stdout",
     "output_type": "stream",
     "text": [
      "Note: you may need to restart the kernel to use updated packages.\n"
     ]
    }
   ],
   "source": [
    "%pip install -qU python-dotenv langgraph langsmith langchain-openai langchain-tavily"
   ]
  },
  {
   "cell_type": "code",
   "execution_count": 3,
   "id": "2bda2f89-07bb-46a3-bc1c-455cbe0a7deb",
   "metadata": {},
   "outputs": [
    {
     "name": "stdout",
     "output_type": "stream",
     "text": [
      "sk-proj-8x\n",
      "tvly-dev-G\n"
     ]
    }
   ],
   "source": [
    "# 환경 변수 확인\n",
    "from dotenv import load_dotenv\n",
    "import os\n",
    "load_dotenv(override=True)\n",
    "\n",
    "def _set_env(var: str):\n",
    "    if not os.environ.get(var):\n",
    "        os.environ[var] = getpass.getpass(f\"{var}: \")\n",
    "\n",
    "_set_env(\"OPENAI_API_KEY\")\n",
    "_set_env(\"TAVILY_API_KEY\")\n",
    "\n",
    "print(os.environ.get(\"OPENAI_API_KEY\")[:10])\n",
    "print(os.environ.get(\"TAVILY_API_KEY\")[:10])\n"
   ]
  },
  {
   "cell_type": "markdown",
   "id": "a7dd4a6a-28aa-490c-9afe-b6d404fb8d2b",
   "metadata": {},
   "source": [
    "## 2. 도구 정의"
   ]
  },
  {
   "cell_type": "markdown",
   "id": "a30651fd-d4d5-4d1d-b59e-07fb009cf9ee",
   "metadata": {},
   "source": [
    "웹 검색을 위한 도구를 정의합니다. 이 튜토리얼에서는 [Tavily 서비스](https://www.tavily.com/)를 도구로 사용합니다.   \n",
    "도구를 사용하기 위해서는 API키의 등록이 필요합니다."
   ]
  },
  {
   "cell_type": "code",
   "execution_count": 7,
   "id": "cadbe39b-d3f3-4efb-82ba-5ff7a2e1e073",
   "metadata": {},
   "outputs": [],
   "source": [
    "from langchain_tavily import TavilySearch\n",
    "\n",
    "search_tool = TavilySearch(max_results=3)"
   ]
  },
  {
   "cell_type": "code",
   "execution_count": 8,
   "id": "78f73779-d906-4cef-bacf-19faa3382205",
   "metadata": {},
   "outputs": [
    {
     "data": {
      "text/plain": [
       "{'query': '2025 윔블던 테스트에 대해서 알려줘',\n",
       " 'follow_up_questions': None,\n",
       " 'answer': None,\n",
       " 'images': [],\n",
       " 'results': [{'url': 'https://londonstory.tistory.com/entry/2025-%EC%9C%94%EB%B8%94%EB%8D%98-%EC%99%84%EC%A0%84-%EC%A0%95%EB%B3%B5-%ED%8B%B0%EC%BC%93%EB%B6%80%ED%84%B0-%EB%93%9C%EB%A0%88%EC%8A%A4%EC%BD%94%EB%93%9C-%ED%98%84%EC%9E%A5-%EA%BF%80%ED%8C%81%EA%B9%8C%EC%A7%80',\n",
       "   'title': '[2025 윔블던 테니스 대회 정보] 일정 ,티켓 예매 방법 - 런던 스토리',\n",
       "   'content': \"[2025 윔블던 테니스 대회 정보] 일정 ,티켓 예매 방법 *   영국 런던 여행 영국 런던 여행 [2025 윔블던 테니스 대회 정보] 일정 ,티켓 예매 방법 🎾 런던 여름의 품격, 윔블던 테니스 대회 정보 🎟 윔블던 'The Queue' 현장 티켓 구매 요약 **📌 런던 여행 중 하루를 특별하게 만들고 싶다면, 윔블던 테니스가 정답입니다!** #### '영국 런던 여행' 카테고리의 다른 글 | [[ 6월 영국 여행 준비] 날씨, 옷차림부터 추천 일정까지](https://londonstory.tistory.com/entry/2025-6%EC%9B%94-%EC%98%81%EA%B5%AD-%EC%97%AC%ED%96%89-%EC%A4%80%EB%B9%84-%EB%82%A0%EC%94%A8-%EC%98%B7%EC%B0%A8%EB%A6%BC%EB%B6%80%ED%84%B0-%EC%B6%94%EC%B2%9C-%EC%9D%BC%EC%A0%95%EA%B9%8C%EC%A7%80-%EC%99%84%EB%B2%BD-%EA%B0%80%EC%9D%B4%EB%93%9C)(19) | 2025.06.02 | wimbledon tennis queue 줄서기, 런던 테니스 여행 코스, 영국 런던 윔블던 테니스 대회 2025, 영국 윔블던 티켓 예매 방법 *   [Image 8[ 6월 영국 여행 준비] 날씨, 옷차림부터 추천 일정까지](https://londonstory.tistory.com/entry/2025-6%EC%9B%94-%EC%98%81%EA%B5%AD-%EC%97%AC%ED%96%89-%EC%A4%80%EB%B9%84-%EB%82%A0%EC%94%A8-%EC%98%B7%EC%B0%A8%EB%A6%BC%EB%B6%80%ED%84%B0-%EC%B6%94%EC%B2%9C-%EC%9D%BC%EC%A0%95%EA%B9%8C%EC%A7%80-%EC%99%84%EB%B2%BD-%EA%B0%80%EC%9D%B4%EB%93%9C? 느린 아빠 공감 꾹~잘 보고 갑니다 2025. 안녕하세아 런던 스토리님 포스팅 잘 보고 가요^^. *   영국 런던 여행 Image 12: N\",\n",
       "   'score': 0.6765563,\n",
       "   'raw_content': None},\n",
       "  {'url': 'https://peopledlsrl.com/entry/2025-%EC%9C%94%EB%B8%94%EB%8D%98-%ED%85%8C%EB%8B%88%EC%8A%A4-%EB%8C%80%ED%9A%8C-%EC%B4%9D%EC%A0%95%EB%A6%AC%EF%BD%9C%EC%9D%BC%EC%A0%95-%EC%84%A0%EC%88%98-%EB%AA%85%EB%8B%A8-%EC%A4%91%EA%B3%84-%EC%A0%95%EB%B3%B4%EA%B9%8C%EC%A7%80-%ED%95%9C%EB%88%88%EC%97%90',\n",
       "   'title': '2025 윔블던 테니스 대회 총정리｜일정, 선수 명단, 중계 정보까지 ...',\n",
       "   'content': '2. 2025 윔블던 일정 및 장소 · 예선: 2025년 6월 23일(월) ~ 6월 27일(금) · 본선: 2025년 6월 30일(월) ~ 7월 13일(일).',\n",
       "   'score': 0.6638657,\n",
       "   'raw_content': None},\n",
       "  {'url': 'https://blog.naver.com/tennissue/223905185230',\n",
       "   'title': '2025 윔블던 완벽 가이드｜인생 테니스 여행을 위한 모든 것 (경기장 ...',\n",
       "   'content': '윔블던 경기는 런던 남서부에 위치한 **올잉글랜드 론 테니스 클럽 (All England Lawn Tennis Club)**에서 열립니다. 주소: Church Rd,',\n",
       "   'score': 0.5195463,\n",
       "   'raw_content': None}],\n",
       " 'response_time': 2.52}"
      ]
     },
     "execution_count": 8,
     "metadata": {},
     "output_type": "execute_result"
    }
   ],
   "source": [
    "# 테스트\n",
    "search_tool.invoke(\"2025 윔블던 테스트에 대해서 알려줘\")"
   ]
  },
  {
   "cell_type": "markdown",
   "id": "163d540b-714e-481a-aa24-1c9bfcda0d91",
   "metadata": {},
   "source": [
    "## 3. 그래프 생성"
   ]
  },
  {
   "cell_type": "markdown",
   "id": "ffc53086-b65f-4918-86ed-c41518ffa5b6",
   "metadata": {},
   "source": [
    "![add_tool_01](statics/02_add_tool_01.png)"
   ]
  },
  {
   "cell_type": "markdown",
   "id": "a0a78354-80a5-4b41-a7ef-d52266a2b7e8",
   "metadata": {},
   "source": [
    "### 상태 정의"
   ]
  },
  {
   "cell_type": "code",
   "execution_count": 19,
   "id": "6fad701d-0334-4479-aa27-4a7e66c290ff",
   "metadata": {},
   "outputs": [],
   "source": [
    "from typing import Annotated\n",
    "from langchain.chat_models import init_chat_model\n",
    "from typing_extensions import TypedDict\n",
    "from langgraph.graph import StateGraph, START, END\n",
    "from langgraph.graph.message import add_messages\n",
    "from langchain_openai import ChatOpenAI\n",
    "\n",
    "# 상태 \n",
    "class State(TypedDict):\n",
    "    messages: Annotated[list, add_messages]"
   ]
  },
  {
   "cell_type": "markdown",
   "id": "35672f9e-c798-4750-b5e4-41e1f9348727",
   "metadata": {},
   "source": [
    "### 챗봇 노드 정의 "
   ]
  },
  {
   "cell_type": "code",
   "execution_count": 21,
   "id": "9a9a1528-85b4-476e-b7cd-3a669384cb47",
   "metadata": {},
   "outputs": [],
   "source": [
    "tools = [search_tool]\n",
    "\n",
    "# 챗봇 노드 \n",
    "def chatbot(state: State):\n",
    "    llm = ChatOpenAI(model=\"gpt-4o-mini\", temperature=0)\n",
    "\n",
    "    print(\"\\n\\n 🌳🌳🌳\", state[\"messages\"], \"\\n\\n\\n\")\n",
    "    \n",
    "    # 💡 LLM이 검색 엔진을 사용할 수 있도록 LLM에게 알려줍니다. \n",
    "    # 이 때 LLM이 도구(Tool)을 사용할 수 있어야 합니다.\n",
    "    llm_with_tools = llm.bind_tools(tools)\n",
    "    \n",
    "    response = llm_with_tools.invoke(state[\"messages\"])\n",
    "    return {\"messages\": [response]}\n",
    "\n"
   ]
  },
  {
   "cell_type": "markdown",
   "id": "adc2d18d-d49d-4815-b197-b856a160a50c",
   "metadata": {},
   "source": [
    "LLM이 검색 도구를 사용할 수 있도록 `bind_tools()` 함수를 사용하여 등록합니다."
   ]
  },
  {
   "cell_type": "markdown",
   "id": "163d1964-457d-4ec7-9039-372adcfd0683",
   "metadata": {},
   "source": [
    "### 💡 도구 실행 위한 노드\n",
    "\n",
    "도구 실행을 위해서는 **도구 실행을 위한 별도의 노드(도구 실행 노드)가 그래프에 포함되어야 합니다.   \n",
    "LangGraph에는 도구 실행을 위한 미리 정의된(prebuilt) 노드가 준비되어있습니다. `ToolNode`를 그래프에 추가합니다.\n",
    "도구 호출에 대한 자세한 내용은 [LangGraph 도구 호출](https://python.langchain.com/docs/concepts/tool_calling/) 페이지를 참고하세요."
   ]
  },
  {
   "cell_type": "code",
   "execution_count": 22,
   "id": "bedf040d-871e-472a-8590-bd4bf381e7a3",
   "metadata": {},
   "outputs": [],
   "source": [
    "from langgraph.prebuilt import ToolNode\n",
    "\n",
    "tool_node = ToolNode(tools)\n"
   ]
  },
  {
   "cell_type": "markdown",
   "id": "31efbae1-fc07-40fc-9344-f0c75cd9da94",
   "metadata": {},
   "source": [
    "### 노드 추가"
   ]
  },
  {
   "cell_type": "code",
   "execution_count": 23,
   "id": "b92afac3-1e05-4834-9eba-66320bc9304b",
   "metadata": {},
   "outputs": [
    {
     "data": {
      "text/plain": [
       "<langgraph.graph.state.StateGraph at 0x24b7f8d7140>"
      ]
     },
     "execution_count": 23,
     "metadata": {},
     "output_type": "execute_result"
    }
   ],
   "source": [
    "# 그래프 생성\n",
    "graph_builder = StateGraph(State)\n",
    "graph_builder.add_node(\"chatbot\", chatbot)\n",
    "graph_builder.add_node(\"tools\", tool_node)"
   ]
  },
  {
   "cell_type": "markdown",
   "id": "b3ca2128-4a4e-447d-85bd-667842cb496a",
   "metadata": {},
   "source": [
    "### 엣지 그리고 조건부 엣지(Conditional Edge) 추가"
   ]
  },
  {
   "cell_type": "markdown",
   "id": "70f7e7e7-2dd0-4d45-b006-615a8e3ca7d1",
   "metadata": {},
   "source": [
    "조건부 엣지(conditional edges) 는 하나의 노드에서 조건에 맞는 다른 노드로 이동하기 위해 사용됩니다.    \n",
    "`tools_condition` 는 LLM의 리턴값에 **도구 호출이 필요하면 Tool노드**로 이동시키고, **그렇지 않으면 `END`노드**로 이동시킨다.  "
   ]
  },
  {
   "cell_type": "code",
   "execution_count": 24,
   "id": "a6f6fffa-acc1-4f63-aec5-fe019ebf4162",
   "metadata": {},
   "outputs": [
    {
     "data": {
      "text/plain": [
       "<langgraph.graph.state.StateGraph at 0x24b7f8d7140>"
      ]
     },
     "execution_count": 24,
     "metadata": {},
     "output_type": "execute_result"
    }
   ],
   "source": [
    "from langgraph.prebuilt import tools_condition\n",
    "\n",
    "# `tools_condition` 함수는 챗봇이 도구 사용을 요청하면 \"tools\"를 반환하고,\n",
    "# 바로 응답해도 되는 경우에는 \"END\"를 반환합니다.\n",
    "graph_builder.add_conditional_edges(\n",
    "    \"chatbot\",\n",
    "    tools_condition\n",
    ")"
   ]
  },
  {
   "cell_type": "code",
   "execution_count": 25,
   "id": "a9a15368-4796-404a-8800-f29dc7b38ee1",
   "metadata": {},
   "outputs": [],
   "source": [
    "# 도구가 호출될 때마다, 다음 단계를 결정하기 위해 다시 챗봇으로 돌아갑니다.\n",
    "graph_builder.add_edge(\"tools\", \"chatbot\")\n",
    "graph_builder.add_edge(START, \"chatbot\")\n",
    "\n",
    "# END 노드로 이동은 tool_condition 내부에 정의되어 있어서 명시적으로 지정하지 않습니다.\n",
    "\n",
    "graph = graph_builder.compile()"
   ]
  },
  {
   "cell_type": "markdown",
   "id": "727dcf5f-0587-4121-a7b9-81b6144d06ca",
   "metadata": {},
   "source": [
    "이 부분은 LangGraph에서 제공하는 [tools_condition](https://langchain-ai.github.io/langgraph/reference/prebuilt/#tools_condition) 을 사용하면 간격하게 작성할 수 있다."
   ]
  },
  {
   "cell_type": "markdown",
   "id": "3f045a4c-7cac-4f45-bb88-b30341cfba91",
   "metadata": {},
   "source": [
    "### 시각화"
   ]
  },
  {
   "cell_type": "code",
   "execution_count": 26,
   "id": "ca1c98ab-ff3e-4cdd-9a83-d46590ebc223",
   "metadata": {},
   "outputs": [
    {
     "data": {
      "image/png": "[encoded data removed]",
      "text/plain": [
       "<IPython.core.display.Image object>"
      ]
     },
     "metadata": {},
     "output_type": "display_data"
    }
   ],
   "source": [
    "from IPython.display import Image, display\n",
    "\n",
    "try:\n",
    "    display(Image(graph.get_graph().draw_mermaid_png()))\n",
    "except Exception:\n",
    "    pass"
   ]
  },
  {
   "cell_type": "markdown",
   "id": "30ebf8f7-a208-4de3-bfaf-280eeb468757",
   "metadata": {},
   "source": [
    "## 4. 챗봇 실행"
   ]
  },
  {
   "cell_type": "code",
   "execution_count": null,
   "id": "e9dbae02-019a-47d8-a6d0-314d213f4b22",
   "metadata": {},
   "outputs": [],
   "source": [
    "# You can exit the chat loop at any time by typing `quit`, `exit`, or `q`.\n",
    "while True:\n",
    "    try:\n",
    "        user_input = input(\"User: \")\n",
    "        if user_input.lower() in [\"quit\", \"exit\", \"q\"]:\n",
    "            print(\"Goodbye!\")\n",
    "            break\n",
    "            \n",
    "        for event in graph.stream({\"messages\": [{\"role\": \"user\", \"content\": user_input}]}):\n",
    "            for value in event.values():\n",
    "                print(\"Assistant:\", value[\"messages\"][-1].content)\n",
    "    except:\n",
    "        # input()을 사용할 수 없는 경우의 대체 처리(fallback)\n",
    "        user_input = \"지구에서 달까지의 거리를 알려줘?\"\n",
    "        print(\"User: \" + user_input)\n",
    "        stream_graph_updates(user_input)\n",
    "        break"
   ]
  },
  {
   "cell_type": "markdown",
   "id": "10e21a23-1180-4d34-a322-2b1a0dc54c8d",
   "metadata": {},
   "source": [
    "## 전체 코드"
   ]
  },
  {
   "cell_type": "code",
   "execution_count": null,
   "id": "07c523e7-b0e4-4ac5-85e1-1e1a733748c9",
   "metadata": {},
   "outputs": [],
   "source": [
    "from typing import Annotated\n",
    "\n",
    "from langchain_tavily import TavilySearch\n",
    "from langchain_core.messages import BaseMessage\n",
    "from typing_extensions import TypedDict\n",
    "\n",
    "from langgraph.graph import StateGraph, START, END\n",
    "from langgraph.graph.message import add_messages\n",
    "from langgraph.prebuilt import ToolNode, tools_condition\n",
    "from langchain_openai import ChatOpenAI\n",
    "\n",
    "\n",
    "class State(TypedDict):\n",
    "    messages: Annotated[list, add_messages]\n",
    "\n",
    "graph_builder = StateGraph(State)\n",
    "\n",
    "tool = TavilySearch(max_results=2)\n",
    "tools = [tool]\n",
    "\n",
    "def chatbot(state: State):\n",
    "    llm = ChatOpenAI(model=\"gpt-4o-mini\", temperature=0)\n",
    "    llm_with_tools = llm.bind_tools(tools)\n",
    "    return {\"messages\": [llm_with_tools.invoke(state[\"messages\"])]}\n",
    "\n",
    "\n",
    "# 📌 ToolNode 추가\n",
    "tool_node = ToolNode(tools=[tool])\n",
    "\n",
    "graph_builder.add_node(\"chatbot\", chatbot)\n",
    "graph_builder.add_node(\"tools\", tool_node)\n",
    "# \n",
    "graph_builder.add_conditional_edges(\n",
    "    \"chatbot\",\n",
    "    # 📌 \"tools\" 또는 END를 리턴한다.\n",
    "    tools_condition,\n",
    ")\n",
    "# Any time a tool is called, we return to the chatbot to decide the next step\n",
    "graph_builder.add_edge(\"tools\", \"chatbot\")\n",
    "graph_builder.add_edge(START, \"chatbot\")\n",
    "graph = graph_builder.compile()"
   ]
  },
  {
   "cell_type": "markdown",
   "id": "ae8a6d92-2f42-4f05-9395-a4f60b517920",
   "metadata": {},
   "source": [
    "## END"
   ]
  },
  {
   "cell_type": "code",
   "execution_count": null,
   "id": "53013a02-92c9-4c03-bfb4-2ebca28d6016",
   "metadata": {},
   "outputs": [],
   "source": []
  }
 ],
 "metadata": {
  "kernelspec": {
   "display_name": "Python 3 (ipykernel)",
   "language": "python",
   "name": "python3"
  },
  "language_info": {
   "codemirror_mode": {
    "name": "ipython",
    "version": 3
   },
   "file_extension": ".py",
   "mimetype": "text/x-python",
   "name": "python",
   "nbconvert_exporter": "python",
   "pygments_lexer": "ipython3",
   "version": "3.12.4"
  }
 },
 "nbformat": 4,
 "nbformat_minor": 5
}
