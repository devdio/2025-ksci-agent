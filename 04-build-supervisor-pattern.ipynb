{
 "cells": [
  {
   "cell_type": "markdown",
   "id": "8101a62b-9aea-44a4-8697-d117d234e40c",
   "metadata": {},
   "source": [
    "# 멀티에이전트 슈퍼바이저 패턴"
   ]
  },
  {
   "cell_type": "markdown",
   "id": "1b4aac47-4ff1-4022-9e08-aec96a1e85c3",
   "metadata": {},
   "source": [
    "멀티 에이전트를 효율적으로 구성하기 위해서 몇가지 패턴이 존재합니다."
   ]
  },
  {
   "cell_type": "markdown",
   "id": "546e2592-337d-4f3e-8b1c-3f71a1af84a2",
   "metadata": {},
   "source": [
    "![multi_agent_architectures](statics/03_multi_agent_architectures.png)"
   ]
  },
  {
   "cell_type": "markdown",
   "id": "aaede0d8-ad4c-4484-85fd-381cfed15974",
   "metadata": {},
   "source": [
    "이번 튜토리얼에서는 슈퍼바이저(Supervisor) 패턴을 구현하겠습니다. 슈퍼바이저 여러 전문 에이전트들을 중앙의 감독자(supervisor) 에이전트가 조율하는 **멀티 에이전트 아키텍처**입니다. 슈퍼바이저는 모든 커뮤니케이션 흐름과 작업 분배를 제어하며, 현재 상황(context)과 작업 요구사항에 따라 어떤 에이전트를 호출할지 결정합니다."
   ]
  },
  {
   "cell_type": "markdown",
   "id": "7989c3f2-4e1a-4641-8abd-8ac84c032362",
   "metadata": {},
   "source": [
    "이 튜토리얼에서는 **리서치 전문가 에이전트** 와 **계산 전문가 에이전트**, 총 두 개의 전문 에이전트를 갖춘 supervisor 시스템을 구축하게 됩니다.  "
   ]
  },
  {
   "cell_type": "markdown",
   "id": "a59b9933-d65f-4388-ac59-8754002209c3",
   "metadata": {},
   "source": [
    "<img src=\"https://langchain-ai.github.io/langgraphjs/tutorials/multi_agent/img/supervisor-diagram.png\" />"
   ]
  },
  {
   "cell_type": "markdown",
   "id": "4ac6c376-d94d-45d2-8321-823c0f4e9a97",
   "metadata": {},
   "source": [
    "## 1. 환경설정"
   ]
  },
  {
   "cell_type": "markdown",
   "id": "8dfb04ae-98dc-4f60-8ecf-34ead35c64e9",
   "metadata": {},
   "source": [
    "### `.env` 설정"
   ]
  },
  {
   "cell_type": "markdown",
   "id": "ae7b62de-d90c-41c3-acee-601c682b4566",
   "metadata": {},
   "source": [
    "### 패키지 설정"
   ]
  },
  {
   "cell_type": "code",
   "execution_count": 1,
   "id": "f3ba6a66-dee5-482b-8b87-29ad60f48ebd",
   "metadata": {},
   "outputs": [
    {
     "name": "stdout",
     "output_type": "stream",
     "text": [
      "Note: you may need to restart the kernel to use updated packages.\n"
     ]
    }
   ],
   "source": [
    "%pip install -qU python-dotenv langgraph langsmith langchain-openai langchain-tavily"
   ]
  },
  {
   "cell_type": "code",
   "execution_count": 31,
   "id": "af8ef691-9eaa-4d1f-9058-1212ee54c5f2",
   "metadata": {},
   "outputs": [
    {
     "name": "stdout",
     "output_type": "stream",
     "text": [
      "sk-proj-8xZc3Ppf7BtK\n",
      "tvly-dev-GUT1o6jP4Og\n"
     ]
    }
   ],
   "source": [
    "# 환경 변수 확인\n",
    "from dotenv import load_dotenv\n",
    "import os\n",
    "load_dotenv(override=True)\n",
    "\n",
    "def _set_env(var: str):\n",
    "    if not os.environ.get(var):\n",
    "        os.environ[var] = getpass.getpass(f\"{var}: \")\n",
    "\n",
    "_set_env(\"OPENAI_API_KEY\")\n",
    "_set_env(\"TAVILY_API_KEY\")\n",
    "\n",
    "print(os.environ.get(\"OPENAI_API_KEY\")[:10])\n",
    "print(os.environ.get(\"TAVILY_API_KEY\")[:10])"
   ]
  },
  {
   "cell_type": "markdown",
   "id": "0bb02087-69bb-44b0-a4e6-3ae5f81237f1",
   "metadata": {},
   "source": [
    "### 메세지 프린트 함수\n",
    "그래프의 실행 결과인 메세지를 확인하기 편리하도록 함수를 준비합니다."
   ]
  },
  {
   "cell_type": "code",
   "execution_count": 32,
   "id": "72bbfc6f-1b20-4df7-b41f-b15ad9d37e9b",
   "metadata": {},
   "outputs": [],
   "source": [
    "# hide-cell\n",
    "from langchain_core.messages import convert_to_messages\n",
    "\n",
    "\n",
    "def pretty_print_message(message, indent=False):\n",
    "    pretty_message = message.pretty_repr(html=True)\n",
    "    if not indent:\n",
    "        print(pretty_message)\n",
    "        return\n",
    "\n",
    "    indented = \"\\n\".join(\"\\t\" + c for c in pretty_message.split(\"\\n\"))\n",
    "    print(indented)\n",
    "\n",
    "\n",
    "def pretty_print_messages(update, last_message=False):\n",
    "    is_subgraph = False\n",
    "    if isinstance(update, tuple):\n",
    "        ns, update = update\n",
    "        # skip parent graph updates in the printouts\n",
    "        if len(ns) == 0:\n",
    "            return\n",
    "\n",
    "        graph_id = ns[-1].split(\":\")[0]\n",
    "        print(f\"Update from subgraph {graph_id}:\")\n",
    "        print(\"\\n\")\n",
    "        is_subgraph = True\n",
    "\n",
    "    for node_name, node_update in update.items():\n",
    "        update_label = f\"Update from node {node_name}:\"\n",
    "        if is_subgraph:\n",
    "            update_label = \"\\t\" + update_label\n",
    "\n",
    "        print(update_label)\n",
    "        print(\"\\n\")\n",
    "\n",
    "        messages = convert_to_messages(node_update[\"messages\"])\n",
    "        if last_message:\n",
    "            messages = messages[-1:]\n",
    "\n",
    "        for m in messages:\n",
    "            pretty_print_message(m, indent=is_subgraph)\n",
    "        print(\"\\n\")"
   ]
  },
  {
   "cell_type": "markdown",
   "id": "b2eb18e1-2a89-4478-b1e5-f26967e17d3f",
   "metadata": {},
   "source": [
    "## 2. 에이전트 생성"
   ]
  },
  {
   "cell_type": "markdown",
   "id": "612cc1f1-cf9f-40b0-9f31-479d88b83a82",
   "metadata": {},
   "source": [
    "먼저, 두 개의 전문 워커 에이전트인 리서치 에이전트와 수학 에이전트를 만들어보겠습니다:\n",
    "\n",
    "- 리서치 에이전트는 Tavily API를 사용한 웹 검색 도구에 접근할 수 있습니다.\n",
    "- 수학 에이전트는 더하기, 곱하기, 나누기와 같은 간단한 수학 도구에 접근할 수 있습니다."
   ]
  },
  {
   "cell_type": "markdown",
   "id": "7f4b1237-70da-4fb2-9a4d-88298182b4e1",
   "metadata": {},
   "source": [
    "### 리서치 에이전트 (노드)"
   ]
  },
  {
   "cell_type": "code",
   "execution_count": 33,
   "id": "edebcc91-47d7-4ef2-b44c-2a7f0826eab9",
   "metadata": {},
   "outputs": [],
   "source": [
    "from langchain_tavily import TavilySearch\n",
    "\n",
    "web_search = TavilySearch(max_results=3)"
   ]
  },
  {
   "cell_type": "code",
   "execution_count": 34,
   "id": "65d37f29-0c54-43ef-92d7-2df61a041a77",
   "metadata": {},
   "outputs": [
    {
     "data": {
      "text/plain": [
       "'도널드 존 트럼프(영어: Donald John Trump, 1946년 6월 14일~)는 미국의 기업인, 부동산 재벌 출신 정치인이다. 미국의 제45, 47대 대통령이다.'"
      ]
     },
     "execution_count": 34,
     "metadata": {},
     "output_type": "execute_result"
    }
   ],
   "source": [
    "# 도구 테스트 \n",
    "web_search_results = web_search.invoke(\"2025년 미국의 대통령은 누구인가?\")\n",
    "web_search_results[\"results\"][0][\"content\"]"
   ]
  },
  {
   "cell_type": "markdown",
   "id": "e39235e9-f7be-446c-a054-699a16819452",
   "metadata": {},
   "source": [
    "`create_react_agent`함수로 만들어진 에이전트를 호출하고, 그 결과에 따라서 상태(State)를 업데이트하고, 다음 실행될 노드(Node)를 결정하는 `search_node`를 구현한다."
   ]
  },
  {
   "cell_type": "code",
   "execution_count": 35,
   "id": "e463ab7e-032e-45cf-b5a7-1fc0c4072046",
   "metadata": {},
   "outputs": [],
   "source": [
    "from langgraph.prebuilt import create_react_agent\n",
    "from langgraph.graph import MessagesState\n",
    "from langgraph.types import Command\n",
    "from typing import Literal\n",
    "from langchain_core.messages import BaseMessage, SystemMessage, HumanMessage\n",
    "\n",
    "def search_node(state: MessagesState) -> Command[Literal[\"supervisor\"]]:\n",
    "    research_agent = create_react_agent(\n",
    "        model=\"openai:gpt-4o-mini\",\n",
    "        tools=[web_search],\n",
    "        prompt=(\n",
    "            \"당신은 리서치 에이전트입니다.\\n\\n\"\n",
    "            \"지침:\\n\"\n",
    "            \"- 오직 리서치(조사) 관련 작업만 도와야 하며, 수학 계산은 절대 하지 마세요\\n\"\n",
    "            \"- 작업이 완료되면 결과를 감독자(supervisor)에게 바로 전달하세요\\n\"\n",
    "            \"- 작업 결과만 응답하세요. 그 외의 텍스트는 절대 포함하지 마세요.\"\n",
    "    \n",
    "        ),\n",
    "        name=\"research_agent\",\n",
    "    )\n",
    "\n",
    "    print(\"===== SEARCH AGENT =====\")\n",
    "    \n",
    "    result = research_agent.invoke(state)\n",
    "    return Command(\n",
    "        update={\n",
    "            \"messages\": [\n",
    "                HumanMessage(content=result[\"messages\"][-1].content, name=\"rag\")\n",
    "            ]\n",
    "        },\n",
    "        goto=\"supervisor\",\n",
    "    )"
   ]
  },
  {
   "cell_type": "markdown",
   "id": "7500842a-3c06-4c59-a7b5-a6a7b66a8098",
   "metadata": {},
   "source": [
    "구현된 노드를 테스트합니다."
   ]
  },
  {
   "cell_type": "code",
   "execution_count": 36,
   "id": "1490c0b6-2cd5-4cec-b374-75051ecfbbda",
   "metadata": {},
   "outputs": [
    {
     "name": "stdout",
     "output_type": "stream",
     "text": [
      "===== SEARCH AGENT =====\n",
      "🔍 DB 쿼리 결과:\n",
      "[rag] 2025년 현재 미국의 대통령은 조 바이든입니다.\n",
      "다음 이동: supervisor\n"
     ]
    }
   ],
   "source": [
    "## 테스트 \n",
    "\n",
    "# 테스트용 입력 생성\n",
    "initial_state = MessagesState(messages=[\n",
    "    HumanMessage(content=\"2025년 현재 미국의 대통령은 누구인가?\", name=\"user\")\n",
    "])\n",
    "\n",
    "# 함수 호출 및 결과 확인\n",
    "result = search_node(initial_state)\n",
    "\n",
    "# 6. 출력 보기\n",
    "print(\"🔍 DB 쿼리 결과:\")\n",
    "for msg in result.update[\"messages\"]:\n",
    "    print(f\"[{msg.name}] {msg.content}\")\n",
    "print(f\"다음 이동: {result.goto}\")"
   ]
  },
  {
   "cell_type": "markdown",
   "id": "9e0893c3-4a98-4add-be0e-98ae99a2f891",
   "metadata": {},
   "source": [
    "### 수학 에이전트 (노드)\n",
    "\n",
    "수학적인 계산을 담당하는 커스텀 도구를 생성합니다."
   ]
  },
  {
   "cell_type": "code",
   "execution_count": 37,
   "id": "1c5679d9-f910-41aa-be87-d627a7622f0b",
   "metadata": {},
   "outputs": [],
   "source": [
    "from langchain_core.tools import tool\n",
    "\n",
    "@tool\n",
    "def add(a: float, b: float):\n",
    "    \"\"\"Add two numbers.\"\"\"\n",
    "    return a + b\n",
    "\n",
    "@tool\n",
    "def multiply(a: float, b: float):\n",
    "    \"\"\"Multiply two numbers.\"\"\"\n",
    "    return a * b\n",
    "\n",
    "@tool\n",
    "def divide(a: float, b: float):\n",
    "    \"\"\"Divide two numbers.\"\"\"\n",
    "    return a / b"
   ]
  },
  {
   "cell_type": "markdown",
   "id": "807c1d7a-c5bd-4b66-8703-878477ebf1e0",
   "metadata": {},
   "source": [
    "`create_react_agent`함수로 만들어진 에이전트를 호출하고, 그 결과에 따라서 상태(State)를 업데이트하고, 다음 실행될 노드(Node)를 결정하는 `math_node`를 구현한다."
   ]
  },
  {
   "cell_type": "code",
   "execution_count": 38,
   "id": "84a5f821-1afe-4240-8ec0-3c6d6976dc52",
   "metadata": {},
   "outputs": [],
   "source": [
    "# from langchain.agents import create_react_agent\n",
    "from langgraph.prebuilt import create_react_agent\n",
    "from langchain_openai import ChatOpenAI\n",
    "\n",
    "def math_node(state: MessagesState) -> Command[Literal[\"supervisor\"]]:\n",
    "    model = ChatOpenAI(model=\"gpt-4o-mini\", temperature=0)\n",
    "    math_agent = create_react_agent(\n",
    "        model=model,\n",
    "        tools=[add, multiply, divide],\n",
    "        prompt=(\n",
    "            \"당신은 수학 에이전트입니다.\\n\\n\"\n",
    "            \"지침:\\n\"\n",
    "            \"- 오직 수학 관련 작업만 도와야 합니다\\n\"\n",
    "            \"- 작업이 완료되면 결과를 감독자(supervisor)에게 바로 전달하세요\\n\"\n",
    "            \"- 작업 결과만 응답하세요. 그 외의 텍스트는 절대 포함하지 마세요.\"\n",
    "        ),\n",
    "        name=\"math_agent\",\n",
    "    )\n",
    "\n",
    "    print(\"===== MATH AGENT =====\")\n",
    "\n",
    "    result = math_agent.invoke(state)\n",
    "    return Command(\n",
    "        update={\n",
    "            \"messages\": [\n",
    "                HumanMessage(content=result[\"messages\"][-1].content, name=\"rag\")\n",
    "            ]\n",
    "        },\n",
    "        goto=\"supervisor\",\n",
    "    )"
   ]
  },
  {
   "cell_type": "markdown",
   "id": "c74b9a40-1a0a-4d88-bdf1-2509a4fc7df9",
   "metadata": {},
   "source": [
    "math_node를 테스트 합니다."
   ]
  },
  {
   "cell_type": "code",
   "execution_count": 39,
   "id": "3616fb11-20d0-47f2-a1d6-565967c3b14b",
   "metadata": {},
   "outputs": [
    {
     "name": "stdout",
     "output_type": "stream",
     "text": [
      "===== MATH AGENT =====\n",
      "🔍 DB 쿼리 결과:\n",
      "[rag] 216.0\n",
      "다음 이동: supervisor\n"
     ]
    }
   ],
   "source": [
    "## 테스트 \n",
    "\n",
    "# 테스트용 입력 생성\n",
    "initial_state = MessagesState(messages=[\n",
    "    HumanMessage(content=\"(2 + 4) **3 의 계산 결과는?\", name=\"user\")\n",
    "])\n",
    "\n",
    "# 함수 호출 및 결과 확인\n",
    "result = math_node(initial_state)\n",
    "\n",
    "# 6. 출력 보기\n",
    "print(\"🔍 DB 쿼리 결과:\")\n",
    "for msg in result.update[\"messages\"]:\n",
    "    print(f\"[{msg.name}] {msg.content}\")\n",
    "print(f\"다음 이동: {result.goto}\")"
   ]
  },
  {
   "cell_type": "markdown",
   "id": "549ada67-d372-4420-b529-de947bfb9607",
   "metadata": {},
   "source": [
    "### 👷 슈퍼바이저 에이전트 \n",
    "`langgraph-supervisor`라이브러리를 사용하여 에이전트 생성하기"
   ]
  },
  {
   "cell_type": "code",
   "execution_count": 40,
   "id": "082e030f-f105-486a-971e-4f3ba8ed1014",
   "metadata": {},
   "outputs": [],
   "source": [
    "from pydantic import BaseModel, Field\n",
    "\n",
    "# LLM출력을 구조화하기위한 클래스 \n",
    "class Router(BaseModel):\n",
    "    next: Literal[\"search_agent\", \"math_agent\", \"__end__\"] = Field(\n",
    "        description=\"워크플로우 순서에서 다음으로 실행할 전문가를 결정합니다: \"\n",
    "                    \"'research_agent'는 사용자 입력에 웹 검색이 필요한 경우 사용됩니다. \"\n",
    "                    \"'math_agent'는 수학적 계산을 실행하는 경우 사용됩니다. \"\n",
    "    )\n",
    "    reason: str = Field(\n",
    "        description=\"특정 전문가를 선택한 이유와 이 선택이 과업을 완수하는 데 어떻게 기여하는지를 설명합니다.\"\n",
    "    )"
   ]
  },
  {
   "cell_type": "code",
   "execution_count": 41,
   "id": "d6929142-b452-4a54-bd23-c4cce0ccd3f6",
   "metadata": {},
   "outputs": [],
   "source": [
    "def supervisor_node(state: MessagesState) -> Command[Literal[\"search_agent\", \"math_agent\", \"__end__\"]]:\n",
    "\n",
    "    system_prompt = ('''\n",
    "\n",
    "        \"당신은 두 개의 전문가 에이전트를 관리하는 감독자입니다:\\n\"\n",
    "        \"- 'research_agent': 사용자 입력에 웹 검색이 필요한 경우 이 에이전트에게 할당하세요\\n\"\n",
    "        \"- 'math_agent': 수학적 계산을 실행하는 경우 이 에이전트에게 할당하세요\\n\"\n",
    "        \"한 번에 하나의 에이전트에게만 작업을 할당하고, 에이전트를 병렬로 호출하지 마세요.\\n\"\n",
    "        \"당신 스스로는 어떤 작업도 수행하지 마세요.\"\n",
    "        \n",
    "        **당신의 책임**:\n",
    "        1. 각 결정 시점에서 작업을 가장 적절한 에이전트에게 라우팅합니다.\n",
    "        2. 중복되는 에이전트 할당을 피하여 워크플로우의 효율성을 유지합니다.\n",
    "        3. 사용자의 질문에 대한 충분한 응답이 생성되었고, 더 이상 추가적인 작업이 필요하지 않다면 'FINISH' 또는 '__end__'를 리턴하십시오.\n",
    "    ''')\n",
    "\n",
    "       \n",
    "    model = ChatOpenAI(model=\"gpt-4o-mini\", temperature=0)\n",
    "    supervisor = create_react_agent(\n",
    "        model=model,\n",
    "        tools=[],\n",
    "        prompt=system_prompt,\n",
    "        response_format=Router,\n",
    "        name=\"supervisor\",\n",
    "    )\n",
    "\n",
    "    response = supervisor.invoke(state)\n",
    "    # print(\"📌 RESPONSE\", response)\n",
    "    \n",
    "    goto = response[\"structured_response\"].next\n",
    "    reason = response[\"structured_response\"].reason\n",
    "    \n",
    "    if goto == \"FINISH\" or goto == \"__end__\":\n",
    "        goto = END\n",
    "    \n",
    "    print(f\"📌--- Workflow Transition: Supervisor → {goto.upper()} ---\")\n",
    "\n",
    "    return Command(\n",
    "        update={\n",
    "            \"messages\": [\n",
    "                HumanMessage(content=reason, name=\"supervisor\")\n",
    "            ]\n",
    "        },\n",
    "        goto=goto,\n",
    "    )"
   ]
  },
  {
   "cell_type": "markdown",
   "id": "3110b880-fb6d-4ee5-ad82-dd8b278be426",
   "metadata": {},
   "source": [
    "## 3. 그래프 생성"
   ]
  },
  {
   "cell_type": "code",
   "execution_count": 42,
   "id": "b585c6c6-abc5-4e6b-837c-550ff0ca8cf4",
   "metadata": {},
   "outputs": [],
   "source": [
    "from langgraph.graph import StateGraph, START, END\n",
    "\n",
    "builder = StateGraph(MessagesState)\n",
    "builder.add_node(\"supervisor\", supervisor_node)\n",
    "builder.add_node(\"search_agent\", search_node)\n",
    "builder.add_node(\"math_agent\", math_node)\n",
    "builder.add_edge(START, \"supervisor\")\n",
    "graph = builder.compile()"
   ]
  },
  {
   "cell_type": "code",
   "execution_count": 43,
   "id": "af8abf9b-da99-4fed-8131-115cd0b9843f",
   "metadata": {},
   "outputs": [
    {
     "data": {
      "image/png": "[encoded data removed]",
      "text/plain": [
       "<IPython.core.display.Image object>"
      ]
     },
     "metadata": {},
     "output_type": "display_data"
    }
   ],
   "source": [
    "from IPython.display import Image, display\n",
    "\n",
    "try:\n",
    "    display(Image(graph.get_graph().draw_mermaid_png()))\n",
    "except Exception:\n",
    "    pass"
   ]
  },
  {
   "cell_type": "markdown",
   "id": "058def12-8634-4e0e-9d17-010b1ba1f0ce",
   "metadata": {},
   "source": [
    "## 4. 실행"
   ]
  },
  {
   "cell_type": "code",
   "execution_count": 51,
   "id": "655ba387-c74d-4edb-bb15-05a85fb5b8aa",
   "metadata": {},
   "outputs": [
    {
     "name": "stdout",
     "output_type": "stream",
     "text": [
      "📌--- Workflow Transition: Supervisor → SEARCH_AGENT ---\n",
      "Update from node supervisor:\n",
      "\n",
      "\n",
      "================================\u001b[1m Human Message \u001b[0m=================================\n",
      "Name: supervisor\n",
      "\n",
      "2024년 미국 전체 GDP와 뉴욕주의 GDP를 찾아야 하기 때문에 'search_agent'를 사용합니다.\n",
      "\n",
      "\n",
      "===== SEARCH AGENT =====\n",
      "Update from node search_agent:\n",
      "\n",
      "\n",
      "================================\u001b[1m Human Message \u001b[0m=================================\n",
      "Name: rag\n",
      "\n",
      "2024년 미국의 GDP는 약 26.5조 달러이며, 뉴욕주의 GDP는 약 2.297조 달러입니다.\n",
      "\n",
      "\n",
      "📌--- Workflow Transition: Supervisor → MATH_AGENT ---\n",
      "Update from node supervisor:\n",
      "\n",
      "\n",
      "================================\u001b[1m Human Message \u001b[0m=================================\n",
      "Name: supervisor\n",
      "\n",
      "뉴욕주의 GDP가 미국 GDP의 몇 퍼센트인지 계산하기 위해 수학적 계산이 필요합니다.\n",
      "\n",
      "\n",
      "===== MATH AGENT =====\n",
      "Update from node math_agent:\n",
      "\n",
      "\n",
      "================================\u001b[1m Human Message \u001b[0m=================================\n",
      "Name: rag\n",
      "\n",
      "뉴욕주의 GDP는 미국 GDP의 약 8.67%입니다.\n",
      "\n",
      "\n"
     ]
    },
    {
     "name": "stderr",
     "output_type": "stream",
     "text": [
      "Task supervisor with path ('__pregel_pull', 'supervisor') wrote to unknown channel branch:to:__end__, ignoring it.\n"
     ]
    },
    {
     "name": "stdout",
     "output_type": "stream",
     "text": [
      "📌--- Workflow Transition: Supervisor → __END__ ---\n",
      "Update from node supervisor:\n",
      "\n",
      "\n",
      "================================\u001b[1m Human Message \u001b[0m=================================\n",
      "Name: supervisor\n",
      "\n",
      "2024년 미국 전체 GDP와 뉴욕주의 GDP를 찾아서 뉴욕주의 GDP가 미국 GDP의 약 8.67%임을 계산했습니다.\n",
      "\n",
      "\n"
     ]
    }
   ],
   "source": [
    "for chunk in graph.stream(\n",
    "    {\n",
    "        \"messages\": [\n",
    "            {\n",
    "                \"role\": \"user\",\n",
    "                \"content\": \"2024년 미국 전체 GDP와 뉴욕주의 GDP를 찾아줘.그리고 뉴욕주의 GDP가 미국 GDP의 몇 퍼센트인지 `math_agent`로 계산해줘.\",\n",
    "            }\n",
    "        ]\n",
    "    },\n",
    "):\n",
    "    pretty_print_messages(chunk, last_message=True)\n",
    "\n",
    "final_message_history = chunk[\"supervisor\"][\"messages\"]"
   ]
  },
  {
   "cell_type": "markdown",
   "id": "15de3be5-5391-4323-9e35-c1edfec95c13",
   "metadata": {},
   "source": [
    "## END"
   ]
  },
  {
   "cell_type": "code",
   "execution_count": null,
   "id": "a7f2e693-e21b-48fa-b2dd-0df7704fbe2b",
   "metadata": {},
   "outputs": [],
   "source": []
  }
 ],
 "metadata": {
  "kernelspec": {
   "display_name": "Python 3 (ipykernel)",
   "language": "python",
   "name": "python3"
  },
  "language_info": {
   "codemirror_mode": {
    "name": "ipython",
    "version": 3
   },
   "file_extension": ".py",
   "mimetype": "text/x-python",
   "name": "python",
   "nbconvert_exporter": "python",
   "pygments_lexer": "ipython3",
   "version": "3.12.4"
  }
 },
 "nbformat": 4,
 "nbformat_minor": 5
}
