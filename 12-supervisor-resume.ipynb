{
 "cells": [
  {
   "cell_type": "markdown",
   "id": "7e90966c-3f64-482f-bf55-6a2a4f2e840f",
   "metadata": {},
   "source": [
    "# 이력서 분석 에이전트"
   ]
  },
  {
   "cell_type": "markdown",
   "id": "f5a327b7-3989-4e37-9c77-d8cecf3dea8b",
   "metadata": {},
   "source": [
    "오늘날 빠르게 진화하는 AI 환경에서 효과적으로 협업하는 정교한 에이전트 시스템을 구축하는 것은 여전히 중요한 과제입니다. LangChain 팀은 두 가지 강력한 새로운 Python 라이브러리인 `langgraph-supervisor` 와 `langgraph-swarm`을 출시하여 이러한 요구를 충족했습니다 . 이 글에서는 langgraph-supervisor를 통해 개발자가 계층적 구조를 갖춘 복잡한 다중 에이전트 시스템을 구축하는 방법을 살펴봅니다."
   ]
  },
  {
   "cell_type": "markdown",
   "id": "9c215b33-000e-47dd-97cf-0dbf31ced70c",
   "metadata": {},
   "source": [
    "[샘플이력서 다운로드](https://www.resumeviking.com/templates/)"
   ]
  },
  {
   "cell_type": "markdown",
   "id": "68a82fc6-63f6-4ccd-903e-b896f850c756",
   "metadata": {},
   "source": [
    "## 1. 환경 설정"
   ]
  },
  {
   "cell_type": "code",
   "execution_count": 14,
   "id": "0556540e-9c0f-4159-8a0e-b8c6773921bc",
   "metadata": {},
   "outputs": [
    {
     "name": "stdout",
     "output_type": "stream",
     "text": [
      "Note: you may need to restart the kernel to use updated packages.\n"
     ]
    }
   ],
   "source": [
    "%pip install -qU langgraph-supervisor langchain-openai python-dotenv"
   ]
  },
  {
   "cell_type": "code",
   "execution_count": 24,
   "id": "84228eb6-515f-45cc-996f-225a003c17e0",
   "metadata": {},
   "outputs": [],
   "source": [
    "# 환경 변수 확인\n",
    "from dotenv import load_dotenv\n",
    "import os\n",
    "load_dotenv(override=True)\n",
    "\n",
    "# TAVILY_API_KEY= os.environ.get(\"TAVILY_API_KEY\")\n",
    "# print(TAVILY_API_KEY[:20])\n",
    "\n",
    "def _set_env(var: str):\n",
    "    if not os.environ.get(var):\n",
    "        os.environ[var] = getpass.getpass(f\"{var}: \")\n",
    "\n",
    "_set_env(\"TAVILY_API_KEY\")\n",
    "_set_env(\"OPENAI_API_KEY\")"
   ]
  },
  {
   "cell_type": "markdown",
   "id": "23c9ad88-061a-4010-81f7-56c8dcf5f3dc",
   "metadata": {},
   "source": [
    "## 2. LLM 객체 생성"
   ]
  },
  {
   "cell_type": "code",
   "execution_count": 31,
   "id": "ed8e4cee-1d4e-4b76-b041-89ae555e050d",
   "metadata": {},
   "outputs": [],
   "source": [
    "from langchain_openai import ChatOpenAI\n",
    "\n",
    "llm = ChatOpenAI(model_name=\"gpt-4o-mini\")"
   ]
  },
  {
   "cell_type": "markdown",
   "id": "9b4b7fab-cf07-483a-9d0b-96933f31acc5",
   "metadata": {},
   "source": [
    "## 3. 에이전트 생성"
   ]
  },
  {
   "cell_type": "code",
   "execution_count": 32,
   "id": "aa6141ef-86ae-45ef-8853-fcf6ede1426e",
   "metadata": {},
   "outputs": [
    {
     "name": "stdout",
     "output_type": "stream",
     "text": [
      "Note: you may need to restart the kernel to use updated packages.\n"
     ]
    }
   ],
   "source": [
    "%pip install -qU PyPDF2 langchain langgraph googlesearch-python python-docx langgraph-supervisor"
   ]
  },
  {
   "cell_type": "code",
   "execution_count": 33,
   "id": "0e03e607-6af4-47ca-bfa2-0a159cf89981",
   "metadata": {},
   "outputs": [],
   "source": [
    "from langgraph.prebuilt import create_react_agent\n",
    "from PyPDF2 import PdfReader\n",
    "from docx import Document\n",
    "from googlesearch import search"
   ]
  },
  {
   "cell_type": "code",
   "execution_count": 35,
   "id": "c3336bb7-d1f0-4a6c-b722-4dc9be0de84a",
   "metadata": {},
   "outputs": [],
   "source": [
    "def extract_text_from_pdf(pdf_path: str) -> str:\n",
    "    \"\"\"\n",
    "    PDF 파일로부터 텍스트를 추출합니다.\n",
    "\n",
    "    매개변수:\n",
    "        pdf_path (str): 텍스트를 추출할 PDF 파일의 경로\n",
    "\n",
    "    반환값:\n",
    "        str: 추출된 텍스트 전체를 문자열로 반환\n",
    "    \"\"\"\n",
    "    reader = PdfReader(pdf_path)\n",
    "    text = \"\"\n",
    "    for page in reader.pages:\n",
    "        text += page.extract_text() or \"\"\n",
    "    return text\n",
    "\n",
    "def extract_text_from_docx(docx_path: str) -> str:\n",
    "    \"\"\"\n",
    "    DOCX 파일로부터 텍스트를 추출합니다.\n",
    "\n",
    "    매개변수:\n",
    "        docx_path (str): 텍스트를 추출할 DOCX 파일의 경로\n",
    "\n",
    "    반환값:\n",
    "        str: 추출된 문단을 줄바꿈('\\n')으로 구분하여 하나의 문자열로 반환\n",
    "    \"\"\"\n",
    "    doc = Document(docx_path)\n",
    "    return \"\\n\".join([paragraph.text for paragraph in doc.paragraphs])\n",
    "\n",
    "def resume_parser(resume_file_path: str):\n",
    "    \"\"\"\n",
    "    이력서 파일(PDF 또는 DOCX)에서 텍스트를 추출합니다.\n",
    "\n",
    "    매개변수:\n",
    "        resume_file_path (str): 이력서 파일의 경로 (PDF 또는 DOCX 형식)\n",
    "\n",
    "    반환값:\n",
    "        str: 이력서에서 추출된 텍스트\n",
    "\n",
    "    예외:\n",
    "        ValueError: 지원하지 않는 파일 형식일 경우 발생\n",
    "    \"\"\"\n",
    "    if resume_file_path.endswith(\".pdf\"):\n",
    "        return extract_text_from_pdf(resume_file_path)\n",
    "    elif resume_file_path.endswith(\".docx\"):\n",
    "        return extract_text_from_docx(resume_file_path)\n",
    "    else:\n",
    "        raise ValueError(\"Unsupported file type\")\n",
    "\n",
    "# Create resume parser agent\n",
    "resume_parser_agent = create_react_agent(\n",
    "    llm,\n",
    "    tools=[resume_parser],\n",
    "    name=\"resume_parser_agent\",\n",
    "    prompt=(\n",
    "        \"당신은 이력서 파싱 전문가입니다. \"\n",
    "        \"항상 resume_parser라는 하나의 도구만 사용하여 이력서를 파싱하세요.\"\n",
    "    )\n",
    ")"
   ]
  },
  {
   "cell_type": "code",
   "execution_count": 36,
   "id": "e64da5c0-b8af-4f52-9601-184b8c7798a8",
   "metadata": {},
   "outputs": [],
   "source": [
    "def general_question_answer(question: str):\n",
    "    \"\"\"\n",
    "    일반적인 질문에 대한 답변을 생성합니다.\n",
    "\n",
    "    매개변수:\n",
    "        question (str): 사용자가 입력한 질문\n",
    "\n",
    "    반환값:\n",
    "        str: 모델이 생성한 답변 내용\n",
    "    \"\"\"\n",
    "    response = model.invoke(question)\n",
    "    return response.content\n",
    "\n",
    "# Create general Q&A agent\n",
    "general_question_answer_agent = create_react_agent(\n",
    "    llm,\n",
    "    tools=[general_question_answer],\n",
    "    name=\"general_question_answer_agent\",\n",
    "    prompt=(\n",
    "        \"당신은 일반 질문에 답변하는 전문가입니다. \"\n",
    "        \"항상 general_question_answer라는 하나의 도구만 사용하여 질문에 답하세요.\"\n",
    "    )\n",
    ")"
   ]
  },
  {
   "cell_type": "code",
   "execution_count": 37,
   "id": "afe1a60b-8044-42cb-bee0-659a81166c5e",
   "metadata": {},
   "outputs": [],
   "source": [
    "def google_search(query: str):\n",
    "    \"\"\"\n",
    "    주어진 검색어(query)를 사용하여 Google에서 검색을 수행하고, 상위 5개의 결과를 반환합니다.\n",
    "\n",
    "    매개변수:\n",
    "        query (str): 검색할 질의어 또는 키워드\n",
    "\n",
    "    반환값:\n",
    "        list: 검색 결과 URL 목록 (최대 5개)\n",
    "    \"\"\"\n",
    "    return list(search(query, num_results=5))\n",
    "\n",
    "# Create Google search agent\n",
    "google_search_agent = create_react_agent(\n",
    "    llm,\n",
    "    tools=[google_search],\n",
    "    name=\"google_search_agent\",\n",
    "    prompt=(\n",
    "        \"당신은 구글 검색 전문가입니다. \"\n",
    "        \"항상 google_search라는 하나의 도구만 사용하여 인터넷을 검색하세요.\"\n",
    "    )\n",
    ")  "
   ]
  },
  {
   "cell_type": "code",
   "execution_count": 38,
   "id": "6113ae10-f8a7-4a78-adf2-03d2ba8bd5db",
   "metadata": {},
   "outputs": [],
   "source": [
    "from langgraph_supervisor import create_supervisor\n",
    "\n",
    "# Create supervisor workflow\n",
    "workflow = create_supervisor(\n",
    "    [resume_parser_agent, google_search_agent, general_question_answer_agent],\n",
    "    model=llm,\n",
    "    prompt=(\n",
    "        \"당신은 여러 에이전트를 관리하는 스마트한 팀 관리자입니다. 사용자 입력을 분석하고 적절한 에이전트에게 작업을 위임하세요:\\n\"\n",
    "        \"- 입력에 파일 경로나 '이력서(resume)'가 언급되어 있다면, resume_parser_agent를 사용하세요.\\n\"\n",
    "        \"- '검색(search)'이 포함되어 있거나 온라인에서 무언가를 찾으라는 요청이 있다면, google_search_agent를 사용하세요.\\n\"\n",
    "        \"- 그 외의 모든 질문이나 요청에 대해서는 general_question_answer_agent를 사용하세요.\\n\"\n",
    "        \"사용자의 입력을 기반으로 가장 적절한 에이전트를 선택하세요.\"\n",
    "    ),\n",
    "    output_mode=\"last_message\"\n",
    ")"
   ]
  },
  {
   "cell_type": "code",
   "execution_count": 39,
   "id": "1579791f-3a18-41b1-b1d3-25b05021d2cc",
   "metadata": {},
   "outputs": [],
   "source": [
    "from langgraph.checkpoint.memory import InMemorySaver\n",
    "\n",
    "checkpointer = InMemorySaver()\n",
    "app = workflow.compile(checkpointer=checkpointer)\n",
    "config = {\"configurable\": {\"thread_id\": \"1\"}}"
   ]
  },
  {
   "cell_type": "code",
   "execution_count": 40,
   "id": "69af37b5-440f-4af8-a020-18b63f34dbc9",
   "metadata": {},
   "outputs": [
    {
     "name": "stdin",
     "output_type": "stream",
     "text": [
      "\n",
      "Enter your query (or 'exit' to quit):  JULIE MONROE의 이력서에서 주소를 알려주ㅏ\n"
     ]
    },
    {
     "name": "stderr",
     "output_type": "stream",
     "text": [
      "Task supervisor with path ('__pregel_pull', 'supervisor') wrote to unknown channel is_last_step, ignoring it.\n",
      "Task supervisor with path ('__pregel_pull', 'supervisor') wrote to unknown channel remaining_steps, ignoring it.\n"
     ]
    },
    {
     "name": "stdout",
     "output_type": "stream",
     "text": [
      "JULIE MONROE의 이력서에서 주소를 알려주ㅏ\n",
      "\n",
      "Successfully transferred to resume_parser_agent\n",
      "이력서를 파싱할 수 있도록 해당 이력서 파일을 제공해 주시기 바랍니다. (PDF 또는 DOCX 형식)\n",
      "Transferring back to supervisor\n",
      "Successfully transferred back to supervisor\n",
      "이력서에서 정보를 추출하려면 해당 이력서 파일을 제공해 주셔야 합니다. 파일을 업로드해주세요.\n"
     ]
    },
    {
     "name": "stdin",
     "output_type": "stream",
     "text": [
      "\n",
      "Enter your query (or 'exit' to quit):  D:\\ws\\2025-ksci-agent\\resume\n"
     ]
    },
    {
     "name": "stderr",
     "output_type": "stream",
     "text": [
      "Task supervisor with path ('__pregel_pull', 'supervisor') wrote to unknown channel is_last_step, ignoring it.\n",
      "Task supervisor with path ('__pregel_pull', 'supervisor') wrote to unknown channel remaining_steps, ignoring it.\n"
     ]
    },
    {
     "name": "stdout",
     "output_type": "stream",
     "text": [
      "JULIE MONROE의 이력서에서 주소를 알려주ㅏ\n",
      "\n",
      "Successfully transferred to resume_parser_agent\n",
      "이력서를 파싱할 수 있도록 해당 이력서 파일을 제공해 주시기 바랍니다. (PDF 또는 DOCX 형식)\n",
      "Transferring back to supervisor\n",
      "Successfully transferred back to supervisor\n",
      "이력서에서 정보를 추출하려면 해당 이력서 파일을 제공해 주셔야 합니다. 파일을 업로드해주세요.\n",
      "D:\\ws\\2025-ksci-agent\\resume\n",
      "\n",
      "Successfully transferred to resume_parser_agent\n",
      "제공하신 경로의 파일 형식이 지원되지 않는 것 같습니다. 이력서 파일이 PDF 또는 DOCX 형식인지 확인해주시고, 해당 형식의 파일을 업로드해 주시기 바랍니다.\n",
      "Transferring back to supervisor\n",
      "Successfully transferred back to supervisor\n",
      "이력서 파일을 PDF 또는 DOCX 형식으로 변환하거나 해당 형식으로 업로드해 주셔야 합니다. 지원하는 형식의 이력서를 제공해 주세요.\n"
     ]
    },
    {
     "name": "stdin",
     "output_type": "stream",
     "text": [
      "\n",
      "Enter your query (or 'exit' to quit):  D:\\ws\\2025-ksci-agent\\resume\\New-York-Resume-Template-Creative.pdf\n"
     ]
    },
    {
     "name": "stderr",
     "output_type": "stream",
     "text": [
      "Task supervisor with path ('__pregel_pull', 'supervisor') wrote to unknown channel is_last_step, ignoring it.\n",
      "Task supervisor with path ('__pregel_pull', 'supervisor') wrote to unknown channel remaining_steps, ignoring it.\n"
     ]
    },
    {
     "name": "stdout",
     "output_type": "stream",
     "text": [
      "JULIE MONROE의 이력서에서 주소를 알려주ㅏ\n",
      "\n",
      "Successfully transferred to resume_parser_agent\n",
      "이력서를 파싱할 수 있도록 해당 이력서 파일을 제공해 주시기 바랍니다. (PDF 또는 DOCX 형식)\n",
      "Transferring back to supervisor\n",
      "Successfully transferred back to supervisor\n",
      "이력서에서 정보를 추출하려면 해당 이력서 파일을 제공해 주셔야 합니다. 파일을 업로드해주세요.\n",
      "D:\\ws\\2025-ksci-agent\\resume\n",
      "\n",
      "Successfully transferred to resume_parser_agent\n",
      "제공하신 경로의 파일 형식이 지원되지 않는 것 같습니다. 이력서 파일이 PDF 또는 DOCX 형식인지 확인해주시고, 해당 형식의 파일을 업로드해 주시기 바랍니다.\n",
      "Transferring back to supervisor\n",
      "Successfully transferred back to supervisor\n",
      "이력서 파일을 PDF 또는 DOCX 형식으로 변환하거나 해당 형식으로 업로드해 주셔야 합니다. 지원하는 형식의 이력서를 제공해 주세요.\n",
      "D:\\ws\\2025-ksci-agent\\resume\\New-York-Resume-Template-Creative.pdf\n",
      "\n",
      "Successfully transferred to resume_parser_agent\n",
      "JULIE MONROE의 이력서에서 추출된 주소는 다음과 같습니다:\n",
      "\n",
      "**주소:**  \n",
      "1515 Pacific Ave  \n",
      "Los Angeles, CA 90291  \n",
      "United States  \n",
      "\n",
      "이외에 다른 정보가 필요하시면 말씀해 주세요!\n",
      "Transferring back to supervisor\n",
      "Successfully transferred back to supervisor\n",
      "JULIE MONROE의 이력서에서 추출된 주소는 다음과 같습니다:\n",
      "\n",
      "**주소:**  \n",
      "1515 Pacific Ave  \n",
      "Los Angeles, CA 90291  \n",
      "United States  \n",
      "\n",
      "이외에 다른 정보가 필요하시면 말씀해 주세요!\n"
     ]
    },
    {
     "name": "stdin",
     "output_type": "stream",
     "text": [
      "\n",
      "Enter your query (or 'exit' to quit):  메일 주소를 알려줘\n"
     ]
    },
    {
     "name": "stderr",
     "output_type": "stream",
     "text": [
      "Task supervisor with path ('__pregel_pull', 'supervisor') wrote to unknown channel is_last_step, ignoring it.\n",
      "Task supervisor with path ('__pregel_pull', 'supervisor') wrote to unknown channel remaining_steps, ignoring it.\n"
     ]
    },
    {
     "name": "stdout",
     "output_type": "stream",
     "text": [
      "JULIE MONROE의 이력서에서 주소를 알려주ㅏ\n",
      "\n",
      "Successfully transferred to resume_parser_agent\n",
      "이력서를 파싱할 수 있도록 해당 이력서 파일을 제공해 주시기 바랍니다. (PDF 또는 DOCX 형식)\n",
      "Transferring back to supervisor\n",
      "Successfully transferred back to supervisor\n",
      "이력서에서 정보를 추출하려면 해당 이력서 파일을 제공해 주셔야 합니다. 파일을 업로드해주세요.\n",
      "D:\\ws\\2025-ksci-agent\\resume\n",
      "\n",
      "Successfully transferred to resume_parser_agent\n",
      "제공하신 경로의 파일 형식이 지원되지 않는 것 같습니다. 이력서 파일이 PDF 또는 DOCX 형식인지 확인해주시고, 해당 형식의 파일을 업로드해 주시기 바랍니다.\n",
      "Transferring back to supervisor\n",
      "Successfully transferred back to supervisor\n",
      "이력서 파일을 PDF 또는 DOCX 형식으로 변환하거나 해당 형식으로 업로드해 주셔야 합니다. 지원하는 형식의 이력서를 제공해 주세요.\n",
      "D:\\ws\\2025-ksci-agent\\resume\\New-York-Resume-Template-Creative.pdf\n",
      "\n",
      "Successfully transferred to resume_parser_agent\n",
      "JULIE MONROE의 이력서에서 추출된 주소는 다음과 같습니다:\n",
      "\n",
      "**주소:**  \n",
      "1515 Pacific Ave  \n",
      "Los Angeles, CA 90291  \n",
      "United States  \n",
      "\n",
      "이외에 다른 정보가 필요하시면 말씀해 주세요!\n",
      "Transferring back to supervisor\n",
      "Successfully transferred back to supervisor\n",
      "JULIE MONROE의 이력서에서 추출된 주소는 다음과 같습니다:\n",
      "\n",
      "**주소:**  \n",
      "1515 Pacific Ave  \n",
      "Los Angeles, CA 90291  \n",
      "United States  \n",
      "\n",
      "이외에 다른 정보가 필요하시면 말씀해 주세요!\n",
      "메일 주소를 알려줘\n",
      "\n",
      "Successfully transferred to resume_parser_agent\n",
      "메일 주소를 제공해 주시기 바랍니다. 이력서 파일에서 정보를 추출할 수 있도록 지원합니다.\n",
      "Transferring back to supervisor\n",
      "Successfully transferred back to supervisor\n",
      "이력서에서 메일 주소를 추출할 수 없습니다. 이력서를 확인하기 위해 파일을 다시 제공해 주셔야 할 것 같습니다. 지원할 수 있는 파일 형식(PDF 또는 DOCX)으로 업로드해 주시면 감사하겠습니다.\n"
     ]
    },
    {
     "name": "stdin",
     "output_type": "stream",
     "text": [
      "\n",
      "Enter your query (or 'exit' to quit):  이력서 D:\\ws\\2025-ksci-agent\\resume\\New-York-Resume-Template-Creative.pdf 파일에서 메일주소를 알려줘\n"
     ]
    },
    {
     "name": "stderr",
     "output_type": "stream",
     "text": [
      "Task supervisor with path ('__pregel_pull', 'supervisor') wrote to unknown channel is_last_step, ignoring it.\n",
      "Task supervisor with path ('__pregel_pull', 'supervisor') wrote to unknown channel remaining_steps, ignoring it.\n"
     ]
    },
    {
     "name": "stdout",
     "output_type": "stream",
     "text": [
      "JULIE MONROE의 이력서에서 주소를 알려주ㅏ\n",
      "\n",
      "Successfully transferred to resume_parser_agent\n",
      "이력서를 파싱할 수 있도록 해당 이력서 파일을 제공해 주시기 바랍니다. (PDF 또는 DOCX 형식)\n",
      "Transferring back to supervisor\n",
      "Successfully transferred back to supervisor\n",
      "이력서에서 정보를 추출하려면 해당 이력서 파일을 제공해 주셔야 합니다. 파일을 업로드해주세요.\n",
      "D:\\ws\\2025-ksci-agent\\resume\n",
      "\n",
      "Successfully transferred to resume_parser_agent\n",
      "제공하신 경로의 파일 형식이 지원되지 않는 것 같습니다. 이력서 파일이 PDF 또는 DOCX 형식인지 확인해주시고, 해당 형식의 파일을 업로드해 주시기 바랍니다.\n",
      "Transferring back to supervisor\n",
      "Successfully transferred back to supervisor\n",
      "이력서 파일을 PDF 또는 DOCX 형식으로 변환하거나 해당 형식으로 업로드해 주셔야 합니다. 지원하는 형식의 이력서를 제공해 주세요.\n",
      "D:\\ws\\2025-ksci-agent\\resume\\New-York-Resume-Template-Creative.pdf\n",
      "\n",
      "Successfully transferred to resume_parser_agent\n",
      "JULIE MONROE의 이력서에서 추출된 주소는 다음과 같습니다:\n",
      "\n",
      "**주소:**  \n",
      "1515 Pacific Ave  \n",
      "Los Angeles, CA 90291  \n",
      "United States  \n",
      "\n",
      "이외에 다른 정보가 필요하시면 말씀해 주세요!\n",
      "Transferring back to supervisor\n",
      "Successfully transferred back to supervisor\n",
      "JULIE MONROE의 이력서에서 추출된 주소는 다음과 같습니다:\n",
      "\n",
      "**주소:**  \n",
      "1515 Pacific Ave  \n",
      "Los Angeles, CA 90291  \n",
      "United States  \n",
      "\n",
      "이외에 다른 정보가 필요하시면 말씀해 주세요!\n",
      "메일 주소를 알려줘\n",
      "\n",
      "Successfully transferred to resume_parser_agent\n",
      "메일 주소를 제공해 주시기 바랍니다. 이력서 파일에서 정보를 추출할 수 있도록 지원합니다.\n",
      "Transferring back to supervisor\n",
      "Successfully transferred back to supervisor\n",
      "이력서에서 메일 주소를 추출할 수 없습니다. 이력서를 확인하기 위해 파일을 다시 제공해 주셔야 할 것 같습니다. 지원할 수 있는 파일 형식(PDF 또는 DOCX)으로 업로드해 주시면 감사하겠습니다.\n",
      "이력서 D:\\ws\\2025-ksci-agent\\resume\\New-York-Resume-Template-Creative.pdf 파일에서 메일주소를 알려줘\n",
      "\n",
      "Successfully transferred to resume_parser_agent\n",
      "이력서에서 추출된 메일 주소는 다음과 같습니다:\n",
      "\n",
      "**메일 주소:**  \n",
      "email@email.com  \n",
      "\n",
      "다른 정보가 필요하시면 말씀해 주세요!\n",
      "Transferring back to supervisor\n",
      "Successfully transferred back to supervisor\n",
      "JULIE MONROE의 이력서에서 추출된 메일 주소는 다음과 같습니다:\n",
      "\n",
      "**메일 주소:**  \n",
      "email@email.com  \n",
      "\n",
      "이외에 다른 정보가 필요하시면 말씀해 주세요!\n"
     ]
    },
    {
     "name": "stdin",
     "output_type": "stream",
     "text": [
      "\n",
      "Enter your query (or 'exit' to quit):  2024 미국 대선 결과를 검색해서 알려줘\n"
     ]
    },
    {
     "name": "stderr",
     "output_type": "stream",
     "text": [
      "Task supervisor with path ('__pregel_pull', 'supervisor') wrote to unknown channel is_last_step, ignoring it.\n",
      "Task supervisor with path ('__pregel_pull', 'supervisor') wrote to unknown channel remaining_steps, ignoring it.\n"
     ]
    },
    {
     "name": "stdout",
     "output_type": "stream",
     "text": [
      "JULIE MONROE의 이력서에서 주소를 알려주ㅏ\n",
      "\n",
      "Successfully transferred to resume_parser_agent\n",
      "이력서를 파싱할 수 있도록 해당 이력서 파일을 제공해 주시기 바랍니다. (PDF 또는 DOCX 형식)\n",
      "Transferring back to supervisor\n",
      "Successfully transferred back to supervisor\n",
      "이력서에서 정보를 추출하려면 해당 이력서 파일을 제공해 주셔야 합니다. 파일을 업로드해주세요.\n",
      "D:\\ws\\2025-ksci-agent\\resume\n",
      "\n",
      "Successfully transferred to resume_parser_agent\n",
      "제공하신 경로의 파일 형식이 지원되지 않는 것 같습니다. 이력서 파일이 PDF 또는 DOCX 형식인지 확인해주시고, 해당 형식의 파일을 업로드해 주시기 바랍니다.\n",
      "Transferring back to supervisor\n",
      "Successfully transferred back to supervisor\n",
      "이력서 파일을 PDF 또는 DOCX 형식으로 변환하거나 해당 형식으로 업로드해 주셔야 합니다. 지원하는 형식의 이력서를 제공해 주세요.\n",
      "D:\\ws\\2025-ksci-agent\\resume\\New-York-Resume-Template-Creative.pdf\n",
      "\n",
      "Successfully transferred to resume_parser_agent\n",
      "JULIE MONROE의 이력서에서 추출된 주소는 다음과 같습니다:\n",
      "\n",
      "**주소:**  \n",
      "1515 Pacific Ave  \n",
      "Los Angeles, CA 90291  \n",
      "United States  \n",
      "\n",
      "이외에 다른 정보가 필요하시면 말씀해 주세요!\n",
      "Transferring back to supervisor\n",
      "Successfully transferred back to supervisor\n",
      "JULIE MONROE의 이력서에서 추출된 주소는 다음과 같습니다:\n",
      "\n",
      "**주소:**  \n",
      "1515 Pacific Ave  \n",
      "Los Angeles, CA 90291  \n",
      "United States  \n",
      "\n",
      "이외에 다른 정보가 필요하시면 말씀해 주세요!\n",
      "메일 주소를 알려줘\n",
      "\n",
      "Successfully transferred to resume_parser_agent\n",
      "메일 주소를 제공해 주시기 바랍니다. 이력서 파일에서 정보를 추출할 수 있도록 지원합니다.\n",
      "Transferring back to supervisor\n",
      "Successfully transferred back to supervisor\n",
      "이력서에서 메일 주소를 추출할 수 없습니다. 이력서를 확인하기 위해 파일을 다시 제공해 주셔야 할 것 같습니다. 지원할 수 있는 파일 형식(PDF 또는 DOCX)으로 업로드해 주시면 감사하겠습니다.\n",
      "이력서 D:\\ws\\2025-ksci-agent\\resume\\New-York-Resume-Template-Creative.pdf 파일에서 메일주소를 알려줘\n",
      "\n",
      "Successfully transferred to resume_parser_agent\n",
      "이력서에서 추출된 메일 주소는 다음과 같습니다:\n",
      "\n",
      "**메일 주소:**  \n",
      "email@email.com  \n",
      "\n",
      "다른 정보가 필요하시면 말씀해 주세요!\n",
      "Transferring back to supervisor\n",
      "Successfully transferred back to supervisor\n",
      "JULIE MONROE의 이력서에서 추출된 메일 주소는 다음과 같습니다:\n",
      "\n",
      "**메일 주소:**  \n",
      "email@email.com  \n",
      "\n",
      "이외에 다른 정보가 필요하시면 말씀해 주세요!\n",
      "2024 미국 대선 결과를 검색해서 알려줘\n",
      "\n",
      "Successfully transferred to google_search_agent\n",
      "2024년 미국 대선 결과에 대한 정보를 아래의 링크에서 확인하실 수 있습니다:\n",
      "\n",
      "1. [나무위키 - 2024년 미국 대통령 선거](https://namu.wiki/w/2024%EB%85%84%20%EB%AF%B8%EA%B5%AD%20%EB%8C%80%ED%86%B5%EB%A0%B9%20%EC%84%A0%EA%B1%B0)\n",
      "2. [BBC 한국어 - 2024년 미국 대선 개요](https://www.bbc.com/korean/articles/cwy9k9zz807o)\n",
      "3. [위키백과 - 2024년 미국 대통령 선거](https://ko.wikipedia.org/wiki/2024%EB%85%84_%EB%AF%B8%EA%B5%AD_%EB%8C%80%ED%86%B5%EB%A0%B9_%EC%84%A0%EA%B1%B0)\n",
      "4. [국가안보전략연구소 - 2024년 미국 대선 특별 보고서](https://www.ifans.go.kr/knda/ifans/kor/pblct/PblctView.do?csrfPreventionSalt=null&pblctDtaSn=14403&menuCl=P01&clCode=P01&koreanEngSe=KOR&pclCode=&chcodeId=&searchCondition=searchAll&searchKeyword=&pageIndex=1)\n",
      "5. [나무위키 - 2024년 미국 대통령 선거 결과 분석](https://namu.wiki/w/2024%EB%85%84%20%EB%AF%B8%EA%B5%AD%20%EB%8C%80%ED%86%B5%EB%A0%B9%20%EC%84%A0%EA%B1%B0/%EC%84%A0%EA%B1%B0%20%EA%B2%B0%EA%B3%BC%20%EB%B6%84%EC%84%9D)\n",
      "\n",
      "대선 결과에 대한 상세한 정보를 원하시면 이 링크들을 통해 확인하실 수 있습니다. 추가적으로 궁금한 사항이 있으면 말씀해 주세요!\n",
      "Transferring back to supervisor\n",
      "Successfully transferred back to supervisor\n",
      "2024년 미국 대선 결과에 대한 정보를 검색했습니다. 아래의 링크에서 확인하실 수 있습니다:\n",
      "\n",
      "1. [나무위키 - 2024년 미국 대통령 선거](https://namu.wiki/w/2024%EB%85%84%20%EB%AF%B8%EA%B5%AD%20%EB%8C%80%ED%86%B5%EB%A0%B9%20%EC%84%A0%EA%B1%B0)\n",
      "2. [BBC 한국어 - 2024년 미국 대선 개요](https://www.bbc.com/korean/articles/cwy9k9zz807o)\n",
      "3. [위키백과 - 2024년 미국 대통령 선거](https://ko.wikipedia.org/wiki/2024%EB%85%84_%EB%AF%B8%EA%B5%AD_%EB%8C%80%ED%86%B5%EB%A0%B9_%EC%84%A0%EA%B1%B0)\n",
      "4. [국가안보전략연구소 - 2024년 미국 대선 특별 보고서](https://www.ifans.go.kr/knda/ifans/kor/pblct/PblctView.do?csrfPreventionSalt=null&pblctDtaSn=14403&menuCl=P01&clCode=P01&koreanEngSe=KOR&pclCode=&chcodeId=&searchCondition=searchAll&searchKeyword=&pageIndex=1)\n",
      "5. [나무위키 - 2024년 미국 대통령 선거 결과 분석](https://namu.wiki/w/2024%EB%85%84%20%EB%AF%B8%EA%B5%AD%20%EB%8C%80%ED%86%B5%EB%A0%B9%20%EC%84%A0%EA%B1%B0/%EC%84%A0%EA%B1%B0%20%EA%B2%B0%EA%B3%BC%20%EB%B6%84%EC%84%9D)\n",
      "\n",
      "더 궁금한 사항이 있으면 말씀해 주세요!\n"
     ]
    },
    {
     "name": "stdin",
     "output_type": "stream",
     "text": [
      "\n",
      "Enter your query (or 'exit' to quit):  exit\n"
     ]
    },
    {
     "name": "stdout",
     "output_type": "stream",
     "text": [
      "Goodbye!\n"
     ]
    }
   ],
   "source": [
    "# Main interaction loop\n",
    "while True:\n",
    "    user_input = input(\"\\nEnter your query (or 'exit' to quit): \")\n",
    "\n",
    "    if user_input.lower() == 'exit':\n",
    "        print(\"Goodbye!\")\n",
    "        break\n",
    "\n",
    "    result = app.invoke({\n",
    "        \"messages\": [{\n",
    "            \"role\": \"user\",\n",
    "            \"content\": user_input\n",
    "        }]\n",
    "    }, config=config)\n",
    "\n",
    "    for m in result[\"messages\"]:\n",
    "        print(m.content)"
   ]
  },
  {
   "cell_type": "code",
   "execution_count": null,
   "id": "9e18739b-f639-4285-bde7-833914ffe3f9",
   "metadata": {},
   "outputs": [],
   "source": []
  },
  {
   "cell_type": "code",
   "execution_count": null,
   "id": "2554e515-7718-438c-9e68-5f75c7429939",
   "metadata": {},
   "outputs": [],
   "source": []
  }
 ],
 "metadata": {
  "kernelspec": {
   "display_name": "Python 3 (ipykernel)",
   "language": "python",
   "name": "python3"
  },
  "language_info": {
   "codemirror_mode": {
    "name": "ipython",
    "version": 3
   },
   "file_extension": ".py",
   "mimetype": "text/x-python",
   "name": "python",
   "nbconvert_exporter": "python",
   "pygments_lexer": "ipython3",
   "version": "3.13.4"
  }
 },
 "nbformat": 4,
 "nbformat_minor": 5
}
