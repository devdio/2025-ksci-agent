{
 "cells": [
  {
   "cell_type": "markdown",
   "id": "71a61527",
   "metadata": {},
   "source": [
    "[![Open In Colab](https://colab.research.google.com/assets/colab-badge.svg)](https://colab.research.google.com/github/devdio/2025-ksci-agent/blob/main/05-prebuilt-create-supervisor.ipynb) [![Open nbviewer](https://raw.githubusercontent.com/pinecone-io/examples/master/assets/nbviewer-shield.svg)](https://nbviewer.org/github/devdio/2025-ksci-agent/blob/main/05-prebuilt-create-supervisor.ipynb)"
   ]
  },
  {
   "cell_type": "markdown",
   "id": "8101a62b-9aea-44a4-8697-d117d234e40c",
   "metadata": {},
   "source": [
    "# `create_supervisor`함수를 사용한 멀티 에이전트"
   ]
  },
  {
   "cell_type": "markdown",
   "id": "b9d7c1bc-cffd-474f-b0d3-597ba1d0f47f",
   "metadata": {},
   "source": [
    "이전의 튜토리얼은 Supervisor 에이전트를 `create_react_agent`함수를 사용해서 구현하였다. LangGraph에서는 supervisor 패턴의 멀티 에이전트를 간편하게 구현할 수 있게 `create_supervisor` 함수를 제공합니다. 또한 Swam 패턴의 멀티에이전트 시스템 구현을 위한 [`langgraph-swarm` 라이브러리](https://github.com/langchain-ai/langgraph-swarm-py)도 제공됩니다. \n",
    "\n",
    "이번 튜토리얼에서는 이 함수를 사용하여 이전의 튜토리얼을 수정합니다."
   ]
  },
  {
   "cell_type": "markdown",
   "id": "4ac6c376-d94d-45d2-8321-823c0f4e9a97",
   "metadata": {},
   "source": [
    "## 1. 환경설정"
   ]
  },
  {
   "cell_type": "markdown",
   "id": "5e283cf7-d929-4ad1-be97-69100f1e9c4f",
   "metadata": {},
   "source": [
    "### 팩키지 설치"
   ]
  },
  {
   "cell_type": "code",
   "execution_count": 6,
   "id": "f3ba6a66-dee5-482b-8b87-29ad60f48ebd",
   "metadata": {},
   "outputs": [
    {
     "name": "stdout",
     "output_type": "stream",
     "text": [
      "Note: you may need to restart the kernel to use updated packages.\n"
     ]
    }
   ],
   "source": [
    "%pip install -qU python-dotenv langgraph langsmith langchain-openai langchain-tavily"
   ]
  },
  {
   "cell_type": "code",
   "execution_count": 1,
   "id": "af8ef691-9eaa-4d1f-9058-1212ee54c5f2",
   "metadata": {},
   "outputs": [
    {
     "name": "stdout",
     "output_type": "stream",
     "text": [
      "sk-proj-8x\n",
      "tvly-dev-G\n"
     ]
    }
   ],
   "source": [
    "# 환경 변수 확인\n",
    "from dotenv import load_dotenv\n",
    "import os\n",
    "load_dotenv(override=True)\n",
    "\n",
    "def _set_env(var: str):\n",
    "    if not os.environ.get(var):\n",
    "        os.environ[var] = getpass.getpass(f\"{var}: \")\n",
    "\n",
    "_set_env(\"OPENAI_API_KEY\")\n",
    "_set_env(\"TAVILY_API_KEY\")\n",
    "\n",
    "print(os.environ.get(\"OPENAI_API_KEY\")[:10])\n",
    "print(os.environ.get(\"TAVILY_API_KEY\")[:10])"
   ]
  },
  {
   "cell_type": "code",
   "execution_count": 3,
   "id": "66f7fbbd-fa77-4f82-99ea-780b046fab98",
   "metadata": {},
   "outputs": [
    {
     "name": "stdout",
     "output_type": "stream",
     "text": [
      "lsv2_pt_a5\n"
     ]
    }
   ],
   "source": [
    "os.environ[\"LANGCHAIN_TRACING_V2\"] = \"true\"\n",
    "os.environ[\"LANGCHAIN_PROJECT\"] = \"KSCI-Agent\"\n",
    "\n",
    "print(os.environ.get(\"LANGSMITH_API_KEY\")[:10])"
   ]
  },
  {
   "cell_type": "markdown",
   "id": "369b1773-e0a7-4587-89af-b8d3c89d78d7",
   "metadata": {},
   "source": [
    "### 메세지 프린트 함수\n",
    "그래프의 실행 결과인 메세지를 확인하기 편리하도록 함수를 준비합니다."
   ]
  },
  {
   "cell_type": "code",
   "execution_count": 4,
   "id": "b282e392-472e-4bcb-a288-748c2209eef5",
   "metadata": {},
   "outputs": [],
   "source": [
    "# hide-cell\n",
    "from langchain_core.messages import convert_to_messages\n",
    "\n",
    "\n",
    "def pretty_print_message(message, indent=False):\n",
    "    pretty_message = message.pretty_repr(html=True)\n",
    "    if not indent:\n",
    "        print(pretty_message)\n",
    "        return\n",
    "\n",
    "    indented = \"\\n\".join(\"\\t\" + c for c in pretty_message.split(\"\\n\"))\n",
    "    print(indented)\n",
    "\n",
    "\n",
    "def pretty_print_messages(update, last_message=False):\n",
    "    is_subgraph = False\n",
    "    if isinstance(update, tuple):\n",
    "        ns, update = update\n",
    "        # skip parent graph updates in the printouts\n",
    "        if len(ns) == 0:\n",
    "            return\n",
    "\n",
    "        graph_id = ns[-1].split(\":\")[0]\n",
    "        print(f\"Update from subgraph {graph_id}:\")\n",
    "        print(\"\\n\")\n",
    "        is_subgraph = True\n",
    "\n",
    "    for node_name, node_update in update.items():\n",
    "        update_label = f\"Update from node {node_name}:\"\n",
    "        if is_subgraph:\n",
    "            update_label = \"\\t\" + update_label\n",
    "\n",
    "        print(update_label)\n",
    "        print(\"\\n\")\n",
    "\n",
    "        messages = convert_to_messages(node_update[\"messages\"])\n",
    "        if last_message:\n",
    "            messages = messages[-1:]\n",
    "\n",
    "        for m in messages:\n",
    "            pretty_print_message(m, indent=is_subgraph)\n",
    "        print(\"\\n\")"
   ]
  },
  {
   "cell_type": "markdown",
   "id": "b2eb18e1-2a89-4478-b1e5-f26967e17d3f",
   "metadata": {},
   "source": [
    "## 2. 에이전트 생성"
   ]
  },
  {
   "cell_type": "markdown",
   "id": "612cc1f1-cf9f-40b0-9f31-479d88b83a82",
   "metadata": {},
   "source": [
    "먼저, 두 개의 전문 워커 에이전트인 리서치 에이전트와 수학 에이전트를 만들어보겠습니다:\n",
    "\n",
    "- 리서치 에이전트는 Tavily API를 사용한 웹 검색 도구에 접근할 수 있습니다.\n",
    "- 수학 에이전트는 더하기, 곱하기, 나누기와 같은 간단한 수학 도구에 접근할 수 있습니다."
   ]
  },
  {
   "cell_type": "markdown",
   "id": "7f4b1237-70da-4fb2-9a4d-88298182b4e1",
   "metadata": {},
   "source": [
    "### 리서치 에이전트"
   ]
  },
  {
   "cell_type": "code",
   "execution_count": 5,
   "id": "edebcc91-47d7-4ef2-b44c-2a7f0826eab9",
   "metadata": {},
   "outputs": [],
   "source": [
    "from langchain_tavily import TavilySearch\n",
    "\n",
    "web_search = TavilySearch(max_results=3)"
   ]
  },
  {
   "cell_type": "code",
   "execution_count": 6,
   "id": "65d37f29-0c54-43ef-92d7-2df61a041a77",
   "metadata": {},
   "outputs": [
    {
     "data": {
      "text/plain": [
       "'[LIVE][KBS뉴스특보] 미국 47대 대통령 도널드 트럼프 취임식/2025년 1월 21일(화)/KBS\\n\\nKBS News\\n1866 likes\\n306947 views\\n21 Jan 2025\\n미국의 47대 대통령으로 도널드 트럼프 당선인이 취임합니다. \\n\\n8년 전 취임식에서 \"미국을 다시 위대하게!\"를 외쳤던 트럼프 당선인이 4년 만에 다시 백악관으로 입성합니다.\\n\\n전세계의 이목이 쏠리고 있는 취임식 현장, KBS 뉴스 특보로 전해드립니다. \\n\\n#트럼프 #maga #취임식 #미국\\n\\nCopyright ⓒ KBS. All rights reserved. 무단 전재, 재배포 및 이용(AI 학습 포함) 금지 \\n\\n\\n▣ KBS뉴스 유튜브 구독하기 : https://goo.gl/qCWZjZ\\n▣ KBS뉴스 유튜브 커뮤니티 : https://goo.gl/6yko39\\n▣ KBS 뉴스  \\n◇ PC : http://news.kbs.co.kr    \\n◇ 모바일 : http://mn.kbs.co.kr \\n▣ 인스타그램 : https://www.instagram.com/kbsnews    \\n▣ 페이스북 : https://www.facebook.com/kbsnews  \\n▣ 트위터 : https://twitter.com/kbsnews\\n▣ 틱톡 :  https://tiktok.com/@kbsnewsofficial\\n93 comments'"
      ]
     },
     "execution_count": 6,
     "metadata": {},
     "output_type": "execute_result"
    }
   ],
   "source": [
    "web_search_results = web_search.invoke(\"2025년 미국의 대통령은 누구인가?\")\n",
    "web_search_results[\"results\"][0][\"content\"]"
   ]
  },
  {
   "cell_type": "markdown",
   "id": "5f644c78-405b-4391-adee-3d6b0e790915",
   "metadata": {},
   "source": [
    "이전의 튜토리얼과 다르게 별도의 노드(Node)를 구성하지 않고, Agent 생성만 진행한다."
   ]
  },
  {
   "cell_type": "code",
   "execution_count": 7,
   "id": "684cccdf-8ba9-46e0-853f-652fc2830716",
   "metadata": {},
   "outputs": [],
   "source": [
    "from langgraph.prebuilt import create_react_agent\n",
    "\n",
    "research_agent = create_react_agent(\n",
    "    model=\"openai:gpt-4o-mini\",\n",
    "    tools=[web_search],\n",
    "    prompt=(\n",
    "        \"당신은 리서치 에이전트입니다.\\n\\n\"\n",
    "        \"지침:\\n\"\n",
    "        \"- 오직 리서치(조사) 관련 작업만 도와야 하며, 수학 계산은 절대 하지 마세요\\n\"\n",
    "        \"- 작업이 완료되면 결과를 감독자(supervisor)에게 바로 전달하세요\\n\"\n",
    "        \"- 작업 결과만 응답하세요. 그 외의 텍스트는 절대 포함하지 마세요.\"\n",
    "\n",
    "    ),\n",
    "    name=\"research_agent\",\n",
    ")"
   ]
  },
  {
   "cell_type": "markdown",
   "id": "9e0893c3-4a98-4add-be0e-98ae99a2f891",
   "metadata": {},
   "source": [
    "### 수학 에이전트"
   ]
  },
  {
   "cell_type": "markdown",
   "id": "5799fe7f-b003-41e6-baab-bb1624ff57fb",
   "metadata": {},
   "source": [
    "노드(Node)를 구성하지 않고 Agent 생성만 진행한다."
   ]
  },
  {
   "cell_type": "code",
   "execution_count": 8,
   "id": "5525c0d4-7277-4c43-a970-68eac208b99c",
   "metadata": {},
   "outputs": [],
   "source": [
    "def add(a: float, b: float):\n",
    "    \"\"\"Add two numbers.\"\"\"\n",
    "    return a + b\n",
    "\n",
    "\n",
    "def multiply(a: float, b: float):\n",
    "    \"\"\"Multiply two numbers.\"\"\"\n",
    "    return a * b\n",
    "\n",
    "\n",
    "def divide(a: float, b: float):\n",
    "    \"\"\"Divide two numbers.\"\"\"\n",
    "    return a / b\n",
    "\n",
    "\n",
    "math_agent = create_react_agent(\n",
    "    model=\"openai:gpt-4o-mini\",\n",
    "    tools=[add, multiply, divide],\n",
    "    prompt=(\n",
    "        \"당신은 수학 에이전트입니다.\\n\\n\"\n",
    "        \"지침:\\n\"\n",
    "        \"- 오직 수학 관련 작업만 도와야 합니다\\n\"\n",
    "        \"- 작업이 완료되면 결과를 감독자(supervisor)에게 바로 전달하세요\\n\"\n",
    "        \"- 작업 결과만 응답하세요. 그 외의 텍스트는 절대 포함하지 마세요.\"\n",
    "    ),\n",
    "    name=\"math_agent\",\n",
    ")"
   ]
  },
  {
   "cell_type": "markdown",
   "id": "549ada67-d372-4420-b529-de947bfb9607",
   "metadata": {},
   "source": [
    "### 🤖 슈퍼바이저 에이전트 \n",
    "`langgraph-supervisor`라이브러리를 설치한다. 자세한 내용은 [LangGraph Multi-Agent Supervisor](https://github.com/langchain-ai/langgraph-supervisor-py) 페이지를 참고하세요."
   ]
  },
  {
   "cell_type": "code",
   "execution_count": 9,
   "id": "082e030f-f105-486a-971e-4f3ba8ed1014",
   "metadata": {},
   "outputs": [
    {
     "name": "stdout",
     "output_type": "stream",
     "text": [
      "Note: you may need to restart the kernel to use updated packages.\n"
     ]
    }
   ],
   "source": [
    "%pip install -qU langgraph-supervisor"
   ]
  },
  {
   "cell_type": "code",
   "execution_count": 10,
   "id": "d6929142-b452-4a54-bd23-c4cce0ccd3f6",
   "metadata": {},
   "outputs": [],
   "source": [
    "from langgraph_supervisor import create_supervisor\n",
    "from langchain.chat_models import init_chat_model\n",
    "\n",
    "supervisor = create_supervisor(\n",
    "    model=init_chat_model(\"openai:gpt-4o-mini\"),\n",
    "    agents=[research_agent, math_agent],    # 에이전트를 추가한다.\n",
    "    prompt=(\n",
    "        \"당신은 두 개의 전문가 에이전트를 관리하는 감독자입니다:\\n\"\n",
    "        \"- 리서치 에이전트: 리서치(조사) 관련 작업을 이 에이전트에게 할당하세요\\n\"\n",
    "        \"- 수학 에이전트: 수학 관련 작업을 이 에이전트에게 할당하세요\\n\"\n",
    "        \"한 번에 하나의 에이전트에게만 작업을 할당하고, 에이전트를 병렬로 호출하지 마세요.\\n\"\n",
    "        \"당신 스스로는 어떤 작업도 수행하지 마세요.\"\n",
    "    ),\n",
    "    # supervisor가 작업을 다음 에이전트에게 넘기기 전에, 이전 에이전트가 생성한 메시지를 명시적으로 포함\n",
    "    add_handoff_back_messages=True,\n",
    "    # 사용자 입력, supervisor 결정, 각 agent의 응답 등 모든 중간 단계를 포함한 전체 기록을 제공합니다.\n",
    "    output_mode=\"full_history\",\n",
    ").compile()"
   ]
  },
  {
   "cell_type": "code",
   "execution_count": 11,
   "id": "aa3f1229-9ee6-44c2-a14f-c01bc8b27e7a",
   "metadata": {},
   "outputs": [
    {
     "data": {
      "image/png": "[encoded data removed]",
      "text/plain": [
       "<IPython.core.display.Image object>"
      ]
     },
     "metadata": {},
     "output_type": "display_data"
    }
   ],
   "source": [
    "from IPython.display import Image, display\n",
    "\n",
    "try:\n",
    "    display(Image(supervisor.get_graph().draw_mermaid_png()))\n",
    "except Exception:\n",
    "    pass"
   ]
  },
  {
   "cell_type": "markdown",
   "id": "18e0d09b-d43f-4c9b-a540-08ef709fc330",
   "metadata": {},
   "source": [
    "## 3. 실행"
   ]
  },
  {
   "cell_type": "code",
   "execution_count": 12,
   "id": "5538e3be-b02a-494e-a9c9-644e2af6a997",
   "metadata": {},
   "outputs": [
    {
     "name": "stderr",
     "output_type": "stream",
     "text": [
      "Task supervisor with path ('__pregel_pull', 'supervisor') wrote to unknown channel is_last_step, ignoring it.\n",
      "Task supervisor with path ('__pregel_pull', 'supervisor') wrote to unknown channel remaining_steps, ignoring it.\n"
     ]
    },
    {
     "name": "stdout",
     "output_type": "stream",
     "text": [
      "Update from node supervisor:\n",
      "\n",
      "\n",
      "=================================\u001b[1m Tool Message \u001b[0m=================================\n",
      "Name: transfer_to_research_agent\n",
      "\n",
      "Successfully transferred to research_agent\n",
      "\n",
      "\n",
      "Update from node research_agent:\n",
      "\n",
      "\n",
      "=================================\u001b[1m Tool Message \u001b[0m=================================\n",
      "Name: transfer_back_to_supervisor\n",
      "\n",
      "Successfully transferred back to supervisor\n",
      "\n",
      "\n"
     ]
    },
    {
     "name": "stderr",
     "output_type": "stream",
     "text": [
      "Task supervisor with path ('__pregel_pull', 'supervisor') wrote to unknown channel is_last_step, ignoring it.\n",
      "Task supervisor with path ('__pregel_pull', 'supervisor') wrote to unknown channel remaining_steps, ignoring it.\n"
     ]
    },
    {
     "name": "stdout",
     "output_type": "stream",
     "text": [
      "Update from node supervisor:\n",
      "\n",
      "\n",
      "=================================\u001b[1m Tool Message \u001b[0m=================================\n",
      "Name: transfer_to_math_agent\n",
      "\n",
      "Successfully transferred to math_agent\n",
      "\n",
      "\n",
      "Update from node math_agent:\n",
      "\n",
      "\n",
      "=================================\u001b[1m Tool Message \u001b[0m=================================\n",
      "Name: transfer_back_to_supervisor\n",
      "\n",
      "Successfully transferred back to supervisor\n",
      "\n",
      "\n",
      "Update from node supervisor:\n",
      "\n",
      "\n",
      "==================================\u001b[1m Ai Message \u001b[0m==================================\n",
      "Name: supervisor\n",
      "\n",
      "2024년 미국 GDP는 약 29.18 조 달러이고, 뉴욕주 GDP는 약 2.297 조 달러입니다. 뉴욕주의 GDP는 미국 GDP의 약 7.87%에 해당합니다.\n",
      "\n",
      "\n"
     ]
    }
   ],
   "source": [
    "for chunk in supervisor.stream(\n",
    "    {\n",
    "        \"messages\": [\n",
    "            {\n",
    "                \"role\": \"user\",\n",
    "                \"content\": \"2024년 미국 전체 GDP와 뉴욕주의 GDP를 찾아줘.그리고 뉴욕주의 GDP가 미국 GDP의 몇 퍼센트인지 `math_agent`로 계산해줘.\",\n",
    "            }\n",
    "        ]\n",
    "    },\n",
    "):\n",
    "    pretty_print_messages(chunk, last_message=True)\n",
    "\n",
    "final_message_history = chunk[\"supervisor\"][\"messages\"]"
   ]
  },
  {
   "cell_type": "code",
   "execution_count": null,
   "id": "241b4cfe-b97d-4635-ae7b-bab2c93b2be3",
   "metadata": {},
   "outputs": [],
   "source": []
  },
  {
   "cell_type": "code",
   "execution_count": null,
   "id": "8b84dc9b-ecc3-4848-bb77-b3307498a912",
   "metadata": {},
   "outputs": [],
   "source": []
  },
  {
   "cell_type": "code",
   "execution_count": null,
   "id": "07f6138c-8a73-4cf3-bd2e-07d22cde53ac",
   "metadata": {},
   "outputs": [],
   "source": []
  }
 ],
 "metadata": {
  "kernelspec": {
   "display_name": "Python 3 (ipykernel)",
   "language": "python",
   "name": "python3"
  },
  "language_info": {
   "codemirror_mode": {
    "name": "ipython",
    "version": 3
   },
   "file_extension": ".py",
   "mimetype": "text/x-python",
   "name": "python",
   "nbconvert_exporter": "python",
   "pygments_lexer": "ipython3",
   "version": "3.12.4"
  }
 },
 "nbformat": 4,
 "nbformat_minor": 5
}
