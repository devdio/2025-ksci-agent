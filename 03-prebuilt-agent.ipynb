{
 "cells": [
  {
   "cell_type": "markdown",
   "id": "51d8c8a7-2513-4004-86ad-3eff43635252",
   "metadata": {},
   "source": [
    "# 사전 구축된 에이전트 사용"
   ]
  },
  {
   "cell_type": "markdown",
   "id": "b318eb44-6a53-48b6-9933-41d15a653ef2",
   "metadata": {},
   "source": [
    "자세한 내용은 [Start with a prebuilt agent](https://langchain-ai.github.io/langgraph/agents/agents/) 페이지를 참조"
   ]
  },
  {
   "cell_type": "markdown",
   "id": "4e788527-8cc6-4694-9167-4f5ca7737149",
   "metadata": {},
   "source": [
    "## 1. 환경설정"
   ]
  },
  {
   "cell_type": "code",
   "execution_count": 1,
   "id": "fc3ba3d4-c53a-46d2-9bf1-3bd7cf637d5a",
   "metadata": {},
   "outputs": [
    {
     "name": "stdout",
     "output_type": "stream",
     "text": [
      "sk-proj-8xZc3Ppf7BtK\n",
      "tvly-dev-GUT1o6jP4Og\n"
     ]
    }
   ],
   "source": [
    "# 환경 변수 확인\n",
    "from dotenv import load_dotenv\n",
    "import os\n",
    "load_dotenv(override=True)\n",
    "\n",
    "def _set_env(var: str):\n",
    "    if not os.environ.get(var):\n",
    "        os.environ[var] = getpass.getpass(f\"{var}: \")\n",
    "\n",
    "_set_env(\"OPENAI_API_KEY\")\n",
    "_set_env(\"TAVILY_API_KEY\")\n",
    "\n",
    "print(os.environ.get(\"OPENAI_API_KEY\")[:20])\n",
    "print(os.environ.get(\"TAVILY_API_KEY\")[:20])\n"
   ]
  },
  {
   "cell_type": "markdown",
   "id": "9e26a856-1795-4569-a5ad-defec459db4c",
   "metadata": {},
   "source": [
    "## 2. 기본 에이전트 생성"
   ]
  },
  {
   "cell_type": "markdown",
   "id": "16f554cf-2125-420c-9da3-4b0b3ddce6f0",
   "metadata": {},
   "source": [
    "### 사용자 도구 정의"
   ]
  },
  {
   "cell_type": "code",
   "execution_count": 2,
   "id": "d4d02b32-5660-4acc-be19-efeb27752182",
   "metadata": {},
   "outputs": [],
   "source": [
    "from langchain_core.tools import tool\n",
    "\n",
    "@tool\n",
    "def get_weather(city: str) -> str:  \n",
    "    \"\"\"주어진 도시의 날씨를 확인합니다.\"\"\"\n",
    "    return f\"{city}의 날씨는 항상 화창합니다!\""
   ]
  },
  {
   "cell_type": "markdown",
   "id": "07ccd1d2-410d-4f89-ae46-18fbb5717c25",
   "metadata": {},
   "source": [
    "### 에이전트 생성"
   ]
  },
  {
   "cell_type": "code",
   "execution_count": 13,
   "id": "7b941f40-b37b-4bfe-bed8-c8020d1b6b14",
   "metadata": {},
   "outputs": [],
   "source": [
    "from langgraph.prebuilt import create_react_agent\n",
    "from langchain_openai import ChatOpenAI\n",
    "\n",
    "model = ChatOpenAI(model=\"gpt-4o-mini\", temperature=0)\n",
    "agent = create_react_agent(\n",
    "    model=\"openai:gpt-4o-mini\",  \n",
    "    tools=[get_weather],  \n",
    "    prompt=\"당신은 유용한 AI 도우미입니다.\"  \n",
    ")"
   ]
  },
  {
   "cell_type": "code",
   "execution_count": 14,
   "id": "e3faac7f-19a0-4c84-9630-9a1c29c67e5c",
   "metadata": {},
   "outputs": [
    {
     "data": {
      "image/png": "[encoded data removed]",
      "text/plain": [
       "<IPython.core.display.Image object>"
      ]
     },
     "metadata": {},
     "output_type": "display_data"
    }
   ],
   "source": [
    "from IPython.display import Image, display\n",
    "\n",
    "try:\n",
    "    display(Image(agent.get_graph().draw_mermaid_png()))\n",
    "except Exception:\n",
    "    pass"
   ]
  },
  {
   "cell_type": "code",
   "execution_count": 15,
   "id": "24136f07-3463-460f-8502-251a598e132d",
   "metadata": {},
   "outputs": [
    {
     "data": {
      "text/plain": [
       "'서울의 날씨는 항상 화창합니다!'"
      ]
     },
     "execution_count": 15,
     "metadata": {},
     "output_type": "execute_result"
    }
   ],
   "source": [
    "# Run the agent\n",
    "response = agent.invoke(\n",
    "    {\"messages\": [{\"role\": \"user\", \"content\": \"서울의 날씨는 어떤가?\"}]}\n",
    ")\n",
    "\n",
    "response[\"messages\"][-1].content"
   ]
  },
  {
   "cell_type": "markdown",
   "id": "3776eb85-e830-4857-adba-521ad95fde3f",
   "metadata": {},
   "source": [
    "## 3. 구조화 된 출력"
   ]
  },
  {
   "cell_type": "code",
   "execution_count": 16,
   "id": "7433285a-e67f-458a-83a7-b171efa1fccb",
   "metadata": {},
   "outputs": [],
   "source": [
    "from pydantic import BaseModel\n",
    "from langgraph.prebuilt import create_react_agent\n",
    "\n",
    "class WeatherResponse(BaseModel):\n",
    "    conditions: str\n",
    "\n",
    "# model = ChatOpenAI(model=\"gpt-4o-mini\", temperature=0)\n",
    "agent = create_react_agent(\n",
    "    model=\"openai:gpt-4o-mini\",\n",
    "    tools=[get_weather],\n",
    "    response_format=WeatherResponse \n",
    ")"
   ]
  },
  {
   "cell_type": "code",
   "execution_count": 17,
   "id": "9744c70e-beaa-4dbc-afcc-868b23d410e6",
   "metadata": {},
   "outputs": [
    {
     "data": {
      "image/png": "[encoded data removed]",
      "text/plain": [
       "<IPython.core.display.Image object>"
      ]
     },
     "metadata": {},
     "output_type": "display_data"
    }
   ],
   "source": [
    "from IPython.display import Image, display\n",
    "\n",
    "try:\n",
    "    display(Image(agent.get_graph().draw_mermaid_png()))\n",
    "except Exception:\n",
    "    pass"
   ]
  },
  {
   "cell_type": "code",
   "execution_count": 18,
   "id": "02a0e5f5-64fe-4d99-9406-3501bb1a059b",
   "metadata": {},
   "outputs": [
    {
     "data": {
      "text/plain": [
       "{'messages': [HumanMessage(content='서울의 날씨는 어떤가?', additional_kwargs={}, response_metadata={}, id='82c457af-d4a0-43c1-ab44-8176ef1c5bf9'),\n",
       "  AIMessage(content='', additional_kwargs={'tool_calls': [{'id': 'call_hgFfAulmRAjdBAGUAak2OPvY', 'function': {'arguments': '{\"city\":\"서울\"}', 'name': 'get_weather'}, 'type': 'function'}], 'refusal': None}, response_metadata={'token_usage': {'completion_tokens': 14, 'prompt_tokens': 55, 'total_tokens': 69, 'completion_tokens_details': {'accepted_prediction_tokens': 0, 'audio_tokens': 0, 'reasoning_tokens': 0, 'rejected_prediction_tokens': 0}, 'prompt_tokens_details': {'audio_tokens': 0, 'cached_tokens': 0}}, 'model_name': 'gpt-4o-mini-2024-07-18', 'system_fingerprint': 'fp_62a23a81ef', 'id': 'chatcmpl-BqZhl1FpMcF9wOAQsd9zFL5a6b5j3', 'service_tier': 'default', 'finish_reason': 'tool_calls', 'logprobs': None}, id='run--0546bb26-247d-4b48-8d84-8bb27693e678-0', tool_calls=[{'name': 'get_weather', 'args': {'city': '서울'}, 'id': 'call_hgFfAulmRAjdBAGUAak2OPvY', 'type': 'tool_call'}], usage_metadata={'input_tokens': 55, 'output_tokens': 14, 'total_tokens': 69, 'input_token_details': {'audio': 0, 'cache_read': 0}, 'output_token_details': {'audio': 0, 'reasoning': 0}}),\n",
       "  ToolMessage(content='서울의 날씨는 항상 화창합니다!', name='get_weather', id='657cefd0-e172-4060-bce9-e5019edebfa9', tool_call_id='call_hgFfAulmRAjdBAGUAak2OPvY'),\n",
       "  AIMessage(content='서울의 날씨는 항상 화창합니다!', additional_kwargs={'refusal': None}, response_metadata={'token_usage': {'completion_tokens': 11, 'prompt_tokens': 87, 'total_tokens': 98, 'completion_tokens_details': {'accepted_prediction_tokens': 0, 'audio_tokens': 0, 'reasoning_tokens': 0, 'rejected_prediction_tokens': 0}, 'prompt_tokens_details': {'audio_tokens': 0, 'cached_tokens': 0}}, 'model_name': 'gpt-4o-mini-2024-07-18', 'system_fingerprint': 'fp_62a23a81ef', 'id': 'chatcmpl-BqZhmcIDBSUEqNhvbapXbq1FavJWn', 'service_tier': 'default', 'finish_reason': 'stop', 'logprobs': None}, id='run--f5389dab-256a-4045-a0a7-23b24ee4bf25-0', usage_metadata={'input_tokens': 87, 'output_tokens': 11, 'total_tokens': 98, 'input_token_details': {'audio': 0, 'cache_read': 0}, 'output_token_details': {'audio': 0, 'reasoning': 0}})],\n",
       " 'structured_response': WeatherResponse(conditions='서울의 날씨는 항상 화창합니다!')}"
      ]
     },
     "execution_count": 18,
     "metadata": {},
     "output_type": "execute_result"
    }
   ],
   "source": [
    "response = agent.invoke(\n",
    "    {\"messages\": [{\"role\": \"user\", \"content\": \"서울의 날씨는 어떤가?\"}]}\n",
    ")\n",
    "\n",
    "# response[\"structured_response\"]\n",
    "response"
   ]
  },
  {
   "cell_type": "code",
   "execution_count": null,
   "id": "a9202212-acd9-4bb8-898d-4391a2301957",
   "metadata": {},
   "outputs": [],
   "source": []
  }
 ],
 "metadata": {
  "kernelspec": {
   "display_name": "Python 3 (ipykernel)",
   "language": "python",
   "name": "python3"
  },
  "language_info": {
   "codemirror_mode": {
    "name": "ipython",
    "version": 3
   },
   "file_extension": ".py",
   "mimetype": "text/x-python",
   "name": "python",
   "nbconvert_exporter": "python",
   "pygments_lexer": "ipython3",
   "version": "3.12.4"
  }
 },
 "nbformat": 4,
 "nbformat_minor": 5
}
