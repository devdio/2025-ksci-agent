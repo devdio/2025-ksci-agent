{
 "cells": [
  {
   "cell_type": "markdown",
   "id": "9da0899a-a8ae-4428-a751-096bf52597b7",
   "metadata": {},
   "source": [
    "# 멀티 에이전트 만들기"
   ]
  },
  {
   "cell_type": "markdown",
   "id": "61adebeb-edbf-436f-a9e4-171bc25a143c",
   "metadata": {},
   "source": [
    "이 튜토리얼에서는 애플리케이션을 더 작고 독립적인 에이전트로 분할합니다.   \n",
    "이러한 접근 방식은 모듈성, 전문성, 그리고 제어 기능을 제공합니다. 개별 에이전트를 개별적으로 처리하고, 전문가 에이전트를 생성하고, 에이전트 간의 통신 방식을 제어할 수 있습니다."
   ]
  },
  {
   "cell_type": "markdown",
   "id": "c1ef5854-192d-4908-b28e-84c3f8980cc6",
   "metadata": {},
   "source": [
    "지금부터는 LangGraph를 사용하여 완전한 멀티 에이전트 시스템을 처음부터 구축하는 방법을 알아보겠습니다.   \n",
    "이번 튜토리얼에서는 슈퍼바이저 에이전트 패턴의 멀티 에이전트 구조를 만들어 보겠습니다. 각 에이전트는 고유한 도구 세트를 가지고 있습니다."
   ]
  },
  {
   "cell_type": "markdown",
   "id": "0ab303b2-0360-44d4-a72a-2cab2a606f5e",
   "metadata": {},
   "source": [
    "<img src=\"statics/supervisor.png\" />"
   ]
  },
  {
   "cell_type": "markdown",
   "id": "893d38f9-711f-49ff-9d79-878a4f5faa41",
   "metadata": {},
   "source": [
    "## 1. 환경설정"
   ]
  },
  {
   "cell_type": "code",
   "execution_count": 1,
   "id": "0feddccb-094c-4647-9d63-6d4bfb44d3ee",
   "metadata": {},
   "outputs": [
    {
     "name": "stdout",
     "output_type": "stream",
     "text": [
      "Note: you may need to restart the kernel to use updated packages.\n"
     ]
    }
   ],
   "source": [
    "%pip install -qU langgraph langchain_community langchain_openai langchain_experimental langchain-chroma pypdf "
   ]
  },
  {
   "cell_type": "code",
   "execution_count": 83,
   "id": "247c4d04-88d4-4ddd-8469-536e91c0149e",
   "metadata": {},
   "outputs": [],
   "source": [
    "# 환경 변수 확인\n",
    "from dotenv import load_dotenv\n",
    "import os\n",
    "load_dotenv(override=True)\n",
    "\n",
    "def _set_env(var: str):\n",
    "    if not os.environ.get(var):\n",
    "        os.environ[var] = getpass.getpass(f\"{var}: \")\n",
    "\n",
    "_set_env(\"OPENAI_API_KEY\")\n",
    "_set_env(\"TAVILY_API_KEY\")\n",
    "\n",
    "print(os.environ.get(\"OPENAI_API_KEY\")[:20])\n",
    "print(os.environ.get(\"TAVILY_API_KEY\")[:20])"
   ]
  },
  {
   "cell_type": "markdown",
   "id": "0e0436a9-38de-44ba-a9c8-a8f1e51deb03",
   "metadata": {},
   "source": [
    "## 2. LLM 선택"
   ]
  },
  {
   "cell_type": "code",
   "execution_count": 84,
   "id": "c719eef3-a3b2-47c5-ab24-6c1bec654938",
   "metadata": {},
   "outputs": [],
   "source": [
    "from langchain_openai import ChatOpenAI\n",
    "\n",
    "llm = ChatOpenAI(model_name=\"gpt-4o-mini\")"
   ]
  },
  {
   "cell_type": "markdown",
   "id": "7a5e24e6-72ac-4901-ba0d-b43ba0796b98",
   "metadata": {},
   "source": [
    "## 3. 웹검색 도구"
   ]
  },
  {
   "cell_type": "code",
   "execution_count": 85,
   "id": "7129fe96-aa6f-4c9e-9951-ec648b8c2829",
   "metadata": {},
   "outputs": [],
   "source": [
    "# %pip install -qU langchain-tavily"
   ]
  },
  {
   "cell_type": "code",
   "execution_count": 86,
   "id": "11d7ffef-5c61-45d1-bb94-1352c5fc0ec8",
   "metadata": {},
   "outputs": [],
   "source": [
    "from langchain_tavily import TavilySearch\n",
    "\n",
    "web_search_tool = TavilySearch(max_results=2)"
   ]
  },
  {
   "cell_type": "code",
   "execution_count": 87,
   "id": "52d0edd9-263c-45bd-9954-f69745fe26c8",
   "metadata": {},
   "outputs": [
    {
     "data": {
      "text/plain": [
       "{'query': '2024 윔블던 테니스 남자 단식 우승자는 누구?',\n",
       " 'follow_up_questions': None,\n",
       " 'answer': None,\n",
       " 'images': [],\n",
       " 'results': [{'url': 'https://m.blog.naver.com/womant30/223512854345',\n",
       "   'title': '윔블던_2024_남자단식_우승자 #카를로스_알카라스 - 네이버 블로그',\n",
       "   'content': '(서울=연합뉴스) 김동찬 기자 = 카를로스 알카라스(3위·스페인)가 윔블던 테니스 대회(총상금 5천만 파운드·약 875억원) 남자 단식 2연패를 달성했다.',\n",
       "   'score': 0.93309647,\n",
       "   'raw_content': None},\n",
       "  {'url': 'https://blog.naver.com/choimy84/223508998381?viewType=pc',\n",
       "   'title': '2024 윔블던 테니스대회 승자는 과연 누구. 4대 메이저 대회와 윔블던',\n",
       "   'content': '남자 단식 우승은 알카라스가 차지하면서 지난대회에 이어 윔블던 2연패의 기록을 세웠습니다. 테니스 그랜드슬램은 테니스에서 가장 권위 있는 네 개의',\n",
       "   'score': 0.9257218,\n",
       "   'raw_content': None}],\n",
       " 'response_time': 0.97}"
      ]
     },
     "execution_count": 87,
     "metadata": {},
     "output_type": "execute_result"
    }
   ],
   "source": [
    "# 테스트\n",
    "\n",
    "web_search_tool.invoke({\"query\": \"2024 윔블던 테니스 남자 단식 우승자는 누구?\"})"
   ]
  },
  {
   "cell_type": "markdown",
   "id": "8c949b00-b2b6-45c6-aac9-4fd918009c1e",
   "metadata": {},
   "source": [
    "## 4. Agentic RAG 도구"
   ]
  },
  {
   "cell_type": "markdown",
   "id": "096776ef-a933-432c-b0d5-9c766d4e516b",
   "metadata": {},
   "source": [
    "### LOAD"
   ]
  },
  {
   "cell_type": "code",
   "execution_count": 88,
   "id": "ce4fccb9-df09-4fa2-9be9-51eacc7a0627",
   "metadata": {},
   "outputs": [
    {
     "name": "stdout",
     "output_type": "stream",
     "text": [
      "Loaded 28 documents from the folder.\n"
     ]
    }
   ],
   "source": [
    "from langchain_community.document_loaders import PyPDFLoader, Docx2txtLoader\n",
    "from langchain_core.documents import Document\n",
    "\n",
    "def load_documents(folder_path: str) -> list[Document]:\n",
    "    documents = []\n",
    "    for filename in os.listdir(folder_path):\n",
    "        file_path = os.path.join(folder_path, filename)\n",
    "        if filename.endswith('.pdf'):\n",
    "            loader = PyPDFLoader(file_path)\n",
    "        elif filename.endswith('.docx'):\n",
    "            loader = Docx2txtLoader(file_path)\n",
    "        else:\n",
    "            print(f\"Unsupported file type: {filename}\")\n",
    "            continue\n",
    "        documents.extend(loader.load())\n",
    "    return documents\n",
    "\n",
    "folder_path = \"./docs\"\n",
    "documents = load_documents(folder_path)\n",
    "print(f\"Loaded {len(documents)} documents from the folder.\")"
   ]
  },
  {
   "cell_type": "markdown",
   "id": "fba2b2ba-8c47-47fc-86c5-12f04ee2ef3c",
   "metadata": {},
   "source": [
    "### SPLIT"
   ]
  },
  {
   "cell_type": "code",
   "execution_count": 89,
   "id": "f459cc4a-080c-4d17-b174-3246fd305be1",
   "metadata": {},
   "outputs": [
    {
     "name": "stdout",
     "output_type": "stream",
     "text": [
      "Split the documents into 71 chunks.\n"
     ]
    }
   ],
   "source": [
    "from langchain_text_splitters import RecursiveCharacterTextSplitter\n",
    "\n",
    "text_splitter = RecursiveCharacterTextSplitter(\n",
    "     chunk_size=1000,\n",
    "     chunk_overlap=200,\n",
    "     length_function=len\n",
    " )\n",
    "\n",
    "splits = text_splitter.split_documents(documents)\n",
    "print(f\"Split the documents into {len(splits)} chunks.\")"
   ]
  },
  {
   "cell_type": "markdown",
   "id": "251771cd-603e-4b56-a128-fdaad91c7c22",
   "metadata": {},
   "source": [
    "### EMBED"
   ]
  },
  {
   "cell_type": "code",
   "execution_count": 90,
   "id": "d371ed72-8681-4938-b4ba-2f25c86aace3",
   "metadata": {},
   "outputs": [],
   "source": [
    "from langchain_openai import OpenAIEmbeddings\n",
    "\n",
    "embeddings = OpenAIEmbeddings(\n",
    "    model=\"text-embedding-3-small\",\n",
    ")"
   ]
  },
  {
   "cell_type": "code",
   "execution_count": 91,
   "id": "25557d81-1c43-4e4f-9593-9990641307b8",
   "metadata": {},
   "outputs": [],
   "source": [
    "# from langchain_chroma import Chroma\n",
    "\n",
    "# collection_name = \"my_collection\"\n",
    "# vectorstore = Chroma.from_documents(\n",
    "#     collection_name=collection_name,\n",
    "#     documents=splits,\n",
    "#     embedding=embeddings,\n",
    "#     persist_directory=\"./chroma_db\"\n",
    "# )"
   ]
  },
  {
   "cell_type": "markdown",
   "id": "40741e7f-1fdb-4a60-bb72-310ec38018ae",
   "metadata": {},
   "source": [
    "### STORE"
   ]
  },
  {
   "cell_type": "code",
   "execution_count": 92,
   "id": "131bc52f-28f9-4563-aed4-89fc1b098c78",
   "metadata": {},
   "outputs": [],
   "source": [
    "# %pip install -qU faiss-cpu"
   ]
  },
  {
   "cell_type": "code",
   "execution_count": 93,
   "id": "2a8ac1bc-9d46-4157-a0c5-190246e572c9",
   "metadata": {},
   "outputs": [],
   "source": [
    "from langchain_community.vectorstores import FAISS\n",
    "\n",
    "vectorstore = FAISS.from_documents(documents=splits, \n",
    "                                   embedding=embeddings)"
   ]
  },
  {
   "cell_type": "markdown",
   "id": "bc1ac6a4-a94a-4af6-b28c-514045745262",
   "metadata": {},
   "source": [
    "### RETRIEVAL and TOOL"
   ]
  },
  {
   "cell_type": "code",
   "execution_count": 94,
   "id": "c4dfdb4c-303a-4efa-98bc-dd95a53c50df",
   "metadata": {},
   "outputs": [],
   "source": [
    "from langchain.tools import tool\n",
    "from pydantic import BaseModel\n",
    "\n",
    "class RagToolSchema(BaseModel):\n",
    "    question: str\n",
    "\n",
    "@tool(args_schema=RagToolSchema)\n",
    "def retriever_tool(question):\n",
    "    \"\"\"사용자 질문에 답하기 위해 의미적으로 유사한 내용을 AI브리프 문서에서 검색하는 도구\"\"\"\n",
    "    print(\"===== RETRIEVER =====\")\n",
    "    retriever = vectorstore.as_retriever(search_kwargs={\"k\": 2})\n",
    "    retriever_results = retriever.invoke(question)\n",
    "    return \"\\n\\n\".join(doc.page_content for doc in retriever_results)"
   ]
  },
  {
   "cell_type": "code",
   "execution_count": 95,
   "id": "356f08e1-d998-4ee0-893d-016c4b9d4072",
   "metadata": {},
   "outputs": [
    {
     "name": "stdout",
     "output_type": "stream",
     "text": [
      "===== RETRIEVER =====\n"
     ]
    },
    {
     "data": {
      "text/plain": [
       "\"KEY Contents\\n£벌컨, 물품에 접촉하는 지점과 압력을 인식해 좁은 공간에서 물품 이동 능력 제고n아마존(Amazon)이 2025년 5월 7일 로봇공학과 엔지니어링, 피지컬 AI 분야의 핵심 기술을 활용해 제작된 물류 로봇 ‘벌컨(Vulcan)’을 공개∙이전까지는 산업용 로봇에 예상치 않은 접촉이 있으면 비상 정지하거나 접촉을 아예 감지하지 못하는 경우가 일반적이었으나, 벌컨은 촉각 기능을 갖춘 최초의 로봇이라는 점에서 기존 로봇과 차별화∙벌컨에는 처리 가능한 품목과 불가능한 품목을 식별하는 알고리즘과 같은 피지컬 AI 기술이 적용되었으며, 수천 가지 물품을 다루는 실제 사례로 훈련을 진행n아마존 물류센터는 약 0.093제곱미터 크기의 칸에 최대 10개의 상품을 보관하는데, 좁은 공간에서 물품을 잡기가 어려운 기존 산업용 로봇과 달리, 벌컨은 로봇 팔 끝에 부착된 장치(EOAT*)를 통해 물품에 접촉하는 지점과 가해지는 압력을 인식해 손상 없이 물품을 이동 가능   * End of Arm Tooling: 벌컨의 EoAT는 물품을 밀어내는 장치와 집게, 압력 피드백 센서 등으로 구성∙벌컨에 탑재된 집게 장치는 압력 피드백 센서를 바탕으로 물체의 크기와 모양에 따라 그립 강도를 조절할 수 있으며, 카메라로 수납공간을 확인해 물체를 가장 잘 잡을 수 있는 위치를 파악∙벌컨은 물류센터에 보관되는 모든 종류의 품목 중 약 75%를 픽업하고 적재할 수 있고 물품 픽업이 불가능한 경우 직원에게 도움을 청할 수 있으며, 현장 직원과 비슷한 속도로 작업을 진행∙아마존은 미국 워싱턴주와 독일 함부르크의 물류센터에 벌컨을 도입해 직원 안전과 인체공학을 개선하고 있으며, 향후 몇 년간 유럽과 미국 전역의 물류 현장에 벌컨 시스템을 구축할 계획이라고 설명\\n <아마존의 물류 로봇 ‘벌컨’의 도입 현장>\\n출처 | Amazon, Introducing Vulcan: Amazon's first robot with a sense of touch, 2025.05.07.\\n\\n정책･법제기업･산업기술･연구인력･교육\\n9\\n아마존, 촉각 기능을 갖춘 물류 로봇 ‘벌컨’ 공개n아마존이 처리 가능한 품목을 식별하는 알고리즘이 적용되고 물체의 크기와 모양에 따라 그립 강도를 조절할 수 있는 물류 로봇 ‘벌컨’을 공개n아마존은 미국과 독일의 물류센터에 벌컨을 도입해 직원의 육체적 부담을 줄이고 안전을 개선하고 있으며, 향후 몇 년간 유럽과 미국 전역의 물류센터에 벌컨을 도입할 계획\\nKEY Contents\""
      ]
     },
     "execution_count": 95,
     "metadata": {},
     "output_type": "execute_result"
    }
   ],
   "source": [
    "### 테스트\n",
    "\n",
    "retriever_tool.invoke(\"아마존에서 개발한 로봇의 이름은\")\n"
   ]
  },
  {
   "cell_type": "markdown",
   "id": "2b6bcedb-6c2e-4ec6-b0e8-e785e6c5c580",
   "metadata": {},
   "source": [
    "## 5. SQL 도구"
   ]
  },
  {
   "cell_type": "markdown",
   "id": "e6d8502a-bb69-4624-aa06-e15b4f8738f2",
   "metadata": {},
   "source": [
    "### DB 로드\n",
    "\n",
    "DATABASE(Chinook, 쉬누크) 다운로드 사이트 : https://www.sqlitetutorial.net/sqlite-sample-database/"
   ]
  },
  {
   "cell_type": "code",
   "execution_count": 96,
   "id": "40f280b0-c20b-4f7d-b073-3208ed6c545a",
   "metadata": {},
   "outputs": [
    {
     "name": "stdout",
     "output_type": "stream",
     "text": [
      "Dialect: sqlite\n",
      "Available tables: ['Album', 'Artist', 'Customer', 'Employee', 'Genre', 'Invoice', 'InvoiceLine', 'MediaType', 'Playlist', 'PlaylistTrack', 'Track']\n",
      "Sample output: [(1, 'AC/DC'), (2, 'Accept'), (3, 'Aerosmith'), (4, 'Alanis Morissette'), (5, 'Alice In Chains')]\n"
     ]
    }
   ],
   "source": [
    "from langchain_community.utilities import SQLDatabase\n",
    "\n",
    "# chinook.db 디지털 음악 상점\n",
    "db = SQLDatabase.from_uri(\"sqlite:///./db/Chinook.db\")\n",
    "\n",
    "print(f\"Dialect: {db.dialect}\")\n",
    "print(f\"Available tables: {db.get_usable_table_names()}\")\n",
    "print(f'Sample output: {db.run(\"SELECT * FROM Artist LIMIT 5;\")}') \n"
   ]
  },
  {
   "cell_type": "markdown",
   "id": "3f8970ed-cb1d-4afa-999d-f83e9479d83e",
   "metadata": {},
   "source": [
    "### SQL 관련 도구 확인"
   ]
  },
  {
   "cell_type": "code",
   "execution_count": 97,
   "id": "f3a5d124-7196-47e0-ba15-ed290d4b0974",
   "metadata": {},
   "outputs": [
    {
     "name": "stdout",
     "output_type": "stream",
     "text": [
      "sql_db_query: Input to this tool is a detailed and correct SQL query, output is a result from the database. If the query is not correct, an error message will be returned. If an error is returned, rewrite the query, check the query, and try again. If you encounter an issue with Unknown column 'xxxx' in 'field list', use sql_db_schema to query the correct table fields.\n",
      "\n",
      "sql_db_schema: Input to this tool is a comma-separated list of tables, output is the schema and sample rows for those tables. Be sure that the tables actually exist by calling sql_db_list_tables first! Example Input: table1, table2, table3\n",
      "\n",
      "sql_db_list_tables: Input is an empty string, output is a comma-separated list of tables in the database.\n",
      "\n",
      "sql_db_query_checker: Use this tool to double check if your query is correct before executing it. Always use this tool before executing a query with sql_db_query!\n",
      "\n"
     ]
    }
   ],
   "source": [
    "from langchain_community.agent_toolkits import SQLDatabaseToolkit\n",
    "\n",
    "toolkit = SQLDatabaseToolkit(db=db, llm=llm)\n",
    "\n",
    "sql_tools = toolkit.get_tools()\n",
    "\n",
    "for tool in sql_tools:\n",
    "    print(f\"{tool.name}: {tool.description}\\n\")"
   ]
  },
  {
   "cell_type": "markdown",
   "id": "c113ab24-9c6f-4069-8330-bf93c90ed095",
   "metadata": {},
   "source": [
    "## 6. 개별 에이전트 생성"
   ]
  },
  {
   "cell_type": "markdown",
   "id": "686bcc2d-bf3d-4a8b-b05e-0148f0c6112a",
   "metadata": {},
   "source": [
    "### Web Search 에이전트"
   ]
  },
  {
   "cell_type": "code",
   "execution_count": 98,
   "id": "ce5e0162-0bb0-4a62-9e83-6c9c330661c5",
   "metadata": {},
   "outputs": [],
   "source": [
    "from langgraph.prebuilt import create_react_agent\n",
    "from langgraph.graph import MessagesState\n",
    "from langgraph.types import Command\n",
    "from langgraph.graph import StateGraph\n",
    "from langgraph.prebuilt.tool_node import ToolNode\n",
    "from langgraph.prebuilt import tools_condition\n",
    "from typing import Annotated, TypedDict, Literal, Sequence\n",
    "\n",
    "def websearch_node(state: MessagesState) -> Command[Literal[\"supervisor\"]]:\n",
    "    websearch_agent = create_react_agent(\n",
    "        llm,\n",
    "        [web_search_tool],\n",
    "        prompt=\"당신은 사용자의 질문에 답변하기 위해서 웹 검색을 진행하는 에이전트입니다.\",\n",
    "    )\n",
    "    \n",
    "    result = websearch_agent.invoke(state)\n",
    "    return Command(\n",
    "        update={\n",
    "            \"messages\": [\n",
    "                HumanMessage(content=result[\"messages\"][-1].content, name=\"web_researcher\")\n",
    "            ]\n",
    "        },\n",
    "        goto=\"supervisor\",\n",
    "    )"
   ]
  },
  {
   "cell_type": "code",
   "execution_count": 99,
   "id": "72f2a3ef-27f7-419e-ab4e-56f5d7bac254",
   "metadata": {},
   "outputs": [
    {
     "name": "stdout",
     "output_type": "stream",
     "text": [
      "🔍 웹 리서치 결과:\n",
      "[web_researcher] ChatGPT는 OpenAI에서 개발한 대화형 인공지능 모델로, 자연어 처리 기술을 이용하여 인간과의 대화를 이해하고 생성하는 시스템입니다. 이 모델은 광범위한 데이터를 기반으로 훈련되어 있으며, 다양한 주제에 대해 질문에 답변하거나 정보를 제공할 수 있습니다. ChatGPT는 사용자와의 상호작용을 통해 학습하며, 자연스러운 대화를 지원합니다.\n",
      "다음 이동: supervisor\n"
     ]
    }
   ],
   "source": [
    "from langchain_core.messages import BaseMessage, SystemMessage, HumanMessage\n",
    "\n",
    "# 테스트용 입력 생성\n",
    "initial_state = MessagesState(messages=[\n",
    "    HumanMessage(content=\"ChatGPT가 무엇인가요?\", name=\"user\")\n",
    "])\n",
    "\n",
    "# 5. 함수 호출 및 결과 확인\n",
    "result = web_research_node(initial_state)\n",
    "\n",
    "# 6. 출력 보기\n",
    "print(\"🔍 웹 리서치 결과:\")\n",
    "for msg in result.update[\"messages\"]:\n",
    "    print(f\"[{msg.name}] {msg.content}\")\n",
    "print(f\"다음 이동: {result.goto}\")"
   ]
  },
  {
   "cell_type": "markdown",
   "id": "35d59a2b-220e-4bd9-8766-5d4e19e1cece",
   "metadata": {},
   "source": [
    "### RAG 에이전트"
   ]
  },
  {
   "cell_type": "code",
   "execution_count": 100,
   "id": "17334dd8-115f-4944-97e6-887b317370d9",
   "metadata": {},
   "outputs": [],
   "source": [
    "from langchain_core.messages import HumanMessage, SystemMessage\n",
    "\n",
    "def rag_node(state: MessagesState) -> Command[Literal[\"supervisor\"]]:\n",
    "    rag_agent = create_react_agent(\n",
    "        llm,\n",
    "        [retriever_tool],\n",
    "        prompt=\"당신은 문서와 관련된 사용자 질문에 답변하기 위해 의미적으로 유사한 문서를 검색하는 에이전트입니다.\",\n",
    "    )\n",
    "    \n",
    "    result = rag_agent.invoke(state)\n",
    "    return Command(\n",
    "        update={\n",
    "            \"messages\": [\n",
    "                HumanMessage(content=result[\"messages\"][-1].content, name=\"rag\")\n",
    "            ]\n",
    "        },\n",
    "        goto=\"supervisor\",\n",
    "    )\n"
   ]
  },
  {
   "cell_type": "code",
   "execution_count": 101,
   "id": "629abaa9-0f20-415f-af65-d83ade3f23ba",
   "metadata": {},
   "outputs": [
    {
     "name": "stdout",
     "output_type": "stream",
     "text": [
      "===== RETRIEVER =====\n",
      "🔍 웹 리서치 결과:\n",
      "[rag] 아마존에서 개발한 로봇은 '벌컨(Vulcan)'입니다. 이 로봇은 2025년 5월 7일 공개되었으며, 물품에 접촉하는 지점과 압력을 인식하여 좁은 공간에서 물품 이동 능력을 향상시키는 기능을 가지고 있습니다. 벌컨은 촉각 기능을 갖춘 최초의 로봇으로, 처리 가능한 품목과 불가능한 품목을 식별하는 알고리즘이 적용되어 있습니다.\n",
      "\n",
      "벌컨은 로봇 팔 끝에 부착된 장치를 통해 물품에 접촉하는 지점과 가해지는 압력을 인식하여, 손상 없이 물품을 이동할 수 있는 능력을 가지고 있습니다. 이 로봇은 물류센터에 보관되는 모든 종류의 품목 중 약 75%를 픽업하고 적재할 수 있으며, 물품 픽업이 불가능한 경우에는 직원에게 도움을 요청할 수 있습니다.\n",
      "\n",
      "아마존은 이미 미국 워싱턴주와 독일 함부르크의 물류센터에 벌컨을 도입하여 직원 안전과 인체공학을 개선하고 있으며, 향후 몇 년간 유럽과 미국 전역의 물류 현장에 벌컨 시스템을 구축할 계획입니다.\n",
      "다음 이동: supervisor\n"
     ]
    }
   ],
   "source": [
    "## 테스트 \n",
    "\n",
    "# 테스트용 입력 생성\n",
    "initial_state = MessagesState(messages=[\n",
    "    HumanMessage(content=\"아마존에서 개발한 로봇은 무엇인가?\", name=\"user\")\n",
    "])\n",
    "\n",
    "# 함수 호출 및 결과 확인\n",
    "result = rag_node(initial_state)\n",
    "\n",
    "# 6. 출력 보기\n",
    "print(\"🔍 웹 리서치 결과:\")\n",
    "for msg in result.update[\"messages\"]:\n",
    "    print(f\"[{msg.name}] {msg.content}\")\n",
    "print(f\"다음 이동: {result.goto}\")\n"
   ]
  },
  {
   "cell_type": "markdown",
   "id": "30169d64-dae5-462d-8980-dba183980902",
   "metadata": {},
   "source": [
    "### SQL 에이전트"
   ]
  },
  {
   "cell_type": "code",
   "execution_count": 106,
   "id": "6803e2f5-3641-436b-a55d-26b4c540b04d",
   "metadata": {},
   "outputs": [],
   "source": [
    "from langgraph.prebuilt import create_react_agent\n",
    "\n",
    "system_prompt = \"\"\"\n",
    "당신은 SQL 데이터베이스와 상호작용하도록 설계된 에이전트입니다.  \n",
    "입력 질문을 받으면, 실행할 문법적으로 올바른 {dialect} 쿼리를 생성한 다음,  \n",
    "쿼리 결과를 확인하고 답변을 반환하세요.  \n",
    "사용자가 원하는 예제 수를 명시하지 않는 한, 쿼리 결과는 항상 최대 {top_k}개로 제한하세요.\n",
    "\n",
    "결과는 데이터베이스에서 가장 흥미로운 예제를 반환할 수 있도록 관련 열로 정렬할 수 있습니다.  \n",
    "특정 테이블에서 모든 열을 조회하지 마시고, 질문에 관련된 열만 요청하세요.\n",
    "\n",
    "쿼리를 실행하기 전에 반드시 두 번 확인하세요.  \n",
    "쿼리를 실행하는 도중 오류가 발생하면, 쿼리를 다시 작성해서 재시도하세요.\n",
    "\n",
    "데이터베이스에 DML 문(INSERT, UPDATE, DELETE, DROP 등)을 절대로 실행하지 마세요.\n",
    "\n",
    "처음에는 반드시 데이터베이스의 테이블을 확인하여 어떤 항목을 조회할 수 있는지 파악하세요.  \n",
    "이 단계를 건너뛰지 마세요.\n",
    "\n",
    "그 다음으로는 가장 관련 있는 테이블의 스키마를 조회하세요.\n",
    "\"\"\".format(\n",
    "    dialect=db.dialect,\n",
    "    top_k=5,\n",
    ")\n"
   ]
  },
  {
   "cell_type": "code",
   "execution_count": 107,
   "id": "f89ff356-f4fa-4b60-9eca-38beab98ce97",
   "metadata": {},
   "outputs": [],
   "source": [
    "def sql_node(state: MessagesState) -> Command[Literal[\"supervisor\"]]:\n",
    "    sql_agent = create_react_agent(\n",
    "        llm,\n",
    "        sql_tools,\n",
    "        prompt=system_prompt,\n",
    "    )\n",
    "    \n",
    "    result = sql_agent.invoke(state)\n",
    "    return Command(\n",
    "        update={\n",
    "            \"messages\": [\n",
    "                HumanMessage(content=result[\"messages\"][-1].content, name=\"rag\")\n",
    "            ]\n",
    "        },\n",
    "        goto=\"supervisor\",\n",
    "    )"
   ]
  },
  {
   "cell_type": "code",
   "execution_count": 108,
   "id": "226affe4-5688-42cf-b74b-e260a06cc92f",
   "metadata": {},
   "outputs": [
    {
     "name": "stdout",
     "output_type": "stream",
     "text": [
      "🔍 DB 쿼리 결과:\n",
      "[rag] 2009년에 판매 실적이 가장 높았던 영업 사원은 **Nancy Edwards**로, 총 판매 금액은 **24.75**입니다.\n",
      "다음 이동: supervisor\n"
     ]
    }
   ],
   "source": [
    "## 테스트 \n",
    "\n",
    "# 테스트용 입력 생성\n",
    "initial_state = MessagesState(messages=[\n",
    "    HumanMessage(content=\"2009년에 판매 실적이 가장 높았던 영업 사원은 누구인가요?\", name=\"user\")\n",
    "])\n",
    "\n",
    "# 함수 호출 및 결과 확인\n",
    "result = sql_node(initial_state)\n",
    "\n",
    "# 6. 출력 보기\n",
    "print(\"🔍 DB 쿼리 결과:\")\n",
    "for msg in result.update[\"messages\"]:\n",
    "    print(f\"[{msg.name}] {msg.content}\")\n",
    "print(f\"다음 이동: {result.goto}\")"
   ]
  },
  {
   "cell_type": "markdown",
   "id": "cda6e7d7-570b-4419-b95c-ccd959f1539c",
   "metadata": {},
   "source": [
    "## 7. 감독자 에이전트 생성"
   ]
  },
  {
   "cell_type": "markdown",
   "id": "8a1568f1-0644-429d-8164-848c9482420c",
   "metadata": {},
   "source": [
    "감독 에이전트는 여러 전문 에이전트 간의 대화 흐름을 관리합니다. 현재 요청을 어떤 에이전트가 처리해야 하는지, 그리고 작업 완료 시점을 결정합니다. 이를 구현하는 방법을 살펴보겠습니다."
   ]
  },
  {
   "cell_type": "code",
   "execution_count": 134,
   "id": "4c7fcda6-f469-4ba6-b64d-4165d2a861cc",
   "metadata": {},
   "outputs": [],
   "source": [
    "from pydantic import BaseModel, Field\n",
    "\n",
    "class Router(BaseModel):\n",
    "    next: Literal[\"websearch_agent\", \"sql_agent\", \"rag_agent\", \"FINISH\", \"__end__\"] = Field(\n",
    "        description=\"워크플로우 순서에서 다음으로 활성화할 전문가를 결정합니다: \"\n",
    "                    \"'websearch_agent'는 사용자 입력에 웹 검색이 필요한 경우 사용됩니다. \"\n",
    "                    \"'sql_agent'는 데이터베이스(DB) 검색이 필요한 경우 사용됩니다. \"\n",
    "                    \"'rag_agent'는 AI브리프의 문서 내용 검색이 필요한 경우 사용됩니다. \"\n",
    "    )\n",
    "    reason: str = Field(\n",
    "        description=\"특정 전문가를 선택한 결정에 대한 자세한 정당화로, 선택한 이유와 이 선택이 과업을 완수하는 데 어떻게 기여하는지를 설명합니다.\"\n",
    "    )"
   ]
  },
  {
   "cell_type": "code",
   "execution_count": 135,
   "id": "6301e031-eb05-4693-be7e-63b5871a2320",
   "metadata": {},
   "outputs": [],
   "source": [
    "def supervisor_node(state: MessagesState) -> Command[Literal[\"websearch_agent\", \"sql_agent\", \"rag_agent\", \"__end__\"]]:\n",
    "\n",
    "    system_prompt = ('''\n",
    "\n",
    "        당신은 websearch_agent, sql_agent, rag_agent, 이렇게  3개의 전문 에이전트로 구성된 팀을 관리하는 워크플로우 감독자입니다. 당신의 역할은 작업의 현재 상태와 요구 사항에 따라 가장 적절한 다음 에이전트를 선택하여 워크플로우를 조율하는 것입니다. 각 결정에 대해 명확하고 간결한 근거를 제공하여 의사결정 과정을 투명하게 유지하십시오.\n",
    "        \n",
    "        **팀 구성원**:\n",
    "        1. **websearch_agent**: 사용자의 질문이 최신의 정보를 요청하거나 웹검색을 요청하는 경우 이 에이전트가 처리합니다.\n",
    "        2. **sql_agent**: 데이터베이스에 관련된 사용자의 질문에 답하기 위해서는 이 에이전트가 처리합니다.\n",
    "        3. **rag_agent**: AI브리프 문서의 내용을 참고하거나 검색하는 경우 이 에이전트가 처리합니다.\n",
    "        \n",
    "        **당신의 책임**:\n",
    "        1. 각 결정 시점에서 작업을 가장 적절한 에이전트에게 라우팅합니다.\n",
    "        2. 중복되는 에이전트 할당을 피하여 워크플로우의 효율성을 유지합니다.\n",
    "        3. 사용자의 질문에 대한 충분한 응답이 생성되었고, 더 이상 추가적인 작업이 필요하지 않다면 'FINISH' 또는 '__end__'를 리턴하십시오.\n",
    "    ''')\n",
    "\n",
    "    messages = [\n",
    "        {\"role\": \"system\", \"content\": system_prompt},\n",
    "    ] + state[\"messages\"]\n",
    "\n",
    "    response = llm.with_structured_output(Router).invoke(messages)\n",
    "\n",
    "    goto = response.next\n",
    "    reason = response.reason\n",
    "\n",
    "    if goto == \"FINISH\" or goto == \"__end__\":\n",
    "        print(\"***** END *****\")\n",
    "        goto = END\n",
    "    \n",
    "    print(f\"📌--- Workflow Transition: Supervisor → {goto.upper()} ---\")\n",
    "\n",
    "    return Command(\n",
    "        update={\n",
    "            \"messages\": [\n",
    "                HumanMessage(content=reason, name=\"supervisor\")\n",
    "            ]\n",
    "        },\n",
    "        goto=goto,\n",
    "    )"
   ]
  },
  {
   "cell_type": "markdown",
   "id": "73894f31-555d-49b9-b72f-c5eb67bb2696",
   "metadata": {},
   "source": [
    "슈퍼바이저 에이전트는 다음과 같이 작동합니다.\n",
    "\n",
    "1. 현재 대화 상태를 입력으로 사용\n",
    "1. 시스템 프롬프트를 사용하여 해당 역할을 이해합니다.\n",
    "1. 다음에 어떤 에이전트가 행동해야 할지 결정합니다.\n",
    "1. 선택한 에이전트로 흐름을 지시하는 명령을 반환합니다."
   ]
  },
  {
   "cell_type": "markdown",
   "id": "e9755fc6-cab0-475f-849d-eab279bafc73",
   "metadata": {},
   "source": [
    "## 8. 그래프 구축\n",
    "\n",
    "내부적으로 `Command`를 사용하고 있어서, `edge` 추가는 명시적으로 하지 않는다."
   ]
  },
  {
   "cell_type": "code",
   "execution_count": 136,
   "id": "7c25a30f-2fb4-4718-b9b7-f7e56eed100c",
   "metadata": {},
   "outputs": [],
   "source": [
    "from langgraph.graph import StateGraph, START, END\n",
    "\n",
    "builder = StateGraph(MessagesState)\n",
    "builder.add_node(\"supervisor\", supervisor_node)\n",
    "builder.add_node(\"websearch_agent\", websearch_node)\n",
    "builder.add_node(\"rag_agent\", rag_node)\n",
    "builder.add_node(\"sql_agent\", sql_node)\n",
    "builder.add_edge(START, \"supervisor\")\n",
    "graph = builder.compile()\n"
   ]
  },
  {
   "cell_type": "markdown",
   "id": "b6391a40-31a1-410c-aed5-5313cab1f4cd",
   "metadata": {},
   "source": [
    "이를 통해 다음과 같은 완전한 다중 에이전트 시스템이 생성됩니다.\n",
    "\n",
    "1. 감독자는 초기 요청을 받습니다.\n",
    "1. 해당 전문 에이전트에게 요청을 라우팅합니다.\n",
    "1. 전문 에이전트는 도구를 사용하여 요청을 처리합니다.\n",
    "1. 다음 단계를 결정하기 위해 통제권이 감독자에게 반환됩니다.\n",
    "1. 감독자가 작업이 완료되었다고 판단할 때까지 프로세스가 계속됩니다."
   ]
  },
  {
   "cell_type": "code",
   "execution_count": 137,
   "id": "fa80c2ff-da03-4d9d-8350-f37cbd79b986",
   "metadata": {},
   "outputs": [
    {
     "data": {
      "image/png": "[encoded data removed]",
      "text/plain": [
       "<IPython.core.display.Image object>"
      ]
     },
     "metadata": {},
     "output_type": "display_data"
    }
   ],
   "source": [
    "from IPython.display import Image, display\n",
    "\n",
    "try:\n",
    "    display(Image(graph.get_graph().draw_mermaid_png()))\n",
    "except Exception:\n",
    "    pass"
   ]
  },
  {
   "cell_type": "markdown",
   "id": "3486ed13-0459-47c6-862a-5ab096dba04d",
   "metadata": {},
   "source": [
    "## 9. 실행"
   ]
  },
  {
   "cell_type": "code",
   "execution_count": 142,
   "id": "9ddb98b7-b29d-47db-b8e2-5d2eddf642db",
   "metadata": {},
   "outputs": [
    {
     "name": "stdout",
     "output_type": "stream",
     "text": [
      "📌--- Workflow Transition: Supervisor → SQL_AGENT ---\n",
      "((), {'supervisor': {'messages': [HumanMessage(content='사용자의 질문은 데이터베이스에서 가장 많이 판매된 앨범을 찾는 것이므로, sql_agent가 데이터베이스와 관련된 쿼리를 처리하는 데 적합합니다.', additional_kwargs={}, response_metadata={}, name='supervisor')]}})\n",
      "----\n",
      "(('sql_agent:2f8d0682-6e1b-05eb-4d65-6440cb0e482e',), {'agent': {'messages': [AIMessage(content='', additional_kwargs={'tool_calls': [{'id': 'call_Y1GAkDAMMQp1VFcOeDeWsRGu', 'function': {'arguments': '{}', 'name': 'sql_db_list_tables'}, 'type': 'function'}], 'refusal': None}, response_metadata={'token_usage': {'completion_tokens': 12, 'prompt_tokens': 657, 'total_tokens': 669, 'completion_tokens_details': {'accepted_prediction_tokens': 0, 'audio_tokens': 0, 'reasoning_tokens': 0, 'rejected_prediction_tokens': 0}, 'prompt_tokens_details': {'audio_tokens': 0, 'cached_tokens': 0}}, 'model_name': 'gpt-4o-mini-2024-07-18', 'system_fingerprint': 'fp_34a54ae93c', 'id': 'chatcmpl-BqYejn9WnzHCHMyQIOtvJL1sDIee3', 'service_tier': 'default', 'finish_reason': 'tool_calls', 'logprobs': None}, id='run--d2a31133-ffd1-46fb-b6d1-5fdc780f6afc-0', tool_calls=[{'name': 'sql_db_list_tables', 'args': {}, 'id': 'call_Y1GAkDAMMQp1VFcOeDeWsRGu', 'type': 'tool_call'}], usage_metadata={'input_tokens': 657, 'output_tokens': 12, 'total_tokens': 669, 'input_token_details': {'audio': 0, 'cache_read': 0}, 'output_token_details': {'audio': 0, 'reasoning': 0}})]}})\n",
      "----\n",
      "(('sql_agent:2f8d0682-6e1b-05eb-4d65-6440cb0e482e',), {'tools': {'messages': [ToolMessage(content='Album, Artist, Customer, Employee, Genre, Invoice, InvoiceLine, MediaType, Playlist, PlaylistTrack, Track', name='sql_db_list_tables', id='beebabfa-d739-4027-bea8-3ce9920b2191', tool_call_id='call_Y1GAkDAMMQp1VFcOeDeWsRGu')]}})\n",
      "----\n",
      "(('sql_agent:2f8d0682-6e1b-05eb-4d65-6440cb0e482e',), {'agent': {'messages': [AIMessage(content='', additional_kwargs={'tool_calls': [{'id': 'call_ZUVrmkwtUqq2YUT8m0OZ8Mu0', 'function': {'arguments': '{\"table_names\": \"Album\"}', 'name': 'sql_db_schema'}, 'type': 'function'}, {'id': 'call_lDBoNO8RvLdeZaiAcEvFiWNs', 'function': {'arguments': '{\"table_names\": \"InvoiceLine\"}', 'name': 'sql_db_schema'}, 'type': 'function'}], 'refusal': None}, response_metadata={'token_usage': {'completion_tokens': 49, 'prompt_tokens': 703, 'total_tokens': 752, 'completion_tokens_details': {'accepted_prediction_tokens': 0, 'audio_tokens': 0, 'reasoning_tokens': 0, 'rejected_prediction_tokens': 0}, 'prompt_tokens_details': {'audio_tokens': 0, 'cached_tokens': 0}}, 'model_name': 'gpt-4o-mini-2024-07-18', 'system_fingerprint': 'fp_34a54ae93c', 'id': 'chatcmpl-BqYekNXc4gvb0ecA0iCAUhovGGkBF', 'service_tier': 'default', 'finish_reason': 'tool_calls', 'logprobs': None}, id='run--fcb2f364-4781-41e7-8b4c-eb9d96cf01c7-0', tool_calls=[{'name': 'sql_db_schema', 'args': {'table_names': 'Album'}, 'id': 'call_ZUVrmkwtUqq2YUT8m0OZ8Mu0', 'type': 'tool_call'}, {'name': 'sql_db_schema', 'args': {'table_names': 'InvoiceLine'}, 'id': 'call_lDBoNO8RvLdeZaiAcEvFiWNs', 'type': 'tool_call'}], usage_metadata={'input_tokens': 703, 'output_tokens': 49, 'total_tokens': 752, 'input_token_details': {'audio': 0, 'cache_read': 0}, 'output_token_details': {'audio': 0, 'reasoning': 0}})]}})\n",
      "----\n",
      "(('sql_agent:2f8d0682-6e1b-05eb-4d65-6440cb0e482e',), {'tools': {'messages': [ToolMessage(content='\\nCREATE TABLE \"Album\" (\\n\\t\"AlbumId\" INTEGER NOT NULL, \\n\\t\"Title\" NVARCHAR(160) NOT NULL, \\n\\t\"ArtistId\" INTEGER NOT NULL, \\n\\tPRIMARY KEY (\"AlbumId\"), \\n\\tFOREIGN KEY(\"ArtistId\") REFERENCES \"Artist\" (\"ArtistId\")\\n)\\n\\n/*\\n3 rows from Album table:\\nAlbumId\\tTitle\\tArtistId\\n1\\tFor Those About To Rock We Salute You\\t1\\n2\\tBalls to the Wall\\t2\\n3\\tRestless and Wild\\t2\\n*/', name='sql_db_schema', tool_call_id='call_ZUVrmkwtUqq2YUT8m0OZ8Mu0')]}})\n",
      "----\n",
      "(('sql_agent:2f8d0682-6e1b-05eb-4d65-6440cb0e482e',), {'tools': {'messages': [ToolMessage(content='\\nCREATE TABLE \"InvoiceLine\" (\\n\\t\"InvoiceLineId\" INTEGER NOT NULL, \\n\\t\"InvoiceId\" INTEGER NOT NULL, \\n\\t\"TrackId\" INTEGER NOT NULL, \\n\\t\"UnitPrice\" NUMERIC(10, 2) NOT NULL, \\n\\t\"Quantity\" INTEGER NOT NULL, \\n\\tPRIMARY KEY (\"InvoiceLineId\"), \\n\\tFOREIGN KEY(\"TrackId\") REFERENCES \"Track\" (\"TrackId\"), \\n\\tFOREIGN KEY(\"InvoiceId\") REFERENCES \"Invoice\" (\"InvoiceId\")\\n)\\n\\n/*\\n3 rows from InvoiceLine table:\\nInvoiceLineId\\tInvoiceId\\tTrackId\\tUnitPrice\\tQuantity\\n1\\t1\\t2\\t0.99\\t1\\n2\\t1\\t4\\t0.99\\t1\\n3\\t2\\t6\\t0.99\\t1\\n*/', name='sql_db_schema', id='1402d1b9-dae8-48a1-bc19-3c3e3e02e666', tool_call_id='call_lDBoNO8RvLdeZaiAcEvFiWNs')]}})\n",
      "----\n",
      "(('sql_agent:2f8d0682-6e1b-05eb-4d65-6440cb0e482e',), {'agent': {'messages': [AIMessage(content='', additional_kwargs={'tool_calls': [{'id': 'call_cUjjGpMia0sljGuZH7ktpyjn', 'function': {'arguments': '{\"query\":\"SELECT il.TrackId, il.Quantity, a.Title, a.AlbumId \\\\nFROM InvoiceLine il\\\\nJOIN Track t ON il.TrackId = t.TrackId \\\\nJOIN Album a ON t.AlbumId = a.AlbumId \\\\nGROUP BY a.AlbumId \\\\nORDER BY SUM(il.Quantity) DESC \\\\nLIMIT 1;\"}', 'name': 'sql_db_query'}, 'type': 'function'}], 'refusal': None}, response_metadata={'token_usage': {'completion_tokens': 85, 'prompt_tokens': 1083, 'total_tokens': 1168, 'completion_tokens_details': {'accepted_prediction_tokens': 0, 'audio_tokens': 0, 'reasoning_tokens': 0, 'rejected_prediction_tokens': 0}, 'prompt_tokens_details': {'audio_tokens': 0, 'cached_tokens': 0}}, 'model_name': 'gpt-4o-mini-2024-07-18', 'system_fingerprint': 'fp_34a54ae93c', 'id': 'chatcmpl-BqYembmDKe69OvSPFbVzdmZIVfFmd', 'service_tier': 'default', 'finish_reason': 'tool_calls', 'logprobs': None}, id='run--55810ec3-afc3-46a9-bedb-017350c11c15-0', tool_calls=[{'name': 'sql_db_query', 'args': {'query': 'SELECT il.TrackId, il.Quantity, a.Title, a.AlbumId \\nFROM InvoiceLine il\\nJOIN Track t ON il.TrackId = t.TrackId \\nJOIN Album a ON t.AlbumId = a.AlbumId \\nGROUP BY a.AlbumId \\nORDER BY SUM(il.Quantity) DESC \\nLIMIT 1;'}, 'id': 'call_cUjjGpMia0sljGuZH7ktpyjn', 'type': 'tool_call'}], usage_metadata={'input_tokens': 1083, 'output_tokens': 85, 'total_tokens': 1168, 'input_token_details': {'audio': 0, 'cache_read': 0}, 'output_token_details': {'audio': 0, 'reasoning': 0}})]}})\n",
      "----\n",
      "(('sql_agent:2f8d0682-6e1b-05eb-4d65-6440cb0e482e',), {'tools': {'messages': [ToolMessage(content=\"[(230, 1, 'Minha Historia', 23)]\", name='sql_db_query', id='e9ee5672-1f17-4139-ab22-b4d43c5b7a96', tool_call_id='call_cUjjGpMia0sljGuZH7ktpyjn')]}})\n",
      "----\n",
      "(('sql_agent:2f8d0682-6e1b-05eb-4d65-6440cb0e482e',), {'agent': {'messages': [AIMessage(content='', additional_kwargs={'tool_calls': [{'id': 'call_EiUwy5QENsolpaQfd0en9hv1', 'function': {'arguments': '{\"query\":\"SELECT * FROM Album WHERE AlbumId = 23;\"}', 'name': 'sql_db_query'}, 'type': 'function'}], 'refusal': None}, response_metadata={'token_usage': {'completion_tokens': 25, 'prompt_tokens': 1190, 'total_tokens': 1215, 'completion_tokens_details': {'accepted_prediction_tokens': 0, 'audio_tokens': 0, 'reasoning_tokens': 0, 'rejected_prediction_tokens': 0}, 'prompt_tokens_details': {'audio_tokens': 0, 'cached_tokens': 0}}, 'model_name': 'gpt-4o-mini-2024-07-18', 'system_fingerprint': 'fp_34a54ae93c', 'id': 'chatcmpl-BqYeoY14ttrPrGGHj9o4SezrLGLxx', 'service_tier': 'default', 'finish_reason': 'tool_calls', 'logprobs': None}, id='run--93f08e7b-6098-4e1a-ab30-a8e5d3144f26-0', tool_calls=[{'name': 'sql_db_query', 'args': {'query': 'SELECT * FROM Album WHERE AlbumId = 23;'}, 'id': 'call_EiUwy5QENsolpaQfd0en9hv1', 'type': 'tool_call'}], usage_metadata={'input_tokens': 1190, 'output_tokens': 25, 'total_tokens': 1215, 'input_token_details': {'audio': 0, 'cache_read': 0}, 'output_token_details': {'audio': 0, 'reasoning': 0}})]}})\n",
      "----\n",
      "(('sql_agent:2f8d0682-6e1b-05eb-4d65-6440cb0e482e',), {'tools': {'messages': [ToolMessage(content=\"[(23, 'Minha Historia', 17)]\", name='sql_db_query', id='78a7a78d-21da-497f-bccb-08a87fb1ca10', tool_call_id='call_EiUwy5QENsolpaQfd0en9hv1')]}})\n",
      "----\n",
      "(('sql_agent:2f8d0682-6e1b-05eb-4d65-6440cb0e482e',), {'agent': {'messages': [AIMessage(content='', additional_kwargs={'tool_calls': [{'id': 'call_20zDcMLxntvqwOkGMXjuSywX', 'function': {'arguments': '{\"query\":\"SELECT * FROM Artist WHERE ArtistId = 17;\"}', 'name': 'sql_db_query'}, 'type': 'function'}], 'refusal': None}, response_metadata={'token_usage': {'completion_tokens': 25, 'prompt_tokens': 1234, 'total_tokens': 1259, 'completion_tokens_details': {'accepted_prediction_tokens': 0, 'audio_tokens': 0, 'reasoning_tokens': 0, 'rejected_prediction_tokens': 0}, 'prompt_tokens_details': {'audio_tokens': 0, 'cached_tokens': 1152}}, 'model_name': 'gpt-4o-mini-2024-07-18', 'system_fingerprint': 'fp_34a54ae93c', 'id': 'chatcmpl-BqYeoL753JW3khRsySddZ0UeN7LNR', 'service_tier': 'default', 'finish_reason': 'tool_calls', 'logprobs': None}, id='run--04308038-38c2-438d-b5b3-910447bea7c3-0', tool_calls=[{'name': 'sql_db_query', 'args': {'query': 'SELECT * FROM Artist WHERE ArtistId = 17;'}, 'id': 'call_20zDcMLxntvqwOkGMXjuSywX', 'type': 'tool_call'}], usage_metadata={'input_tokens': 1234, 'output_tokens': 25, 'total_tokens': 1259, 'input_token_details': {'audio': 0, 'cache_read': 1152}, 'output_token_details': {'audio': 0, 'reasoning': 0}})]}})\n",
      "----\n",
      "(('sql_agent:2f8d0682-6e1b-05eb-4d65-6440cb0e482e',), {'tools': {'messages': [ToolMessage(content=\"[(17, 'Chico Buarque')]\", name='sql_db_query', id='83a84fff-3993-48bd-a326-8b57c4cafba7', tool_call_id='call_20zDcMLxntvqwOkGMXjuSywX')]}})\n",
      "----\n",
      "(('sql_agent:2f8d0682-6e1b-05eb-4d65-6440cb0e482e',), {'agent': {'messages': [AIMessage(content='가장 많이 판매된 앨범은 **\"Minha Historia\"**입니다. 이 앨범은 **Chico Buarque**라는 아티스트에 의해 발매되었습니다.\\n\\n앨범 정보:\\n- 제목: Minha Historia\\n- 아티스트: Chico Buarque\\n\\n추가적인 웹 검색이 필요하면, 어떤 정보를 알고 싶으신지 말씀해 주세요.', additional_kwargs={'refusal': None}, response_metadata={'token_usage': {'completion_tokens': 80, 'prompt_tokens': 1278, 'total_tokens': 1358, 'completion_tokens_details': {'accepted_prediction_tokens': 0, 'audio_tokens': 0, 'reasoning_tokens': 0, 'rejected_prediction_tokens': 0}, 'prompt_tokens_details': {'audio_tokens': 0, 'cached_tokens': 0}}, 'model_name': 'gpt-4o-mini-2024-07-18', 'system_fingerprint': 'fp_34a54ae93c', 'id': 'chatcmpl-BqYeq37k4RiMpqXOA8ncWmH90GUwi', 'service_tier': 'default', 'finish_reason': 'stop', 'logprobs': None}, id='run--28851c68-c9ad-490a-ac3b-72e50dcec347-0', usage_metadata={'input_tokens': 1278, 'output_tokens': 80, 'total_tokens': 1358, 'input_token_details': {'audio': 0, 'cache_read': 0}, 'output_token_details': {'audio': 0, 'reasoning': 0}})]}})\n",
      "----\n",
      "((), {'sql_agent': {'messages': [HumanMessage(content='가장 많이 판매된 앨범은 **\"Minha Historia\"**입니다. 이 앨범은 **Chico Buarque**라는 아티스트에 의해 발매되었습니다.\\n\\n앨범 정보:\\n- 제목: Minha Historia\\n- 아티스트: Chico Buarque\\n\\n추가적인 웹 검색이 필요하면, 어떤 정보를 알고 싶으신지 말씀해 주세요.', additional_kwargs={}, response_metadata={}, name='rag')]}})\n",
      "----\n",
      "📌--- Workflow Transition: Supervisor → WEBSEARCH_AGENT ---\n",
      "((), {'supervisor': {'messages': [HumanMessage(content=\"앨범 'Minha Historia'에 대한 상세 정보를 웹에서 검색하여 최신 정보를 제공하기 위해서는 websearch_agent가 적합합니다. 이렇게 하여 사용자에게 더 유용한 정보를 전달할 수 있습니다. 따라서 websearch_agent를 통해 추가적인 정보를 검색하도록 하겠습니다.\", additional_kwargs={}, response_metadata={}, name='supervisor')]}})\n",
      "----\n",
      "(('websearch_agent:01ae86c9-f3cf-aad7-1142-30fceaf42fa8',), {'agent': {'messages': [AIMessage(content='', additional_kwargs={'tool_calls': [{'id': 'call_LmxPi8IcRydsYq49zqhEmG07', 'function': {'arguments': '{\"query\":\"Minha Historia Chico Buarque\",\"search_depth\":\"advanced\"}', 'name': 'tavily_search'}, 'type': 'function'}], 'refusal': None}, response_metadata={'token_usage': {'completion_tokens': 26, 'prompt_tokens': 1042, 'total_tokens': 1068, 'completion_tokens_details': {'accepted_prediction_tokens': 0, 'audio_tokens': 0, 'reasoning_tokens': 0, 'rejected_prediction_tokens': 0}, 'prompt_tokens_details': {'audio_tokens': 0, 'cached_tokens': 0}}, 'model_name': 'gpt-4o-mini-2024-07-18', 'system_fingerprint': 'fp_34a54ae93c', 'id': 'chatcmpl-BqYetoh7RcZmIJQaEoAkegAb4P2D7', 'service_tier': 'default', 'finish_reason': 'tool_calls', 'logprobs': None}, id='run--29ef5415-dfd7-480f-a89a-79ef6b0c0dc7-0', tool_calls=[{'name': 'tavily_search', 'args': {'query': 'Minha Historia Chico Buarque', 'search_depth': 'advanced'}, 'id': 'call_LmxPi8IcRydsYq49zqhEmG07', 'type': 'tool_call'}], usage_metadata={'input_tokens': 1042, 'output_tokens': 26, 'total_tokens': 1068, 'input_token_details': {'audio': 0, 'cache_read': 0}, 'output_token_details': {'audio': 0, 'reasoning': 0}})]}})\n",
      "----\n",
      "(('websearch_agent:01ae86c9-f3cf-aad7-1142-30fceaf42fa8',), {'tools': {'messages': [ToolMessage(content='{\"query\": \"Minha Historia Chico Buarque\", \"follow_up_questions\": null, \"answer\": null, \"images\": [], \"results\": [{\"url\": \"https://www.musixmatch.com/lyrics/Chico-Buarque/Minha-Historia/translation/english\", \"title\": \"Chico Buarque - Minha Historia (Gesubambino) lyrics translation in ...\", \"content\": \"Meaning. The song \\'Minha Historia (Gesubambino)\\' by Chico Buarque tells the story of a mother who falls in love with a mysterious man, who then disappears,\", \"score\": 0.83225065, \"raw_content\": null}, {\"url\": \"https://www.letras.mus.br/chico-buarque/45147/\", \"title\": \"Minha História (Gesubambino) - Chico Buarque - LETRAS.MUS.BR\", \"content\": \"Quando enfim eu nasci, minha mãe embrulhou-me num manto  \\\\nMe vestiu como se eu fosse assim uma espécie de santo  \\\\nMas por não se lembrar de acalantos, a pobre mulher  \\\\nMe ninava cantando cantigas de cabaré, laiá, laiá, laiá, laiá\\\\n\\\\nMinha mãe não tardou alertar toda a vizinhança  \\\\nA mostrar que ali estava bem mais que uma simples criança  \\\\nE não sei bem se por ironia ou se por amor  \\\\nResolveu me chamar com o nome do Nosso Senhor, laiá, laiá, laiá, laiá [...] ## LETRAS.MUS.BR - Letras de músicas\\\\n\\\\n## Menu\\\\n\\\\nEstilos musicais\\\\n\\\\nMúsicas\\\\n\\\\nArtistas\\\\n\\\\nÁlbuns\\\\n\\\\nPlaylists\\\\n\\\\nBlog\\\\n\\\\nTreino de pronúncia\\\\n\\\\nAulas rápidas\\\\n\\\\nCursos de idiomas\\\\n\\\\nAssinar o Letras\\\\n\\\\nEnviar letras, traduções e mais\\\\n\\\\n## Opções Notificações\\\\n\\\\n# Minha História (Gesubambino)\\\\n\\\\n## Chico Buarque [...] Ele vinha sem muita conversa, sem muito explicar  \\\\nEu só sei que falava e cheirava e gostava de mar  \\\\nSei que tinha tatuagem no braço e dourado no dente  \\\\nE minha mãe se entregou a esse homem perdidamente, laiá, laiá, laiá, laiá\\\\n\\\\nEle assim como veio partiu não se sabe pra onde  \\\\nE deixou minha mãe com o olhar cada dia mais longe  \\\\nEsperando, parada, pregada na pedra do porto  \\\\nCom seu único velho vestido, cada dia mais curto, laiá, laiá, laiá, laiá\", \"score\": 0.7180613, \"raw_content\": null}], \"response_time\": 4.81}', name='tavily_search', id='86672c7c-4bf2-4514-a162-73e9084af938', tool_call_id='call_LmxPi8IcRydsYq49zqhEmG07')]}})\n",
      "----\n",
      "(('websearch_agent:01ae86c9-f3cf-aad7-1142-30fceaf42fa8',), {'agent': {'messages': [AIMessage(content='앨범 **\"Minha Historia\"**는 **Chico Buarque**의 작품으로, 다음과 같은 정보가 있습니다.\\n\\n### 주요 정보\\n- **앨범 제목**: Minha História\\n- **아티스트**: Chico Buarque\\n\\n### 앨범 세부정보\\n1. **의미**: 앨범의 한 곡인 *\"Minha Historia (Gesubambino)\"*는 사랑에 빠진 어머니의 이야기를 담고 있습니다. 그녀는 신비로운 남성과 사랑에 빠지지만, 그 남자는 사라지고 맙니다. \\n\\n2. **가사 요약**: \\n   - 노래는 어머니가 아이를 잉태하고, 그 아이의 이름을 고백하는 이야기를 담고 있습니다. 어머니는 아이에게 특별한 기대를 걸고, 그 아이는 자라면서 사랑과 이별을 경험합니다. \\n   - 이 노래는 감정적이고 서정적인 요소가 가득하며, 복잡한 가족 관계의 양상을 보여줍니다.\\n\\n### 추가 자료\\n- [*Minha Historia (Gesubambino)* - 가사 영어 번역 보기](https://www.musixmatch.com/lyrics/Chico-Buarque/Minha-Historia/translation/english)\\n- [*Minha História (Gesubambino)* - 원 제목의 가사 확인하기](https://www.letras.mus.br/chico-buarque/45147/)\\n\\n이 앨범은 감정적으로 깊이 있는 주제를 다루며, Chico Buarque의 독특한 음악적 스타일을 경험할 수 있는 작품입니다. 더 알고 싶은 내용이 있으면 말씀해 주세요!', additional_kwargs={'refusal': None}, response_metadata={'token_usage': {'completion_tokens': 358, 'prompt_tokens': 1673, 'total_tokens': 2031, 'completion_tokens_details': {'accepted_prediction_tokens': 0, 'audio_tokens': 0, 'reasoning_tokens': 0, 'rejected_prediction_tokens': 0}, 'prompt_tokens_details': {'audio_tokens': 0, 'cached_tokens': 1024}}, 'model_name': 'gpt-4o-mini-2024-07-18', 'system_fingerprint': 'fp_34a54ae93c', 'id': 'chatcmpl-BqYf06LCJLsjb4KwulQtMcjxLaMyl', 'service_tier': 'default', 'finish_reason': 'stop', 'logprobs': None}, id='run--f757d1d3-35c0-4f5c-a239-8844b3b2b3d5-0', usage_metadata={'input_tokens': 1673, 'output_tokens': 358, 'total_tokens': 2031, 'input_token_details': {'audio': 0, 'cache_read': 1024}, 'output_token_details': {'audio': 0, 'reasoning': 0}})]}})\n",
      "----\n",
      "((), {'websearch_agent': {'messages': [HumanMessage(content='앨범 **\"Minha Historia\"**는 **Chico Buarque**의 작품으로, 다음과 같은 정보가 있습니다.\\n\\n### 주요 정보\\n- **앨범 제목**: Minha História\\n- **아티스트**: Chico Buarque\\n\\n### 앨범 세부정보\\n1. **의미**: 앨범의 한 곡인 *\"Minha Historia (Gesubambino)\"*는 사랑에 빠진 어머니의 이야기를 담고 있습니다. 그녀는 신비로운 남성과 사랑에 빠지지만, 그 남자는 사라지고 맙니다. \\n\\n2. **가사 요약**: \\n   - 노래는 어머니가 아이를 잉태하고, 그 아이의 이름을 고백하는 이야기를 담고 있습니다. 어머니는 아이에게 특별한 기대를 걸고, 그 아이는 자라면서 사랑과 이별을 경험합니다. \\n   - 이 노래는 감정적이고 서정적인 요소가 가득하며, 복잡한 가족 관계의 양상을 보여줍니다.\\n\\n### 추가 자료\\n- [*Minha Historia (Gesubambino)* - 가사 영어 번역 보기](https://www.musixmatch.com/lyrics/Chico-Buarque/Minha-Historia/translation/english)\\n- [*Minha História (Gesubambino)* - 원 제목의 가사 확인하기](https://www.letras.mus.br/chico-buarque/45147/)\\n\\n이 앨범은 감정적으로 깊이 있는 주제를 다루며, Chico Buarque의 독특한 음악적 스타일을 경험할 수 있는 작품입니다. 더 알고 싶은 내용이 있으면 말씀해 주세요!', additional_kwargs={}, response_metadata={}, name='web_researcher')]}})\n",
      "----\n"
     ]
    },
    {
     "name": "stderr",
     "output_type": "stream",
     "text": [
      "Task supervisor with path ('__pregel_pull', 'supervisor') wrote to unknown channel branch:to:__end__, ignoring it.\n"
     ]
    },
    {
     "name": "stdout",
     "output_type": "stream",
     "text": [
      "***** END *****\n",
      "📌--- Workflow Transition: Supervisor → __END__ ---\n",
      "((), {'supervisor': {'messages': [HumanMessage(content=\"앨범 'Minha Historia'에 대한 상세 정보를 성공적으로 웹에서 검색하여 제공하였고, 추가적인 작업이 필요하지 않습니다.\", additional_kwargs={}, response_metadata={}, name='supervisor')]}})\n",
      "----\n"
     ]
    }
   ],
   "source": [
    "# Example: Complex Query Using Multiple Agents\n",
    "# input_question = \"데이터베이스를 검색해서 2009년에 판매 실적이 가장 높았던 영업 사원을 찾아주세요.\"\n",
    "input_question = \"데이터베이스에서 가장 많이 판매된 앨범을 찾아서, 그 앨범의 상세 내용을 웹에서 검색해서 정리해줘.\"\n",
    "for s in graph.stream(\n",
    "    {\"messages\": [(\"user\", input_question)]}, \n",
    "    subgraphs=True\n",
    "):\n",
    "    print(s)\n",
    "    print(\"----\")\n"
   ]
  },
  {
   "cell_type": "code",
   "execution_count": null,
   "id": "8b085bcb-3b2e-460b-ab59-81ad535f98e7",
   "metadata": {},
   "outputs": [],
   "source": []
  }
 ],
 "metadata": {
  "kernelspec": {
   "display_name": "Python 3 (ipykernel)",
   "language": "python",
   "name": "python3"
  },
  "language_info": {
   "codemirror_mode": {
    "name": "ipython",
    "version": 3
   },
   "file_extension": ".py",
   "mimetype": "text/x-python",
   "name": "python",
   "nbconvert_exporter": "python",
   "pygments_lexer": "ipython3",
   "version": "3.12.4"
  }
 },
 "nbformat": 4,
 "nbformat_minor": 5
}
