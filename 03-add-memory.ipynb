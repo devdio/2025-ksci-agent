{
 "cells": [
  {
   "cell_type": "markdown",
   "id": "5e19f1ba-204a-478d-91d7-4196da14cc0e",
   "metadata": {},
   "source": [
    "# 메모리 추가"
   ]
  },
  {
   "cell_type": "markdown",
   "id": "42d34896-5eff-4901-a919-7cf753f07018",
   "metadata": {},
   "source": [
    "이제 챗봇은 도구를 사용하여 사용자 질문에 답변할 수 있지만, 이전 대화의 맥락을 기억하지는 못합니다.\n",
    "이로 인해 일관성 있는 멀티턴 대화를 진행하는 데 제한이 생깁니다."
   ]
  },
  {
   "cell_type": "markdown",
   "id": "b07d9f76-5068-44bb-a54e-11d7b49615a6",
   "metadata": {},
   "source": [
    "LangGraph는 이 문제를 `지속적인 체크포인트 저장(persistent checkpointing)` 기능으로 해결합니다.\n",
    "그래프를 컴파일할 때 checkpointer를 제공하고, 그래프를 호출할 때 thread_id를 함께 전달하면 LangGraph는 각 단계 이후에 상태(state)를 자동으로 저장합니다.\n",
    "이후 동일한 thread_id를 사용해 그래프를 다시 실행하면, 이전에 저장된 상태를 불러와 챗봇이 마지막 대화 이후부터 이어서 응답할 수 있게 됩니다."
   ]
  },
  {
   "cell_type": "markdown",
   "id": "6650c660-fdbd-4299-ab49-833def6b04d2",
   "metadata": {},
   "source": [
    "이후에 살펴보겠지만, LangGraph의 체크포인트 기능은 단순한 대화 메모리보다 훨씬 강력합니다.\n",
    "예를 들어 오류 복구, 사람의 개입이 필요한 워크플로우(human-in-the-loop),\n",
    "시간을 되돌리는 대화(time travel interaction) 등 복잡한 상태를 저장하고 복원할 수 있게 해줍니다.\n",
    "\n",
    "하지만 먼저 이번 튜토리얼에서는 멀티턴 대화를 가능하게 하기 위해 체크포인트 기능부터 추가해 보겠습니다."
   ]
  },
  {
   "cell_type": "markdown",
   "id": "1bc3148f-2d82-47c1-8a8f-5a1567175cdc",
   "metadata": {},
   "source": [
    "## 1. 환경 설정"
   ]
  },
  {
   "cell_type": "code",
   "execution_count": null,
   "id": "988c9ed2-6649-4843-a2f3-d31255302958",
   "metadata": {},
   "outputs": [],
   "source": [
    "# 환경 변수 확인\n",
    "from dotenv import load_dotenv\n",
    "import os\n",
    "load_dotenv(override=True)\n",
    "\n",
    "TAVILY_API_KEY= os.environ.get(\"TAVILY_API_KEY\")\n",
    "print(TAVILY_API_KEY[:20])"
   ]
  },
  {
   "cell_type": "markdown",
   "id": "fa56a809-61bc-4f50-9cb9-99065fc7cef7",
   "metadata": {},
   "source": [
    "## 2. 챗봇 생성"
   ]
  },
  {
   "cell_type": "code",
   "execution_count": 78,
   "id": "52cf93b8-2cab-476c-ae3f-ced26899c833",
   "metadata": {},
   "outputs": [
    {
     "data": {
      "text/plain": [
       "<langgraph.graph.state.StateGraph at 0x17b3c609590>"
      ]
     },
     "execution_count": 78,
     "metadata": {},
     "output_type": "execute_result"
    }
   ],
   "source": [
    "from typing import Annotated\n",
    "\n",
    "from langchain_tavily import TavilySearch\n",
    "from langchain_core.messages import BaseMessage\n",
    "from typing_extensions import TypedDict\n",
    "\n",
    "from langgraph.graph import StateGraph, START, END\n",
    "from langgraph.graph.message import add_messages\n",
    "from langgraph.prebuilt import ToolNode, tools_condition\n",
    "from langchain_openai import ChatOpenAI\n",
    "\n",
    "class State(TypedDict):\n",
    "    messages: Annotated[list, add_messages]\n",
    "\n",
    "graph_builder = StateGraph(State)\n",
    "\n",
    "tool = TavilySearch(max_results=2)\n",
    "tools = [tool]\n",
    "\n",
    "def chatbot(state: State):\n",
    "    llm = ChatOpenAI(model=\"gpt-4o-mini\", temperature=0)\n",
    "    llm_with_tools = llm.bind_tools(tools)\n",
    "    return {\"messages\": [llm_with_tools.invoke(state[\"messages\"])]}\n",
    "\n",
    "graph_builder.add_node(\"chatbot\", chatbot)\n",
    "\n",
    "# 📌 ToolNode 추가\n",
    "tool_node = ToolNode(tools=[tool])\n",
    "graph_builder.add_node(\"tools\", tool_node)\n",
    "\n",
    "# \n",
    "graph_builder.add_conditional_edges(\n",
    "    \"chatbot\",\n",
    "    # 📌 \"tools\" 또는 END를 리턴한다.\n",
    "    tools_condition,\n",
    ")\n",
    "# Any time a tool is called, we return to the chatbot to decide the next step\n",
    "graph_builder.add_edge(\"tools\", \"chatbot\")\n",
    "graph_builder.add_edge(START, \"chatbot\")"
   ]
  },
  {
   "cell_type": "markdown",
   "id": "debd6602-e56f-48ac-be7d-9ca443d1f73b",
   "metadata": {},
   "source": [
    "## 3. `MemorySaver` 체크포인터 생성"
   ]
  },
  {
   "cell_type": "code",
   "execution_count": 79,
   "id": "260c7fb1-1da0-4fdb-8ce8-194975989df7",
   "metadata": {},
   "outputs": [],
   "source": [
    "from langgraph.checkpoint.memory import MemorySaver\n",
    "\n",
    "memory = MemorySaver()"
   ]
  },
  {
   "cell_type": "markdown",
   "id": "ec079fda-079a-4960-ad00-2a0cdd18a42d",
   "metadata": {},
   "source": [
    "이것은 튜토리얼에 편리하도록 제공되는 `메모리 기반(in-memory) 체크포인터`입니다.\n",
    "하지만 실제 운영 환경에서는 `SqliteSaver`나 `PostgresSaver`를 사용해 데이터베이스에 연결하여 체크포인트를 저장하는 방식으로 변경하는 것이 일반적입니다."
   ]
  },
  {
   "cell_type": "markdown",
   "id": "f2941ba1-9456-4033-880c-1f61c066c0cf",
   "metadata": {},
   "source": [
    "## 4. 그래프 컴파일"
   ]
  },
  {
   "cell_type": "markdown",
   "id": "5c562978-d525-4481-852f-99738f02777f",
   "metadata": {},
   "source": [
    "제공된 체크포인터로 그래프를 컴파일합니다. 이 체크포인터는 State그래프가 각 노드를 통과할 때 체크포인트를 생성합니다."
   ]
  },
  {
   "cell_type": "code",
   "execution_count": 80,
   "id": "675edcdb-4480-41b0-ac91-edd2517d9d86",
   "metadata": {},
   "outputs": [],
   "source": [
    "graph = graph_builder.compile(checkpointer=memory)"
   ]
  },
  {
   "cell_type": "code",
   "execution_count": 81,
   "id": "f07675cc-4197-4b85-a5c1-989f07e7a86c",
   "metadata": {},
   "outputs": [
    {
     "data": {
      "image/png": "[encoded data removed]",
      "text/plain": [
       "<IPython.core.display.Image object>"
      ]
     },
     "metadata": {},
     "output_type": "display_data"
    }
   ],
   "source": [
    "from IPython.display import Image, display\n",
    "\n",
    "try:\n",
    "    display(Image(graph.get_graph().draw_mermaid_png()))\n",
    "except Exception:\n",
    "    pass"
   ]
  },
  {
   "cell_type": "markdown",
   "id": "d21e3214-2a88-44ea-a553-c4a5a9baf658",
   "metadata": {},
   "source": [
    "## 5. 챗봇 실행"
   ]
  },
  {
   "cell_type": "markdown",
   "id": "eb6bb36a-f661-4cc2-a2c4-497ed6b174e5",
   "metadata": {},
   "source": [
    "`thread_id`를 기준으로 LangGraph가 상태(state)를 저장하고 불러오기 때문에 `thread_id`를 선택해서 대화를 시작해야 한다.\n",
    "즉, thread_id가 같으면 이전 대화의 맥락을 이어서 작동하고,다르면 새로운 대화로 간주합니다."
   ]
  },
  {
   "cell_type": "code",
   "execution_count": 82,
   "id": "f0084c1b-ff74-489c-8cd0-c8d2669472b1",
   "metadata": {},
   "outputs": [],
   "source": [
    "import uuid\n",
    "\n",
    "memory_id = str(uuid.uuid4())\n",
    "config = {\"configurable\": {\"thread_id\": memory_id}}"
   ]
  },
  {
   "cell_type": "code",
   "execution_count": 83,
   "id": "9681e9a9-049a-4cdd-ae3b-d4bf85e2e1c1",
   "metadata": {},
   "outputs": [],
   "source": [
    "# user_input = \"안녕 내 이름은 제이슨이야.\"\n",
    "\n",
    "# # config는 stream() 또는 invoke() 함수의 **두 번째 위치 인자(positional argument)**\n",
    "# events = graph.stream(\n",
    "#     {\"messages\": [{\"role\": \"user\", \"content\": user_input}]},\n",
    "#     config,\n",
    "#     stream_mode=\"values\",\n",
    "# )\n",
    "\n",
    "# for event in events:\n",
    "#     event[\"messages\"][-1].pretty_print()"
   ]
  },
  {
   "cell_type": "code",
   "execution_count": 85,
   "id": "bf32b24b-d037-4f1c-9da1-2bb11ed5b748",
   "metadata": {},
   "outputs": [
    {
     "name": "stdin",
     "output_type": "stream",
     "text": [
      "User:  안녕\n"
     ]
    },
    {
     "name": "stdout",
     "output_type": "stream",
     "text": [
      "================================\u001b[1m Human Message \u001b[0m=================================\n",
      "\n",
      "안녕\n",
      "==================================\u001b[1m Ai Message \u001b[0m==================================\n",
      "\n",
      "안녕하세요! 다시 만나서 반갑습니다. 무엇을 도와드릴까요?\n"
     ]
    },
    {
     "name": "stdin",
     "output_type": "stream",
     "text": [
      "User:  반갑다\n"
     ]
    },
    {
     "name": "stdout",
     "output_type": "stream",
     "text": [
      "================================\u001b[1m Human Message \u001b[0m=================================\n",
      "\n",
      "반갑다\n",
      "==================================\u001b[1m Ai Message \u001b[0m==================================\n",
      "\n",
      "저도 반갑습니다! 오늘은 어떤 이야기를 나눠볼까요?\n"
     ]
    },
    {
     "name": "stdin",
     "output_type": "stream",
     "text": [
      "User:  exit\n"
     ]
    },
    {
     "name": "stdout",
     "output_type": "stream",
     "text": [
      "또 만나요!\n"
     ]
    }
   ],
   "source": [
    "# You can exit the chat loop at any time by typing `quit`, `exit`, or `q`.\n",
    "\n",
    "def stream_graph_updates(user_input: str):\n",
    "    for event in graph.stream({\"messages\": [{\"role\": \"user\", \"content\": user_input}]}, config,\n",
    "                            stream_mode=\"values\",):\n",
    "\n",
    "        # print(event['messages'][-1], '\\n\\n')\n",
    "        event['messages'][-1].pretty_print()\n",
    "\n",
    "while True:\n",
    "    try:\n",
    "        user_input = input(\"User: \")\n",
    "        if user_input.lower() in [\"quit\", \"exit\", \"q\"]:\n",
    "            print(\"또 만나요!\")\n",
    "            break\n",
    "        stream_graph_updates(user_input)\n",
    "    except:\n",
    "        break"
   ]
  },
  {
   "cell_type": "code",
   "execution_count": null,
   "id": "e42a4726-b2fb-47d7-b373-60bb94124368",
   "metadata": {},
   "outputs": [],
   "source": []
  },
  {
   "cell_type": "code",
   "execution_count": null,
   "id": "e6b8798e-8c4d-4991-81bf-ccca6c275475",
   "metadata": {},
   "outputs": [],
   "source": []
  },
  {
   "cell_type": "code",
   "execution_count": null,
   "id": "0ae54d87-3a36-4132-99dd-77bc4b01d75c",
   "metadata": {},
   "outputs": [],
   "source": []
  }
 ],
 "metadata": {
  "kernelspec": {
   "display_name": "Python 3 (ipykernel)",
   "language": "python",
   "name": "python3"
  },
  "language_info": {
   "codemirror_mode": {
    "name": "ipython",
    "version": 3
   },
   "file_extension": ".py",
   "mimetype": "text/x-python",
   "name": "python",
   "nbconvert_exporter": "python",
   "pygments_lexer": "ipython3",
   "version": "3.13.4"
  }
 },
 "nbformat": 4,
 "nbformat_minor": 5
}
