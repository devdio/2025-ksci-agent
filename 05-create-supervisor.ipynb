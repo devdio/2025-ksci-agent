{
 "cells": [
  {
   "cell_type": "markdown",
   "id": "8101a62b-9aea-44a4-8697-d117d234e40c",
   "metadata": {},
   "source": [
    "# 멀티에이전트 슈퍼바이저"
   ]
  },
  {
   "cell_type": "markdown",
   "id": "b9d7c1bc-cffd-474f-b0d3-597ba1d0f47f",
   "metadata": {},
   "source": [
    "Supervisor는 여러 전문 에이전트들을 중앙의 감독자(supervisor) 에이전트가 조율하는 **멀티 에이전트 아키텍처**입니다.  \n",
    "Supervisor 에이전트는 모든 커뮤니케이션 흐름과 작업 분배를 제어하며,  \n",
    "현재 상황(context)과 작업 요구사항에 따라 어떤 에이전트를 호출할지 결정합니다.\n",
    "\n",
    "이 튜토리얼에서는 **리서치 전문가 에이전트**와 **수학 전문가 에이전트**, 총 두 개의 전문 에이전트를 갖춘 supervisor 시스템을 구축하게 됩니다.  \n",
    "튜토리얼을 마치면 다음을 할 수 있습니다:\n",
    "\n",
    "- 전문화된 리서치 및 수학 에이전트를 구축합니다.  \n",
    "- 미리 제공된 `langgraph-supervisor`를 사용하여 이들을 조율하는 supervisor를 구축합니다.  \n",
    "- supervisor를 처음부터 직접 구성하는 방법을 익힙니다.  \n",
    "- 고급 작업 분배 로직(task delegation)을 구현합니다."
   ]
  },
  {
   "cell_type": "markdown",
   "id": "a59b9933-d65f-4388-ac59-8754002209c3",
   "metadata": {},
   "source": [
    "<img src=\"https://langchain-ai.github.io/langgraphjs/tutorials/multi_agent/img/supervisor-diagram.png\" />"
   ]
  },
  {
   "cell_type": "markdown",
   "id": "4ac6c376-d94d-45d2-8321-823c0f4e9a97",
   "metadata": {},
   "source": [
    "## 1. 환경설정"
   ]
  },
  {
   "cell_type": "code",
   "execution_count": 137,
   "id": "f3ba6a66-dee5-482b-8b87-29ad60f48ebd",
   "metadata": {},
   "outputs": [],
   "source": [
    "# %pip install -qU langgraph langgraph-supervisor langchain-tavily langchain-openai"
   ]
  },
  {
   "cell_type": "code",
   "execution_count": 138,
   "id": "af8ef691-9eaa-4d1f-9058-1212ee54c5f2",
   "metadata": {},
   "outputs": [
    {
     "name": "stdout",
     "output_type": "stream",
     "text": [
      "sk-proj-8xZc3Ppf7BtK\n",
      "tvly-dev-GUT1o6jP4Og\n"
     ]
    }
   ],
   "source": [
    "# 환경 변수 확인\n",
    "from dotenv import load_dotenv\n",
    "import os\n",
    "load_dotenv(override=True)\n",
    "\n",
    "def _set_env(var: str):\n",
    "    if not os.environ.get(var):\n",
    "        os.environ[var] = getpass.getpass(f\"{var}: \")\n",
    "\n",
    "_set_env(\"OPENAI_API_KEY\")\n",
    "_set_env(\"TAVILY_API_KEY\")\n",
    "\n",
    "print(os.environ.get(\"OPENAI_API_KEY\")[:20])\n",
    "print(os.environ.get(\"TAVILY_API_KEY\")[:20])"
   ]
  },
  {
   "cell_type": "markdown",
   "id": "0bb02087-69bb-44b0-a4e6-3ae5f81237f1",
   "metadata": {},
   "source": [
    "### 메세지 프린트 함수"
   ]
  },
  {
   "cell_type": "code",
   "execution_count": 139,
   "id": "72bbfc6f-1b20-4df7-b41f-b15ad9d37e9b",
   "metadata": {},
   "outputs": [],
   "source": [
    "# hide-cell\n",
    "from langchain_core.messages import convert_to_messages\n",
    "\n",
    "\n",
    "def pretty_print_message(message, indent=False):\n",
    "    pretty_message = message.pretty_repr(html=True)\n",
    "    if not indent:\n",
    "        print(pretty_message)\n",
    "        return\n",
    "\n",
    "    indented = \"\\n\".join(\"\\t\" + c for c in pretty_message.split(\"\\n\"))\n",
    "    print(indented)\n",
    "\n",
    "\n",
    "def pretty_print_messages(update, last_message=False):\n",
    "    is_subgraph = False\n",
    "    if isinstance(update, tuple):\n",
    "        ns, update = update\n",
    "        # skip parent graph updates in the printouts\n",
    "        if len(ns) == 0:\n",
    "            return\n",
    "\n",
    "        graph_id = ns[-1].split(\":\")[0]\n",
    "        print(f\"Update from subgraph {graph_id}:\")\n",
    "        print(\"\\n\")\n",
    "        is_subgraph = True\n",
    "\n",
    "    for node_name, node_update in update.items():\n",
    "        update_label = f\"Update from node {node_name}:\"\n",
    "        if is_subgraph:\n",
    "            update_label = \"\\t\" + update_label\n",
    "\n",
    "        print(update_label)\n",
    "        print(\"\\n\")\n",
    "\n",
    "        messages = convert_to_messages(node_update[\"messages\"])\n",
    "        if last_message:\n",
    "            messages = messages[-1:]\n",
    "\n",
    "        for m in messages:\n",
    "            pretty_print_message(m, indent=is_subgraph)\n",
    "        print(\"\\n\")"
   ]
  },
  {
   "cell_type": "markdown",
   "id": "b2eb18e1-2a89-4478-b1e5-f26967e17d3f",
   "metadata": {},
   "source": [
    "## 2. 작업자 에이전트 생성"
   ]
  },
  {
   "cell_type": "markdown",
   "id": "612cc1f1-cf9f-40b0-9f31-479d88b83a82",
   "metadata": {},
   "source": [
    "먼저, 두 개의 전문 워커 에이전트인 리서치 에이전트와 수학 에이전트를 만들어보겠습니다:\n",
    "\n",
    "- 리서치 에이전트는 Tavily API를 사용한 웹 검색 도구에 접근할 수 있습니다.\n",
    "- 수학 에이전트는 더하기, 곱하기, 나누기와 같은 간단한 수학 도구에 접근할 수 있습니다."
   ]
  },
  {
   "cell_type": "markdown",
   "id": "7f4b1237-70da-4fb2-9a4d-88298182b4e1",
   "metadata": {},
   "source": [
    "### 리서치 에이전트"
   ]
  },
  {
   "cell_type": "code",
   "execution_count": 140,
   "id": "edebcc91-47d7-4ef2-b44c-2a7f0826eab9",
   "metadata": {},
   "outputs": [],
   "source": [
    "from langchain_tavily import TavilySearch\n",
    "\n",
    "web_search = TavilySearch(max_results=3)"
   ]
  },
  {
   "cell_type": "code",
   "execution_count": 141,
   "id": "65d37f29-0c54-43ef-92d7-2df61a041a77",
   "metadata": {},
   "outputs": [
    {
     "data": {
      "text/plain": [
       "'도널드 존 트럼프(영어: Donald John Trump, 1946년 6월 14일~)는 미국의 기업인, 부동산 재벌 출신 정치인이다. 미국의 제45, 47대 대통령이다.'"
      ]
     },
     "execution_count": 141,
     "metadata": {},
     "output_type": "execute_result"
    }
   ],
   "source": [
    "# 도구 테스트 \n",
    "web_search_results = web_search.invoke(\"2025년 미국의 대통령은 누구인가?\")\n",
    "web_search_results[\"results\"][0][\"content\"]"
   ]
  },
  {
   "cell_type": "code",
   "execution_count": 142,
   "id": "e463ab7e-032e-45cf-b5a7-1fc0c4072046",
   "metadata": {},
   "outputs": [],
   "source": [
    "from langgraph.prebuilt import create_react_agent\n",
    "from langgraph.graph import MessagesState\n",
    "from langgraph.types import Command\n",
    "from typing import Literal\n",
    "from langchain_core.messages import BaseMessage, SystemMessage, HumanMessage\n",
    "\n",
    "def search_node(state: MessagesState) -> Command[Literal[\"supervisor\"]]:\n",
    "    research_agent = create_react_agent(\n",
    "        model=\"openai:gpt-4o-mini\",\n",
    "        tools=[web_search],\n",
    "        prompt=(\n",
    "            \"당신은 리서치 에이전트입니다.\\n\\n\"\n",
    "            \"지침:\\n\"\n",
    "            \"- 오직 리서치(조사) 관련 작업만 도와야 하며, 수학 계산은 절대 하지 마세요\\n\"\n",
    "            \"- 작업이 완료되면 결과를 감독자(supervisor)에게 바로 전달하세요\\n\"\n",
    "            \"- 작업 결과만 응답하세요. 그 외의 텍스트는 절대 포함하지 마세요.\"\n",
    "    \n",
    "        ),\n",
    "        name=\"research_agent\",\n",
    "    )\n",
    "\n",
    "    print(\"===== SEARCH AGENT =====\")\n",
    "    \n",
    "    result = research_agent.invoke(state)\n",
    "    return Command(\n",
    "        update={\n",
    "            \"messages\": [\n",
    "                HumanMessage(content=result[\"messages\"][-1].content, name=\"rag\")\n",
    "            ]\n",
    "        },\n",
    "        goto=\"supervisor\",\n",
    "    )"
   ]
  },
  {
   "cell_type": "code",
   "execution_count": 143,
   "id": "1490c0b6-2cd5-4cec-b374-75051ecfbbda",
   "metadata": {},
   "outputs": [
    {
     "name": "stdout",
     "output_type": "stream",
     "text": [
      "===== SEARCH AGENT =====\n",
      "🔍 DB 쿼리 결과:\n",
      "[rag] 2025년 현재 미국의 대통령은 도널드 트럼프입니다.\n",
      "다음 이동: supervisor\n"
     ]
    }
   ],
   "source": [
    "## 테스트 \n",
    "\n",
    "# 테스트용 입력 생성\n",
    "initial_state = MessagesState(messages=[\n",
    "    HumanMessage(content=\"2025년 현재 미국의 대통령은 누구인가?\", name=\"user\")\n",
    "])\n",
    "\n",
    "# 함수 호출 및 결과 확인\n",
    "result = search_node(initial_state)\n",
    "\n",
    "# 6. 출력 보기\n",
    "print(\"🔍 DB 쿼리 결과:\")\n",
    "for msg in result.update[\"messages\"]:\n",
    "    print(f\"[{msg.name}] {msg.content}\")\n",
    "print(f\"다음 이동: {result.goto}\")"
   ]
  },
  {
   "cell_type": "code",
   "execution_count": null,
   "id": "7afb33ce-14f1-488e-aafb-194652ae871e",
   "metadata": {},
   "outputs": [],
   "source": []
  },
  {
   "cell_type": "markdown",
   "id": "9e0893c3-4a98-4add-be0e-98ae99a2f891",
   "metadata": {},
   "source": [
    "### 수학 에이전트\n",
    "\n",
    "수학적인 계산을 담당하는 커스텀 도구를 생성합니다."
   ]
  },
  {
   "cell_type": "code",
   "execution_count": 144,
   "id": "1c5679d9-f910-41aa-be87-d627a7622f0b",
   "metadata": {},
   "outputs": [],
   "source": [
    "from langchain_core.tools import tool\n",
    "\n",
    "@tool\n",
    "def add(a: float, b: float):\n",
    "    \"\"\"Add two numbers.\"\"\"\n",
    "    return a + b\n",
    "\n",
    "@tool\n",
    "def multiply(a: float, b: float):\n",
    "    \"\"\"Multiply two numbers.\"\"\"\n",
    "    return a * b\n",
    "\n",
    "@tool\n",
    "def divide(a: float, b: float):\n",
    "    \"\"\"Divide two numbers.\"\"\"\n",
    "    return a / b"
   ]
  },
  {
   "cell_type": "code",
   "execution_count": 145,
   "id": "84a5f821-1afe-4240-8ec0-3c6d6976dc52",
   "metadata": {},
   "outputs": [],
   "source": [
    "# from langchain.agents import create_react_agent\n",
    "from langgraph.prebuilt import create_react_agent\n",
    "from langchain_openai import ChatOpenAI\n",
    "\n",
    "def math_node(state: MessagesState) -> Command[Literal[\"supervisor\"]]:\n",
    "    model = ChatOpenAI(model=\"gpt-4o-mini\", temperature=0)\n",
    "    math_agent = create_react_agent(\n",
    "        model=model,\n",
    "        tools=[add, multiply, divide],\n",
    "        prompt=(\n",
    "            \"당신은 수학 에이전트입니다.\\n\\n\"\n",
    "            \"지침:\\n\"\n",
    "            \"- 오직 수학 관련 작업만 도와야 합니다\\n\"\n",
    "            \"- 작업이 완료되면 결과를 감독자(supervisor)에게 바로 전달하세요\\n\"\n",
    "            \"- 작업 결과만 응답하세요. 그 외의 텍스트는 절대 포함하지 마세요.\"\n",
    "        ),\n",
    "        name=\"math_agent\",\n",
    "    )\n",
    "\n",
    "    print(\"===== MATH AGENT =====\")\n",
    "\n",
    "    result = math_agent.invoke(state)\n",
    "    return Command(\n",
    "        update={\n",
    "            \"messages\": [\n",
    "                HumanMessage(content=result[\"messages\"][-1].content, name=\"rag\")\n",
    "            ]\n",
    "        },\n",
    "        goto=\"supervisor\",\n",
    "    )"
   ]
  },
  {
   "cell_type": "code",
   "execution_count": 146,
   "id": "3616fb11-20d0-47f2-a1d6-565967c3b14b",
   "metadata": {},
   "outputs": [
    {
     "name": "stdout",
     "output_type": "stream",
     "text": [
      "===== MATH AGENT =====\n",
      "🔍 DB 쿼리 결과:\n",
      "[rag] 216.0\n",
      "다음 이동: supervisor\n"
     ]
    }
   ],
   "source": [
    "## 테스트 \n",
    "\n",
    "# 테스트용 입력 생성\n",
    "initial_state = MessagesState(messages=[\n",
    "    HumanMessage(content=\"(2 + 4) **3 의 계산 결과는?\", name=\"user\")\n",
    "])\n",
    "\n",
    "# 함수 호출 및 결과 확인\n",
    "result = math_node(initial_state)\n",
    "\n",
    "# 6. 출력 보기\n",
    "print(\"🔍 DB 쿼리 결과:\")\n",
    "for msg in result.update[\"messages\"]:\n",
    "    print(f\"[{msg.name}] {msg.content}\")\n",
    "print(f\"다음 이동: {result.goto}\")"
   ]
  },
  {
   "cell_type": "markdown",
   "id": "549ada67-d372-4420-b529-de947bfb9607",
   "metadata": {},
   "source": [
    "### 슈퍼바이저 에이전트 \n",
    "`langgraph-supervisor`라이브러리를 사용하여 에이전트 생성하기"
   ]
  },
  {
   "cell_type": "code",
   "execution_count": 147,
   "id": "082e030f-f105-486a-971e-4f3ba8ed1014",
   "metadata": {},
   "outputs": [],
   "source": [
    "from pydantic import BaseModel, Field\n",
    "\n",
    "class Router(BaseModel):\n",
    "    next: Literal[\"search_agent\", \"math_agent\", \"__end__\"] = Field(\n",
    "        description=\"워크플로우 순서에서 다음으로 활성화할 전문가를 결정합니다: \"\n",
    "                    \"'research_agent'는 사용자 입력에 웹 검색이 필요한 경우 사용됩니다. \"\n",
    "                    \"'math_agent'는 수학적 계산을 실행하는 경우 사용됩니다. \"\n",
    "    )\n",
    "    reason: str = Field(\n",
    "        description=\"특정 전문가를 선택한 결정에 대한 자세한 정당화로, 선택한 이유와 이 선택이 과업을 완수하는 데 어떻게 기여하는지를 설명합니다.\"\n",
    "    )"
   ]
  },
  {
   "cell_type": "code",
   "execution_count": 148,
   "id": "d6929142-b452-4a54-bd23-c4cce0ccd3f6",
   "metadata": {},
   "outputs": [],
   "source": [
    "def supervisor_node(state: MessagesState) -> Command[Literal[\"search_agent\", \"math_agent\", \"__end__\"]]:\n",
    "\n",
    "    system_prompt = ('''\n",
    "\n",
    "        \"당신은 두 개의 전문가 에이전트를 관리하는 감독자입니다:\\n\"\n",
    "        \"- 'research_agent': 사용자 입력에 웹 검색이 필요한 경우 이 에이전트에게 할당하세요\\n\"\n",
    "        \"- 'math_agent': 수학적 계산을 실행하는 경우 이 에이전트에게 할당하세요\\n\"\n",
    "        \"한 번에 하나의 에이전트에게만 작업을 할당하고, 에이전트를 병렬로 호출하지 마세요.\\n\"\n",
    "        \"당신 스스로는 어떤 작업도 수행하지 마세요.\"\n",
    "        \n",
    "        **당신의 책임**:\n",
    "        1. 각 결정 시점에서 작업을 가장 적절한 에이전트에게 라우팅합니다.\n",
    "        2. 중복되는 에이전트 할당을 피하여 워크플로우의 효율성을 유지합니다.\n",
    "        3. 사용자의 질문에 대한 충분한 응답이 생성되었고, 더 이상 추가적인 작업이 필요하지 않다면 'FINISH' 또는 '__end__'를 리턴하십시오.\n",
    "    ''')\n",
    "\n",
    "    # messages = [\n",
    "    #     SystemMessage(content=system_prompt),\n",
    "    # ] + state[\"messages\"]\n",
    "\n",
    "    model = ChatOpenAI(model=\"gpt-4o-mini\", temperature=0)\n",
    "    supervisor = create_react_agent(\n",
    "        model=model,\n",
    "        tools=[],\n",
    "        prompt=system_prompt,\n",
    "        response_format=Router,\n",
    "        name=\"supervisor\",\n",
    "    )\n",
    "\n",
    "    # response = supervisor.invoke(messages)\n",
    "    response = supervisor.invoke(state)\n",
    "    print(\"📌 RESPONSE\", response)\n",
    "    \n",
    "    goto = response[\"structured_response\"].next\n",
    "    reason = response[\"structured_response\"].reason\n",
    "\n",
    "    print(\"👶GOTO\", goto)\n",
    "    print(\"👶REASON\", reason)\n",
    "    \n",
    "    if goto == \"FINISH\" or goto == \"__end__\":\n",
    "        goto = END\n",
    "    \n",
    "    print(f\"📌--- Workflow Transition: Supervisor → {goto.upper()} ---\")\n",
    "\n",
    "    return Command(\n",
    "        update={\n",
    "            \"messages\": [\n",
    "                HumanMessage(content=reason, name=\"supervisor\")\n",
    "            ]\n",
    "        },\n",
    "        goto=goto,\n",
    "    )"
   ]
  },
  {
   "cell_type": "markdown",
   "id": "3110b880-fb6d-4ee5-ad82-dd8b278be426",
   "metadata": {},
   "source": [
    "## 그래프 생성"
   ]
  },
  {
   "cell_type": "code",
   "execution_count": 149,
   "id": "b585c6c6-abc5-4e6b-837c-550ff0ca8cf4",
   "metadata": {},
   "outputs": [],
   "source": [
    "from langgraph.graph import StateGraph, START, END\n",
    "\n",
    "builder = StateGraph(MessagesState)\n",
    "builder.add_node(\"supervisor\", supervisor_node)\n",
    "builder.add_node(\"search_agent\", search_node)\n",
    "builder.add_node(\"math_agent\", math_node)\n",
    "builder.add_edge(START, \"supervisor\")\n",
    "graph = builder.compile()"
   ]
  },
  {
   "cell_type": "code",
   "execution_count": 150,
   "id": "af8abf9b-da99-4fed-8131-115cd0b9843f",
   "metadata": {},
   "outputs": [
    {
     "data": {
      "image/png": "[encoded data removed]",
      "text/plain": [
       "<IPython.core.display.Image object>"
      ]
     },
     "metadata": {},
     "output_type": "display_data"
    }
   ],
   "source": [
    "from IPython.display import Image, display\n",
    "\n",
    "try:\n",
    "    display(Image(graph.get_graph().draw_mermaid_png()))\n",
    "except Exception:\n",
    "    pass"
   ]
  },
  {
   "cell_type": "code",
   "execution_count": 151,
   "id": "315a8bcd-bd01-4ded-aeef-13620dc157c5",
   "metadata": {},
   "outputs": [],
   "source": [
    "## 실행"
   ]
  },
  {
   "cell_type": "code",
   "execution_count": 152,
   "id": "50dbf231-0e06-4109-9a90-65704975eeb5",
   "metadata": {},
   "outputs": [
    {
     "name": "stdout",
     "output_type": "stream",
     "text": [
      "(('supervisor:6f0bfb3b-a31b-d038-e901-9d13e7da02aa',), {'agent': {'messages': [AIMessage(content=\"수학적 계산이 필요하므로 'math_agent'에게 작업을 할당하겠습니다.\", additional_kwargs={'refusal': None}, response_metadata={'token_usage': {'completion_tokens': 20, 'prompt_tokens': 247, 'total_tokens': 267, 'completion_tokens_details': {'accepted_prediction_tokens': 0, 'audio_tokens': 0, 'reasoning_tokens': 0, 'rejected_prediction_tokens': 0}, 'prompt_tokens_details': {'audio_tokens': 0, 'cached_tokens': 0}}, 'model_name': 'gpt-4o-mini-2024-07-18', 'system_fingerprint': 'fp_34a54ae93c', 'id': 'chatcmpl-Bqb25F8NWitFnLOv8fLdV9Lqo1cYK', 'service_tier': 'default', 'finish_reason': 'stop', 'logprobs': None}, name='supervisor', id='run--40268ae1-7c68-4c94-a592-501b3f2f57de-0', usage_metadata={'input_tokens': 247, 'output_tokens': 20, 'total_tokens': 267, 'input_token_details': {'audio': 0, 'cache_read': 0}, 'output_token_details': {'audio': 0, 'reasoning': 0}})]}})\n",
      "----\n",
      "📌 RESPONSE {'messages': [HumanMessage(content='(3 * 4) **2 의 결과값은.', additional_kwargs={}, response_metadata={}, id='2aa1cf51-19bf-471a-8fce-4d6c2cad277a'), AIMessage(content=\"수학적 계산이 필요하므로 'math_agent'에게 작업을 할당하겠습니다.\", additional_kwargs={'refusal': None}, response_metadata={'token_usage': {'completion_tokens': 20, 'prompt_tokens': 247, 'total_tokens': 267, 'completion_tokens_details': {'accepted_prediction_tokens': 0, 'audio_tokens': 0, 'reasoning_tokens': 0, 'rejected_prediction_tokens': 0}, 'prompt_tokens_details': {'audio_tokens': 0, 'cached_tokens': 0}}, 'model_name': 'gpt-4o-mini-2024-07-18', 'system_fingerprint': 'fp_34a54ae93c', 'id': 'chatcmpl-Bqb25F8NWitFnLOv8fLdV9Lqo1cYK', 'service_tier': 'default', 'finish_reason': 'stop', 'logprobs': None}, name='supervisor', id='run--40268ae1-7c68-4c94-a592-501b3f2f57de-0', usage_metadata={'input_tokens': 247, 'output_tokens': 20, 'total_tokens': 267, 'input_token_details': {'audio': 0, 'cache_read': 0}, 'output_token_details': {'audio': 0, 'reasoning': 0}})], 'structured_response': Router(next='math_agent', reason='(3 * 4) ** 2는 수학적 계산을 포함하므로, 수학 관련 작업을 수행할 수 있는 에이전트에게 요청합니다.')}\n",
      "👶GOTO math_agent\n",
      "👶REASON (3 * 4) ** 2는 수학적 계산을 포함하므로, 수학 관련 작업을 수행할 수 있는 에이전트에게 요청합니다.\n",
      "📌--- Workflow Transition: Supervisor → MATH_AGENT ---\n",
      "(('supervisor:6f0bfb3b-a31b-d038-e901-9d13e7da02aa',), {'generate_structured_response': {'structured_response': Router(next='math_agent', reason='(3 * 4) ** 2는 수학적 계산을 포함하므로, 수학 관련 작업을 수행할 수 있는 에이전트에게 요청합니다.')}})\n",
      "----\n",
      "((), {'supervisor': {'messages': [HumanMessage(content='(3 * 4) ** 2는 수학적 계산을 포함하므로, 수학 관련 작업을 수행할 수 있는 에이전트에게 요청합니다.', additional_kwargs={}, response_metadata={}, name='supervisor')]}})\n",
      "----\n",
      "===== MATH AGENT =====\n",
      "(('math_agent:e2b4024f-d6c7-08da-01f1-93d67e7b512e',), {'agent': {'messages': [AIMessage(content='', additional_kwargs={'tool_calls': [{'id': 'call_WVfBA4q1vUoZPvCZVOfCv3NO', 'function': {'arguments': '{\"a\":3,\"b\":4}', 'name': 'multiply'}, 'type': 'function'}], 'refusal': None}, response_metadata={'token_usage': {'completion_tokens': 17, 'prompt_tokens': 209, 'total_tokens': 226, 'completion_tokens_details': {'accepted_prediction_tokens': 0, 'audio_tokens': 0, 'reasoning_tokens': 0, 'rejected_prediction_tokens': 0}, 'prompt_tokens_details': {'audio_tokens': 0, 'cached_tokens': 0}}, 'model_name': 'gpt-4o-mini-2024-07-18', 'system_fingerprint': 'fp_62a23a81ef', 'id': 'chatcmpl-Bqb26ZDw981bnBWtfyk5czEfWYUSW', 'service_tier': 'default', 'finish_reason': 'tool_calls', 'logprobs': None}, name='math_agent', id='run--1bcfb09e-5bf4-428b-ba4f-34b5c17fdcfa-0', tool_calls=[{'name': 'multiply', 'args': {'a': 3, 'b': 4}, 'id': 'call_WVfBA4q1vUoZPvCZVOfCv3NO', 'type': 'tool_call'}], usage_metadata={'input_tokens': 209, 'output_tokens': 17, 'total_tokens': 226, 'input_token_details': {'audio': 0, 'cache_read': 0}, 'output_token_details': {'audio': 0, 'reasoning': 0}})]}})\n",
      "----\n",
      "(('math_agent:e2b4024f-d6c7-08da-01f1-93d67e7b512e',), {'tools': {'messages': [ToolMessage(content='12.0', name='multiply', id='8055388e-6862-42c5-a075-40770171f272', tool_call_id='call_WVfBA4q1vUoZPvCZVOfCv3NO')]}})\n",
      "----\n",
      "(('math_agent:e2b4024f-d6c7-08da-01f1-93d67e7b512e',), {'agent': {'messages': [AIMessage(content='', additional_kwargs={'tool_calls': [{'id': 'call_3NqvxM6HtHlmOOugDy5pzOEN', 'function': {'arguments': '{\"a\":12,\"b\":12}', 'name': 'multiply'}, 'type': 'function'}], 'refusal': None}, response_metadata={'token_usage': {'completion_tokens': 17, 'prompt_tokens': 239, 'total_tokens': 256, 'completion_tokens_details': {'accepted_prediction_tokens': 0, 'audio_tokens': 0, 'reasoning_tokens': 0, 'rejected_prediction_tokens': 0}, 'prompt_tokens_details': {'audio_tokens': 0, 'cached_tokens': 0}}, 'model_name': 'gpt-4o-mini-2024-07-18', 'system_fingerprint': 'fp_62a23a81ef', 'id': 'chatcmpl-Bqb27S6LvLK2TZiDN0Jr7nhMGvFrK', 'service_tier': 'default', 'finish_reason': 'tool_calls', 'logprobs': None}, name='math_agent', id='run--c8aa6eac-68b1-4fc2-a65d-db96e6c5bf8d-0', tool_calls=[{'name': 'multiply', 'args': {'a': 12, 'b': 12}, 'id': 'call_3NqvxM6HtHlmOOugDy5pzOEN', 'type': 'tool_call'}], usage_metadata={'input_tokens': 239, 'output_tokens': 17, 'total_tokens': 256, 'input_token_details': {'audio': 0, 'cache_read': 0}, 'output_token_details': {'audio': 0, 'reasoning': 0}})]}})\n",
      "----\n",
      "(('math_agent:e2b4024f-d6c7-08da-01f1-93d67e7b512e',), {'tools': {'messages': [ToolMessage(content='144.0', name='multiply', id='29bdb41e-d5ba-4ea7-a1f4-288abd5a230e', tool_call_id='call_3NqvxM6HtHlmOOugDy5pzOEN')]}})\n",
      "----\n",
      "(('math_agent:e2b4024f-d6c7-08da-01f1-93d67e7b512e',), {'agent': {'messages': [AIMessage(content='144.0', additional_kwargs={'refusal': None}, response_metadata={'token_usage': {'completion_tokens': 4, 'prompt_tokens': 269, 'total_tokens': 273, 'completion_tokens_details': {'accepted_prediction_tokens': 0, 'audio_tokens': 0, 'reasoning_tokens': 0, 'rejected_prediction_tokens': 0}, 'prompt_tokens_details': {'audio_tokens': 0, 'cached_tokens': 0}}, 'model_name': 'gpt-4o-mini-2024-07-18', 'system_fingerprint': 'fp_62a23a81ef', 'id': 'chatcmpl-Bqb29PDn0A16dOKmCmrUSBHtqKsSY', 'service_tier': 'default', 'finish_reason': 'stop', 'logprobs': None}, name='math_agent', id='run--450e59a4-d5e4-47d5-99b1-27451aa7ae1d-0', usage_metadata={'input_tokens': 269, 'output_tokens': 4, 'total_tokens': 273, 'input_token_details': {'audio': 0, 'cache_read': 0}, 'output_token_details': {'audio': 0, 'reasoning': 0}})]}})\n",
      "----\n",
      "((), {'math_agent': {'messages': [HumanMessage(content='144.0', additional_kwargs={}, response_metadata={}, name='rag')]}})\n",
      "----\n",
      "(('supervisor:55bee7bf-5b4a-edcf-469b-dcdd9d71e011',), {'agent': {'messages': [AIMessage(content='FINISH', additional_kwargs={'refusal': None}, response_metadata={'token_usage': {'completion_tokens': 2, 'prompt_tokens': 299, 'total_tokens': 301, 'completion_tokens_details': {'accepted_prediction_tokens': 0, 'audio_tokens': 0, 'reasoning_tokens': 0, 'rejected_prediction_tokens': 0}, 'prompt_tokens_details': {'audio_tokens': 0, 'cached_tokens': 0}}, 'model_name': 'gpt-4o-mini-2024-07-18', 'system_fingerprint': 'fp_34a54ae93c', 'id': 'chatcmpl-Bqb2AsctPv7nbOPDj0SdKYnfgoC3l', 'service_tier': 'default', 'finish_reason': 'stop', 'logprobs': None}, name='supervisor', id='run--8e646c15-fd8a-4039-91b0-6217a9bf6791-0', usage_metadata={'input_tokens': 299, 'output_tokens': 2, 'total_tokens': 301, 'input_token_details': {'audio': 0, 'cache_read': 0}, 'output_token_details': {'audio': 0, 'reasoning': 0}})]}})\n",
      "----\n"
     ]
    },
    {
     "name": "stderr",
     "output_type": "stream",
     "text": [
      "Task supervisor with path ('__pregel_pull', 'supervisor') wrote to unknown channel branch:to:__end__, ignoring it.\n"
     ]
    },
    {
     "name": "stdout",
     "output_type": "stream",
     "text": [
      "📌 RESPONSE(('supervisor:55bee7bf-5b4a-edcf-469b-dcdd9d71e011',), {'generate_structured_response': {'structured_response': Router(next='__end__', reason='(3 * 4) ** 2의 계산은 3과 4를 곱한 후, 그 결과를 제곱하는 것입니다. 3 * 4는 12이고, 12를 제곱하면 144가 됩니다. 따라서 결과값은 144입니다.')}})\n",
      "----\n",
      " {'messages': [HumanMessage(content='(3 * 4) **2 의 결과값은.', additional_kwargs={}, response_metadata={}, id='2aa1cf51-19bf-471a-8fce-4d6c2cad277a'), HumanMessage(content='(3 * 4) ** 2는 수학적 계산을 포함하므로, 수학 관련 작업을 수행할 수 있는 에이전트에게 요청합니다.', additional_kwargs={}, response_metadata={}, name='supervisor', id='a784ebdc-c1b7-4b46-804c-8945cef5f189'), HumanMessage(content='144.0', additional_kwargs={}, response_metadata={}, name='rag', id='e21b9a33-0a0e-4406-a681-ec2801c6c7d9'), AIMessage(content='FINISH', additional_kwargs={'refusal': None}, response_metadata={'token_usage': {'completion_tokens': 2, 'prompt_tokens': 299, 'total_tokens': 301, 'completion_tokens_details': {'accepted_prediction_tokens': 0, 'audio_tokens': 0, 'reasoning_tokens': 0, 'rejected_prediction_tokens': 0}, 'prompt_tokens_details': {'audio_tokens': 0, 'cached_tokens': 0}}, 'model_name': 'gpt-4o-mini-2024-07-18', 'system_fingerprint': 'fp_34a54ae93c', 'id': 'chatcmpl-Bqb2AsctPv7nbOPDj0SdKYnfgoC3l', 'service_tier': 'default', 'finish_reason': 'stop', 'logprobs': None}, name='supervisor', id='run--8e646c15-fd8a-4039-91b0-6217a9bf6791-0', usage_metadata={'input_tokens': 299, 'output_tokens': 2, 'total_tokens': 301, 'input_token_details': {'audio': 0, 'cache_read': 0}, 'output_token_details': {'audio': 0, 'reasoning': 0}})], 'structured_response': Router(next='__end__', reason='(3 * 4) ** 2의 계산은 3과 4를 곱한 후, 그 결과를 제곱하는 것입니다. 3 * 4는 12이고, 12를 제곱하면 144가 됩니다. 따라서 결과값은 144입니다.')}\n",
      "👶GOTO __end__\n",
      "👶REASON (3 * 4) ** 2의 계산은 3과 4를 곱한 후, 그 결과를 제곱하는 것입니다. 3 * 4는 12이고, 12를 제곱하면 144가 됩니다. 따라서 결과값은 144입니다.\n",
      "📌--- Workflow Transition: Supervisor → __END__ ---\n",
      "((), {'supervisor': {'messages': [HumanMessage(content='(3 * 4) ** 2의 계산은 3과 4를 곱한 후, 그 결과를 제곱하는 것입니다. 3 * 4는 12이고, 12를 제곱하면 144가 됩니다. 따라서 결과값은 144입니다.', additional_kwargs={}, response_metadata={}, name='supervisor')]}})\n",
      "----\n"
     ]
    }
   ],
   "source": [
    "input_question = \"(3 * 4) **2 의 결과값은.\"\n",
    "for s in graph.stream(\n",
    "    {\"messages\": [(\"user\", input_question)]}, \n",
    "    subgraphs=True\n",
    "):\n",
    "    print(s)\n",
    "    print(\"----\")"
   ]
  },
  {
   "cell_type": "code",
   "execution_count": null,
   "id": "fb853fd0-44e5-4e1c-949b-8b90511334af",
   "metadata": {},
   "outputs": [],
   "source": []
  }
 ],
 "metadata": {
  "kernelspec": {
   "display_name": "Python 3 (ipykernel)",
   "language": "python",
   "name": "python3"
  },
  "language_info": {
   "codemirror_mode": {
    "name": "ipython",
    "version": 3
   },
   "file_extension": ".py",
   "mimetype": "text/x-python",
   "name": "python",
   "nbconvert_exporter": "python",
   "pygments_lexer": "ipython3",
   "version": "3.12.4"
  }
 },
 "nbformat": 4,
 "nbformat_minor": 5
}
