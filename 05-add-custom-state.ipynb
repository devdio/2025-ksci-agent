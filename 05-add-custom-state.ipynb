{
 "cells": [
  {
   "cell_type": "markdown",
   "id": "d1ddb10b-584b-4ad6-ba50-5ea0d23afeb9",
   "metadata": {},
   "source": [
    "# 커스텀 상태 정의"
   ]
  },
  {
   "cell_type": "markdown",
   "id": "e5c0c1c8-f166-438a-9737-36208e5076da",
   "metadata": {},
   "source": [
    "이번 튜토리얼에서는 상태의 메시지 목록에 의존하지 않고 복잡한 동작을 정의하기 위해 상태에 새로운 필드를 추가합니다. 챗봇은 검색 도구를 사용하여 특정 정보를 찾아 검토를 위해 담당자에게 전달합니다."
   ]
  },
  {
   "cell_type": "markdown",
   "id": "f1eab7ac-14cc-4c0c-a0a1-36c71397fb2d",
   "metadata": {},
   "source": [
    "## 1. 환경 설정"
   ]
  },
  {
   "cell_type": "code",
   "execution_count": 253,
   "id": "f5016006-30ae-47de-95a3-d0245be47a8d",
   "metadata": {},
   "outputs": [
    {
     "name": "stdout",
     "output_type": "stream",
     "text": [
      "tvly-dev-GUT1o6jP4Og\n"
     ]
    }
   ],
   "source": [
    "# 환경 변수 확인\n",
    "from dotenv import load_dotenv\n",
    "import os\n",
    "load_dotenv(override=True)\n",
    "\n",
    "TAVILY_API_KEY= os.environ.get(\"TAVILY_API_KEY\")\n",
    "print(TAVILY_API_KEY[:20])"
   ]
  },
  {
   "cell_type": "markdown",
   "id": "254b9fdb-b086-4848-a892-53b1e27bd2cf",
   "metadata": {},
   "source": [
    "## 2. 상태에 키 추가"
   ]
  },
  {
   "cell_type": "code",
   "execution_count": 254,
   "id": "080c19ab-f961-4c8a-bd54-e6c375281953",
   "metadata": {},
   "outputs": [],
   "source": [
    "from typing import Annotated\n",
    "from typing_extensions import TypedDict\n",
    "from langgraph.graph.message import add_messages\n",
    "\n",
    "class State(TypedDict):\n",
    "    messages: Annotated[list, add_messages]\n",
    "    # 키 추가\n",
    "    name: str\n",
    "    birthday: str"
   ]
  },
  {
   "cell_type": "markdown",
   "id": "27529a04-33fe-4d58-8af3-460d884e41bd",
   "metadata": {},
   "source": [
    "## 3. 상태 업데이트"
   ]
  },
  {
   "cell_type": "markdown",
   "id": "55d343b9-b9fe-4337-92b9-2cab1e4949cd",
   "metadata": {},
   "source": [
    "State의 추가된 키 값들을 도구 내부에서 업데이트 합니다."
   ]
  },
  {
   "cell_type": "code",
   "execution_count": 255,
   "id": "05d6637f-d4e6-4247-bf4d-c240c7f24283",
   "metadata": {},
   "outputs": [],
   "source": [
    "from langchain_core.messages import ToolMessage\n",
    "from langchain_core.tools import InjectedToolCallId, tool\n",
    "from langgraph.types import Command, interrupt\n",
    "\n",
    "# 📌 tool 정의\n",
    "# 상태 업데이트를 위해 ToolMessage를 생성하기 때문에, 일반적으로 해당 도구 호출에 대응하는 ID가 필요합니다.\n",
    "# 이때 LangChain의 InjectedToolCallId를 사용하면, 이 인자가 도구의 스키마에서 모델에게 노출되지 않아야 함을 나타낼 수 있습니다.\n",
    "@tool\n",
    "def human_assistance(\n",
    "    name: str, birthday: str, tool_call_id: Annotated[str, InjectedToolCallId]\n",
    ") -> str:\n",
    "    \"\"\"사람의 개입을 요청합니다.\"\"\"\n",
    "    human_response = interrupt(\n",
    "        {\n",
    "            \"question\": \"이 내용이 정확한가요?\",\n",
    "            \"name\": name,\n",
    "            \"birthday\": birthday,\n",
    "        },\n",
    "    )\n",
    "    \n",
    "    # 정보가 정확하다면, 상태를 그대로 업데이트하세요.\n",
    "    if human_response.get(\"correct\", \"\").lower().startswith(\"y\"):\n",
    "        verified_name = name\n",
    "        verified_birthday = birthday\n",
    "        response = \"정확한 정보입니다.\"\n",
    "    # 그렇지 않은 경우, 사람의 개입으로부터 정보를 입력받으세요.\n",
    "    else:\n",
    "        verified_name = human_response.get(\"name\", name)\n",
    "        verified_birthday = human_response.get(\"birthday\", birthday)\n",
    "        response = f\"정보를 다음과 같이 수정했으므로 출시일에 생일의 데이터를 적용하세요: {human_response}\"\n",
    "\n",
    "    # 이번에는 도구 내부에서 ToolMessage를 사용하여 상태를 명시적으로 업데이트합니다.\n",
    "    state_update = {\n",
    "        \"name\": verified_name,\n",
    "        \"birthday\": verified_birthday,\n",
    "        \"messages\": [ToolMessage(response, tool_call_id=tool_call_id)],\n",
    "    }\n",
    "    print(\"*** UPDATE :\", state_update)\n",
    "    # 도구에서 상태를 업데이트하기 위해 Command 객체를 반환합니다.\n",
    "    return Command(update=state_update)"
   ]
  },
  {
   "cell_type": "code",
   "execution_count": 256,
   "id": "c9aa7f60-b0f2-46a0-a351-bf183c7fa29e",
   "metadata": {},
   "outputs": [
    {
     "data": {
      "text/plain": [
       "<langgraph.graph.state.StateGraph at 0x1e39318d4f0>"
      ]
     },
     "execution_count": 256,
     "metadata": {},
     "output_type": "execute_result"
    }
   ],
   "source": [
    "from typing import Annotated\n",
    "\n",
    "from langchain_tavily import TavilySearch\n",
    "from langchain_core.tools import tool\n",
    "from typing_extensions import TypedDict\n",
    "\n",
    "from langgraph.graph import StateGraph, START, END\n",
    "from langgraph.graph.message import add_messages\n",
    "from langgraph.prebuilt import ToolNode, tools_condition\n",
    "from langchain_openai import ChatOpenAI\n",
    "\n",
    "from langgraph.types import Command, interrupt\n",
    "\n",
    "class State(TypedDict):\n",
    "    messages: Annotated[list, add_messages]\n",
    "    name: str  # ← 추가\n",
    "    birthday: str  # ← 추가\n",
    "\n",
    "graph_builder = StateGraph(State)\n",
    "\n",
    "tool = TavilySearch(max_results=2)\n",
    "# 도구 추가\n",
    "tools = [tool, human_assistance]\n",
    "    \n",
    "def chatbot(state: State):\n",
    "    llm = ChatOpenAI(model=\"gpt-4o-mini\", temperature=0)\n",
    "    llm_with_tools = llm.bind_tools(tools)\n",
    "\n",
    "\n",
    "    # # ✅ name과 birthday가 있으면 system message로 삽입 \n",
    "    # system_msg = \"\"\n",
    "    # if \"name\" in state:\n",
    "    #     system_msg += f\"name: {state['name']}\\n\"\n",
    "    # if \"birthday\" in state:\n",
    "    #     system_msg += f\"birthday: {state['birthday']}\"\n",
    "\n",
    "    # # 전체 메시지 구성\n",
    "    # messages = []\n",
    "    # if system_msg.strip():\n",
    "    #     messages.append({\"role\": \"system\", \"content\": system_msg})\n",
    "    # messages.extend(state[\"messages\"])  # 기존 user/ai message들\n",
    "\n",
    "    # -----\n",
    "    # print('\\n\\n', '📌', state[\"messages\"], '\\n\\n')\n",
    "\n",
    "    \n",
    "    response = llm_with_tools.invoke(state[\"messages\"])\n",
    "    # 도구 실행 중에 중단(interrupt)할 것이기 때문에,\n",
    "    # 실행 재개 시 도구 호출이 반복되지 않도록\n",
    "    # 병렬 도구 호출을 비활성화합니다.\n",
    "    assert len(response.tool_calls) <= 1\n",
    "    return {\"messages\": [response]}\n",
    "\n",
    "graph_builder.add_node(\"chatbot\", chatbot)\n",
    "\n",
    "# 📌 ToolNode 추가\n",
    "tool_node = ToolNode(tools=tools)\n",
    "graph_builder.add_node(\"tools\", tool_node)\n",
    "\n",
    "# \n",
    "graph_builder.add_conditional_edges(\n",
    "    \"chatbot\",\n",
    "    # 📌 \"tools\" 또는 END를 리턴한다.\n",
    "    tools_condition,\n",
    ")\n",
    "# Any time a tool is called, we return to the chatbot to decide the next step\n",
    "graph_builder.add_edge(\"tools\", \"chatbot\")\n",
    "graph_builder.add_edge(START, \"chatbot\")"
   ]
  },
  {
   "cell_type": "markdown",
   "id": "608f3f85-8fce-4b6b-a8db-bfc8be70fb51",
   "metadata": {},
   "source": [
    "## 3. 그래프 컴파일"
   ]
  },
  {
   "cell_type": "code",
   "execution_count": 257,
   "id": "70566e2a-a9ec-485e-b131-7d2035239433",
   "metadata": {},
   "outputs": [],
   "source": [
    "from langgraph.checkpoint.memory import MemorySaver\n",
    "\n",
    "memory = MemorySaver()\n",
    "\n",
    "graph = graph_builder.compile(checkpointer=memory)"
   ]
  },
  {
   "cell_type": "markdown",
   "id": "27f1bfbf-29a7-4bd1-9678-f363ebc11017",
   "metadata": {},
   "source": [
    "## 4. 그래프 시각화"
   ]
  },
  {
   "cell_type": "code",
   "execution_count": 258,
   "id": "8634326e-65e7-4162-94af-aceb4d85c538",
   "metadata": {},
   "outputs": [
    {
     "data": {
      "image/png": "[encoded data removed]",
      "text/plain": [
       "<IPython.core.display.Image object>"
      ]
     },
     "metadata": {},
     "output_type": "display_data"
    }
   ],
   "source": [
    "from IPython.display import Image, display\n",
    "\n",
    "try:\n",
    "    display(Image(graph.get_graph().draw_mermaid_png()))\n",
    "except Exception:\n",
    "    pass"
   ]
  },
  {
   "cell_type": "markdown",
   "id": "9b50cccb-9f8c-4e0e-a6df-4c77a9d36cca",
   "metadata": {},
   "source": [
    "## 5. 챗봇 실행"
   ]
  },
  {
   "cell_type": "markdown",
   "id": "3f6b88df-75c5-43b9-94a5-a1fc5151cb33",
   "metadata": {},
   "source": [
    "챗봇에게 LangGraph 라이브러리의 **생일(birthday)** 을 찾아보라고 요청한 뒤, 필요한 정보를 얻으면 `human_assistance` 도구를 사용하도록 지시하세요.\n",
    "또한 `name`과 `birthday`를 도구에 전달하는 인자(arguments)로 설정하면,챗봇이 이 필드들에 대한 **값을 반드시 생성하도록 유도할 수 있습니다.**\n",
    "즉, 챗봇이 name과 birthday 정보를 채워 넣어야만 도구를 호출할 수 있으므로, 이 두 항목을 **자동으로 제안하게 만드는** 방식입니다."
   ]
  },
  {
   "cell_type": "code",
   "execution_count": 259,
   "id": "01d84ecb-5d22-45a5-89a1-3ce22401ee25",
   "metadata": {},
   "outputs": [
    {
     "name": "stdout",
     "output_type": "stream",
     "text": [
      "================================\u001b[1m Human Message \u001b[0m=================================\n",
      "\n",
      "LangGraph가 언제 출시되었는지 찾아서 알려주세요?답을 찾으면 human_assistance 도구를 사용해 검토를 요청하세요.\n",
      "==================================\u001b[1m Ai Message \u001b[0m==================================\n",
      "Tool Calls:\n",
      "  tavily_search (call_nRTbscZMAOX6ArawxlWerEUG)\n",
      " Call ID: call_nRTbscZMAOX6ArawxlWerEUG\n",
      "  Args:\n",
      "    query: LangGraph 출시일\n",
      "    search_depth: advanced\n",
      "=================================\u001b[1m Tool Message \u001b[0m=================================\n",
      "Name: tavily_search\n",
      "\n",
      "{\"query\": \"LangGraph 출시일\", \"follow_up_questions\": null, \"answer\": null, \"images\": [], \"results\": [{\"title\": \"What is LangGraph? - GeeksforGeeks\", \"url\": \"https://www.geeksforgeeks.org/machine-learning/what-is-langgraph/\", \"content\": \"LangGraph is a Python library that helps you build applications like chatbots or AI agents by organizing their logic step-by-step using state machine model. This step configures your Gemini API key and then we create a simple function ask_gemini that takes user input, sends it to the Gemini model and returns the AI-generated response. Creates a state structure with three fields: question, classification and response which flows through the LangGraph. import matplotlib.pyplot as plt from langgraph.graph import StateGraph​builder = StateGraph(GraphState)builder.add_node(\\\"classify\\\", classify)builder.add_node(\\\"respond\\\", respond)builder.set_entry_point(\\\"classify\\\")builder.add_edge(\\\"classify\\\", \\\"respond\\\")builder.set_finish_point(\\\"respond\\\")app = builder.compile()​def visualize_workflow(builder): G = nx.DiGraph()​ for node in builder.nodes: G.add_node(node) for edge in builder.edges: G.add_edge(edge[0], edge[1])​ pos = nx.spring_layout(G) nx.draw(G, pos, with_labels=True, node_size=3000, node_color=\\\"skyblue\\\", font_size=12, font_weight=\\\"bold\\\", arrows=True)  plt.title(\\\"Langchain Workflow Visualization\\\") plt.show()​visualize_workflow(builder)\", \"score\": 0.98546, \"raw_content\": null}, {\"url\": \"https://github.com/langchain-ai/langgraph/releases\", \"title\": \"Releases · langchain-ai/langgraph - GitHub\", \"content\": \"Releases · langchain-ai/langgraph · GitHub *   fix(langgraph): remove deprecated `output` usage in favor of `output_schema` (#5095) *   Remove Checkpoint.writes (#4822) *   Remove old checkpoint test fixtures (#4814) *   fix(langgraph): remove deprecated `output` usage in favor of `output_schema` (#5095) *   Remove support for node reading a single managed value *   Remove Checkpoint.writes (#4822) *   Remove Checkpoint.pending_sends (#4820) *   Remove old checkpoint test fixtures (#4814) Changes since checkpoint==2.0.26 *   langgraph-checkpoint 2.1.0 *   Preparation for 0.5 release: langgraph-checkpoint (#5124) *   Remove Checkpoint.writes *   Remove Checkpoint.pending_sends *   Remove Checkpoint.writes (#4822) *   Remove Checkpoint.pending_sends (#4820) *   Remove old checkpoint test fixtures (#4814) *   Remove postgres shallow checkpointer (#4813) *   Remove Checkpoint.writes *   Remove Checkpoint.pending_sends *   Remove old checkpoint test fixtures *   Remove postgres shallow checkpointer\", \"score\": 0.98537, \"raw_content\": null}], \"response_time\": 1.04}\n",
      "==================================\u001b[1m Ai Message \u001b[0m==================================\n",
      "Tool Calls:\n",
      "  human_assistance (call_YaafCRZQbrcrTZfEvXIydf9b)\n",
      " Call ID: call_YaafCRZQbrcrTZfEvXIydf9b\n",
      "  Args:\n",
      "    name: LangGraph\n",
      "    birthday: 2023-01-01\n"
     ]
    }
   ],
   "source": [
    "user_input = (\n",
    "    \"LangGraph가 언제 출시되었는지 찾아서 알려주세요?\"\n",
    "    \"답을 찾으면 human_assistance 도구를 사용해 검토를 요청하세요.\"\n",
    ")\n",
    "config = {\"configurable\": {\"thread_id\": \"1\"}}\n",
    "\n",
    "events = graph.stream({\"messages\": [{\"role\": \"user\", \"content\": user_input}]}, config, stream_mode=\"values\",)\n",
    "for event in events:\n",
    "    if \"messages\" in event:\n",
    "        event[\"messages\"][-1].pretty_print()"
   ]
  },
  {
   "cell_type": "markdown",
   "id": "1ba6bdc8-e748-4357-ac10-8277dbb59a6c",
   "metadata": {},
   "source": [
    "현재 `human_assistance` 도구에 접근한 상태입니다."
   ]
  },
  {
   "cell_type": "markdown",
   "id": "0bb1f00c-eba6-46d1-9ea8-262d53761633",
   "metadata": {},
   "source": [
    "## 6. 실행 재개"
   ]
  },
  {
   "cell_type": "markdown",
   "id": "8d88f21d-1045-489d-bf91-1ed03e628f9c",
   "metadata": {},
   "source": [
    "챗봇이 올바른 날짜를 식별하지 못했으므로 다음 정보를 제공하세요."
   ]
  },
  {
   "cell_type": "code",
   "execution_count": 260,
   "id": "3022aa42-9b1f-4507-ace0-a726f83e82bf",
   "metadata": {},
   "outputs": [],
   "source": [
    "from langgraph.types import Command\n",
    "\n",
    "human_command = Command(\n",
    "    resume={\n",
    "        \"name\": \"LangGraph\",\n",
    "        \"birthday\": \"2020-01-01\",\n",
    "    },\n",
    ")\n",
    "\n",
    "# human_command = Command(\n",
    "#     resume={\n",
    "#         \"correct\": \"y\",\n",
    "#     },\n",
    "# )"
   ]
  },
  {
   "cell_type": "code",
   "execution_count": 261,
   "id": "7a64539a-bb44-4c57-912f-684d52421855",
   "metadata": {},
   "outputs": [
    {
     "name": "stdout",
     "output_type": "stream",
     "text": [
      "==================================\u001b[1m Ai Message \u001b[0m==================================\n",
      "Tool Calls:\n",
      "  human_assistance (call_YaafCRZQbrcrTZfEvXIydf9b)\n",
      " Call ID: call_YaafCRZQbrcrTZfEvXIydf9b\n",
      "  Args:\n",
      "    name: LangGraph\n",
      "    birthday: 2023-01-01\n",
      "*** UPDATE : {'name': 'LangGraph', 'birthday': '2020-01-01', 'messages': [ToolMessage(content=\"정보를 다음과 같이 수정했으므로 출시일에 생일의 데이터를 적용하세요: {'name': 'LangGraph', 'birthday': '2020-01-01'}\", tool_call_id='call_YaafCRZQbrcrTZfEvXIydf9b')]}\n",
      "=================================\u001b[1m Tool Message \u001b[0m=================================\n",
      "Name: human_assistance\n",
      "\n",
      "정보를 다음과 같이 수정했으므로 출시일에 생일의 데이터를 적용하세요: {'name': 'LangGraph', 'birthday': '2020-01-01'}\n",
      "==================================\u001b[1m Ai Message \u001b[0m==================================\n",
      "\n",
      "LangGraph는 2020년 1월 1일에 출시되었습니다.\n"
     ]
    }
   ],
   "source": [
    "events = graph.stream(human_command, config, stream_mode=\"values\")\n",
    "for event in events:\n",
    "    if \"messages\" in event:\n",
    "        event[\"messages\"][-1].pretty_print()"
   ]
  },
  {
   "cell_type": "code",
   "execution_count": 243,
   "id": "aa8309cd-75fe-4899-b9de-511a6a254764",
   "metadata": {},
   "outputs": [],
   "source": [
    "# events = graph.stream(human_command, config, stream_mode=\"values\")\n",
    "# for event in events:\n",
    "#     if \"messages\" in event:\n",
    "#         event[\"messages\"][-1].pretty_print()\n",
    "#     if \"name\" in event:\n",
    "#         print(\"name:\", event[\"name\"])\n",
    "#     if \"birthday\" in event:\n",
    "#         print(\"birthday:\", event[\"birthday\"])"
   ]
  },
  {
   "cell_type": "code",
   "execution_count": null,
   "id": "bb774cbd-b624-4dd9-a2bb-bc2957b1d555",
   "metadata": {},
   "outputs": [],
   "source": []
  },
  {
   "cell_type": "code",
   "execution_count": null,
   "id": "c3346f8a-620b-4c3c-84ce-6fc62e6b1c16",
   "metadata": {},
   "outputs": [],
   "source": []
  },
  {
   "cell_type": "code",
   "execution_count": null,
   "id": "d486dd97-a779-4a53-b712-d6ef0457042a",
   "metadata": {},
   "outputs": [],
   "source": []
  },
  {
   "cell_type": "code",
   "execution_count": null,
   "id": "c8746bb4-1f36-481d-9b82-7ef7349a950f",
   "metadata": {},
   "outputs": [],
   "source": []
  }
 ],
 "metadata": {
  "kernelspec": {
   "display_name": "Python 3 (ipykernel)",
   "language": "python",
   "name": "python3"
  },
  "language_info": {
   "codemirror_mode": {
    "name": "ipython",
    "version": 3
   },
   "file_extension": ".py",
   "mimetype": "text/x-python",
   "name": "python",
   "nbconvert_exporter": "python",
   "pygments_lexer": "ipython3",
   "version": "3.13.4"
  }
 },
 "nbformat": 4,
 "nbformat_minor": 5
}
